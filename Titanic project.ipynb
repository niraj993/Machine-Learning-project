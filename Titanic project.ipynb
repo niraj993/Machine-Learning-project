{
 "cells": [
  {
   "cell_type": "markdown",
   "id": "225ae9b6",
   "metadata": {},
   "source": [
    "# Classification Problem"
   ]
  },
  {
   "cell_type": "markdown",
   "id": "a5b3cdc5",
   "metadata": {},
   "source": [
    "## Using pipeline Build machine Learning Model"
   ]
  },
  {
   "cell_type": "markdown",
   "id": "d115e362",
   "metadata": {},
   "source": [
    "# Import all Library"
   ]
  },
  {
   "cell_type": "code",
   "execution_count": 335,
   "id": "d9d3cd93",
   "metadata": {},
   "outputs": [],
   "source": [
    "import pandas as pd\n",
    "import numpy as np\n",
    "import matplotlib.pyplot as plt\n",
    "from matplotlib.pyplot import figure\n",
    "import seaborn as sns\n",
    "import os\n",
    "import warnings \n",
    "warnings.filterwarnings('ignore')\n",
    "from scipy.stats import chi2_contingency\n",
    "from sklearn.preprocessing import StandardScaler\n",
    "from sklearn.metrics import accuracy_score,confusion_matrix,classification_report\n",
    "\n",
    "\n",
    "from sklearn.model_selection import train_test_split,cross_val_score\n",
    "from sklearn.compose import ColumnTransformer\n",
    "from sklearn.impute  import SimpleImputer\n",
    "from sklearn.preprocessing import OneHotEncoder\n",
    "from sklearn.preprocessing import RobustScaler\n",
    "from sklearn.pipeline import Pipeline\n",
    "from sklearn.feature_selection import SelectKBest,chi2\n",
    "from sklearn.decomposition import PCA\n",
    "from sklearn.linear_model import LogisticRegression\n",
    "from sklearn.ensemble import RandomForestClassifier\n",
    "from sklearn.neighbors import KNeighborsClassifier\n",
    "from sklearn.svm import SVC\n",
    "from sklearn.model_selection import GridSearchCV\n",
    "import pickle"
   ]
  },
  {
   "cell_type": "code",
   "execution_count": 105,
   "id": "c2270a34",
   "metadata": {},
   "outputs": [],
   "source": [
    "# Set Display of Monitor\n",
    "pd.set_option('Display.max_rows',500)\n",
    "pd.set_option('Display.max_columns',500)\n",
    "pd.set_option('Display.width',1000)"
   ]
  },
  {
   "cell_type": "markdown",
   "id": "4c19a9e3",
   "metadata": {},
   "source": [
    "# Data Exploring and Understanding"
   ]
  },
  {
   "cell_type": "code",
   "execution_count": 2,
   "id": "9c9e3c93",
   "metadata": {},
   "outputs": [
    {
     "data": {
      "text/plain": [
       "'C:\\\\Users\\\\DELL'"
      ]
     },
     "execution_count": 2,
     "metadata": {},
     "output_type": "execute_result"
    }
   ],
   "source": [
    "os.getcwd()"
   ]
  },
  {
   "cell_type": "code",
   "execution_count": 3,
   "id": "d0f5c46d",
   "metadata": {},
   "outputs": [],
   "source": [
    "os.chdir('C:\\\\Users\\\\DELL\\\\OneDrive\\\\Desktop\\\\Download')"
   ]
  },
  {
   "cell_type": "code",
   "execution_count": 4,
   "id": "5f72d344",
   "metadata": {},
   "outputs": [],
   "source": [
    "# Data Read \n",
    "data_a = pd.read_csv('Titanic dataset.csv')"
   ]
  },
  {
   "cell_type": "code",
   "execution_count": 5,
   "id": "11234fda",
   "metadata": {},
   "outputs": [],
   "source": [
    "data = data_a.copy()"
   ]
  },
  {
   "cell_type": "code",
   "execution_count": 6,
   "id": "b0631bdb",
   "metadata": {},
   "outputs": [
    {
     "data": {
      "text/html": [
       "<div>\n",
       "<style scoped>\n",
       "    .dataframe tbody tr th:only-of-type {\n",
       "        vertical-align: middle;\n",
       "    }\n",
       "\n",
       "    .dataframe tbody tr th {\n",
       "        vertical-align: top;\n",
       "    }\n",
       "\n",
       "    .dataframe thead th {\n",
       "        text-align: right;\n",
       "    }\n",
       "</style>\n",
       "<table border=\"1\" class=\"dataframe\">\n",
       "  <thead>\n",
       "    <tr style=\"text-align: right;\">\n",
       "      <th></th>\n",
       "      <th>PassengerId</th>\n",
       "      <th>Survived</th>\n",
       "      <th>Pclass</th>\n",
       "      <th>Name</th>\n",
       "      <th>Sex</th>\n",
       "      <th>Age</th>\n",
       "      <th>SibSp</th>\n",
       "      <th>Parch</th>\n",
       "      <th>Ticket</th>\n",
       "      <th>Fare</th>\n",
       "      <th>Cabin</th>\n",
       "      <th>Embarked</th>\n",
       "    </tr>\n",
       "  </thead>\n",
       "  <tbody>\n",
       "    <tr>\n",
       "      <th>0</th>\n",
       "      <td>1</td>\n",
       "      <td>0</td>\n",
       "      <td>3</td>\n",
       "      <td>Braund, Mr. Owen Harris</td>\n",
       "      <td>male</td>\n",
       "      <td>22.0</td>\n",
       "      <td>1</td>\n",
       "      <td>0</td>\n",
       "      <td>A/5 21171</td>\n",
       "      <td>7.2500</td>\n",
       "      <td>NaN</td>\n",
       "      <td>S</td>\n",
       "    </tr>\n",
       "    <tr>\n",
       "      <th>1</th>\n",
       "      <td>2</td>\n",
       "      <td>1</td>\n",
       "      <td>1</td>\n",
       "      <td>Cumings, Mrs. John Bradley (Florence Briggs Th...</td>\n",
       "      <td>female</td>\n",
       "      <td>38.0</td>\n",
       "      <td>1</td>\n",
       "      <td>0</td>\n",
       "      <td>PC 17599</td>\n",
       "      <td>71.2833</td>\n",
       "      <td>C85</td>\n",
       "      <td>C</td>\n",
       "    </tr>\n",
       "  </tbody>\n",
       "</table>\n",
       "</div>"
      ],
      "text/plain": [
       "   PassengerId  Survived  Pclass  \\\n",
       "0            1         0       3   \n",
       "1            2         1       1   \n",
       "\n",
       "                                                Name     Sex   Age  SibSp  \\\n",
       "0                            Braund, Mr. Owen Harris    male  22.0      1   \n",
       "1  Cumings, Mrs. John Bradley (Florence Briggs Th...  female  38.0      1   \n",
       "\n",
       "   Parch     Ticket     Fare Cabin Embarked  \n",
       "0      0  A/5 21171   7.2500   NaN        S  \n",
       "1      0   PC 17599  71.2833   C85        C  "
      ]
     },
     "execution_count": 6,
     "metadata": {},
     "output_type": "execute_result"
    }
   ],
   "source": [
    "data.head(2)"
   ]
  },
  {
   "cell_type": "code",
   "execution_count": 7,
   "id": "59509dc5",
   "metadata": {},
   "outputs": [
    {
     "name": "stdout",
     "output_type": "stream",
     "text": [
      "Total Rows of dataset:- 891\n",
      "Total Columns of dataset:- 12\n"
     ]
    }
   ],
   "source": [
    "# Check Dataset Dimention\n",
    "print('Total Rows of dataset:-',data.shape[0])\n",
    "print('Total Columns of dataset:-',data.shape[1])"
   ]
  },
  {
   "cell_type": "code",
   "execution_count": 8,
   "id": "22d53651",
   "metadata": {},
   "outputs": [
    {
     "data": {
      "text/plain": [
       "Index(['PassengerId', 'Survived', 'Pclass', 'Age', 'SibSp', 'Parch', 'Fare'], dtype='object')"
      ]
     },
     "execution_count": 8,
     "metadata": {},
     "output_type": "execute_result"
    }
   ],
   "source": [
    "# All numerical columns\n",
    "data.columns[data.dtypes != object]"
   ]
  },
  {
   "cell_type": "code",
   "execution_count": 9,
   "id": "d51ddfbe",
   "metadata": {},
   "outputs": [
    {
     "data": {
      "text/plain": [
       "Index(['Name', 'Sex', 'Ticket', 'Cabin', 'Embarked'], dtype='object')"
      ]
     },
     "execution_count": 9,
     "metadata": {},
     "output_type": "execute_result"
    }
   ],
   "source": [
    "# All categorical columns\n",
    "data.columns[data.dtypes == object]"
   ]
  },
  {
   "cell_type": "code",
   "execution_count": 10,
   "id": "39c55570",
   "metadata": {},
   "outputs": [
    {
     "name": "stdout",
     "output_type": "stream",
     "text": [
      "<class 'pandas.core.frame.DataFrame'>\n",
      "RangeIndex: 891 entries, 0 to 890\n",
      "Data columns (total 12 columns):\n",
      " #   Column       Non-Null Count  Dtype  \n",
      "---  ------       --------------  -----  \n",
      " 0   PassengerId  891 non-null    int64  \n",
      " 1   Survived     891 non-null    int64  \n",
      " 2   Pclass       891 non-null    int64  \n",
      " 3   Name         891 non-null    object \n",
      " 4   Sex          891 non-null    object \n",
      " 5   Age          714 non-null    float64\n",
      " 6   SibSp        891 non-null    int64  \n",
      " 7   Parch        891 non-null    int64  \n",
      " 8   Ticket       891 non-null    object \n",
      " 9   Fare         891 non-null    float64\n",
      " 10  Cabin        204 non-null    object \n",
      " 11  Embarked     889 non-null    object \n",
      "dtypes: float64(2), int64(5), object(5)\n",
      "memory usage: 83.7+ KB\n"
     ]
    }
   ],
   "source": [
    "# All Dataset information\n",
    "data.info()"
   ]
  },
  {
   "cell_type": "code",
   "execution_count": 11,
   "id": "fd4c61a5",
   "metadata": {},
   "outputs": [
    {
     "data": {
      "text/plain": [
       "0    0.616162\n",
       "1    0.383838\n",
       "Name: Survived, dtype: float64"
      ]
     },
     "execution_count": 11,
     "metadata": {},
     "output_type": "execute_result"
    }
   ],
   "source": [
    "# Check class event rate --> check 0 class and 1 class ka proportion\n",
    "# Here nope class inbailest\n",
    "data['Survived'].value_counts() / data.shape[0]"
   ]
  },
  {
   "cell_type": "markdown",
   "id": "d713aa82",
   "metadata": {},
   "source": [
    "# Exploratory Data Analysis"
   ]
  },
  {
   "cell_type": "code",
   "execution_count": 12,
   "id": "e203c8db",
   "metadata": {},
   "outputs": [
    {
     "data": {
      "text/html": [
       "<div>\n",
       "<style scoped>\n",
       "    .dataframe tbody tr th:only-of-type {\n",
       "        vertical-align: middle;\n",
       "    }\n",
       "\n",
       "    .dataframe tbody tr th {\n",
       "        vertical-align: top;\n",
       "    }\n",
       "\n",
       "    .dataframe thead th {\n",
       "        text-align: right;\n",
       "    }\n",
       "</style>\n",
       "<table border=\"1\" class=\"dataframe\">\n",
       "  <thead>\n",
       "    <tr style=\"text-align: right;\">\n",
       "      <th></th>\n",
       "      <th>count</th>\n",
       "      <th>mean</th>\n",
       "      <th>std</th>\n",
       "      <th>min</th>\n",
       "      <th>25%</th>\n",
       "      <th>50%</th>\n",
       "      <th>75%</th>\n",
       "      <th>max</th>\n",
       "    </tr>\n",
       "  </thead>\n",
       "  <tbody>\n",
       "    <tr>\n",
       "      <th>PassengerId</th>\n",
       "      <td>891.0</td>\n",
       "      <td>446.000000</td>\n",
       "      <td>257.353842</td>\n",
       "      <td>1.00</td>\n",
       "      <td>223.5000</td>\n",
       "      <td>446.0000</td>\n",
       "      <td>668.5</td>\n",
       "      <td>891.0000</td>\n",
       "    </tr>\n",
       "    <tr>\n",
       "      <th>Survived</th>\n",
       "      <td>891.0</td>\n",
       "      <td>0.383838</td>\n",
       "      <td>0.486592</td>\n",
       "      <td>0.00</td>\n",
       "      <td>0.0000</td>\n",
       "      <td>0.0000</td>\n",
       "      <td>1.0</td>\n",
       "      <td>1.0000</td>\n",
       "    </tr>\n",
       "    <tr>\n",
       "      <th>Pclass</th>\n",
       "      <td>891.0</td>\n",
       "      <td>2.308642</td>\n",
       "      <td>0.836071</td>\n",
       "      <td>1.00</td>\n",
       "      <td>2.0000</td>\n",
       "      <td>3.0000</td>\n",
       "      <td>3.0</td>\n",
       "      <td>3.0000</td>\n",
       "    </tr>\n",
       "    <tr>\n",
       "      <th>Age</th>\n",
       "      <td>714.0</td>\n",
       "      <td>29.699118</td>\n",
       "      <td>14.526497</td>\n",
       "      <td>0.42</td>\n",
       "      <td>20.1250</td>\n",
       "      <td>28.0000</td>\n",
       "      <td>38.0</td>\n",
       "      <td>80.0000</td>\n",
       "    </tr>\n",
       "    <tr>\n",
       "      <th>SibSp</th>\n",
       "      <td>891.0</td>\n",
       "      <td>0.523008</td>\n",
       "      <td>1.102743</td>\n",
       "      <td>0.00</td>\n",
       "      <td>0.0000</td>\n",
       "      <td>0.0000</td>\n",
       "      <td>1.0</td>\n",
       "      <td>8.0000</td>\n",
       "    </tr>\n",
       "    <tr>\n",
       "      <th>Parch</th>\n",
       "      <td>891.0</td>\n",
       "      <td>0.381594</td>\n",
       "      <td>0.806057</td>\n",
       "      <td>0.00</td>\n",
       "      <td>0.0000</td>\n",
       "      <td>0.0000</td>\n",
       "      <td>0.0</td>\n",
       "      <td>6.0000</td>\n",
       "    </tr>\n",
       "    <tr>\n",
       "      <th>Fare</th>\n",
       "      <td>891.0</td>\n",
       "      <td>32.204208</td>\n",
       "      <td>49.693429</td>\n",
       "      <td>0.00</td>\n",
       "      <td>7.9104</td>\n",
       "      <td>14.4542</td>\n",
       "      <td>31.0</td>\n",
       "      <td>512.3292</td>\n",
       "    </tr>\n",
       "  </tbody>\n",
       "</table>\n",
       "</div>"
      ],
      "text/plain": [
       "             count        mean         std   min       25%       50%    75%  \\\n",
       "PassengerId  891.0  446.000000  257.353842  1.00  223.5000  446.0000  668.5   \n",
       "Survived     891.0    0.383838    0.486592  0.00    0.0000    0.0000    1.0   \n",
       "Pclass       891.0    2.308642    0.836071  1.00    2.0000    3.0000    3.0   \n",
       "Age          714.0   29.699118   14.526497  0.42   20.1250   28.0000   38.0   \n",
       "SibSp        891.0    0.523008    1.102743  0.00    0.0000    0.0000    1.0   \n",
       "Parch        891.0    0.381594    0.806057  0.00    0.0000    0.0000    0.0   \n",
       "Fare         891.0   32.204208   49.693429  0.00    7.9104   14.4542   31.0   \n",
       "\n",
       "                  max  \n",
       "PassengerId  891.0000  \n",
       "Survived       1.0000  \n",
       "Pclass         3.0000  \n",
       "Age           80.0000  \n",
       "SibSp          8.0000  \n",
       "Parch          6.0000  \n",
       "Fare         512.3292  "
      ]
     },
     "execution_count": 12,
     "metadata": {},
     "output_type": "execute_result"
    }
   ],
   "source": [
    "# All statistical summary of dataset\n",
    "data.describe().T"
   ]
  },
  {
   "cell_type": "code",
   "execution_count": 13,
   "id": "36690b77",
   "metadata": {},
   "outputs": [
    {
     "data": {
      "text/plain": [
       "0    549\n",
       "1    342\n",
       "Name: Survived, dtype: int64"
      ]
     },
     "execution_count": 13,
     "metadata": {},
     "output_type": "execute_result"
    }
   ],
   "source": [
    "# Univariate Analysis --> Explore one column at a one time\n",
    "# 0 --> No\n",
    "# 1 --> yes\n",
    "data['Survived'].value_counts()"
   ]
  },
  {
   "cell_type": "code",
   "execution_count": 14,
   "id": "ea8a8825",
   "metadata": {},
   "outputs": [],
   "source": [
    "data['Survived'].replace({0:'No',1:'yes'},inplace=True)"
   ]
  },
  {
   "cell_type": "code",
   "execution_count": 15,
   "id": "3e5432c5",
   "metadata": {},
   "outputs": [
    {
     "data": {
      "image/png": "[encoded data removed]",
      "text/plain": [
       "<Figure size 432x288 with 1 Axes>"
      ]
     },
     "metadata": {
      "needs_background": "light"
     },
     "output_type": "display_data"
    }
   ],
   "source": [
    "sns.countplot(data['Survived'])\n",
    "plt.show()"
   ]
  },
  {
   "cell_type": "code",
   "execution_count": 16,
   "id": "160ae9b4",
   "metadata": {},
   "outputs": [],
   "source": [
    "data['Survived'].replace({'No':0,'yes':1},inplace=True)"
   ]
  },
  {
   "cell_type": "code",
   "execution_count": 17,
   "id": "1b2a7914",
   "metadata": {},
   "outputs": [
    {
     "data": {
      "text/plain": [
       "male      577\n",
       "female    314\n",
       "Name: Sex, dtype: int64"
      ]
     },
     "execution_count": 17,
     "metadata": {},
     "output_type": "execute_result"
    }
   ],
   "source": [
    "data['Sex'].value_counts()"
   ]
  },
  {
   "cell_type": "code",
   "execution_count": 18,
   "id": "0f8eeb2d",
   "metadata": {},
   "outputs": [
    {
     "data": {
      "image/png": "[encoded data removed]",
      "text/plain": [
       "<Figure size 432x288 with 1 Axes>"
      ]
     },
     "metadata": {
      "needs_background": "light"
     },
     "output_type": "display_data"
    }
   ],
   "source": [
    "sns.countplot(data['Sex'])\n",
    "plt.show()"
   ]
  },
  {
   "cell_type": "code",
   "execution_count": 19,
   "id": "6d889fee",
   "metadata": {},
   "outputs": [
    {
     "data": {
      "text/plain": [
       "S    644\n",
       "C    168\n",
       "Q     77\n",
       "Name: Embarked, dtype: int64"
      ]
     },
     "execution_count": 19,
     "metadata": {},
     "output_type": "execute_result"
    }
   ],
   "source": [
    "data['Embarked'].value_counts()"
   ]
  },
  {
   "cell_type": "code",
   "execution_count": 20,
   "id": "8966a0e8",
   "metadata": {},
   "outputs": [
    {
     "data": {
      "image/png": "[encoded data removed]",
      "text/plain": [
       "<Figure size 432x288 with 1 Axes>"
      ]
     },
     "metadata": {
      "needs_background": "light"
     },
     "output_type": "display_data"
    }
   ],
   "source": [
    "sns.countplot(data['Embarked'])\n",
    "plt.show()"
   ]
  },
  {
   "cell_type": "code",
   "execution_count": 21,
   "id": "4689e00a",
   "metadata": {},
   "outputs": [
    {
     "data": {
      "text/html": [
       "<div>\n",
       "<style scoped>\n",
       "    .dataframe tbody tr th:only-of-type {\n",
       "        vertical-align: middle;\n",
       "    }\n",
       "\n",
       "    .dataframe tbody tr th {\n",
       "        vertical-align: top;\n",
       "    }\n",
       "\n",
       "    .dataframe thead th {\n",
       "        text-align: right;\n",
       "    }\n",
       "</style>\n",
       "<table border=\"1\" class=\"dataframe\">\n",
       "  <thead>\n",
       "    <tr style=\"text-align: right;\">\n",
       "      <th></th>\n",
       "      <th>PassengerId</th>\n",
       "      <th>Survived</th>\n",
       "      <th>Pclass</th>\n",
       "      <th>Age</th>\n",
       "      <th>SibSp</th>\n",
       "      <th>Parch</th>\n",
       "      <th>Fare</th>\n",
       "    </tr>\n",
       "  </thead>\n",
       "  <tbody>\n",
       "    <tr>\n",
       "      <th>PassengerId</th>\n",
       "      <td>1.000000</td>\n",
       "      <td>-0.005007</td>\n",
       "      <td>-0.035144</td>\n",
       "      <td>0.036847</td>\n",
       "      <td>-0.057527</td>\n",
       "      <td>-0.001652</td>\n",
       "      <td>0.012658</td>\n",
       "    </tr>\n",
       "    <tr>\n",
       "      <th>Survived</th>\n",
       "      <td>-0.005007</td>\n",
       "      <td>1.000000</td>\n",
       "      <td>-0.338481</td>\n",
       "      <td>-0.077221</td>\n",
       "      <td>-0.035322</td>\n",
       "      <td>0.081629</td>\n",
       "      <td>0.257307</td>\n",
       "    </tr>\n",
       "    <tr>\n",
       "      <th>Pclass</th>\n",
       "      <td>-0.035144</td>\n",
       "      <td>-0.338481</td>\n",
       "      <td>1.000000</td>\n",
       "      <td>-0.369226</td>\n",
       "      <td>0.083081</td>\n",
       "      <td>0.018443</td>\n",
       "      <td>-0.549500</td>\n",
       "    </tr>\n",
       "    <tr>\n",
       "      <th>Age</th>\n",
       "      <td>0.036847</td>\n",
       "      <td>-0.077221</td>\n",
       "      <td>-0.369226</td>\n",
       "      <td>1.000000</td>\n",
       "      <td>-0.308247</td>\n",
       "      <td>-0.189119</td>\n",
       "      <td>0.096067</td>\n",
       "    </tr>\n",
       "    <tr>\n",
       "      <th>SibSp</th>\n",
       "      <td>-0.057527</td>\n",
       "      <td>-0.035322</td>\n",
       "      <td>0.083081</td>\n",
       "      <td>-0.308247</td>\n",
       "      <td>1.000000</td>\n",
       "      <td>0.414838</td>\n",
       "      <td>0.159651</td>\n",
       "    </tr>\n",
       "    <tr>\n",
       "      <th>Parch</th>\n",
       "      <td>-0.001652</td>\n",
       "      <td>0.081629</td>\n",
       "      <td>0.018443</td>\n",
       "      <td>-0.189119</td>\n",
       "      <td>0.414838</td>\n",
       "      <td>1.000000</td>\n",
       "      <td>0.216225</td>\n",
       "    </tr>\n",
       "    <tr>\n",
       "      <th>Fare</th>\n",
       "      <td>0.012658</td>\n",
       "      <td>0.257307</td>\n",
       "      <td>-0.549500</td>\n",
       "      <td>0.096067</td>\n",
       "      <td>0.159651</td>\n",
       "      <td>0.216225</td>\n",
       "      <td>1.000000</td>\n",
       "    </tr>\n",
       "  </tbody>\n",
       "</table>\n",
       "</div>"
      ],
      "text/plain": [
       "             PassengerId  Survived    Pclass       Age     SibSp     Parch  \\\n",
       "PassengerId     1.000000 -0.005007 -0.035144  0.036847 -0.057527 -0.001652   \n",
       "Survived       -0.005007  1.000000 -0.338481 -0.077221 -0.035322  0.081629   \n",
       "Pclass         -0.035144 -0.338481  1.000000 -0.369226  0.083081  0.018443   \n",
       "Age             0.036847 -0.077221 -0.369226  1.000000 -0.308247 -0.189119   \n",
       "SibSp          -0.057527 -0.035322  0.083081 -0.308247  1.000000  0.414838   \n",
       "Parch          -0.001652  0.081629  0.018443 -0.189119  0.414838  1.000000   \n",
       "Fare            0.012658  0.257307 -0.549500  0.096067  0.159651  0.216225   \n",
       "\n",
       "                 Fare  \n",
       "PassengerId  0.012658  \n",
       "Survived     0.257307  \n",
       "Pclass      -0.549500  \n",
       "Age          0.096067  \n",
       "SibSp        0.159651  \n",
       "Parch        0.216225  \n",
       "Fare         1.000000  "
      ]
     },
     "execution_count": 21,
     "metadata": {},
     "output_type": "execute_result"
    }
   ],
   "source": [
    "# Bivariate Analysis --> Continuous Vs Continuous\n",
    "data.corr().T"
   ]
  },
  {
   "cell_type": "code",
   "execution_count": 22,
   "id": "63e45d39",
   "metadata": {},
   "outputs": [
    {
     "data": {
      "image/png": "[encoded data removed]",
      "text/plain": [
       "<Figure size 432x288 with 2 Axes>"
      ]
     },
     "metadata": {
      "needs_background": "light"
     },
     "output_type": "display_data"
    }
   ],
   "source": [
    "sns.heatmap(data.corr(),vmax=1,vmin=-1,annot=True,cmap='RdBu')\n",
    "plt.show()"
   ]
  },
  {
   "cell_type": "code",
   "execution_count": 23,
   "id": "8f184118",
   "metadata": {},
   "outputs": [
    {
     "data": {
      "image/png": "[encoded data removed]",
      "text/plain": [
       "<Figure size 432x288 with 1 Axes>"
      ]
     },
     "metadata": {
      "needs_background": "light"
     },
     "output_type": "display_data"
    }
   ],
   "source": [
    "# Bivariate Analysis --> Categorical Vs Categorical\n",
    "sns.countplot(data['Sex'],hue=data['Survived'])\n",
    "plt.show()"
   ]
  },
  {
   "cell_type": "code",
   "execution_count": 24,
   "id": "008672ae",
   "metadata": {},
   "outputs": [],
   "source": [
    "data_sur = data.groupby(by=['Sex','Survived'])['Survived'].count()"
   ]
  },
  {
   "cell_type": "code",
   "execution_count": 25,
   "id": "5289f30c",
   "metadata": {},
   "outputs": [
    {
     "data": {
      "text/plain": [
       "Sex     Survived\n",
       "female  0            81\n",
       "        1           233\n",
       "male    0           468\n",
       "        1           109\n",
       "Name: Survived, dtype: int64"
      ]
     },
     "execution_count": 25,
     "metadata": {},
     "output_type": "execute_result"
    }
   ],
   "source": [
    "data_sur"
   ]
  },
  {
   "cell_type": "code",
   "execution_count": 26,
   "id": "5991b9df",
   "metadata": {},
   "outputs": [
    {
     "name": "stdout",
     "output_type": "stream",
     "text": [
      "Female Survived percentage:-74.20%\n",
      "Male Survived percentage:-18.89%\n"
     ]
    }
   ],
   "source": [
    "print('Female Survived percentage:-%.2f%%'%(data_sur['female'][1]/(data_sur['female'][1]+data_sur['female'][0])*100))\n",
    "print('Male Survived percentage:-%.2f%%'%(data_sur['male'][1]/(data_sur['male'][1]+data_sur['male'][0])*100))"
   ]
  },
  {
   "cell_type": "code",
   "execution_count": 27,
   "id": "ee3af97b",
   "metadata": {},
   "outputs": [
    {
     "data": {
      "image/png": "[encoded data removed]",
      "text/plain": [
       "<Figure size 432x288 with 1 Axes>"
      ]
     },
     "metadata": {
      "needs_background": "light"
     },
     "output_type": "display_data"
    }
   ],
   "source": [
    "sns.countplot(data['Embarked'],hue=data['Survived'])\n",
    "plt.show()"
   ]
  },
  {
   "cell_type": "code",
   "execution_count": 28,
   "id": "b31466c3",
   "metadata": {},
   "outputs": [
    {
     "data": {
      "text/plain": [
       "Embarked  Survived\n",
       "C         0            75\n",
       "          1            93\n",
       "Q         0            47\n",
       "          1            30\n",
       "S         0           427\n",
       "          1           217\n",
       "Name: Survived, dtype: int64"
      ]
     },
     "execution_count": 28,
     "metadata": {},
     "output_type": "execute_result"
    }
   ],
   "source": [
    "em_data = data.groupby(by=['Embarked','Survived'])['Survived'].count()\n",
    "em_data"
   ]
  },
  {
   "cell_type": "code",
   "execution_count": 29,
   "id": "d9e61c62",
   "metadata": {},
   "outputs": [
    {
     "name": "stdout",
     "output_type": "stream",
     "text": [
      "percentage of S:- 43.23%\n",
      "percentage of Q:- 17.86%\n",
      "pecentage of C:- 55.36%\n"
     ]
    }
   ],
   "source": [
    "print('percentage of S:- %.2f%%'%(em_data['S'][1]/(em_data['S'][0]+em_data[0])*100))\n",
    "print('percentage of Q:- %.2f%%'%(em_data['Q'][1]/(em_data[1]+em_data[0])*100))\n",
    "print('pecentage of C:- %.2f%%'%(em_data['C'][1]/(em_data[1]+em_data[0])*100))"
   ]
  },
  {
   "cell_type": "code",
   "execution_count": 30,
   "id": "52504179",
   "metadata": {},
   "outputs": [
    {
     "data": {
      "image/png": "[encoded data removed]",
      "text/plain": [
       "<Figure size 432x288 with 1 Axes>"
      ]
     },
     "metadata": {
      "needs_background": "light"
     },
     "output_type": "display_data"
    }
   ],
   "source": [
    "sns.countplot(data['Pclass'],hue=data['Survived'])\n",
    "plt.show()"
   ]
  },
  {
   "cell_type": "code",
   "execution_count": 31,
   "id": "dc537fc3",
   "metadata": {},
   "outputs": [],
   "source": [
    "p_s = data.groupby(by=['Pclass','Survived'])['Survived'].count()"
   ]
  },
  {
   "cell_type": "code",
   "execution_count": 32,
   "id": "61dd0825",
   "metadata": {},
   "outputs": [
    {
     "data": {
      "text/plain": [
       "Pclass  Survived\n",
       "1       0            80\n",
       "        1           136\n",
       "2       0            97\n",
       "        1            87\n",
       "3       0           372\n",
       "        1           119\n",
       "Name: Survived, dtype: int64"
      ]
     },
     "execution_count": 32,
     "metadata": {},
     "output_type": "execute_result"
    }
   ],
   "source": [
    "p_s"
   ]
  },
  {
   "cell_type": "code",
   "execution_count": 33,
   "id": "9ba92a4d",
   "metadata": {},
   "outputs": [
    {
     "name": "stdout",
     "output_type": "stream",
     "text": [
      "1st class survived percentage:- 62.96%\n",
      "2nd class survived percentage:- 47.28%\n",
      "3rd class survived percentage:- 24.24%\n"
     ]
    }
   ],
   "source": [
    "print('1st class survived percentage:- %.2f%%'%(p_s[1][1]/(p_s[1][1]+p_s[1][0])*100))\n",
    "print('2nd class survived percentage:- %.2f%%'%(p_s[2][1]/(p_s[2][1]+p_s[2][0])*100))\n",
    "print('3rd class survived percentage:- %.2f%%'%(p_s[3][1]/(p_s[3][1]+p_s[3][0])*100))"
   ]
  },
  {
   "cell_type": "code",
   "execution_count": 34,
   "id": "e5f98bd5",
   "metadata": {},
   "outputs": [],
   "source": [
    "# Add new column\n",
    "def age_category(age):\n",
    "    if age <= 12:\n",
    "        return 'children'\n",
    "    elif age > 12 and age <=18:\n",
    "        return 'Teenage'\n",
    "    elif age > 18 and age <= 30:\n",
    "        return 'Youth'\n",
    "    elif age > 30 and age <=45:\n",
    "        return 'Midage'\n",
    "    elif age > 45 and age <=60:\n",
    "        return 'Seniors'\n",
    "    else:\n",
    "        return 'Oldages'"
   ]
  },
  {
   "cell_type": "code",
   "execution_count": 35,
   "id": "334ccda2",
   "metadata": {},
   "outputs": [],
   "source": [
    "data['Age_category'] = data['Age'].apply(age_category)"
   ]
  },
  {
   "cell_type": "code",
   "execution_count": 36,
   "id": "96931523",
   "metadata": {},
   "outputs": [
    {
     "data": {
      "image/png": "[encoded data removed]",
      "text/plain": [
       "<Figure size 432x288 with 1 Axes>"
      ]
     },
     "metadata": {
      "needs_background": "light"
     },
     "output_type": "display_data"
    }
   ],
   "source": [
    "sns.countplot(data['Age_category'],hue=data['Survived'])\n",
    "plt.show()"
   ]
  },
  {
   "cell_type": "code",
   "execution_count": 37,
   "id": "77984730",
   "metadata": {},
   "outputs": [
    {
     "data": {
      "text/plain": [
       "Youth       270\n",
       "Midage      202\n",
       "Oldages     199\n",
       "Seniors      81\n",
       "Teenage      70\n",
       "children     69\n",
       "Name: Age_category, dtype: int64"
      ]
     },
     "execution_count": 37,
     "metadata": {},
     "output_type": "execute_result"
    }
   ],
   "source": [
    "data['Age_category'].value_counts()"
   ]
  },
  {
   "cell_type": "code",
   "execution_count": 38,
   "id": "d18b0633",
   "metadata": {},
   "outputs": [],
   "source": [
    "Age_sur = data.groupby(by=['Age_category','Survived'])['Survived'].count()"
   ]
  },
  {
   "cell_type": "code",
   "execution_count": 39,
   "id": "ace112bf",
   "metadata": {},
   "outputs": [
    {
     "data": {
      "text/plain": [
       "Age_category  Survived\n",
       "Midage        0           116\n",
       "              1            86\n",
       "Oldages       0           142\n",
       "              1            57\n",
       "Seniors       0            48\n",
       "              1            33\n",
       "Teenage       0            40\n",
       "              1            30\n",
       "Youth         0           174\n",
       "              1            96\n",
       "children      0            29\n",
       "              1            40\n",
       "Name: Survived, dtype: int64"
      ]
     },
     "execution_count": 39,
     "metadata": {},
     "output_type": "execute_result"
    }
   ],
   "source": [
    "Age_sur"
   ]
  },
  {
   "cell_type": "code",
   "execution_count": 40,
   "id": "f9ab1111",
   "metadata": {},
   "outputs": [
    {
     "name": "stdout",
     "output_type": "stream",
     "text": [
      "MidAge survived percentage:-42.57%\n",
      "Oldages survived percentage:-28.64%\n",
      "Seniors survived percentage:-40.74%\n",
      "Youth survived percentage:-35.56%\n",
      "children survived percentage:-57.97%\n",
      "TeenAge survived percentage :-42.86%\n"
     ]
    }
   ],
   "source": [
    "print('MidAge survived percentage:-%.2f%%'%(Age_sur['Midage'][1]/(Age_sur['Midage'][1]+Age_sur['Midage'][0])*100))\n",
    "print('Oldages survived percentage:-%.2f%%'%(Age_sur['Oldages'][1]/(Age_sur['Oldages'][1]+Age_sur['Oldages'][0])*100))\n",
    "print('Seniors survived percentage:-%.2f%%'%(Age_sur['Seniors'][1]/(Age_sur['Seniors'][1]+Age_sur['Seniors'][0])*100))\n",
    "print('Youth survived percentage:-%.2f%%'%(Age_sur['Youth'][1]/(Age_sur['Youth'][1]+Age_sur['Youth'][0])*100))\n",
    "print('children survived percentage:-%.2f%%'%(Age_sur['children'][1]/(Age_sur['children'][1]+Age_sur['children'][0])*100))\n",
    "print('TeenAge survived percentage :-%.2f%%'%(Age_sur['Teenage'][1]/(Age_sur['Teenage'][1]+Age_sur['Teenage'][0])*100))"
   ]
  },
  {
   "cell_type": "code",
   "execution_count": 41,
   "id": "716da5a8",
   "metadata": {},
   "outputs": [
    {
     "data": {
      "text/html": [
       "<div>\n",
       "<style scoped>\n",
       "    .dataframe tbody tr th:only-of-type {\n",
       "        vertical-align: middle;\n",
       "    }\n",
       "\n",
       "    .dataframe tbody tr th {\n",
       "        vertical-align: top;\n",
       "    }\n",
       "\n",
       "    .dataframe thead th {\n",
       "        text-align: right;\n",
       "    }\n",
       "</style>\n",
       "<table border=\"1\" class=\"dataframe\">\n",
       "  <thead>\n",
       "    <tr style=\"text-align: right;\">\n",
       "      <th>Survived</th>\n",
       "      <th>0</th>\n",
       "      <th>1</th>\n",
       "    </tr>\n",
       "    <tr>\n",
       "      <th>Age_category</th>\n",
       "      <th></th>\n",
       "      <th></th>\n",
       "    </tr>\n",
       "  </thead>\n",
       "  <tbody>\n",
       "    <tr>\n",
       "      <th>Midage</th>\n",
       "      <td>116</td>\n",
       "      <td>86</td>\n",
       "    </tr>\n",
       "    <tr>\n",
       "      <th>Oldages</th>\n",
       "      <td>142</td>\n",
       "      <td>57</td>\n",
       "    </tr>\n",
       "    <tr>\n",
       "      <th>Seniors</th>\n",
       "      <td>48</td>\n",
       "      <td>33</td>\n",
       "    </tr>\n",
       "    <tr>\n",
       "      <th>Teenage</th>\n",
       "      <td>40</td>\n",
       "      <td>30</td>\n",
       "    </tr>\n",
       "    <tr>\n",
       "      <th>Youth</th>\n",
       "      <td>174</td>\n",
       "      <td>96</td>\n",
       "    </tr>\n",
       "    <tr>\n",
       "      <th>children</th>\n",
       "      <td>29</td>\n",
       "      <td>40</td>\n",
       "    </tr>\n",
       "  </tbody>\n",
       "</table>\n",
       "</div>"
      ],
      "text/plain": [
       "Survived        0   1\n",
       "Age_category         \n",
       "Midage        116  86\n",
       "Oldages       142  57\n",
       "Seniors        48  33\n",
       "Teenage        40  30\n",
       "Youth         174  96\n",
       "children       29  40"
      ]
     },
     "execution_count": 41,
     "metadata": {},
     "output_type": "execute_result"
    }
   ],
   "source": [
    "pd.crosstab(data['Age_category'],data['Survived'])"
   ]
  },
  {
   "cell_type": "markdown",
   "id": "8353ea8f",
   "metadata": {},
   "source": [
    "# Perform some statistical test"
   ]
  },
  {
   "cell_type": "code",
   "execution_count": 42,
   "id": "a0bf5105",
   "metadata": {},
   "outputs": [],
   "source": [
    "obvserved = pd.crosstab(data['Age_category'],data['Survived'])"
   ]
  },
  {
   "cell_type": "code",
   "execution_count": 43,
   "id": "e5b8aeb4",
   "metadata": {},
   "outputs": [
    {
     "name": "stdout",
     "output_type": "stream",
     "text": [
      "chi_square:- 22.371876386576556\n",
      "p_value:- 0.00044486673473075885\n",
      "Accept the H1\n"
     ]
    }
   ],
   "source": [
    "# H0 --> null hypothesis --> The survived not depend on Age_category\n",
    "# H1 --> Alternate hypothesis --> The survived is Depends upon the Agecategory\n",
    "chi,p,dof,expected = chi2_contingency(obvserved)\n",
    "print('chi_square:-',chi)\n",
    "print('p_value:-',p)\n",
    "if p<0.05:\n",
    "    print('Accept the H1')\n",
    "else:\n",
    "    print('Accept the H0')"
   ]
  },
  {
   "cell_type": "markdown",
   "id": "dfb34617",
   "metadata": {},
   "source": [
    "Data Analysis conclusion:--\n",
    "\n",
    "1) The Survival Rate of Female passengers is higher as compared to male passengers (females were given priority while rescue)\n",
    "\n",
    "2) The Survival Rate of passengers from 1st class was highest. (The passengers from 1st and 2nd clsss were given priority while\n",
    "rescue)\n",
    "\n",
    "3) Children, Teenagers, and Senior citizens were given priority while rescue.\n",
    "\n",
    "4) Although the Survival Rate for passengers boarded from chebourge was the highest while here more number of passengers from\n",
    "southampton we cannot say that was any priority on the basis of boarding station.\n"
   ]
  },
  {
   "cell_type": "markdown",
   "id": "2d57afe3",
   "metadata": {},
   "source": [
    "# Data Preprocessing"
   ]
  },
  {
   "cell_type": "markdown",
   "id": "68c1c0ec",
   "metadata": {},
   "source": [
    "# Feature Engineening"
   ]
  },
  {
   "cell_type": "code",
   "execution_count": 44,
   "id": "923fdd39",
   "metadata": {},
   "outputs": [
    {
     "data": {
      "text/html": [
       "<div>\n",
       "<style scoped>\n",
       "    .dataframe tbody tr th:only-of-type {\n",
       "        vertical-align: middle;\n",
       "    }\n",
       "\n",
       "    .dataframe tbody tr th {\n",
       "        vertical-align: top;\n",
       "    }\n",
       "\n",
       "    .dataframe thead th {\n",
       "        text-align: right;\n",
       "    }\n",
       "</style>\n",
       "<table border=\"1\" class=\"dataframe\">\n",
       "  <thead>\n",
       "    <tr style=\"text-align: right;\">\n",
       "      <th></th>\n",
       "      <th>PassengerId</th>\n",
       "      <th>Survived</th>\n",
       "      <th>Pclass</th>\n",
       "      <th>Name</th>\n",
       "      <th>Sex</th>\n",
       "      <th>Age</th>\n",
       "      <th>SibSp</th>\n",
       "      <th>Parch</th>\n",
       "      <th>Ticket</th>\n",
       "      <th>Fare</th>\n",
       "      <th>Cabin</th>\n",
       "      <th>Embarked</th>\n",
       "      <th>Age_category</th>\n",
       "    </tr>\n",
       "  </thead>\n",
       "  <tbody>\n",
       "    <tr>\n",
       "      <th>0</th>\n",
       "      <td>1</td>\n",
       "      <td>0</td>\n",
       "      <td>3</td>\n",
       "      <td>Braund, Mr. Owen Harris</td>\n",
       "      <td>male</td>\n",
       "      <td>22.0</td>\n",
       "      <td>1</td>\n",
       "      <td>0</td>\n",
       "      <td>A/5 21171</td>\n",
       "      <td>7.2500</td>\n",
       "      <td>NaN</td>\n",
       "      <td>S</td>\n",
       "      <td>Youth</td>\n",
       "    </tr>\n",
       "    <tr>\n",
       "      <th>1</th>\n",
       "      <td>2</td>\n",
       "      <td>1</td>\n",
       "      <td>1</td>\n",
       "      <td>Cumings, Mrs. John Bradley (Florence Briggs Th...</td>\n",
       "      <td>female</td>\n",
       "      <td>38.0</td>\n",
       "      <td>1</td>\n",
       "      <td>0</td>\n",
       "      <td>PC 17599</td>\n",
       "      <td>71.2833</td>\n",
       "      <td>C85</td>\n",
       "      <td>C</td>\n",
       "      <td>Midage</td>\n",
       "    </tr>\n",
       "  </tbody>\n",
       "</table>\n",
       "</div>"
      ],
      "text/plain": [
       "   PassengerId  Survived  Pclass  \\\n",
       "0            1         0       3   \n",
       "1            2         1       1   \n",
       "\n",
       "                                                Name     Sex   Age  SibSp  \\\n",
       "0                            Braund, Mr. Owen Harris    male  22.0      1   \n",
       "1  Cumings, Mrs. John Bradley (Florence Briggs Th...  female  38.0      1   \n",
       "\n",
       "   Parch     Ticket     Fare Cabin Embarked Age_category  \n",
       "0      0  A/5 21171   7.2500   NaN        S        Youth  \n",
       "1      0   PC 17599  71.2833   C85        C       Midage  "
      ]
     },
     "execution_count": 44,
     "metadata": {},
     "output_type": "execute_result"
    }
   ],
   "source": [
    "data.head(2)"
   ]
  },
  {
   "cell_type": "code",
   "execution_count": 45,
   "id": "69198750",
   "metadata": {},
   "outputs": [
    {
     "data": {
      "text/plain": [
       "array([nan, 'C85', 'C123', 'E46', 'G6', 'C103', 'D56', 'A6',\n",
       "       'C23 C25 C27', 'B78', 'D33', 'B30', 'C52', 'B28', 'C83', 'F33',\n",
       "       'F G73', 'E31', 'A5', 'D10 D12', 'D26', 'C110', 'B58 B60', 'E101',\n",
       "       'F E69', 'D47', 'B86', 'F2', 'C2', 'E33', 'B19', 'A7', 'C49', 'F4',\n",
       "       'A32', 'B4', 'B80', 'A31', 'D36', 'D15', 'C93', 'C78', 'D35',\n",
       "       'C87', 'B77', 'E67', 'B94', 'C125', 'C99', 'C118', 'D7', 'A19',\n",
       "       'B49', 'D', 'C22 C26', 'C106', 'C65', 'E36', 'C54',\n",
       "       'B57 B59 B63 B66', 'C7', 'E34', 'C32', 'B18', 'C124', 'C91', 'E40',\n",
       "       'T', 'C128', 'D37', 'B35', 'E50', 'C82', 'B96 B98', 'E10', 'E44',\n",
       "       'A34', 'C104', 'C111', 'C92', 'E38', 'D21', 'E12', 'E63', 'A14',\n",
       "       'B37', 'C30', 'D20', 'B79', 'E25', 'D46', 'B73', 'C95', 'B38',\n",
       "       'B39', 'B22', 'C86', 'C70', 'A16', 'C101', 'C68', 'A10', 'E68',\n",
       "       'B41', 'A20', 'D19', 'D50', 'D9', 'A23', 'B50', 'A26', 'D48',\n",
       "       'E58', 'C126', 'B71', 'B51 B53 B55', 'D49', 'B5', 'B20', 'F G63',\n",
       "       'C62 C64', 'E24', 'C90', 'C45', 'E8', 'B101', 'D45', 'C46', 'D30',\n",
       "       'E121', 'D11', 'E77', 'F38', 'B3', 'D6', 'B82 B84', 'D17', 'A36',\n",
       "       'B102', 'B69', 'E49', 'C47', 'D28', 'E17', 'A24', 'C50', 'B42',\n",
       "       'C148'], dtype=object)"
      ]
     },
     "execution_count": 45,
     "metadata": {},
     "output_type": "execute_result"
    }
   ],
   "source": [
    "data['Cabin'].unique()"
   ]
  },
  {
   "cell_type": "code",
   "execution_count": 46,
   "id": "211c2fb3",
   "metadata": {},
   "outputs": [
    {
     "data": {
      "text/plain": [
       "array(['A/5 21171', 'PC 17599', 'STON/O2. 3101282', '113803', '373450',\n",
       "       '330877', '17463', '349909', '347742', '237736', 'PP 9549',\n",
       "       '113783', 'A/5. 2151', '347082', '350406', '248706', '382652',\n",
       "       '244373', '345763', '2649', '239865', '248698', '330923', '113788',\n",
       "       '347077', '2631', '19950', '330959', '349216', 'PC 17601',\n",
       "       'PC 17569', '335677', 'C.A. 24579', 'PC 17604', '113789', '2677',\n",
       "       'A./5. 2152', '345764', '2651', '7546', '11668', '349253',\n",
       "       'SC/Paris 2123', '330958', 'S.C./A.4. 23567', '370371', '14311',\n",
       "       '2662', '349237', '3101295', 'A/4. 39886', 'PC 17572', '2926',\n",
       "       '113509', '19947', 'C.A. 31026', '2697', 'C.A. 34651', 'CA 2144',\n",
       "       '2669', '113572', '36973', '347088', 'PC 17605', '2661',\n",
       "       'C.A. 29395', 'S.P. 3464', '3101281', '315151', 'C.A. 33111',\n",
       "       'S.O.C. 14879', '2680', '1601', '348123', '349208', '374746',\n",
       "       '248738', '364516', '345767', '345779', '330932', '113059',\n",
       "       'SO/C 14885', '3101278', 'W./C. 6608', 'SOTON/OQ 392086', '343275',\n",
       "       '343276', '347466', 'W.E.P. 5734', 'C.A. 2315', '364500', '374910',\n",
       "       'PC 17754', 'PC 17759', '231919', '244367', '349245', '349215',\n",
       "       '35281', '7540', '3101276', '349207', '343120', '312991', '349249',\n",
       "       '371110', '110465', '2665', '324669', '4136', '2627',\n",
       "       'STON/O 2. 3101294', '370369', 'PC 17558', 'A4. 54510', '27267',\n",
       "       '370372', 'C 17369', '2668', '347061', '349241',\n",
       "       'SOTON/O.Q. 3101307', 'A/5. 3337', '228414', 'C.A. 29178',\n",
       "       'SC/PARIS 2133', '11752', '7534', 'PC 17593', '2678', '347081',\n",
       "       'STON/O2. 3101279', '365222', '231945', 'C.A. 33112', '350043',\n",
       "       '230080', '244310', 'S.O.P. 1166', '113776', 'A.5. 11206',\n",
       "       'A/5. 851', 'Fa 265302', 'PC 17597', '35851', 'SOTON/OQ 392090',\n",
       "       '315037', 'CA. 2343', '371362', 'C.A. 33595', '347068', '315093',\n",
       "       '363291', '113505', 'PC 17318', '111240', 'STON/O 2. 3101280',\n",
       "       '17764', '350404', '4133', 'PC 17595', '250653', 'LINE',\n",
       "       'SC/PARIS 2131', '230136', '315153', '113767', '370365', '111428',\n",
       "       '364849', '349247', '234604', '28424', '350046', 'PC 17610',\n",
       "       '368703', '4579', '370370', '248747', '345770', '3101264', '2628',\n",
       "       'A/5 3540', '347054', '2699', '367231', '112277',\n",
       "       'SOTON/O.Q. 3101311', 'F.C.C. 13528', 'A/5 21174', '250646',\n",
       "       '367229', '35273', 'STON/O2. 3101283', '243847', '11813',\n",
       "       'W/C 14208', 'SOTON/OQ 392089', '220367', '21440', '349234',\n",
       "       '19943', 'PP 4348', 'SW/PP 751', 'A/5 21173', '236171', '347067',\n",
       "       '237442', 'C.A. 29566', 'W./C. 6609', '26707', 'C.A. 31921',\n",
       "       '28665', 'SCO/W 1585', '367230', 'W./C. 14263',\n",
       "       'STON/O 2. 3101275', '2694', '19928', '347071', '250649', '11751',\n",
       "       '244252', '362316', '113514', 'A/5. 3336', '370129', '2650',\n",
       "       'PC 17585', '110152', 'PC 17755', '230433', '384461', '110413',\n",
       "       '112059', '382649', 'C.A. 17248', '347083', 'PC 17582', 'PC 17760',\n",
       "       '113798', '250644', 'PC 17596', '370375', '13502', '347073',\n",
       "       '239853', 'C.A. 2673', '336439', '347464', '345778', 'A/5. 10482',\n",
       "       '113056', '349239', '345774', '349206', '237798', '370373',\n",
       "       '19877', '11967', 'SC/Paris 2163', '349236', '349233', 'PC 17612',\n",
       "       '2693', '113781', '19988', '9234', '367226', '226593', 'A/5 2466',\n",
       "       '17421', 'PC 17758', 'P/PP 3381', 'PC 17485', '11767', 'PC 17608',\n",
       "       '250651', '349243', 'F.C.C. 13529', '347470', '29011', '36928',\n",
       "       '16966', 'A/5 21172', '349219', '234818', '345364', '28551',\n",
       "       '111361', '113043', 'PC 17611', '349225', '7598', '113784',\n",
       "       '248740', '244361', '229236', '248733', '31418', '386525',\n",
       "       'C.A. 37671', '315088', '7267', '113510', '2695', '2647', '345783',\n",
       "       '237671', '330931', '330980', 'SC/PARIS 2167', '2691',\n",
       "       'SOTON/O.Q. 3101310', 'C 7076', '110813', '2626', '14313',\n",
       "       'PC 17477', '11765', '3101267', '323951', 'C 7077', '113503',\n",
       "       '2648', '347069', 'PC 17757', '2653', 'STON/O 2. 3101293',\n",
       "       '349227', '27849', '367655', 'SC 1748', '113760', '350034',\n",
       "       '3101277', '350052', '350407', '28403', '244278', '240929',\n",
       "       'STON/O 2. 3101289', '341826', '4137', '315096', '28664', '347064',\n",
       "       '29106', '312992', '349222', '394140', 'STON/O 2. 3101269',\n",
       "       '343095', '28220', '250652', '28228', '345773', '349254',\n",
       "       'A/5. 13032', '315082', '347080', 'A/4. 34244', '2003', '250655',\n",
       "       '364851', 'SOTON/O.Q. 392078', '110564', '376564', 'SC/AH 3085',\n",
       "       'STON/O 2. 3101274', '13507', 'C.A. 18723', '345769', '347076',\n",
       "       '230434', '65306', '33638', '113794', '2666', '113786', '65303',\n",
       "       '113051', '17453', 'A/5 2817', '349240', '13509', '17464',\n",
       "       'F.C.C. 13531', '371060', '19952', '364506', '111320', '234360',\n",
       "       'A/S 2816', 'SOTON/O.Q. 3101306', '113792', '36209', '323592',\n",
       "       '315089', 'SC/AH Basle 541', '7553', '31027', '3460', '350060',\n",
       "       '3101298', '239854', 'A/5 3594', '4134', '11771', 'A.5. 18509',\n",
       "       '65304', 'SOTON/OQ 3101317', '113787', 'PC 17609', 'A/4 45380',\n",
       "       '36947', 'C.A. 6212', '350035', '315086', '364846', '330909',\n",
       "       '4135', '26360', '111427', 'C 4001', '382651', 'SOTON/OQ 3101316',\n",
       "       'PC 17473', 'PC 17603', '349209', '36967', 'C.A. 34260', '226875',\n",
       "       '349242', '12749', '349252', '2624', '2700', '367232',\n",
       "       'W./C. 14258', 'PC 17483', '3101296', '29104', '2641', '2690',\n",
       "       '315084', '113050', 'PC 17761', '364498', '13568', 'WE/P 5735',\n",
       "       '2908', '693', 'SC/PARIS 2146', '244358', '330979', '2620',\n",
       "       '347085', '113807', '11755', '345572', '372622', '349251',\n",
       "       '218629', 'SOTON/OQ 392082', 'SOTON/O.Q. 392087', 'A/4 48871',\n",
       "       '349205', '2686', '350417', 'S.W./PP 752', '11769', 'PC 17474',\n",
       "       '14312', 'A/4. 20589', '358585', '243880', '2689',\n",
       "       'STON/O 2. 3101286', '237789', '13049', '3411', '237565', '13567',\n",
       "       '14973', 'A./5. 3235', 'STON/O 2. 3101273', 'A/5 3902', '364848',\n",
       "       'SC/AH 29037', '248727', '2664', '349214', '113796', '364511',\n",
       "       '111426', '349910', '349246', '113804', 'SOTON/O.Q. 3101305',\n",
       "       '370377', '364512', '220845', '31028', '2659', '11753', '350029',\n",
       "       '54636', '36963', '219533', '349224', '334912', '27042', '347743',\n",
       "       '13214', '112052', '237668', 'STON/O 2. 3101292', '350050',\n",
       "       '349231', '13213', 'S.O./P.P. 751', 'CA. 2314', '349221', '8475',\n",
       "       '330919', '365226', '349223', '29751', '2623', '5727', '349210',\n",
       "       'STON/O 2. 3101285', '234686', '312993', 'A/5 3536', '19996',\n",
       "       '29750', 'F.C. 12750', 'C.A. 24580', '244270', '239856', '349912',\n",
       "       '342826', '4138', '330935', '6563', '349228', '350036', '24160',\n",
       "       '17474', '349256', '2672', '113800', '248731', '363592', '35852',\n",
       "       '348121', 'PC 17475', '36864', '350025', '223596', 'PC 17476',\n",
       "       'PC 17482', '113028', '7545', '250647', '348124', '34218', '36568',\n",
       "       '347062', '350048', '12233', '250643', '113806', '315094', '36866',\n",
       "       '236853', 'STON/O2. 3101271', '239855', '28425', '233639',\n",
       "       '349201', '349218', '16988', '376566', 'STON/O 2. 3101288',\n",
       "       '250648', '113773', '335097', '29103', '392096', '345780',\n",
       "       '349204', '350042', '29108', '363294', 'SOTON/O2 3101272', '2663',\n",
       "       '347074', '112379', '364850', '8471', '345781', '350047',\n",
       "       'S.O./P.P. 3', '2674', '29105', '347078', '383121', '36865',\n",
       "       '2687', '113501', 'W./C. 6607', 'SOTON/O.Q. 3101312', '374887',\n",
       "       '3101265', '12460', 'PC 17600', '349203', '28213', '17465',\n",
       "       '349244', '2685', '2625', '347089', '347063', '112050', '347087',\n",
       "       '248723', '3474', '28206', '364499', '112058', 'STON/O2. 3101290',\n",
       "       'S.C./PARIS 2079', 'C 7075', '315098', '19972', '368323', '367228',\n",
       "       '2671', '347468', '2223', 'PC 17756', '315097', '392092', '11774',\n",
       "       'SOTON/O2 3101287', '2683', '315090', 'C.A. 5547', '349213',\n",
       "       '347060', 'PC 17592', '392091', '113055', '2629', '350026',\n",
       "       '28134', '17466', '233866', '236852', 'SC/PARIS 2149', 'PC 17590',\n",
       "       '345777', '349248', '695', '345765', '2667', '349212', '349217',\n",
       "       '349257', '7552', 'C.A./SOTON 34068', 'SOTON/OQ 392076', '211536',\n",
       "       '112053', '111369', '370376'], dtype=object)"
      ]
     },
     "execution_count": 46,
     "metadata": {},
     "output_type": "execute_result"
    }
   ],
   "source": [
    "data['Ticket'].unique()"
   ]
  },
  {
   "cell_type": "markdown",
   "id": "0e3795ff",
   "metadata": {},
   "source": [
    "# Handle mixed varable ya mixed dataset"
   ]
  },
  {
   "cell_type": "code",
   "execution_count": 47,
   "id": "4135a3a1",
   "metadata": {},
   "outputs": [],
   "source": [
    "# Handle mixed variable Cabin feature \n",
    "data['Cabin_num'] = data['Cabin'].str.extract('(\\d+)') # Capture numerical parts\n",
    "data['Cabin_cat'] = data['Cabin'].str[0]\n",
    "data['Cabin_num'] = pd.to_numeric(data['Cabin_num'],errors='coerce',downcast='integer')"
   ]
  },
  {
   "cell_type": "code",
   "execution_count": 48,
   "id": "99edb43c",
   "metadata": {},
   "outputs": [
    {
     "data": {
      "text/plain": [
       "C    59\n",
       "B    47\n",
       "D    33\n",
       "E    32\n",
       "A    15\n",
       "F    13\n",
       "G     4\n",
       "T     1\n",
       "Name: Cabin_cat, dtype: int64"
      ]
     },
     "execution_count": 48,
     "metadata": {},
     "output_type": "execute_result"
    }
   ],
   "source": [
    "data['Cabin_cat'].value_counts()"
   ]
  },
  {
   "cell_type": "code",
   "execution_count": 49,
   "id": "e7ddef49",
   "metadata": {},
   "outputs": [
    {
     "data": {
      "image/png": "[encoded data removed]",
      "text/plain": [
       "<Figure size 432x288 with 1 Axes>"
      ]
     },
     "metadata": {
      "needs_background": "light"
     },
     "output_type": "display_data"
    }
   ],
   "source": [
    "data['Cabin_cat'].value_counts().plot(kind='bar')\n",
    "plt.show()"
   ]
  },
  {
   "cell_type": "code",
   "execution_count": 50,
   "id": "8543f1b9",
   "metadata": {},
   "outputs": [
    {
     "data": {
      "text/html": [
       "<div>\n",
       "<style scoped>\n",
       "    .dataframe tbody tr th:only-of-type {\n",
       "        vertical-align: middle;\n",
       "    }\n",
       "\n",
       "    .dataframe tbody tr th {\n",
       "        vertical-align: top;\n",
       "    }\n",
       "\n",
       "    .dataframe thead th {\n",
       "        text-align: right;\n",
       "    }\n",
       "</style>\n",
       "<table border=\"1\" class=\"dataframe\">\n",
       "  <thead>\n",
       "    <tr style=\"text-align: right;\">\n",
       "      <th></th>\n",
       "      <th>PassengerId</th>\n",
       "      <th>Survived</th>\n",
       "      <th>Pclass</th>\n",
       "      <th>Name</th>\n",
       "      <th>Sex</th>\n",
       "      <th>Age</th>\n",
       "      <th>SibSp</th>\n",
       "      <th>Parch</th>\n",
       "      <th>Ticket</th>\n",
       "      <th>Fare</th>\n",
       "      <th>Cabin</th>\n",
       "      <th>Embarked</th>\n",
       "      <th>Age_category</th>\n",
       "      <th>Cabin_num</th>\n",
       "      <th>Cabin_cat</th>\n",
       "    </tr>\n",
       "  </thead>\n",
       "  <tbody>\n",
       "    <tr>\n",
       "      <th>0</th>\n",
       "      <td>1</td>\n",
       "      <td>0</td>\n",
       "      <td>3</td>\n",
       "      <td>Braund, Mr. Owen Harris</td>\n",
       "      <td>male</td>\n",
       "      <td>22.0</td>\n",
       "      <td>1</td>\n",
       "      <td>0</td>\n",
       "      <td>A/5 21171</td>\n",
       "      <td>7.2500</td>\n",
       "      <td>NaN</td>\n",
       "      <td>S</td>\n",
       "      <td>Youth</td>\n",
       "      <td>NaN</td>\n",
       "      <td>NaN</td>\n",
       "    </tr>\n",
       "    <tr>\n",
       "      <th>1</th>\n",
       "      <td>2</td>\n",
       "      <td>1</td>\n",
       "      <td>1</td>\n",
       "      <td>Cumings, Mrs. John Bradley (Florence Briggs Th...</td>\n",
       "      <td>female</td>\n",
       "      <td>38.0</td>\n",
       "      <td>1</td>\n",
       "      <td>0</td>\n",
       "      <td>PC 17599</td>\n",
       "      <td>71.2833</td>\n",
       "      <td>C85</td>\n",
       "      <td>C</td>\n",
       "      <td>Midage</td>\n",
       "      <td>85.0</td>\n",
       "      <td>C</td>\n",
       "    </tr>\n",
       "  </tbody>\n",
       "</table>\n",
       "</div>"
      ],
      "text/plain": [
       "   PassengerId  Survived  Pclass  \\\n",
       "0            1         0       3   \n",
       "1            2         1       1   \n",
       "\n",
       "                                                Name     Sex   Age  SibSp  \\\n",
       "0                            Braund, Mr. Owen Harris    male  22.0      1   \n",
       "1  Cumings, Mrs. John Bradley (Florence Briggs Th...  female  38.0      1   \n",
       "\n",
       "   Parch     Ticket     Fare Cabin Embarked Age_category  Cabin_num Cabin_cat  \n",
       "0      0  A/5 21171   7.2500   NaN        S        Youth        NaN       NaN  \n",
       "1      0   PC 17599  71.2833   C85        C       Midage       85.0         C  "
      ]
     },
     "execution_count": 50,
     "metadata": {},
     "output_type": "execute_result"
    }
   ],
   "source": [
    "data.head(2)"
   ]
  },
  {
   "cell_type": "code",
   "execution_count": 51,
   "id": "5abe2c5c",
   "metadata": {},
   "outputs": [],
   "source": [
    "# Handle mixed variable ticket feature\n",
    "data['ticket_num'] = data['Ticket'].apply(lambda s: s.split()[-1])\n",
    "data['ticket_num'] = pd.to_numeric(data['ticket_num'],\n",
    "                                   errors='coerce',\n",
    "                                   downcast='integer')\n",
    "\n",
    "# extract the first part of ticket as category\n",
    "data['ticket_cat'] = data['Ticket'].apply(lambda s: s.split()[0])\n",
    "data['ticket_cat'] = np.where(data['ticket_cat'].str.isdigit(), np.nan,\n",
    "                              data['ticket_cat'])"
   ]
  },
  {
   "cell_type": "code",
   "execution_count": 52,
   "id": "7f9c6727",
   "metadata": {},
   "outputs": [
    {
     "name": "stdout",
     "output_type": "stream",
     "text": [
      "<class 'pandas.core.frame.DataFrame'>\n",
      "RangeIndex: 891 entries, 0 to 890\n",
      "Data columns (total 17 columns):\n",
      " #   Column        Non-Null Count  Dtype  \n",
      "---  ------        --------------  -----  \n",
      " 0   PassengerId   891 non-null    int64  \n",
      " 1   Survived      891 non-null    int64  \n",
      " 2   Pclass        891 non-null    int64  \n",
      " 3   Name          891 non-null    object \n",
      " 4   Sex           891 non-null    object \n",
      " 5   Age           714 non-null    float64\n",
      " 6   SibSp         891 non-null    int64  \n",
      " 7   Parch         891 non-null    int64  \n",
      " 8   Ticket        891 non-null    object \n",
      " 9   Fare          891 non-null    float64\n",
      " 10  Cabin         204 non-null    object \n",
      " 11  Embarked      889 non-null    object \n",
      " 12  Age_category  891 non-null    object \n",
      " 13  Cabin_num     200 non-null    float64\n",
      " 14  Cabin_cat     204 non-null    object \n",
      " 15  ticket_num    887 non-null    float64\n",
      " 16  ticket_cat    230 non-null    object \n",
      "dtypes: float64(4), int64(5), object(8)\n",
      "memory usage: 118.5+ KB\n"
     ]
    }
   ],
   "source": [
    "data.info()"
   ]
  },
  {
   "cell_type": "code",
   "execution_count": 53,
   "id": "2c001c13",
   "metadata": {},
   "outputs": [
    {
     "data": {
      "text/html": [
       "<div>\n",
       "<style scoped>\n",
       "    .dataframe tbody tr th:only-of-type {\n",
       "        vertical-align: middle;\n",
       "    }\n",
       "\n",
       "    .dataframe tbody tr th {\n",
       "        vertical-align: top;\n",
       "    }\n",
       "\n",
       "    .dataframe thead th {\n",
       "        text-align: right;\n",
       "    }\n",
       "</style>\n",
       "<table border=\"1\" class=\"dataframe\">\n",
       "  <thead>\n",
       "    <tr style=\"text-align: right;\">\n",
       "      <th></th>\n",
       "      <th>PassengerId</th>\n",
       "      <th>Survived</th>\n",
       "      <th>Pclass</th>\n",
       "      <th>Name</th>\n",
       "      <th>Sex</th>\n",
       "      <th>Age</th>\n",
       "      <th>SibSp</th>\n",
       "      <th>Parch</th>\n",
       "      <th>Ticket</th>\n",
       "      <th>Fare</th>\n",
       "      <th>Cabin</th>\n",
       "      <th>Embarked</th>\n",
       "      <th>Age_category</th>\n",
       "      <th>Cabin_num</th>\n",
       "      <th>Cabin_cat</th>\n",
       "      <th>ticket_num</th>\n",
       "      <th>ticket_cat</th>\n",
       "    </tr>\n",
       "  </thead>\n",
       "  <tbody>\n",
       "    <tr>\n",
       "      <th>0</th>\n",
       "      <td>1</td>\n",
       "      <td>0</td>\n",
       "      <td>3</td>\n",
       "      <td>Braund, Mr. Owen Harris</td>\n",
       "      <td>male</td>\n",
       "      <td>22.0</td>\n",
       "      <td>1</td>\n",
       "      <td>0</td>\n",
       "      <td>A/5 21171</td>\n",
       "      <td>7.25</td>\n",
       "      <td>NaN</td>\n",
       "      <td>S</td>\n",
       "      <td>Youth</td>\n",
       "      <td>NaN</td>\n",
       "      <td>NaN</td>\n",
       "      <td>21171.0</td>\n",
       "      <td>A/5</td>\n",
       "    </tr>\n",
       "  </tbody>\n",
       "</table>\n",
       "</div>"
      ],
      "text/plain": [
       "   PassengerId  Survived  Pclass                     Name   Sex   Age  SibSp  \\\n",
       "0            1         0       3  Braund, Mr. Owen Harris  male  22.0      1   \n",
       "\n",
       "   Parch     Ticket  Fare Cabin Embarked Age_category  Cabin_num Cabin_cat  \\\n",
       "0      0  A/5 21171  7.25   NaN        S        Youth        NaN       NaN   \n",
       "\n",
       "   ticket_num ticket_cat  \n",
       "0     21171.0        A/5  "
      ]
     },
     "execution_count": 53,
     "metadata": {},
     "output_type": "execute_result"
    }
   ],
   "source": [
    "data.head(1)"
   ]
  },
  {
   "cell_type": "markdown",
   "id": "14f07a88",
   "metadata": {},
   "source": [
    "# Feature Splitting"
   ]
  },
  {
   "cell_type": "code",
   "execution_count": 54,
   "id": "555af2cb",
   "metadata": {},
   "outputs": [
    {
     "data": {
      "text/html": [
       "<div>\n",
       "<style scoped>\n",
       "    .dataframe tbody tr th:only-of-type {\n",
       "        vertical-align: middle;\n",
       "    }\n",
       "\n",
       "    .dataframe tbody tr th {\n",
       "        vertical-align: top;\n",
       "    }\n",
       "\n",
       "    .dataframe thead th {\n",
       "        text-align: right;\n",
       "    }\n",
       "</style>\n",
       "<table border=\"1\" class=\"dataframe\">\n",
       "  <thead>\n",
       "    <tr style=\"text-align: right;\">\n",
       "      <th></th>\n",
       "      <th>Name</th>\n",
       "    </tr>\n",
       "  </thead>\n",
       "  <tbody>\n",
       "    <tr>\n",
       "      <th>0</th>\n",
       "      <td>Braund, Mr. Owen Harris</td>\n",
       "    </tr>\n",
       "  </tbody>\n",
       "</table>\n",
       "</div>"
      ],
      "text/plain": [
       "                      Name\n",
       "0  Braund, Mr. Owen Harris"
      ]
     },
     "execution_count": 54,
     "metadata": {},
     "output_type": "execute_result"
    }
   ],
   "source": [
    "# Handle otmic value \n",
    "# Otmic value like --> Mr,Mrs,Miss\n",
    "data[[\"Name\"]].head(1)"
   ]
  },
  {
   "cell_type": "code",
   "execution_count": 55,
   "id": "9c895fcd",
   "metadata": {},
   "outputs": [
    {
     "data": {
      "text/plain": [
       "0    Mr. Owen Harris\n",
       "Name: 1, dtype: object"
      ]
     },
     "execution_count": 55,
     "metadata": {},
     "output_type": "execute_result"
    }
   ],
   "source": [
    "data['Name'].str.split(', ',expand=True)[1].head(1)"
   ]
  },
  {
   "cell_type": "code",
   "execution_count": 56,
   "id": "c16d3a4f",
   "metadata": {},
   "outputs": [
    {
     "data": {
      "text/html": [
       "<div>\n",
       "<style scoped>\n",
       "    .dataframe tbody tr th:only-of-type {\n",
       "        vertical-align: middle;\n",
       "    }\n",
       "\n",
       "    .dataframe tbody tr th {\n",
       "        vertical-align: top;\n",
       "    }\n",
       "\n",
       "    .dataframe thead th {\n",
       "        text-align: right;\n",
       "    }\n",
       "</style>\n",
       "<table border=\"1\" class=\"dataframe\">\n",
       "  <thead>\n",
       "    <tr style=\"text-align: right;\">\n",
       "      <th></th>\n",
       "      <th>0</th>\n",
       "      <th>1</th>\n",
       "      <th>2</th>\n",
       "    </tr>\n",
       "  </thead>\n",
       "  <tbody>\n",
       "    <tr>\n",
       "      <th>0</th>\n",
       "      <td>Mr</td>\n",
       "      <td>Owen Harris</td>\n",
       "      <td>None</td>\n",
       "    </tr>\n",
       "  </tbody>\n",
       "</table>\n",
       "</div>"
      ],
      "text/plain": [
       "    0             1     2\n",
       "0  Mr   Owen Harris  None"
      ]
     },
     "execution_count": 56,
     "metadata": {},
     "output_type": "execute_result"
    }
   ],
   "source": [
    "data['Name'].str.split(', ',expand=True)[1].str.split('.',expand=True).head(1)"
   ]
  },
  {
   "cell_type": "code",
   "execution_count": 57,
   "id": "c0400399",
   "metadata": {},
   "outputs": [
    {
     "data": {
      "text/plain": [
       "0        Mr\n",
       "1       Mrs\n",
       "2      Miss\n",
       "3       Mrs\n",
       "4        Mr\n",
       "       ... \n",
       "886     Rev\n",
       "887    Miss\n",
       "888    Miss\n",
       "889      Mr\n",
       "890      Mr\n",
       "Name: 0, Length: 891, dtype: object"
      ]
     },
     "execution_count": 57,
     "metadata": {},
     "output_type": "execute_result"
    }
   ],
   "source": [
    "# Finally Extract otmic value \n",
    "data['Name'].str.split(', ',expand=True)[1].str.split('.',expand=True)[0]"
   ]
  },
  {
   "cell_type": "code",
   "execution_count": 58,
   "id": "3a79bb03",
   "metadata": {},
   "outputs": [],
   "source": [
    "data['Title'] = data['Name'].str.split(', ',expand=True)[1].str.split('.',expand=True)[0]"
   ]
  },
  {
   "cell_type": "code",
   "execution_count": 59,
   "id": "d4d5601b",
   "metadata": {},
   "outputs": [
    {
     "data": {
      "text/html": [
       "<div>\n",
       "<style scoped>\n",
       "    .dataframe tbody tr th:only-of-type {\n",
       "        vertical-align: middle;\n",
       "    }\n",
       "\n",
       "    .dataframe tbody tr th {\n",
       "        vertical-align: top;\n",
       "    }\n",
       "\n",
       "    .dataframe thead th {\n",
       "        text-align: right;\n",
       "    }\n",
       "</style>\n",
       "<table border=\"1\" class=\"dataframe\">\n",
       "  <thead>\n",
       "    <tr style=\"text-align: right;\">\n",
       "      <th></th>\n",
       "      <th>PassengerId</th>\n",
       "      <th>Survived</th>\n",
       "      <th>Pclass</th>\n",
       "      <th>Name</th>\n",
       "      <th>Sex</th>\n",
       "      <th>Age</th>\n",
       "      <th>SibSp</th>\n",
       "      <th>Parch</th>\n",
       "      <th>Ticket</th>\n",
       "      <th>Fare</th>\n",
       "      <th>Cabin</th>\n",
       "      <th>Embarked</th>\n",
       "      <th>Age_category</th>\n",
       "      <th>Cabin_num</th>\n",
       "      <th>Cabin_cat</th>\n",
       "      <th>ticket_num</th>\n",
       "      <th>ticket_cat</th>\n",
       "      <th>Title</th>\n",
       "    </tr>\n",
       "  </thead>\n",
       "  <tbody>\n",
       "    <tr>\n",
       "      <th>0</th>\n",
       "      <td>1</td>\n",
       "      <td>0</td>\n",
       "      <td>3</td>\n",
       "      <td>Braund, Mr. Owen Harris</td>\n",
       "      <td>male</td>\n",
       "      <td>22.0</td>\n",
       "      <td>1</td>\n",
       "      <td>0</td>\n",
       "      <td>A/5 21171</td>\n",
       "      <td>7.25</td>\n",
       "      <td>NaN</td>\n",
       "      <td>S</td>\n",
       "      <td>Youth</td>\n",
       "      <td>NaN</td>\n",
       "      <td>NaN</td>\n",
       "      <td>21171.0</td>\n",
       "      <td>A/5</td>\n",
       "      <td>Mr</td>\n",
       "    </tr>\n",
       "  </tbody>\n",
       "</table>\n",
       "</div>"
      ],
      "text/plain": [
       "   PassengerId  Survived  Pclass                     Name   Sex   Age  SibSp  \\\n",
       "0            1         0       3  Braund, Mr. Owen Harris  male  22.0      1   \n",
       "\n",
       "   Parch     Ticket  Fare Cabin Embarked Age_category  Cabin_num Cabin_cat  \\\n",
       "0      0  A/5 21171  7.25   NaN        S        Youth        NaN       NaN   \n",
       "\n",
       "   ticket_num ticket_cat Title  \n",
       "0     21171.0        A/5    Mr  "
      ]
     },
     "execution_count": 59,
     "metadata": {},
     "output_type": "execute_result"
    }
   ],
   "source": [
    "data.head(1)"
   ]
  },
  {
   "cell_type": "code",
   "execution_count": 60,
   "id": "7587412f",
   "metadata": {},
   "outputs": [
    {
     "data": {
      "text/plain": [
       "Title\n",
       "the Countess    1.000000\n",
       "Mlle            1.000000\n",
       "Sir             1.000000\n",
       "Ms              1.000000\n",
       "Lady            1.000000\n",
       "Mme             1.000000\n",
       "Mrs             0.792000\n",
       "Miss            0.697802\n",
       "Master          0.575000\n",
       "Col             0.500000\n",
       "Major           0.500000\n",
       "Dr              0.428571\n",
       "Mr              0.156673\n",
       "Jonkheer        0.000000\n",
       "Rev             0.000000\n",
       "Don             0.000000\n",
       "Capt            0.000000\n",
       "Name: Survived, dtype: float64"
      ]
     },
     "execution_count": 60,
     "metadata": {},
     "output_type": "execute_result"
    }
   ],
   "source": [
    "data.groupby(by=['Title']).mean()['Survived'].sort_values(ascending=False)"
   ]
  },
  {
   "cell_type": "code",
   "execution_count": 61,
   "id": "a2423d5d",
   "metadata": {},
   "outputs": [
    {
     "data": {
      "image/png": "[encoded data removed]",
      "text/plain": [
       "<Figure size 432x288 with 1 Axes>"
      ]
     },
     "metadata": {
      "needs_background": "light"
     },
     "output_type": "display_data"
    }
   ],
   "source": [
    "data['Title'].value_counts().plot(kind='bar')\n",
    "plt.show()"
   ]
  },
  {
   "cell_type": "code",
   "execution_count": 62,
   "id": "689987b1",
   "metadata": {},
   "outputs": [
    {
     "data": {
      "text/html": [
       "<div>\n",
       "<style scoped>\n",
       "    .dataframe tbody tr th:only-of-type {\n",
       "        vertical-align: middle;\n",
       "    }\n",
       "\n",
       "    .dataframe tbody tr th {\n",
       "        vertical-align: top;\n",
       "    }\n",
       "\n",
       "    .dataframe thead th {\n",
       "        text-align: right;\n",
       "    }\n",
       "</style>\n",
       "<table border=\"1\" class=\"dataframe\">\n",
       "  <thead>\n",
       "    <tr style=\"text-align: right;\">\n",
       "      <th></th>\n",
       "      <th>PassengerId</th>\n",
       "      <th>Survived</th>\n",
       "      <th>Pclass</th>\n",
       "      <th>Name</th>\n",
       "      <th>Sex</th>\n",
       "      <th>Age</th>\n",
       "      <th>SibSp</th>\n",
       "      <th>Parch</th>\n",
       "      <th>Ticket</th>\n",
       "      <th>Fare</th>\n",
       "      <th>Cabin</th>\n",
       "      <th>Embarked</th>\n",
       "      <th>Age_category</th>\n",
       "      <th>Cabin_num</th>\n",
       "      <th>Cabin_cat</th>\n",
       "      <th>ticket_num</th>\n",
       "      <th>ticket_cat</th>\n",
       "      <th>Title</th>\n",
       "    </tr>\n",
       "  </thead>\n",
       "  <tbody>\n",
       "    <tr>\n",
       "      <th>0</th>\n",
       "      <td>1</td>\n",
       "      <td>0</td>\n",
       "      <td>3</td>\n",
       "      <td>Braund, Mr. Owen Harris</td>\n",
       "      <td>male</td>\n",
       "      <td>22.0</td>\n",
       "      <td>1</td>\n",
       "      <td>0</td>\n",
       "      <td>A/5 21171</td>\n",
       "      <td>7.2500</td>\n",
       "      <td>NaN</td>\n",
       "      <td>S</td>\n",
       "      <td>Youth</td>\n",
       "      <td>NaN</td>\n",
       "      <td>NaN</td>\n",
       "      <td>21171.0</td>\n",
       "      <td>A/5</td>\n",
       "      <td>Mr</td>\n",
       "    </tr>\n",
       "    <tr>\n",
       "      <th>1</th>\n",
       "      <td>2</td>\n",
       "      <td>1</td>\n",
       "      <td>1</td>\n",
       "      <td>Cumings, Mrs. John Bradley (Florence Briggs Th...</td>\n",
       "      <td>female</td>\n",
       "      <td>38.0</td>\n",
       "      <td>1</td>\n",
       "      <td>0</td>\n",
       "      <td>PC 17599</td>\n",
       "      <td>71.2833</td>\n",
       "      <td>C85</td>\n",
       "      <td>C</td>\n",
       "      <td>Midage</td>\n",
       "      <td>85.0</td>\n",
       "      <td>C</td>\n",
       "      <td>17599.0</td>\n",
       "      <td>PC</td>\n",
       "      <td>Mrs</td>\n",
       "    </tr>\n",
       "  </tbody>\n",
       "</table>\n",
       "</div>"
      ],
      "text/plain": [
       "   PassengerId  Survived  Pclass  \\\n",
       "0            1         0       3   \n",
       "1            2         1       1   \n",
       "\n",
       "                                                Name     Sex   Age  SibSp  \\\n",
       "0                            Braund, Mr. Owen Harris    male  22.0      1   \n",
       "1  Cumings, Mrs. John Bradley (Florence Briggs Th...  female  38.0      1   \n",
       "\n",
       "   Parch     Ticket     Fare Cabin Embarked Age_category  Cabin_num Cabin_cat  \\\n",
       "0      0  A/5 21171   7.2500   NaN        S        Youth        NaN       NaN   \n",
       "1      0   PC 17599  71.2833   C85        C       Midage       85.0         C   \n",
       "\n",
       "   ticket_num ticket_cat Title  \n",
       "0     21171.0        A/5    Mr  \n",
       "1     17599.0         PC   Mrs  "
      ]
     },
     "execution_count": 62,
     "metadata": {},
     "output_type": "execute_result"
    }
   ],
   "source": [
    "data.head(2)"
   ]
  },
  {
   "cell_type": "markdown",
   "id": "87e3be3e",
   "metadata": {},
   "source": [
    "# Feature Contruction"
   ]
  },
  {
   "cell_type": "code",
   "execution_count": 63,
   "id": "ce463bd0",
   "metadata": {},
   "outputs": [],
   "source": [
    "data['Family_size'] = data['Parch'] + data['SibSp'] + 1"
   ]
  },
  {
   "cell_type": "code",
   "execution_count": 64,
   "id": "0cad3874",
   "metadata": {},
   "outputs": [
    {
     "data": {
      "text/html": [
       "<div>\n",
       "<style scoped>\n",
       "    .dataframe tbody tr th:only-of-type {\n",
       "        vertical-align: middle;\n",
       "    }\n",
       "\n",
       "    .dataframe tbody tr th {\n",
       "        vertical-align: top;\n",
       "    }\n",
       "\n",
       "    .dataframe thead th {\n",
       "        text-align: right;\n",
       "    }\n",
       "</style>\n",
       "<table border=\"1\" class=\"dataframe\">\n",
       "  <thead>\n",
       "    <tr style=\"text-align: right;\">\n",
       "      <th></th>\n",
       "      <th>Family_size</th>\n",
       "    </tr>\n",
       "  </thead>\n",
       "  <tbody>\n",
       "    <tr>\n",
       "      <th>0</th>\n",
       "      <td>2</td>\n",
       "    </tr>\n",
       "    <tr>\n",
       "      <th>1</th>\n",
       "      <td>2</td>\n",
       "    </tr>\n",
       "  </tbody>\n",
       "</table>\n",
       "</div>"
      ],
      "text/plain": [
       "   Family_size\n",
       "0            2\n",
       "1            2"
      ]
     },
     "execution_count": 64,
     "metadata": {},
     "output_type": "execute_result"
    }
   ],
   "source": [
    "data[['Family_size']].head(2)"
   ]
  },
  {
   "cell_type": "code",
   "execution_count": 65,
   "id": "e7f80e7f",
   "metadata": {},
   "outputs": [],
   "source": [
    "def myfun(num):\n",
    "    if num == 1:\n",
    "        # alone\n",
    "        return 0\n",
    "    elif num>1 and num<4:\n",
    "        # small family\n",
    "        return 1\n",
    "    else:\n",
    "        # large family\n",
    "        return 2\n",
    "    "
   ]
  },
  {
   "cell_type": "code",
   "execution_count": 66,
   "id": "b6dedbe3",
   "metadata": {},
   "outputs": [],
   "source": [
    "data['Family_type'] = data['Family_size'].apply(myfun)"
   ]
  },
  {
   "cell_type": "markdown",
   "id": "15bec3f7",
   "metadata": {},
   "source": [
    " # Feature Selection"
   ]
  },
  {
   "cell_type": "code",
   "execution_count": 67,
   "id": "515344b8",
   "metadata": {},
   "outputs": [],
   "source": [
    "# Drop all Unnecessary columns\n",
    "data.drop(columns=['Ticket','Name','PassengerId','Cabin','Age_category','SibSp','Parch','Family_size'],inplace=True)"
   ]
  },
  {
   "cell_type": "code",
   "execution_count": 68,
   "id": "26c4b863",
   "metadata": {},
   "outputs": [
    {
     "data": {
      "text/html": [
       "<div>\n",
       "<style scoped>\n",
       "    .dataframe tbody tr th:only-of-type {\n",
       "        vertical-align: middle;\n",
       "    }\n",
       "\n",
       "    .dataframe tbody tr th {\n",
       "        vertical-align: top;\n",
       "    }\n",
       "\n",
       "    .dataframe thead th {\n",
       "        text-align: right;\n",
       "    }\n",
       "</style>\n",
       "<table border=\"1\" class=\"dataframe\">\n",
       "  <thead>\n",
       "    <tr style=\"text-align: right;\">\n",
       "      <th></th>\n",
       "      <th>Survived</th>\n",
       "      <th>Pclass</th>\n",
       "      <th>Sex</th>\n",
       "      <th>Age</th>\n",
       "      <th>Fare</th>\n",
       "      <th>Embarked</th>\n",
       "      <th>Cabin_num</th>\n",
       "      <th>Cabin_cat</th>\n",
       "      <th>ticket_num</th>\n",
       "      <th>ticket_cat</th>\n",
       "      <th>Title</th>\n",
       "      <th>Family_type</th>\n",
       "    </tr>\n",
       "  </thead>\n",
       "  <tbody>\n",
       "    <tr>\n",
       "      <th>0</th>\n",
       "      <td>0</td>\n",
       "      <td>3</td>\n",
       "      <td>male</td>\n",
       "      <td>22.0</td>\n",
       "      <td>7.25</td>\n",
       "      <td>S</td>\n",
       "      <td>NaN</td>\n",
       "      <td>NaN</td>\n",
       "      <td>21171.0</td>\n",
       "      <td>A/5</td>\n",
       "      <td>Mr</td>\n",
       "      <td>1</td>\n",
       "    </tr>\n",
       "  </tbody>\n",
       "</table>\n",
       "</div>"
      ],
      "text/plain": [
       "   Survived  Pclass   Sex   Age  Fare Embarked  Cabin_num Cabin_cat  \\\n",
       "0         0       3  male  22.0  7.25        S        NaN       NaN   \n",
       "\n",
       "   ticket_num ticket_cat Title  Family_type  \n",
       "0     21171.0        A/5    Mr            1  "
      ]
     },
     "execution_count": 68,
     "metadata": {},
     "output_type": "execute_result"
    }
   ],
   "source": [
    "data.head(1)"
   ]
  },
  {
   "cell_type": "markdown",
   "id": "ef3d747f",
   "metadata": {},
   "source": [
    "# Check Multicollinearty "
   ]
  },
  {
   "cell_type": "code",
   "execution_count": 69,
   "id": "820822f9",
   "metadata": {},
   "outputs": [
    {
     "data": {
      "image/png": "[encoded data removed]",
      "text/plain": [
       "<Figure size 432x288 with 2 Axes>"
      ]
     },
     "metadata": {
      "needs_background": "light"
     },
     "output_type": "display_data"
    }
   ],
   "source": [
    "sns.heatmap(data.corr(),vmax=1,vmin=-1,annot=True)\n",
    "plt.show()"
   ]
  },
  {
   "cell_type": "code",
   "execution_count": 70,
   "id": "c74be777",
   "metadata": {},
   "outputs": [],
   "source": [
    "data.drop(columns=['Fare'],inplace=True)"
   ]
  },
  {
   "cell_type": "markdown",
   "id": "1a21f97a",
   "metadata": {},
   "source": [
    "# Capping outliers "
   ]
  },
  {
   "cell_type": "code",
   "execution_count": 71,
   "id": "39307379",
   "metadata": {},
   "outputs": [],
   "source": [
    "new_dt = data.columns[data.dtypes != object]"
   ]
  },
  {
   "cell_type": "code",
   "execution_count": 72,
   "id": "30e3a027",
   "metadata": {},
   "outputs": [
    {
     "data": {
      "image/png": "[encoded data removed]",
      "text/plain": [
       "<Figure size 432x288 with 1 Axes>"
      ]
     },
     "metadata": {
      "needs_background": "light"
     },
     "output_type": "display_data"
    },
    {
     "data": {
      "image/png": "[encoded data removed]",
      "text/plain": [
       "<Figure size 432x288 with 1 Axes>"
      ]
     },
     "metadata": {
      "needs_background": "light"
     },
     "output_type": "display_data"
    },
    {
     "data": {
      "image/png": "[encoded data removed]",
      "text/plain": [
       "<Figure size 432x288 with 1 Axes>"
      ]
     },
     "metadata": {
      "needs_background": "light"
     },
     "output_type": "display_data"
    },
    {
     "data": {
      "image/png": "[encoded data removed]",
      "text/plain": [
       "<Figure size 432x288 with 1 Axes>"
      ]
     },
     "metadata": {
      "needs_background": "light"
     },
     "output_type": "display_data"
    },
    {
     "data": {
      "image/png": "[encoded data removed]",
      "text/plain": [
       "<Figure size 432x288 with 1 Axes>"
      ]
     },
     "metadata": {
      "needs_background": "light"
     },
     "output_type": "display_data"
    }
   ],
   "source": [
    "for i in new_dt:\n",
    "    if i!='Survived':\n",
    "        figure()\n",
    "        sns.boxplot(data[i])"
   ]
  },
  {
   "cell_type": "code",
   "execution_count": 73,
   "id": "1aa9affa",
   "metadata": {},
   "outputs": [],
   "source": [
    "out_d = data[['Age','ticket_num']]"
   ]
  },
  {
   "cell_type": "code",
   "execution_count": 74,
   "id": "973faf93",
   "metadata": {},
   "outputs": [],
   "source": [
    "for i in out_d:\n",
    "    Q1 = np.percentile(data[i],25)\n",
    "    Q3 = np.percentile(data[i],75)\n",
    "    IQR = Q3 - Q1\n",
    "    upper_bound = Q3 + (1.5*IQR)\n",
    "    lower_bound = Q1 - (1.5*IQR)\n",
    "    data[i] = np.where(data[i]>upper_bound,upper_bound,data[i])\n",
    "    data[i] = np.where(data[i]<lower_bound,lower_bound,data[i])"
   ]
  },
  {
   "cell_type": "code",
   "execution_count": 75,
   "id": "f5a81d78",
   "metadata": {},
   "outputs": [
    {
     "data": {
      "text/plain": [
       "Survived         0\n",
       "Pclass           0\n",
       "Sex              0\n",
       "Age            177\n",
       "Embarked         2\n",
       "Cabin_num      691\n",
       "Cabin_cat      687\n",
       "ticket_num       4\n",
       "ticket_cat     661\n",
       "Title            0\n",
       "Family_type      0\n",
       "dtype: int64"
      ]
     },
     "execution_count": 75,
     "metadata": {},
     "output_type": "execute_result"
    }
   ],
   "source": [
    "# Check missing Values\n",
    "data.isnull().sum()"
   ]
  },
  {
   "cell_type": "code",
   "execution_count": 76,
   "id": "b581986c",
   "metadata": {},
   "outputs": [
    {
     "data": {
      "text/plain": [
       "Cabin_num      77.553311\n",
       "Cabin_cat      77.104377\n",
       "ticket_cat     74.186308\n",
       "Age            19.865320\n",
       "ticket_num      0.448934\n",
       "Embarked        0.224467\n",
       "Survived        0.000000\n",
       "Pclass          0.000000\n",
       "Sex             0.000000\n",
       "Title           0.000000\n",
       "Family_type     0.000000\n",
       "dtype: float64"
      ]
     },
     "execution_count": 76,
     "metadata": {},
     "output_type": "execute_result"
    }
   ],
   "source": [
    "# Pecentage of missing values\n",
    "(data.isnull().mean() * 100).sort_values(ascending=False)"
   ]
  },
  {
   "cell_type": "markdown",
   "id": "57c0c7a8",
   "metadata": {},
   "source": [
    "# Mssing values Impputation"
   ]
  },
  {
   "cell_type": "code",
   "execution_count": 77,
   "id": "09059cb1",
   "metadata": {},
   "outputs": [],
   "source": [
    "for i in data.columns:\n",
    "    if data[i].dtypes !='O':\n",
    "        median = data[i].median()\n",
    "        data[i].fillna(median,inplace=True)\n",
    "    else:\n",
    "        mode = data[i].mode()[0]\n",
    "        data[i].fillna(mode,inplace=True)\n",
    "    "
   ]
  },
  {
   "cell_type": "code",
   "execution_count": 78,
   "id": "e899d78c",
   "metadata": {},
   "outputs": [
    {
     "data": {
      "text/plain": [
       "Survived       0\n",
       "Pclass         0\n",
       "Sex            0\n",
       "Age            0\n",
       "Embarked       0\n",
       "Cabin_num      0\n",
       "Cabin_cat      0\n",
       "ticket_num     0\n",
       "ticket_cat     0\n",
       "Title          0\n",
       "Family_type    0\n",
       "dtype: int64"
      ]
     },
     "execution_count": 78,
     "metadata": {},
     "output_type": "execute_result"
    }
   ],
   "source": [
    "data.isnull().sum()"
   ]
  },
  {
   "cell_type": "code",
   "execution_count": 79,
   "id": "4deada08",
   "metadata": {},
   "outputs": [],
   "source": [
    "# Dummies Variable Creation\n",
    "data_1 = pd.get_dummies(data,drop_first=True)"
   ]
  },
  {
   "cell_type": "markdown",
   "id": "cf4ee1df",
   "metadata": {},
   "source": [
    "# Data seprate into two parts"
   ]
  },
  {
   "cell_type": "code",
   "execution_count": 80,
   "id": "15593ecf",
   "metadata": {},
   "outputs": [],
   "source": [
    "X = data_1.drop(columns=['Survived'],axis=1)\n",
    "y = data_1['Survived']"
   ]
  },
  {
   "cell_type": "code",
   "execution_count": 81,
   "id": "3301f067",
   "metadata": {},
   "outputs": [],
   "source": [
    "X_train,X_test,y_train,y_test = train_test_split(X,y,train_size=0.80,random_state=123)"
   ]
  },
  {
   "cell_type": "code",
   "execution_count": 82,
   "id": "90a84d8d",
   "metadata": {},
   "outputs": [
    {
     "data": {
      "text/plain": [
       "(712, 73)"
      ]
     },
     "execution_count": 82,
     "metadata": {},
     "output_type": "execute_result"
    }
   ],
   "source": [
    "X_train.shape"
   ]
  },
  {
   "cell_type": "markdown",
   "id": "ae3a89a9",
   "metadata": {},
   "source": [
    "# PCA Apply "
   ]
  },
  {
   "cell_type": "code",
   "execution_count": 83,
   "id": "87786192",
   "metadata": {},
   "outputs": [],
   "source": [
    "# Data Standarization \n",
    "Train_Scaling = StandardScaler().fit(X_train)  \n",
    "Train_Standardized = Train_Scaling.transform(X_train) \n",
    "Test_Standardized  = Train_Scaling.transform(X_test)\n",
    "\n",
    "# Add the column names to Train_X_Std, Test_X_Std\n",
    "Train_Standardized = pd.DataFrame(Train_Standardized, columns = X_train.columns)\n",
    "Test_Standardized = pd.DataFrame(Test_Standardized, columns = X_test.columns)"
   ]
  },
  {
   "cell_type": "code",
   "execution_count": 84,
   "id": "8c688682",
   "metadata": {},
   "outputs": [
    {
     "data": {
      "text/html": [
       "<div>\n",
       "<style scoped>\n",
       "    .dataframe tbody tr th:only-of-type {\n",
       "        vertical-align: middle;\n",
       "    }\n",
       "\n",
       "    .dataframe tbody tr th {\n",
       "        vertical-align: top;\n",
       "    }\n",
       "\n",
       "    .dataframe thead th {\n",
       "        text-align: right;\n",
       "    }\n",
       "</style>\n",
       "<table border=\"1\" class=\"dataframe\">\n",
       "  <thead>\n",
       "    <tr style=\"text-align: right;\">\n",
       "      <th></th>\n",
       "      <th>Pclass</th>\n",
       "      <th>Age</th>\n",
       "      <th>Cabin_num</th>\n",
       "      <th>ticket_num</th>\n",
       "      <th>Family_type</th>\n",
       "      <th>Sex_male</th>\n",
       "      <th>Embarked_Q</th>\n",
       "      <th>Embarked_S</th>\n",
       "      <th>Cabin_cat_B</th>\n",
       "      <th>Cabin_cat_C</th>\n",
       "      <th>...</th>\n",
       "      <th>Title_Master</th>\n",
       "      <th>Title_Miss</th>\n",
       "      <th>Title_Mlle</th>\n",
       "      <th>Title_Mme</th>\n",
       "      <th>Title_Mr</th>\n",
       "      <th>Title_Mrs</th>\n",
       "      <th>Title_Ms</th>\n",
       "      <th>Title_Rev</th>\n",
       "      <th>Title_Sir</th>\n",
       "      <th>Title_the Countess</th>\n",
       "    </tr>\n",
       "  </thead>\n",
       "  <tbody>\n",
       "    <tr>\n",
       "      <th>0</th>\n",
       "      <td>-1.599696</td>\n",
       "      <td>-1.054762</td>\n",
       "      <td>-1.559229</td>\n",
       "      <td>-0.288407</td>\n",
       "      <td>0.781384</td>\n",
       "      <td>-1.355232</td>\n",
       "      <td>-0.322298</td>\n",
       "      <td>-1.628276</td>\n",
       "      <td>4.536051</td>\n",
       "      <td>-2.326889</td>\n",
       "      <td>...</td>\n",
       "      <td>-0.209734</td>\n",
       "      <td>1.927494</td>\n",
       "      <td>-0.037503</td>\n",
       "      <td>-0.037503</td>\n",
       "      <td>-1.195840</td>\n",
       "      <td>-0.392391</td>\n",
       "      <td>-0.037503</td>\n",
       "      <td>-0.075165</td>\n",
       "      <td>0.0</td>\n",
       "      <td>-0.037503</td>\n",
       "    </tr>\n",
       "    <tr>\n",
       "      <th>1</th>\n",
       "      <td>0.815964</td>\n",
       "      <td>0.121385</td>\n",
       "      <td>-0.091681</td>\n",
       "      <td>0.053653</td>\n",
       "      <td>-0.734543</td>\n",
       "      <td>0.737881</td>\n",
       "      <td>3.102719</td>\n",
       "      <td>-1.628276</td>\n",
       "      <td>-0.220456</td>\n",
       "      <td>0.429758</td>\n",
       "      <td>...</td>\n",
       "      <td>-0.209734</td>\n",
       "      <td>-0.518808</td>\n",
       "      <td>-0.037503</td>\n",
       "      <td>-0.037503</td>\n",
       "      <td>0.836232</td>\n",
       "      <td>-0.392391</td>\n",
       "      <td>-0.037503</td>\n",
       "      <td>-0.075165</td>\n",
       "      <td>0.0</td>\n",
       "      <td>-0.037503</td>\n",
       "    </tr>\n",
       "  </tbody>\n",
       "</table>\n",
       "<p>2 rows × 73 columns</p>\n",
       "</div>"
      ],
      "text/plain": [
       "     Pclass       Age  Cabin_num  ticket_num  Family_type  Sex_male  \\\n",
       "0 -1.599696 -1.054762  -1.559229   -0.288407     0.781384 -1.355232   \n",
       "1  0.815964  0.121385  -0.091681    0.053653    -0.734543  0.737881   \n",
       "\n",
       "   Embarked_Q  Embarked_S  Cabin_cat_B  Cabin_cat_C  ...  Title_Master  \\\n",
       "0   -0.322298   -1.628276     4.536051    -2.326889  ...     -0.209734   \n",
       "1    3.102719   -1.628276    -0.220456     0.429758  ...     -0.209734   \n",
       "\n",
       "   Title_Miss  Title_Mlle  Title_Mme  Title_Mr  Title_Mrs  Title_Ms  \\\n",
       "0    1.927494   -0.037503  -0.037503 -1.195840  -0.392391 -0.037503   \n",
       "1   -0.518808   -0.037503  -0.037503  0.836232  -0.392391 -0.037503   \n",
       "\n",
       "   Title_Rev  Title_Sir  Title_the Countess  \n",
       "0  -0.075165        0.0           -0.037503  \n",
       "1  -0.075165        0.0           -0.037503  \n",
       "\n",
       "[2 rows x 73 columns]"
      ]
     },
     "execution_count": 84,
     "metadata": {},
     "output_type": "execute_result"
    }
   ],
   "source": [
    "Train_Standardized.head(2)"
   ]
  },
  {
   "cell_type": "code",
   "execution_count": 85,
   "id": "2ff13e65",
   "metadata": {},
   "outputs": [
    {
     "data": {
      "text/html": [
       "<style>#sk-container-id-1 {color: black;background-color: white;}#sk-container-id-1 pre{padding: 0;}#sk-container-id-1 div.sk-toggleable {background-color: white;}#sk-container-id-1 label.sk-toggleable__label {cursor: pointer;display: block;width: 100%;margin-bottom: 0;padding: 0.3em;box-sizing: border-box;text-align: center;}#sk-container-id-1 label.sk-toggleable__label-arrow:before {content: \"▸\";float: left;margin-right: 0.25em;color: #696969;}#sk-container-id-1 label.sk-toggleable__label-arrow:hover:before {color: black;}#sk-container-id-1 div.sk-estimator:hover label.sk-toggleable__label-arrow:before {color: black;}#sk-container-id-1 div.sk-toggleable__content {max-height: 0;max-width: 0;overflow: hidden;text-align: left;background-color: #f0f8ff;}#sk-container-id-1 div.sk-toggleable__content pre {margin: 0.2em;color: black;border-radius: 0.25em;background-color: #f0f8ff;}#sk-container-id-1 input.sk-toggleable__control:checked~div.sk-toggleable__content {max-height: 200px;max-width: 100%;overflow: auto;}#sk-container-id-1 input.sk-toggleable__control:checked~label.sk-toggleable__label-arrow:before {content: \"▾\";}#sk-container-id-1 div.sk-estimator input.sk-toggleable__control:checked~label.sk-toggleable__label {background-color: #d4ebff;}#sk-container-id-1 div.sk-label input.sk-toggleable__control:checked~label.sk-toggleable__label {background-color: #d4ebff;}#sk-container-id-1 input.sk-hidden--visually {border: 0;clip: rect(1px 1px 1px 1px);clip: rect(1px, 1px, 1px, 1px);height: 1px;margin: -1px;overflow: hidden;padding: 0;position: absolute;width: 1px;}#sk-container-id-1 div.sk-estimator {font-family: monospace;background-color: #f0f8ff;border: 1px dotted black;border-radius: 0.25em;box-sizing: border-box;margin-bottom: 0.5em;}#sk-container-id-1 div.sk-estimator:hover {background-color: #d4ebff;}#sk-container-id-1 div.sk-parallel-item::after {content: \"\";width: 100%;border-bottom: 1px solid gray;flex-grow: 1;}#sk-container-id-1 div.sk-label:hover label.sk-toggleable__label {background-color: #d4ebff;}#sk-container-id-1 div.sk-serial::before {content: \"\";position: absolute;border-left: 1px solid gray;box-sizing: border-box;top: 0;bottom: 0;left: 50%;z-index: 0;}#sk-container-id-1 div.sk-serial {display: flex;flex-direction: column;align-items: center;background-color: white;padding-right: 0.2em;padding-left: 0.2em;position: relative;}#sk-container-id-1 div.sk-item {position: relative;z-index: 1;}#sk-container-id-1 div.sk-parallel {display: flex;align-items: stretch;justify-content: center;background-color: white;position: relative;}#sk-container-id-1 div.sk-item::before, #sk-container-id-1 div.sk-parallel-item::before {content: \"\";position: absolute;border-left: 1px solid gray;box-sizing: border-box;top: 0;bottom: 0;left: 50%;z-index: -1;}#sk-container-id-1 div.sk-parallel-item {display: flex;flex-direction: column;z-index: 1;position: relative;background-color: white;}#sk-container-id-1 div.sk-parallel-item:first-child::after {align-self: flex-end;width: 50%;}#sk-container-id-1 div.sk-parallel-item:last-child::after {align-self: flex-start;width: 50%;}#sk-container-id-1 div.sk-parallel-item:only-child::after {width: 0;}#sk-container-id-1 div.sk-dashed-wrapped {border: 1px dashed gray;margin: 0 0.4em 0.5em 0.4em;box-sizing: border-box;padding-bottom: 0.4em;background-color: white;}#sk-container-id-1 div.sk-label label {font-family: monospace;font-weight: bold;display: inline-block;line-height: 1.2em;}#sk-container-id-1 div.sk-label-container {text-align: center;}#sk-container-id-1 div.sk-container {/* jupyter's `normalize.less` sets `[hidden] { display: none; }` but bootstrap.min.css set `[hidden] { display: none !important; }` so we also need the `!important` here to be able to override the default hidden behavior on the sphinx rendered scikit-learn.org. See: https://github.com/scikit-learn/scikit-learn/issues/21755 */display: inline-block !important;position: relative;}#sk-container-id-1 div.sk-text-repr-fallback {display: none;}</style><div id=\"sk-container-id-1\" class=\"sk-top-container\"><div class=\"sk-text-repr-fallback\"><pre>PCA(n_components=0.16)</pre><b>In a Jupyter environment, please rerun this cell to show the HTML representation or trust the notebook. <br />On GitHub, the HTML representation is unable to render, please try loading this page with nbviewer.org.</b></div><div class=\"sk-container\" hidden><div class=\"sk-item\"><div class=\"sk-estimator sk-toggleable\"><input class=\"sk-toggleable__control sk-hidden--visually\" id=\"sk-estimator-id-1\" type=\"checkbox\" checked><label for=\"sk-estimator-id-1\" class=\"sk-toggleable__label sk-toggleable__label-arrow\">PCA</label><div class=\"sk-toggleable__content\"><pre>PCA(n_components=0.16)</pre></div></div></div></div></div>"
      ],
      "text/plain": [
       "PCA(n_components=0.16)"
      ]
     },
     "execution_count": 85,
     "metadata": {},
     "output_type": "execute_result"
    }
   ],
   "source": [
    "# PCA Model Build \n",
    "PCA_Model = PCA(n_components=0.16).fit(Train_Standardized)\n",
    "PCA_Model"
   ]
  },
  {
   "cell_type": "code",
   "execution_count": 86,
   "id": "dbaad033",
   "metadata": {},
   "outputs": [
    {
     "data": {
      "text/plain": [
       "5"
      ]
     },
     "execution_count": 86,
     "metadata": {},
     "output_type": "execute_result"
    }
   ],
   "source": [
    "# Coefficient understanding\n",
    "len(PCA_Model.components_) # Total PCs found to explain 90% of data"
   ]
  },
  {
   "cell_type": "code",
   "execution_count": 87,
   "id": "76c2b43d",
   "metadata": {},
   "outputs": [
    {
     "data": {
      "text/plain": [
       "array([[-2.43458049e-01, -2.80950494e-02, -1.28508231e-02,\n",
       "        -1.65427438e-01,  2.27378140e-01, -4.54285791e-01,\n",
       "         5.08956203e-02, -1.49319197e-01,  1.89015313e-01,\n",
       "        -2.70918308e-01,  1.40589936e-01,  8.76982544e-02,\n",
       "         6.55229389e-02,  7.77875102e-02, -2.69375470e-03,\n",
       "        -4.43555995e-02, -5.04358828e-02, -5.31940975e-02,\n",
       "        -7.97935148e-02, -4.80231768e-02, -3.07400348e-02,\n",
       "        -3.09544088e-02, -4.98470818e-02, -2.74673015e-02,\n",
       "        -2.60480738e-02,  1.24427465e-02,  8.36774346e-03,\n",
       "         0.00000000e+00,  2.60699560e-02, -3.18285591e-02,\n",
       "        -6.29444248e-02,  9.24899164e-03,  1.78523397e-01,\n",
       "         3.80190889e-02, -3.08260888e-02, -1.48817677e-02,\n",
       "        -1.21421744e-02, -5.03632554e-02, -1.42439923e-02,\n",
       "        -3.04176341e-02, -2.71380231e-02,  2.31726427e-02,\n",
       "         2.79067941e-02, -1.35630233e-02,  3.19140958e-02,\n",
       "         0.00000000e+00,  1.76279279e-02, -5.96680372e-02,\n",
       "        -6.18539170e-02, -7.25198838e-02, -1.51684010e-01,\n",
       "        -1.27413791e-02, -2.55848209e-02,  4.16292801e-03,\n",
       "         3.95274831e-03, -2.60379566e-02,  5.67458286e-02,\n",
       "         1.81990506e-02,  6.30298207e-03,  1.12133573e-02,\n",
       "         0.00000000e+00,  3.98607391e-02, -7.74102484e-04,\n",
       "         2.54625938e-02,  3.10020330e-01,  2.18912657e-02,\n",
       "         4.95586687e-02, -4.55367109e-01,  2.47380730e-01,\n",
       "         1.11332282e-02, -1.21896899e-02,  0.00000000e+00,\n",
       "         4.28395174e-02],\n",
       "       [-4.02032617e-01,  3.70672046e-01,  7.35370137e-02,\n",
       "        -2.00385242e-01, -2.05121311e-01,  2.18179077e-01,\n",
       "        -1.23978548e-01, -2.77688956e-02,  2.18672280e-01,\n",
       "        -3.55988494e-01,  1.80648837e-01,  2.08448372e-01,\n",
       "        -2.12021724e-02, -7.76755133e-02,  6.28575517e-02,\n",
       "         9.82165203e-03, -9.61777320e-03, -1.26327549e-02,\n",
       "        -1.27499511e-02, -2.69444613e-02, -2.83644923e-03,\n",
       "        -3.20052427e-03, -2.06779568e-02, -6.76504342e-02,\n",
       "         8.10656560e-03, -1.10778745e-01, -1.08495391e-01,\n",
       "        -0.00000000e+00, -3.92011964e-02, -4.68510865e-03,\n",
       "        -1.54266263e-03, -1.30117141e-02,  1.80133053e-01,\n",
       "        -6.76447465e-02, -2.98259620e-03,  4.61946553e-03,\n",
       "         2.99954518e-02,  1.67758436e-03,  2.05330826e-02,\n",
       "        -8.85443290e-03,  3.10585704e-02, -3.38249833e-02,\n",
       "         1.09059117e-02, -7.44849968e-03, -1.89248981e-02,\n",
       "        -0.00000000e+00, -3.53490164e-02, -2.81317689e-02,\n",
       "        -3.25612416e-02, -1.64607369e-02, -8.70641059e-02,\n",
       "        -1.28289678e-01,  2.32779361e-03, -6.58646859e-02,\n",
       "         7.12641688e-02,  9.58275287e-03,  6.96900647e-02,\n",
       "         5.84796100e-02,  2.68853956e-02,  3.04571049e-02,\n",
       "        -0.00000000e+00,  3.45054305e-02,  3.88478623e-02,\n",
       "        -1.77102149e-01, -2.41155505e-01,  1.03614556e-02,\n",
       "         5.13743893e-02,  2.60738890e-01, -3.31557619e-02,\n",
       "        -5.72451555e-03,  2.92858673e-02, -0.00000000e+00,\n",
       "         5.94715855e-02],\n",
       "       [-9.87542249e-02,  1.61062764e-02, -1.54234595e-01,\n",
       "         1.08752530e-01,  1.87672475e-01, -6.95527706e-04,\n",
       "        -4.12021102e-01,  3.90025184e-01,  7.95534483e-02,\n",
       "        -2.58410507e-01,  1.05664360e-01,  1.29160454e-01,\n",
       "         1.18388069e-01,  2.10049609e-01,  1.65850797e-02,\n",
       "         2.79667725e-02,  3.91932811e-02,  3.28980025e-02,\n",
       "         5.46634334e-02,  3.34731036e-02,  1.90282936e-02,\n",
       "         1.93231814e-02,  3.96940617e-02,  2.02735654e-01,\n",
       "         2.32989155e-02,  8.16042305e-02,  9.89717315e-02,\n",
       "         6.46234854e-27,  6.30648562e-02,  2.05256420e-02,\n",
       "         3.99126224e-02,  1.52202925e-02, -4.29874276e-01,\n",
       "         2.01726596e-01,  1.91466675e-02,  3.00043058e-03,\n",
       "         6.90408347e-02,  6.50028329e-02,  8.72698665e-03,\n",
       "         1.86420309e-02,  2.45820439e-02, -1.49265675e-02,\n",
       "         7.81622682e-02, -7.95399147e-03,  4.11097807e-02,\n",
       "         0.00000000e+00,  1.51552584e-02,  9.20907059e-02,\n",
       "         5.21636536e-02,  4.76424664e-02,  1.33020467e-01,\n",
       "         9.25669943e-02,  2.27188999e-02,  8.17571808e-02,\n",
       "         8.95630732e-02,  2.32722819e-02,  1.12063659e-01,\n",
       "        -6.55356249e-03, -3.69425848e-02, -6.56019400e-02,\n",
       "         0.00000000e+00,  6.00864598e-03, -2.48155727e-02,\n",
       "         9.32241232e-02, -1.10712276e-01, -5.21862448e-02,\n",
       "         2.32099708e-03, -2.41628013e-02,  1.37810182e-01,\n",
       "        -1.02839382e-02, -3.71768292e-02,  0.00000000e+00,\n",
       "         2.01999936e-02],\n",
       "       [-1.17974199e-02,  2.43914355e-01,  1.00344802e-01,\n",
       "         4.60571245e-01, -2.13469503e-01, -2.37977251e-01,\n",
       "        -7.72371695e-04,  5.17858212e-02,  5.79550400e-02,\n",
       "         2.78774601e-02, -5.21117422e-03,  4.57657511e-02,\n",
       "        -1.99661273e-01, -3.97432177e-02, -1.65143687e-03,\n",
       "         2.95369342e-03, -2.74919458e-02, -2.95804426e-02,\n",
       "        -4.09723050e-02, -2.81271826e-02, -1.20760449e-02,\n",
       "        -1.03023258e-02, -6.99788017e-04, -1.64468766e-01,\n",
       "        -1.03093864e-02, -1.88891218e-01, -7.65937802e-02,\n",
       "         8.47032947e-22,  6.18989092e-02, -3.06965290e-03,\n",
       "        -8.78583692e-03, -1.10588368e-02, -5.70656330e-02,\n",
       "        -4.64485908e-02, -1.13640388e-02, -3.00384542e-02,\n",
       "         2.71337833e-02, -5.62547320e-02,  5.12646584e-02,\n",
       "        -2.04412987e-02,  2.02335440e-02,  2.40009070e-02,\n",
       "         2.17013217e-02, -2.67643662e-02, -4.67315103e-02,\n",
       "        -3.58705558e-34,  3.01102715e-02,  1.60322499e-01,\n",
       "         1.36914779e-01, -2.58104527e-03,  3.33957786e-01,\n",
       "         2.78612401e-01, -1.98400437e-02,  6.37623392e-03,\n",
       "        -4.88078987e-03, -9.12693443e-03,  4.20178209e-02,\n",
       "         1.34739018e-03, -4.78892225e-03, -1.66377911e-02,\n",
       "        -6.67806299e-45, -5.24954547e-04,  3.28621830e-02,\n",
       "        -4.23306473e-01,  1.70469231e-01,  1.80585820e-02,\n",
       "         1.19596378e-02, -6.80307657e-02,  1.19374743e-01,\n",
       "         2.05669513e-02,  5.29670594e-02,  0.00000000e+00,\n",
       "         4.12408905e-02],\n",
       "       [ 1.20853997e-01, -1.36896353e-01, -3.74557348e-01,\n",
       "         1.13293488e-01, -1.90960039e-01,  7.61779731e-02,\n",
       "         1.94336797e-01, -1.57656867e-01,  3.98180170e-02,\n",
       "        -2.46594954e-01,  1.21432160e-01,  4.22214724e-03,\n",
       "         1.02007513e-01,  4.48973474e-01,  2.32561569e-02,\n",
       "        -1.71384435e-02, -1.46406128e-02,  7.02522018e-04,\n",
       "        -1.34442471e-02, -3.38730149e-02, -3.57220044e-03,\n",
       "        -3.08432677e-03, -1.17510396e-02, -1.53414269e-01,\n",
       "        -1.12308308e-02, -7.20429432e-02, -1.03789218e-01,\n",
       "         1.69406589e-21, -9.22222048e-02, -1.09493023e-03,\n",
       "        -1.01333999e-02, -5.70318718e-02,  1.08396841e-01,\n",
       "         4.22405321e-01, -3.37635824e-03, -9.79732339e-03,\n",
       "        -5.93952218e-02, -4.08526050e-02, -1.04564358e-01,\n",
       "         1.69773279e-03, -3.14307911e-02,  9.86030984e-03,\n",
       "        -6.45865903e-02, -1.00750489e-03, -2.20310496e-02,\n",
       "        -3.89804247e-34, -9.27880438e-03,  6.25990656e-02,\n",
       "         3.43298286e-02,  3.66793990e-03,  8.52796520e-02,\n",
       "         4.87308386e-03, -6.28144983e-03, -9.87121512e-02,\n",
       "         6.88944264e-03, -1.25880012e-02,  2.00453758e-02,\n",
       "         4.27324275e-02, -5.27389307e-03, -3.88456371e-02,\n",
       "        -7.44439809e-45,  3.49168436e-02, -1.03727294e-01,\n",
       "        -4.20352131e-02,  1.28724720e-01, -6.09123495e-02,\n",
       "         5.23378780e-02,  1.15338765e-01, -2.60510297e-01,\n",
       "        -1.62442919e-02, -9.16326524e-02,  0.00000000e+00,\n",
       "        -2.16315307e-02]])"
      ]
     },
     "execution_count": 87,
     "metadata": {},
     "output_type": "execute_result"
    }
   ],
   "source": [
    "PCA_Model.components_ # Coefficients of linear equation (Eigenvectors)"
   ]
  },
  {
   "cell_type": "code",
   "execution_count": 88,
   "id": "fd8b7f28",
   "metadata": {},
   "outputs": [
    {
     "data": {
      "text/html": [
       "<div>\n",
       "<style scoped>\n",
       "    .dataframe tbody tr th:only-of-type {\n",
       "        vertical-align: middle;\n",
       "    }\n",
       "\n",
       "    .dataframe tbody tr th {\n",
       "        vertical-align: top;\n",
       "    }\n",
       "\n",
       "    .dataframe thead th {\n",
       "        text-align: right;\n",
       "    }\n",
       "</style>\n",
       "<table border=\"1\" class=\"dataframe\">\n",
       "  <thead>\n",
       "    <tr style=\"text-align: right;\">\n",
       "      <th></th>\n",
       "      <th>0</th>\n",
       "      <th>1</th>\n",
       "      <th>2</th>\n",
       "      <th>3</th>\n",
       "      <th>4</th>\n",
       "    </tr>\n",
       "  </thead>\n",
       "  <tbody>\n",
       "    <tr>\n",
       "      <th>0</th>\n",
       "      <td>-0.243458</td>\n",
       "      <td>-0.402033</td>\n",
       "      <td>-0.098754</td>\n",
       "      <td>-0.011797</td>\n",
       "      <td>0.120854</td>\n",
       "    </tr>\n",
       "    <tr>\n",
       "      <th>1</th>\n",
       "      <td>-0.028095</td>\n",
       "      <td>0.370672</td>\n",
       "      <td>0.016106</td>\n",
       "      <td>0.243914</td>\n",
       "      <td>-0.136896</td>\n",
       "    </tr>\n",
       "  </tbody>\n",
       "</table>\n",
       "</div>"
      ],
      "text/plain": [
       "          0         1         2         3         4\n",
       "0 -0.243458 -0.402033 -0.098754 -0.011797  0.120854\n",
       "1 -0.028095  0.370672  0.016106  0.243914 -0.136896"
      ]
     },
     "execution_count": 88,
     "metadata": {},
     "output_type": "execute_result"
    }
   ],
   "source": [
    "# Eigenvector convert into DataFrame \n",
    "PCs_Df = pd.DataFrame(PCA_Model.components_).T\n",
    "PCs_Df.head(2)"
   ]
  },
  {
   "cell_type": "markdown",
   "id": "6bf60b28",
   "metadata": {},
   "source": [
    "# Check which original variable has a high impact on PC1\n",
    "\n",
    "The larger the absolute value/ magnitude of the coefficient, the more variation the corresponding variable has in the original dataset."
   ]
  },
  {
   "cell_type": "code",
   "execution_count": 89,
   "id": "ec7ec85e",
   "metadata": {},
   "outputs": [
    {
     "data": {
      "text/html": [
       "<div>\n",
       "<style scoped>\n",
       "    .dataframe tbody tr th:only-of-type {\n",
       "        vertical-align: middle;\n",
       "    }\n",
       "\n",
       "    .dataframe tbody tr th {\n",
       "        vertical-align: top;\n",
       "    }\n",
       "\n",
       "    .dataframe thead th {\n",
       "        text-align: right;\n",
       "    }\n",
       "</style>\n",
       "<table border=\"1\" class=\"dataframe\">\n",
       "  <thead>\n",
       "    <tr style=\"text-align: right;\">\n",
       "      <th></th>\n",
       "      <th>0</th>\n",
       "      <th>1</th>\n",
       "      <th>2</th>\n",
       "      <th>3</th>\n",
       "      <th>4</th>\n",
       "    </tr>\n",
       "  </thead>\n",
       "  <tbody>\n",
       "    <tr>\n",
       "      <th>Pclass</th>\n",
       "      <td>-0.243458</td>\n",
       "      <td>-0.402033</td>\n",
       "      <td>-0.098754</td>\n",
       "      <td>-0.011797</td>\n",
       "      <td>0.120854</td>\n",
       "    </tr>\n",
       "    <tr>\n",
       "      <th>Age</th>\n",
       "      <td>-0.028095</td>\n",
       "      <td>0.370672</td>\n",
       "      <td>0.016106</td>\n",
       "      <td>0.243914</td>\n",
       "      <td>-0.136896</td>\n",
       "    </tr>\n",
       "    <tr>\n",
       "      <th>Cabin_num</th>\n",
       "      <td>-0.012851</td>\n",
       "      <td>0.073537</td>\n",
       "      <td>-0.154235</td>\n",
       "      <td>0.100345</td>\n",
       "      <td>-0.374557</td>\n",
       "    </tr>\n",
       "    <tr>\n",
       "      <th>ticket_num</th>\n",
       "      <td>-0.165427</td>\n",
       "      <td>-0.200385</td>\n",
       "      <td>0.108753</td>\n",
       "      <td>0.460571</td>\n",
       "      <td>0.113293</td>\n",
       "    </tr>\n",
       "    <tr>\n",
       "      <th>Family_type</th>\n",
       "      <td>0.227378</td>\n",
       "      <td>-0.205121</td>\n",
       "      <td>0.187672</td>\n",
       "      <td>-0.213470</td>\n",
       "      <td>-0.190960</td>\n",
       "    </tr>\n",
       "    <tr>\n",
       "      <th>...</th>\n",
       "      <td>...</td>\n",
       "      <td>...</td>\n",
       "      <td>...</td>\n",
       "      <td>...</td>\n",
       "      <td>...</td>\n",
       "    </tr>\n",
       "    <tr>\n",
       "      <th>Title_Mrs</th>\n",
       "      <td>0.247381</td>\n",
       "      <td>-0.033156</td>\n",
       "      <td>0.137810</td>\n",
       "      <td>0.119375</td>\n",
       "      <td>-0.260510</td>\n",
       "    </tr>\n",
       "    <tr>\n",
       "      <th>Title_Ms</th>\n",
       "      <td>0.011133</td>\n",
       "      <td>-0.005725</td>\n",
       "      <td>-0.010284</td>\n",
       "      <td>0.020567</td>\n",
       "      <td>-0.016244</td>\n",
       "    </tr>\n",
       "    <tr>\n",
       "      <th>Title_Rev</th>\n",
       "      <td>-0.012190</td>\n",
       "      <td>0.029286</td>\n",
       "      <td>-0.037177</td>\n",
       "      <td>0.052967</td>\n",
       "      <td>-0.091633</td>\n",
       "    </tr>\n",
       "    <tr>\n",
       "      <th>Title_Sir</th>\n",
       "      <td>0.000000</td>\n",
       "      <td>-0.000000</td>\n",
       "      <td>0.000000</td>\n",
       "      <td>0.000000</td>\n",
       "      <td>0.000000</td>\n",
       "    </tr>\n",
       "    <tr>\n",
       "      <th>Title_the Countess</th>\n",
       "      <td>0.042840</td>\n",
       "      <td>0.059472</td>\n",
       "      <td>0.020200</td>\n",
       "      <td>0.041241</td>\n",
       "      <td>-0.021632</td>\n",
       "    </tr>\n",
       "  </tbody>\n",
       "</table>\n",
       "<p>73 rows × 5 columns</p>\n",
       "</div>"
      ],
      "text/plain": [
       "                           0         1         2         3         4\n",
       "Pclass             -0.243458 -0.402033 -0.098754 -0.011797  0.120854\n",
       "Age                -0.028095  0.370672  0.016106  0.243914 -0.136896\n",
       "Cabin_num          -0.012851  0.073537 -0.154235  0.100345 -0.374557\n",
       "ticket_num         -0.165427 -0.200385  0.108753  0.460571  0.113293\n",
       "Family_type         0.227378 -0.205121  0.187672 -0.213470 -0.190960\n",
       "...                      ...       ...       ...       ...       ...\n",
       "Title_Mrs           0.247381 -0.033156  0.137810  0.119375 -0.260510\n",
       "Title_Ms            0.011133 -0.005725 -0.010284  0.020567 -0.016244\n",
       "Title_Rev          -0.012190  0.029286 -0.037177  0.052967 -0.091633\n",
       "Title_Sir           0.000000 -0.000000  0.000000  0.000000  0.000000\n",
       "Title_the Countess  0.042840  0.059472  0.020200  0.041241 -0.021632\n",
       "\n",
       "[73 rows x 5 columns]"
      ]
     },
     "execution_count": 89,
     "metadata": {},
     "output_type": "execute_result"
    }
   ],
   "source": [
    "# Easier to sort the magnitudes of EIGENVECTORS (COEFFICIENTS) associated with each ORIGINAL VARIABLE\n",
    "PCs_Df.index = X_train.columns\n",
    "PCs_Df"
   ]
  },
  {
   "cell_type": "code",
   "execution_count": 90,
   "id": "ba6080ae",
   "metadata": {},
   "outputs": [
    {
     "data": {
      "text/plain": [
       "Title_Mr            0.455367\n",
       "Sex_male            0.454286\n",
       "Title_Miss          0.310020\n",
       "Cabin_cat_C         0.270918\n",
       "Title_Mrs           0.247381\n",
       "                      ...   \n",
       "Title_Major         0.000774\n",
       "Title_Jonkheer      0.000000\n",
       "ticket_cat_F.C.     0.000000\n",
       "ticket_cat_SCO/W    0.000000\n",
       "Title_Sir           0.000000\n",
       "Name: 0, Length: 73, dtype: float64"
      ]
     },
     "execution_count": 90,
     "metadata": {},
     "output_type": "execute_result"
    }
   ],
   "source": [
    "PCs_Df[0].abs().sort_values(ascending = False)"
   ]
  },
  {
   "cell_type": "code",
   "execution_count": 91,
   "id": "a148f742",
   "metadata": {},
   "outputs": [
    {
     "data": {
      "text/html": [
       "<div>\n",
       "<style scoped>\n",
       "    .dataframe tbody tr th:only-of-type {\n",
       "        vertical-align: middle;\n",
       "    }\n",
       "\n",
       "    .dataframe tbody tr th {\n",
       "        vertical-align: top;\n",
       "    }\n",
       "\n",
       "    .dataframe thead th {\n",
       "        text-align: right;\n",
       "    }\n",
       "</style>\n",
       "<table border=\"1\" class=\"dataframe\">\n",
       "  <thead>\n",
       "    <tr style=\"text-align: right;\">\n",
       "      <th></th>\n",
       "      <th>0</th>\n",
       "      <th>1</th>\n",
       "      <th>2</th>\n",
       "      <th>3</th>\n",
       "      <th>4</th>\n",
       "    </tr>\n",
       "  </thead>\n",
       "  <tbody>\n",
       "    <tr>\n",
       "      <th>Title_Mr</th>\n",
       "      <td>-0.455367</td>\n",
       "      <td>0.260739</td>\n",
       "      <td>-0.024163</td>\n",
       "      <td>-0.068031</td>\n",
       "      <td>0.115339</td>\n",
       "    </tr>\n",
       "    <tr>\n",
       "      <th>Sex_male</th>\n",
       "      <td>-0.454286</td>\n",
       "      <td>0.218179</td>\n",
       "      <td>-0.000696</td>\n",
       "      <td>-0.237977</td>\n",
       "      <td>0.076178</td>\n",
       "    </tr>\n",
       "    <tr>\n",
       "      <th>Title_Miss</th>\n",
       "      <td>0.310020</td>\n",
       "      <td>-0.241156</td>\n",
       "      <td>-0.110712</td>\n",
       "      <td>0.170469</td>\n",
       "      <td>0.128725</td>\n",
       "    </tr>\n",
       "  </tbody>\n",
       "</table>\n",
       "</div>"
      ],
      "text/plain": [
       "                   0         1         2         3         4\n",
       "Title_Mr   -0.455367  0.260739 -0.024163 -0.068031  0.115339\n",
       "Sex_male   -0.454286  0.218179 -0.000696 -0.237977  0.076178\n",
       "Title_Miss  0.310020 -0.241156 -0.110712  0.170469  0.128725"
      ]
     },
     "execution_count": 91,
     "metadata": {},
     "output_type": "execute_result"
    }
   ],
   "source": [
    "# Sort based on first PC absolute values\n",
    "PCs_Df.reindex(PCs_Df[0].abs().sort_values(ascending = False).index).head(3)"
   ]
  },
  {
   "cell_type": "code",
   "execution_count": 92,
   "id": "bbc91438",
   "metadata": {},
   "outputs": [
    {
     "name": "stdout",
     "output_type": "stream",
     "text": [
      "[0.0476612  0.03815586 0.03035496 0.02566724 0.02448831]\n",
      "0.16632757632871453\n"
     ]
    }
   ],
   "source": [
    "# Varition explained (Eigenvalues)\n",
    "print(PCA_Model.explained_variance_ratio_) # % Variation explained by individual PCs (Eigenvalues)\n",
    "# print(len(PCA_Model.explained_variance_ratio_)) # How many PCs are needed to capture 60% variation\n",
    "print(sum(PCA_Model.explained_variance_ratio_)) #"
   ]
  },
  {
   "cell_type": "code",
   "execution_count": 93,
   "id": "0982a24b",
   "metadata": {},
   "outputs": [
    {
     "name": "stdout",
     "output_type": "stream",
     "text": [
      "(712, 73)\n",
      "(179, 73)\n"
     ]
    }
   ],
   "source": [
    "# Original Data\n",
    "print(Train_Standardized.shape)\n",
    "print(Test_Standardized.shape)"
   ]
  },
  {
   "cell_type": "code",
   "execution_count": 94,
   "id": "397486a0",
   "metadata": {},
   "outputs": [],
   "source": [
    "Train_Transformed = pd.DataFrame(PCA_Model.transform(Train_Standardized))\n",
    "Test_Transformed = pd.DataFrame(PCA_Model.transform(Test_Standardized))"
   ]
  },
  {
   "cell_type": "code",
   "execution_count": 95,
   "id": "6d6af2e6",
   "metadata": {},
   "outputs": [
    {
     "data": {
      "text/html": [
       "<div>\n",
       "<style scoped>\n",
       "    .dataframe tbody tr th:only-of-type {\n",
       "        vertical-align: middle;\n",
       "    }\n",
       "\n",
       "    .dataframe tbody tr th {\n",
       "        vertical-align: top;\n",
       "    }\n",
       "\n",
       "    .dataframe thead th {\n",
       "        text-align: right;\n",
       "    }\n",
       "</style>\n",
       "<table border=\"1\" class=\"dataframe\">\n",
       "  <thead>\n",
       "    <tr style=\"text-align: right;\">\n",
       "      <th></th>\n",
       "      <th>0</th>\n",
       "      <th>1</th>\n",
       "      <th>2</th>\n",
       "      <th>3</th>\n",
       "      <th>4</th>\n",
       "    </tr>\n",
       "  </thead>\n",
       "  <tbody>\n",
       "    <tr>\n",
       "      <th>0</th>\n",
       "      <td>4.132263</td>\n",
       "      <td>0.999196</td>\n",
       "      <td>0.240734</td>\n",
       "      <td>0.151819</td>\n",
       "      <td>1.461886</td>\n",
       "    </tr>\n",
       "    <tr>\n",
       "      <th>1</th>\n",
       "      <td>-1.015201</td>\n",
       "      <td>-0.055316</td>\n",
       "      <td>-2.734167</td>\n",
       "      <td>-0.216229</td>\n",
       "      <td>1.246734</td>\n",
       "    </tr>\n",
       "  </tbody>\n",
       "</table>\n",
       "</div>"
      ],
      "text/plain": [
       "          0         1         2         3         4\n",
       "0  4.132263  0.999196  0.240734  0.151819  1.461886\n",
       "1 -1.015201 -0.055316 -2.734167 -0.216229  1.246734"
      ]
     },
     "execution_count": 95,
     "metadata": {},
     "output_type": "execute_result"
    }
   ],
   "source": [
    "Train_Transformed.head(2)"
   ]
  },
  {
   "cell_type": "code",
   "execution_count": 96,
   "id": "837bee4b",
   "metadata": {},
   "outputs": [
    {
     "name": "stdout",
     "output_type": "stream",
     "text": [
      "(712, 5)\n",
      "(179, 5)\n"
     ]
    }
   ],
   "source": [
    "# Transformed Data\n",
    "print(Train_Transformed.shape)\n",
    "print(Test_Transformed.shape)"
   ]
  },
  {
   "cell_type": "code",
   "execution_count": 97,
   "id": "9f3b4134",
   "metadata": {},
   "outputs": [
    {
     "data": {
      "text/html": [
       "<div>\n",
       "<style scoped>\n",
       "    .dataframe tbody tr th:only-of-type {\n",
       "        vertical-align: middle;\n",
       "    }\n",
       "\n",
       "    .dataframe tbody tr th {\n",
       "        vertical-align: top;\n",
       "    }\n",
       "\n",
       "    .dataframe thead th {\n",
       "        text-align: right;\n",
       "    }\n",
       "</style>\n",
       "<table border=\"1\" class=\"dataframe\">\n",
       "  <thead>\n",
       "    <tr style=\"text-align: right;\">\n",
       "      <th></th>\n",
       "      <th>0</th>\n",
       "      <th>1</th>\n",
       "      <th>2</th>\n",
       "      <th>3</th>\n",
       "      <th>4</th>\n",
       "    </tr>\n",
       "  </thead>\n",
       "  <tbody>\n",
       "    <tr>\n",
       "      <th>0</th>\n",
       "      <td>4.132263</td>\n",
       "      <td>0.999196</td>\n",
       "      <td>0.240734</td>\n",
       "      <td>0.151819</td>\n",
       "      <td>1.461886</td>\n",
       "    </tr>\n",
       "    <tr>\n",
       "      <th>1</th>\n",
       "      <td>-1.015201</td>\n",
       "      <td>-0.055316</td>\n",
       "      <td>-2.734167</td>\n",
       "      <td>-0.216229</td>\n",
       "      <td>1.246734</td>\n",
       "    </tr>\n",
       "    <tr>\n",
       "      <th>2</th>\n",
       "      <td>-1.137376</td>\n",
       "      <td>0.892601</td>\n",
       "      <td>-1.359955</td>\n",
       "      <td>-0.170374</td>\n",
       "      <td>0.367897</td>\n",
       "    </tr>\n",
       "  </tbody>\n",
       "</table>\n",
       "</div>"
      ],
      "text/plain": [
       "          0         1         2         3         4\n",
       "0  4.132263  0.999196  0.240734  0.151819  1.461886\n",
       "1 -1.015201 -0.055316 -2.734167 -0.216229  1.246734\n",
       "2 -1.137376  0.892601 -1.359955 -0.170374  0.367897"
      ]
     },
     "execution_count": 97,
     "metadata": {},
     "output_type": "execute_result"
    }
   ],
   "source": [
    "Train_Transformed.head(3)"
   ]
  },
  {
   "cell_type": "code",
   "execution_count": 98,
   "id": "eb18ce03",
   "metadata": {},
   "outputs": [
    {
     "data": {
      "text/html": [
       "<div>\n",
       "<style scoped>\n",
       "    .dataframe tbody tr th:only-of-type {\n",
       "        vertical-align: middle;\n",
       "    }\n",
       "\n",
       "    .dataframe tbody tr th {\n",
       "        vertical-align: top;\n",
       "    }\n",
       "\n",
       "    .dataframe thead th {\n",
       "        text-align: right;\n",
       "    }\n",
       "</style>\n",
       "<table border=\"1\" class=\"dataframe\">\n",
       "  <thead>\n",
       "    <tr style=\"text-align: right;\">\n",
       "      <th></th>\n",
       "      <th>0</th>\n",
       "      <th>1</th>\n",
       "      <th>2</th>\n",
       "      <th>3</th>\n",
       "      <th>4</th>\n",
       "    </tr>\n",
       "  </thead>\n",
       "  <tbody>\n",
       "    <tr>\n",
       "      <th>0</th>\n",
       "      <td>1.000000e+00</td>\n",
       "      <td>3.900015e-16</td>\n",
       "      <td>1.021909e-17</td>\n",
       "      <td>-8.136189e-17</td>\n",
       "      <td>7.731424e-16</td>\n",
       "    </tr>\n",
       "    <tr>\n",
       "      <th>1</th>\n",
       "      <td>3.900015e-16</td>\n",
       "      <td>1.000000e+00</td>\n",
       "      <td>1.226458e-16</td>\n",
       "      <td>-3.012876e-16</td>\n",
       "      <td>3.489499e-16</td>\n",
       "    </tr>\n",
       "    <tr>\n",
       "      <th>2</th>\n",
       "      <td>1.021909e-17</td>\n",
       "      <td>1.226458e-16</td>\n",
       "      <td>1.000000e+00</td>\n",
       "      <td>1.977881e-16</td>\n",
       "      <td>-2.244582e-16</td>\n",
       "    </tr>\n",
       "  </tbody>\n",
       "</table>\n",
       "</div>"
      ],
      "text/plain": [
       "              0             1             2             3             4\n",
       "0  1.000000e+00  3.900015e-16  1.021909e-17 -8.136189e-17  7.731424e-16\n",
       "1  3.900015e-16  1.000000e+00  1.226458e-16 -3.012876e-16  3.489499e-16\n",
       "2  1.021909e-17  1.226458e-16  1.000000e+00  1.977881e-16 -2.244582e-16"
      ]
     },
     "execution_count": 98,
     "metadata": {},
     "output_type": "execute_result"
    }
   ],
   "source": [
    "# Lets validate whether the correlation between each \"new\" variable is zero or not \n",
    "Train_Transformed.corr().head(3)"
   ]
  },
  {
   "cell_type": "markdown",
   "id": "2f9ccf13",
   "metadata": {},
   "source": [
    "# Logistic Regression Model Build"
   ]
  },
  {
   "cell_type": "code",
   "execution_count": 219,
   "id": "44387305",
   "metadata": {},
   "outputs": [],
   "source": [
    "def Model_prec_evaluate(*niraj):\n",
    "    Lr = LogisticRegression()\n",
    "    Lr.fit(Train_Transformed,y_train)\n",
    "    y_pred = Lr.predict(Test_Transformed)\n",
    "    print('Accuracy of the Logistic Regression:-',accuracy_score(y_test,y_pred))\n",
    "    print(classification_report(y_test,y_pred))\n",
    "    con = confusion_matrix(y_test,y_pred)\n",
    "    print('confusion Matrix:-')\n",
    "    print(con)\n",
    "    print('Cross_val_score Accuracy of Logistic Regression %.2f%%:-'%np.mean(cross_val_score(LogisticRegression(),Train_Transformed,y_train,scoring='accuracy',cv=10)))"
   ]
  },
  {
   "cell_type": "code",
   "execution_count": 220,
   "id": "5cde34bc",
   "metadata": {},
   "outputs": [
    {
     "name": "stdout",
     "output_type": "stream",
     "text": [
      "Accuracy of the Logistic Regression:- 0.7932960893854749\n",
      "              precision    recall  f1-score   support\n",
      "\n",
      "           0       0.87      0.80      0.83       114\n",
      "           1       0.69      0.78      0.73        65\n",
      "\n",
      "    accuracy                           0.79       179\n",
      "   macro avg       0.78      0.79      0.78       179\n",
      "weighted avg       0.80      0.79      0.80       179\n",
      "\n",
      "confusion Matrix:-\n",
      "[[91 23]\n",
      " [14 51]]\n",
      "Cross_val_score Accuracy of Logistic Regression 0.78%:-\n"
     ]
    }
   ],
   "source": [
    "Model_prec_evaluate(Train_Transformed,y_train,Test_Transformed,y_test)"
   ]
  },
  {
   "cell_type": "markdown",
   "id": "5fd8f7d5",
   "metadata": {},
   "source": [
    "## Hyparameter Tunning LogisticRegression"
   ]
  },
  {
   "cell_type": "code",
   "execution_count": 295,
   "id": "4ce1bc5e",
   "metadata": {},
   "outputs": [
    {
     "name": "stdout",
     "output_type": "stream",
     "text": [
      "Best: 0.787891 using {'C': 0.01, 'penalty': 'l2', 'solver': 'newton-cg'}\n",
      "0.782257 (0.032534) with: {'C': 100, 'penalty': 'l2', 'solver': 'newton-cg'}\n",
      "0.782257 (0.032534) with: {'C': 100, 'penalty': 'l2', 'solver': 'lbfgs'}\n",
      "0.782257 (0.032534) with: {'C': 100, 'penalty': 'l2', 'solver': 'liblinear'}\n",
      "0.782257 (0.032534) with: {'C': 10, 'penalty': 'l2', 'solver': 'newton-cg'}\n",
      "0.782257 (0.032534) with: {'C': 10, 'penalty': 'l2', 'solver': 'lbfgs'}\n",
      "0.783646 (0.033772) with: {'C': 10, 'penalty': 'l2', 'solver': 'liblinear'}\n",
      "0.783646 (0.033772) with: {'C': 1.0, 'penalty': 'l2', 'solver': 'newton-cg'}\n",
      "0.783646 (0.033772) with: {'C': 1.0, 'penalty': 'l2', 'solver': 'lbfgs'}\n",
      "0.783646 (0.033772) with: {'C': 1.0, 'penalty': 'l2', 'solver': 'liblinear'}\n",
      "0.786463 (0.034654) with: {'C': 0.1, 'penalty': 'l2', 'solver': 'newton-cg'}\n",
      "0.786463 (0.034654) with: {'C': 0.1, 'penalty': 'l2', 'solver': 'lbfgs'}\n",
      "0.783646 (0.033772) with: {'C': 0.1, 'penalty': 'l2', 'solver': 'liblinear'}\n",
      "0.787891 (0.031942) with: {'C': 0.01, 'penalty': 'l2', 'solver': 'newton-cg'}\n",
      "0.787891 (0.031942) with: {'C': 0.01, 'penalty': 'l2', 'solver': 'lbfgs'}\n",
      "0.780849 (0.034882) with: {'C': 0.01, 'penalty': 'l2', 'solver': 'liblinear'}\n"
     ]
    }
   ],
   "source": [
    "solvers = ['newton-cg', 'lbfgs', 'liblinear']\n",
    "penalty = ['l2']\n",
    "c_values = [100, 10, 1.0, 0.1, 0.01]\n",
    "\n",
    "# define grid search\n",
    "grid = dict(solver=solvers,penalty=penalty,C=c_values)\n",
    "cv = RepeatedStratifiedKFold(n_splits=10, n_repeats=3, random_state=1)\n",
    "grid_search = GridSearchCV(estimator=model, param_grid=grid, n_jobs=-1, cv=10, scoring='accuracy',error_score=0)\n",
    "grid_result = grid_search.fit(Train_Transformed,y_train)\n",
    "\n",
    "\n",
    "# summarize results\n",
    "print(\"Best: %f using %s\" % (grid_result.best_score_, grid_result.best_params_))\n",
    "means = grid_result.cv_results_['mean_test_score']\n",
    "stds = grid_result.cv_results_['std_test_score']\n",
    "params = grid_result.cv_results_['params']\n",
    "for mean, stdev, param in zip(means, stds, params):\n",
    "    print(\"%f (%f) with: %r\" % (mean, stdev, param))"
   ]
  },
  {
   "cell_type": "markdown",
   "id": "8fc8f3dd",
   "metadata": {},
   "source": [
    "# Ramdom Forest Model "
   ]
  },
  {
   "cell_type": "code",
   "execution_count": 215,
   "id": "c29f0827",
   "metadata": {},
   "outputs": [],
   "source": [
    "def Model_prec_evaluate(*niraj):\n",
    "    Rm = RandomForestClassifier()\n",
    "    Rm.fit(Train_Transformed,y_train)\n",
    "    y_pred_1 = Rm.predict(Test_Transformed)\n",
    "    print('Accuracy of the Random forest model:-',accuracy_score(y_test,y_pred_1))\n",
    "    print(classification_report(y_test,y_pred_1))\n",
    "    con = confusion_matrix(y_test,y_pred_1)\n",
    "    print('confusion Matrix:-')\n",
    "    print(con)\n",
    "    print('Cross_val_score Accuracy of Random Forest %.2f%%:-'%np.mean(cross_val_score(RandomForestClassifier(),Train_Transformed,y_train,scoring='accuracy',cv=10)))"
   ]
  },
  {
   "cell_type": "code",
   "execution_count": 216,
   "id": "9ab89e83",
   "metadata": {},
   "outputs": [
    {
     "name": "stdout",
     "output_type": "stream",
     "text": [
      "Accuracy of the Random forest model:- 0.8044692737430168\n",
      "              precision    recall  f1-score   support\n",
      "\n",
      "           0       0.88      0.81      0.84       114\n",
      "           1       0.70      0.80      0.75        65\n",
      "\n",
      "    accuracy                           0.80       179\n",
      "   macro avg       0.79      0.80      0.79       179\n",
      "weighted avg       0.81      0.80      0.81       179\n",
      "\n",
      "confusion Matrix:-\n",
      "[[92 22]\n",
      " [13 52]]\n",
      "Cross_val_score Accuracy of Random Forest 0.77%:-\n"
     ]
    }
   ],
   "source": [
    "Model_prec_evaluate(Train_Transformed,y_train,Test_Transformed,y_test)"
   ]
  },
  {
   "cell_type": "markdown",
   "id": "7c2528b4",
   "metadata": {},
   "source": [
    "# Manual Hyparameter Tunning"
   ]
  },
  {
   "cell_type": "code",
   "execution_count": 103,
   "id": "45dec6d7",
   "metadata": {},
   "outputs": [],
   "source": [
    "# Parameter select here\n",
    "n_estimators_List = [79, 100,200] # range(79,100,200)\n",
    "max_features_List = [5, 7, 9] # range(5,11,2)\n",
    "min_samples_leaf_List = [5, 10, 25, 50]"
   ]
  },
  {
   "cell_type": "code",
   "execution_count": 260,
   "id": "6b1babdc",
   "metadata": {},
   "outputs": [],
   "source": [
    "my_param_grid = {'n_estimators': n_estimators_List, \n",
    "                 'max_features': max_features_List, \n",
    "                 'min_samples_leaf' : min_samples_leaf_List}"
   ]
  },
  {
   "cell_type": "code",
   "execution_count": 106,
   "id": "198db5da",
   "metadata": {},
   "outputs": [],
   "source": [
    "Grid_Search_Model = GridSearchCV(estimator = RandomForestClassifier(random_state=123), \n",
    "                     param_grid=my_param_grid,  \n",
    "                     scoring='accuracy', \n",
    "                     cv=3).fit(Train_Transformed, y_train)"
   ]
  },
  {
   "cell_type": "code",
   "execution_count": 107,
   "id": "b5d93bdb",
   "metadata": {},
   "outputs": [
    {
     "data": {
      "text/html": [
       "<style>#sk-container-id-2 {color: black;background-color: white;}#sk-container-id-2 pre{padding: 0;}#sk-container-id-2 div.sk-toggleable {background-color: white;}#sk-container-id-2 label.sk-toggleable__label {cursor: pointer;display: block;width: 100%;margin-bottom: 0;padding: 0.3em;box-sizing: border-box;text-align: center;}#sk-container-id-2 label.sk-toggleable__label-arrow:before {content: \"▸\";float: left;margin-right: 0.25em;color: #696969;}#sk-container-id-2 label.sk-toggleable__label-arrow:hover:before {color: black;}#sk-container-id-2 div.sk-estimator:hover label.sk-toggleable__label-arrow:before {color: black;}#sk-container-id-2 div.sk-toggleable__content {max-height: 0;max-width: 0;overflow: hidden;text-align: left;background-color: #f0f8ff;}#sk-container-id-2 div.sk-toggleable__content pre {margin: 0.2em;color: black;border-radius: 0.25em;background-color: #f0f8ff;}#sk-container-id-2 input.sk-toggleable__control:checked~div.sk-toggleable__content {max-height: 200px;max-width: 100%;overflow: auto;}#sk-container-id-2 input.sk-toggleable__control:checked~label.sk-toggleable__label-arrow:before {content: \"▾\";}#sk-container-id-2 div.sk-estimator input.sk-toggleable__control:checked~label.sk-toggleable__label {background-color: #d4ebff;}#sk-container-id-2 div.sk-label input.sk-toggleable__control:checked~label.sk-toggleable__label {background-color: #d4ebff;}#sk-container-id-2 input.sk-hidden--visually {border: 0;clip: rect(1px 1px 1px 1px);clip: rect(1px, 1px, 1px, 1px);height: 1px;margin: -1px;overflow: hidden;padding: 0;position: absolute;width: 1px;}#sk-container-id-2 div.sk-estimator {font-family: monospace;background-color: #f0f8ff;border: 1px dotted black;border-radius: 0.25em;box-sizing: border-box;margin-bottom: 0.5em;}#sk-container-id-2 div.sk-estimator:hover {background-color: #d4ebff;}#sk-container-id-2 div.sk-parallel-item::after {content: \"\";width: 100%;border-bottom: 1px solid gray;flex-grow: 1;}#sk-container-id-2 div.sk-label:hover label.sk-toggleable__label {background-color: #d4ebff;}#sk-container-id-2 div.sk-serial::before {content: \"\";position: absolute;border-left: 1px solid gray;box-sizing: border-box;top: 0;bottom: 0;left: 50%;z-index: 0;}#sk-container-id-2 div.sk-serial {display: flex;flex-direction: column;align-items: center;background-color: white;padding-right: 0.2em;padding-left: 0.2em;position: relative;}#sk-container-id-2 div.sk-item {position: relative;z-index: 1;}#sk-container-id-2 div.sk-parallel {display: flex;align-items: stretch;justify-content: center;background-color: white;position: relative;}#sk-container-id-2 div.sk-item::before, #sk-container-id-2 div.sk-parallel-item::before {content: \"\";position: absolute;border-left: 1px solid gray;box-sizing: border-box;top: 0;bottom: 0;left: 50%;z-index: -1;}#sk-container-id-2 div.sk-parallel-item {display: flex;flex-direction: column;z-index: 1;position: relative;background-color: white;}#sk-container-id-2 div.sk-parallel-item:first-child::after {align-self: flex-end;width: 50%;}#sk-container-id-2 div.sk-parallel-item:last-child::after {align-self: flex-start;width: 50%;}#sk-container-id-2 div.sk-parallel-item:only-child::after {width: 0;}#sk-container-id-2 div.sk-dashed-wrapped {border: 1px dashed gray;margin: 0 0.4em 0.5em 0.4em;box-sizing: border-box;padding-bottom: 0.4em;background-color: white;}#sk-container-id-2 div.sk-label label {font-family: monospace;font-weight: bold;display: inline-block;line-height: 1.2em;}#sk-container-id-2 div.sk-label-container {text-align: center;}#sk-container-id-2 div.sk-container {/* jupyter's `normalize.less` sets `[hidden] { display: none; }` but bootstrap.min.css set `[hidden] { display: none !important; }` so we also need the `!important` here to be able to override the default hidden behavior on the sphinx rendered scikit-learn.org. See: https://github.com/scikit-learn/scikit-learn/issues/21755 */display: inline-block !important;position: relative;}#sk-container-id-2 div.sk-text-repr-fallback {display: none;}</style><div id=\"sk-container-id-2\" class=\"sk-top-container\"><div class=\"sk-text-repr-fallback\"><pre>GridSearchCV(cv=3, estimator=RandomForestClassifier(random_state=123),\n",
       "             param_grid={&#x27;max_features&#x27;: [5, 7, 9],\n",
       "                         &#x27;min_samples_leaf&#x27;: [5, 10, 25, 50],\n",
       "                         &#x27;n_estimators&#x27;: [79, 100, 200]},\n",
       "             scoring=&#x27;accuracy&#x27;)</pre><b>In a Jupyter environment, please rerun this cell to show the HTML representation or trust the notebook. <br />On GitHub, the HTML representation is unable to render, please try loading this page with nbviewer.org.</b></div><div class=\"sk-container\" hidden><div class=\"sk-item sk-dashed-wrapped\"><div class=\"sk-label-container\"><div class=\"sk-label sk-toggleable\"><input class=\"sk-toggleable__control sk-hidden--visually\" id=\"sk-estimator-id-2\" type=\"checkbox\" ><label for=\"sk-estimator-id-2\" class=\"sk-toggleable__label sk-toggleable__label-arrow\">GridSearchCV</label><div class=\"sk-toggleable__content\"><pre>GridSearchCV(cv=3, estimator=RandomForestClassifier(random_state=123),\n",
       "             param_grid={&#x27;max_features&#x27;: [5, 7, 9],\n",
       "                         &#x27;min_samples_leaf&#x27;: [5, 10, 25, 50],\n",
       "                         &#x27;n_estimators&#x27;: [79, 100, 200]},\n",
       "             scoring=&#x27;accuracy&#x27;)</pre></div></div></div><div class=\"sk-parallel\"><div class=\"sk-parallel-item\"><div class=\"sk-item\"><div class=\"sk-label-container\"><div class=\"sk-label sk-toggleable\"><input class=\"sk-toggleable__control sk-hidden--visually\" id=\"sk-estimator-id-3\" type=\"checkbox\" ><label for=\"sk-estimator-id-3\" class=\"sk-toggleable__label sk-toggleable__label-arrow\">estimator: RandomForestClassifier</label><div class=\"sk-toggleable__content\"><pre>RandomForestClassifier(random_state=123)</pre></div></div></div><div class=\"sk-serial\"><div class=\"sk-item\"><div class=\"sk-estimator sk-toggleable\"><input class=\"sk-toggleable__control sk-hidden--visually\" id=\"sk-estimator-id-4\" type=\"checkbox\" ><label for=\"sk-estimator-id-4\" class=\"sk-toggleable__label sk-toggleable__label-arrow\">RandomForestClassifier</label><div class=\"sk-toggleable__content\"><pre>RandomForestClassifier(random_state=123)</pre></div></div></div></div></div></div></div></div></div></div>"
      ],
      "text/plain": [
       "GridSearchCV(cv=3, estimator=RandomForestClassifier(random_state=123),\n",
       "             param_grid={'max_features': [5, 7, 9],\n",
       "                         'min_samples_leaf': [5, 10, 25, 50],\n",
       "                         'n_estimators': [79, 100, 200]},\n",
       "             scoring='accuracy')"
      ]
     },
     "execution_count": 107,
     "metadata": {},
     "output_type": "execute_result"
    }
   ],
   "source": [
    "Grid_Search_Model"
   ]
  },
  {
   "cell_type": "code",
   "execution_count": 108,
   "id": "5c4253fd",
   "metadata": {},
   "outputs": [
    {
     "data": {
      "text/html": [
       "<div>\n",
       "<style scoped>\n",
       "    .dataframe tbody tr th:only-of-type {\n",
       "        vertical-align: middle;\n",
       "    }\n",
       "\n",
       "    .dataframe tbody tr th {\n",
       "        vertical-align: top;\n",
       "    }\n",
       "\n",
       "    .dataframe thead th {\n",
       "        text-align: right;\n",
       "    }\n",
       "</style>\n",
       "<table border=\"1\" class=\"dataframe\">\n",
       "  <thead>\n",
       "    <tr style=\"text-align: right;\">\n",
       "      <th></th>\n",
       "      <th>mean_fit_time</th>\n",
       "      <th>std_fit_time</th>\n",
       "      <th>mean_score_time</th>\n",
       "      <th>std_score_time</th>\n",
       "      <th>param_max_features</th>\n",
       "      <th>param_min_samples_leaf</th>\n",
       "      <th>param_n_estimators</th>\n",
       "      <th>params</th>\n",
       "      <th>split0_test_score</th>\n",
       "      <th>split1_test_score</th>\n",
       "      <th>split2_test_score</th>\n",
       "      <th>mean_test_score</th>\n",
       "      <th>std_test_score</th>\n",
       "      <th>rank_test_score</th>\n",
       "    </tr>\n",
       "  </thead>\n",
       "  <tbody>\n",
       "    <tr>\n",
       "      <th>0</th>\n",
       "      <td>0.294441</td>\n",
       "      <td>0.013409</td>\n",
       "      <td>0.015626</td>\n",
       "      <td>0.000002</td>\n",
       "      <td>5</td>\n",
       "      <td>5</td>\n",
       "      <td>79</td>\n",
       "      <td>{'max_features': 5, 'min_samples_leaf': 5, 'n_...</td>\n",
       "      <td>0.810924</td>\n",
       "      <td>0.789030</td>\n",
       "      <td>0.805907</td>\n",
       "      <td>0.801954</td>\n",
       "      <td>0.009365</td>\n",
       "      <td>7</td>\n",
       "    </tr>\n",
       "    <tr>\n",
       "      <th>1</th>\n",
       "      <td>0.397654</td>\n",
       "      <td>0.046037</td>\n",
       "      <td>0.019533</td>\n",
       "      <td>0.003023</td>\n",
       "      <td>5</td>\n",
       "      <td>5</td>\n",
       "      <td>100</td>\n",
       "      <td>{'max_features': 5, 'min_samples_leaf': 5, 'n_...</td>\n",
       "      <td>0.810924</td>\n",
       "      <td>0.793249</td>\n",
       "      <td>0.801688</td>\n",
       "      <td>0.801954</td>\n",
       "      <td>0.007218</td>\n",
       "      <td>10</td>\n",
       "    </tr>\n",
       "    <tr>\n",
       "      <th>2</th>\n",
       "      <td>0.749931</td>\n",
       "      <td>0.114597</td>\n",
       "      <td>0.035731</td>\n",
       "      <td>0.013168</td>\n",
       "      <td>5</td>\n",
       "      <td>5</td>\n",
       "      <td>200</td>\n",
       "      <td>{'max_features': 5, 'min_samples_leaf': 5, 'n_...</td>\n",
       "      <td>0.810924</td>\n",
       "      <td>0.797468</td>\n",
       "      <td>0.810127</td>\n",
       "      <td>0.806173</td>\n",
       "      <td>0.006164</td>\n",
       "      <td>1</td>\n",
       "    </tr>\n",
       "    <tr>\n",
       "      <th>3</th>\n",
       "      <td>0.297106</td>\n",
       "      <td>0.030623</td>\n",
       "      <td>0.018535</td>\n",
       "      <td>0.002626</td>\n",
       "      <td>5</td>\n",
       "      <td>10</td>\n",
       "      <td>79</td>\n",
       "      <td>{'max_features': 5, 'min_samples_leaf': 10, 'n...</td>\n",
       "      <td>0.810924</td>\n",
       "      <td>0.763713</td>\n",
       "      <td>0.818565</td>\n",
       "      <td>0.797734</td>\n",
       "      <td>0.024258</td>\n",
       "      <td>16</td>\n",
       "    </tr>\n",
       "    <tr>\n",
       "      <th>4</th>\n",
       "      <td>0.398201</td>\n",
       "      <td>0.003922</td>\n",
       "      <td>0.031498</td>\n",
       "      <td>0.000354</td>\n",
       "      <td>5</td>\n",
       "      <td>10</td>\n",
       "      <td>100</td>\n",
       "      <td>{'max_features': 5, 'min_samples_leaf': 10, 'n...</td>\n",
       "      <td>0.806723</td>\n",
       "      <td>0.776371</td>\n",
       "      <td>0.814346</td>\n",
       "      <td>0.799147</td>\n",
       "      <td>0.016403</td>\n",
       "      <td>13</td>\n",
       "    </tr>\n",
       "    <tr>\n",
       "      <th>5</th>\n",
       "      <td>0.881984</td>\n",
       "      <td>0.082613</td>\n",
       "      <td>0.060164</td>\n",
       "      <td>0.011462</td>\n",
       "      <td>5</td>\n",
       "      <td>10</td>\n",
       "      <td>200</td>\n",
       "      <td>{'max_features': 5, 'min_samples_leaf': 10, 'n...</td>\n",
       "      <td>0.815126</td>\n",
       "      <td>0.780591</td>\n",
       "      <td>0.822785</td>\n",
       "      <td>0.806167</td>\n",
       "      <td>0.018354</td>\n",
       "      <td>4</td>\n",
       "    </tr>\n",
       "    <tr>\n",
       "      <th>6</th>\n",
       "      <td>0.246260</td>\n",
       "      <td>0.014087</td>\n",
       "      <td>0.017534</td>\n",
       "      <td>0.001826</td>\n",
       "      <td>5</td>\n",
       "      <td>25</td>\n",
       "      <td>79</td>\n",
       "      <td>{'max_features': 5, 'min_samples_leaf': 25, 'n...</td>\n",
       "      <td>0.798319</td>\n",
       "      <td>0.759494</td>\n",
       "      <td>0.810127</td>\n",
       "      <td>0.789313</td>\n",
       "      <td>0.021630</td>\n",
       "      <td>31</td>\n",
       "    </tr>\n",
       "    <tr>\n",
       "      <th>7</th>\n",
       "      <td>0.303171</td>\n",
       "      <td>0.008490</td>\n",
       "      <td>0.023618</td>\n",
       "      <td>0.006383</td>\n",
       "      <td>5</td>\n",
       "      <td>25</td>\n",
       "      <td>100</td>\n",
       "      <td>{'max_features': 5, 'min_samples_leaf': 25, 'n...</td>\n",
       "      <td>0.802521</td>\n",
       "      <td>0.759494</td>\n",
       "      <td>0.810127</td>\n",
       "      <td>0.790714</td>\n",
       "      <td>0.022293</td>\n",
       "      <td>28</td>\n",
       "    </tr>\n",
       "    <tr>\n",
       "      <th>8</th>\n",
       "      <td>0.641147</td>\n",
       "      <td>0.009084</td>\n",
       "      <td>0.043163</td>\n",
       "      <td>0.005230</td>\n",
       "      <td>5</td>\n",
       "      <td>25</td>\n",
       "      <td>200</td>\n",
       "      <td>{'max_features': 5, 'min_samples_leaf': 25, 'n...</td>\n",
       "      <td>0.798319</td>\n",
       "      <td>0.759494</td>\n",
       "      <td>0.810127</td>\n",
       "      <td>0.789313</td>\n",
       "      <td>0.021630</td>\n",
       "      <td>31</td>\n",
       "    </tr>\n",
       "    <tr>\n",
       "      <th>9</th>\n",
       "      <td>0.229946</td>\n",
       "      <td>0.006720</td>\n",
       "      <td>0.017201</td>\n",
       "      <td>0.002691</td>\n",
       "      <td>5</td>\n",
       "      <td>50</td>\n",
       "      <td>79</td>\n",
       "      <td>{'max_features': 5, 'min_samples_leaf': 50, 'n...</td>\n",
       "      <td>0.806723</td>\n",
       "      <td>0.759494</td>\n",
       "      <td>0.810127</td>\n",
       "      <td>0.792114</td>\n",
       "      <td>0.023108</td>\n",
       "      <td>19</td>\n",
       "    </tr>\n",
       "    <tr>\n",
       "      <th>10</th>\n",
       "      <td>0.287060</td>\n",
       "      <td>0.005291</td>\n",
       "      <td>0.019536</td>\n",
       "      <td>0.003436</td>\n",
       "      <td>5</td>\n",
       "      <td>50</td>\n",
       "      <td>100</td>\n",
       "      <td>{'max_features': 5, 'min_samples_leaf': 50, 'n...</td>\n",
       "      <td>0.806723</td>\n",
       "      <td>0.759494</td>\n",
       "      <td>0.810127</td>\n",
       "      <td>0.792114</td>\n",
       "      <td>0.023108</td>\n",
       "      <td>19</td>\n",
       "    </tr>\n",
       "    <tr>\n",
       "      <th>11</th>\n",
       "      <td>0.552969</td>\n",
       "      <td>0.035905</td>\n",
       "      <td>0.038272</td>\n",
       "      <td>0.001962</td>\n",
       "      <td>5</td>\n",
       "      <td>50</td>\n",
       "      <td>200</td>\n",
       "      <td>{'max_features': 5, 'min_samples_leaf': 50, 'n...</td>\n",
       "      <td>0.806723</td>\n",
       "      <td>0.759494</td>\n",
       "      <td>0.810127</td>\n",
       "      <td>0.792114</td>\n",
       "      <td>0.023108</td>\n",
       "      <td>19</td>\n",
       "    </tr>\n",
       "    <tr>\n",
       "      <th>12</th>\n",
       "      <td>0.268660</td>\n",
       "      <td>0.006923</td>\n",
       "      <td>0.019175</td>\n",
       "      <td>0.004096</td>\n",
       "      <td>7</td>\n",
       "      <td>5</td>\n",
       "      <td>79</td>\n",
       "      <td>{'max_features': 7, 'min_samples_leaf': 5, 'n_...</td>\n",
       "      <td>0.810924</td>\n",
       "      <td>0.789030</td>\n",
       "      <td>0.805907</td>\n",
       "      <td>0.801954</td>\n",
       "      <td>0.009365</td>\n",
       "      <td>7</td>\n",
       "    </tr>\n",
       "    <tr>\n",
       "      <th>13</th>\n",
       "      <td>0.361381</td>\n",
       "      <td>0.037614</td>\n",
       "      <td>0.015982</td>\n",
       "      <td>0.012322</td>\n",
       "      <td>7</td>\n",
       "      <td>5</td>\n",
       "      <td>100</td>\n",
       "      <td>{'max_features': 7, 'min_samples_leaf': 5, 'n_...</td>\n",
       "      <td>0.810924</td>\n",
       "      <td>0.793249</td>\n",
       "      <td>0.801688</td>\n",
       "      <td>0.801954</td>\n",
       "      <td>0.007218</td>\n",
       "      <td>10</td>\n",
       "    </tr>\n",
       "    <tr>\n",
       "      <th>14</th>\n",
       "      <td>0.771202</td>\n",
       "      <td>0.114054</td>\n",
       "      <td>0.051971</td>\n",
       "      <td>0.000817</td>\n",
       "      <td>7</td>\n",
       "      <td>5</td>\n",
       "      <td>200</td>\n",
       "      <td>{'max_features': 7, 'min_samples_leaf': 5, 'n_...</td>\n",
       "      <td>0.810924</td>\n",
       "      <td>0.797468</td>\n",
       "      <td>0.810127</td>\n",
       "      <td>0.806173</td>\n",
       "      <td>0.006164</td>\n",
       "      <td>1</td>\n",
       "    </tr>\n",
       "    <tr>\n",
       "      <th>15</th>\n",
       "      <td>0.384887</td>\n",
       "      <td>0.059090</td>\n",
       "      <td>0.026103</td>\n",
       "      <td>0.002219</td>\n",
       "      <td>7</td>\n",
       "      <td>10</td>\n",
       "      <td>79</td>\n",
       "      <td>{'max_features': 7, 'min_samples_leaf': 10, 'n...</td>\n",
       "      <td>0.810924</td>\n",
       "      <td>0.763713</td>\n",
       "      <td>0.818565</td>\n",
       "      <td>0.797734</td>\n",
       "      <td>0.024258</td>\n",
       "      <td>16</td>\n",
       "    </tr>\n",
       "    <tr>\n",
       "      <th>16</th>\n",
       "      <td>0.440308</td>\n",
       "      <td>0.029425</td>\n",
       "      <td>0.034241</td>\n",
       "      <td>0.002557</td>\n",
       "      <td>7</td>\n",
       "      <td>10</td>\n",
       "      <td>100</td>\n",
       "      <td>{'max_features': 7, 'min_samples_leaf': 10, 'n...</td>\n",
       "      <td>0.806723</td>\n",
       "      <td>0.776371</td>\n",
       "      <td>0.814346</td>\n",
       "      <td>0.799147</td>\n",
       "      <td>0.016403</td>\n",
       "      <td>13</td>\n",
       "    </tr>\n",
       "    <tr>\n",
       "      <th>17</th>\n",
       "      <td>0.839772</td>\n",
       "      <td>0.109612</td>\n",
       "      <td>0.047447</td>\n",
       "      <td>0.003370</td>\n",
       "      <td>7</td>\n",
       "      <td>10</td>\n",
       "      <td>200</td>\n",
       "      <td>{'max_features': 7, 'min_samples_leaf': 10, 'n...</td>\n",
       "      <td>0.815126</td>\n",
       "      <td>0.780591</td>\n",
       "      <td>0.822785</td>\n",
       "      <td>0.806167</td>\n",
       "      <td>0.018354</td>\n",
       "      <td>4</td>\n",
       "    </tr>\n",
       "    <tr>\n",
       "      <th>18</th>\n",
       "      <td>0.301211</td>\n",
       "      <td>0.043342</td>\n",
       "      <td>0.020891</td>\n",
       "      <td>0.005251</td>\n",
       "      <td>7</td>\n",
       "      <td>25</td>\n",
       "      <td>79</td>\n",
       "      <td>{'max_features': 7, 'min_samples_leaf': 25, 'n...</td>\n",
       "      <td>0.798319</td>\n",
       "      <td>0.759494</td>\n",
       "      <td>0.810127</td>\n",
       "      <td>0.789313</td>\n",
       "      <td>0.021630</td>\n",
       "      <td>31</td>\n",
       "    </tr>\n",
       "    <tr>\n",
       "      <th>19</th>\n",
       "      <td>0.333337</td>\n",
       "      <td>0.034169</td>\n",
       "      <td>0.024698</td>\n",
       "      <td>0.006797</td>\n",
       "      <td>7</td>\n",
       "      <td>25</td>\n",
       "      <td>100</td>\n",
       "      <td>{'max_features': 7, 'min_samples_leaf': 25, 'n...</td>\n",
       "      <td>0.802521</td>\n",
       "      <td>0.759494</td>\n",
       "      <td>0.810127</td>\n",
       "      <td>0.790714</td>\n",
       "      <td>0.022293</td>\n",
       "      <td>28</td>\n",
       "    </tr>\n",
       "    <tr>\n",
       "      <th>20</th>\n",
       "      <td>0.548324</td>\n",
       "      <td>0.023139</td>\n",
       "      <td>0.033916</td>\n",
       "      <td>0.013442</td>\n",
       "      <td>7</td>\n",
       "      <td>25</td>\n",
       "      <td>200</td>\n",
       "      <td>{'max_features': 7, 'min_samples_leaf': 25, 'n...</td>\n",
       "      <td>0.798319</td>\n",
       "      <td>0.759494</td>\n",
       "      <td>0.810127</td>\n",
       "      <td>0.789313</td>\n",
       "      <td>0.021630</td>\n",
       "      <td>31</td>\n",
       "    </tr>\n",
       "    <tr>\n",
       "      <th>21</th>\n",
       "      <td>0.180557</td>\n",
       "      <td>0.035384</td>\n",
       "      <td>0.019738</td>\n",
       "      <td>0.005833</td>\n",
       "      <td>7</td>\n",
       "      <td>50</td>\n",
       "      <td>79</td>\n",
       "      <td>{'max_features': 7, 'min_samples_leaf': 50, 'n...</td>\n",
       "      <td>0.806723</td>\n",
       "      <td>0.759494</td>\n",
       "      <td>0.810127</td>\n",
       "      <td>0.792114</td>\n",
       "      <td>0.023108</td>\n",
       "      <td>19</td>\n",
       "    </tr>\n",
       "    <tr>\n",
       "      <th>22</th>\n",
       "      <td>0.215123</td>\n",
       "      <td>0.007793</td>\n",
       "      <td>0.019588</td>\n",
       "      <td>0.004401</td>\n",
       "      <td>7</td>\n",
       "      <td>50</td>\n",
       "      <td>100</td>\n",
       "      <td>{'max_features': 7, 'min_samples_leaf': 50, 'n...</td>\n",
       "      <td>0.806723</td>\n",
       "      <td>0.759494</td>\n",
       "      <td>0.810127</td>\n",
       "      <td>0.792114</td>\n",
       "      <td>0.023108</td>\n",
       "      <td>19</td>\n",
       "    </tr>\n",
       "    <tr>\n",
       "      <th>23</th>\n",
       "      <td>0.485097</td>\n",
       "      <td>0.094781</td>\n",
       "      <td>0.039740</td>\n",
       "      <td>0.007839</td>\n",
       "      <td>7</td>\n",
       "      <td>50</td>\n",
       "      <td>200</td>\n",
       "      <td>{'max_features': 7, 'min_samples_leaf': 50, 'n...</td>\n",
       "      <td>0.806723</td>\n",
       "      <td>0.759494</td>\n",
       "      <td>0.810127</td>\n",
       "      <td>0.792114</td>\n",
       "      <td>0.023108</td>\n",
       "      <td>19</td>\n",
       "    </tr>\n",
       "    <tr>\n",
       "      <th>24</th>\n",
       "      <td>0.301636</td>\n",
       "      <td>0.014090</td>\n",
       "      <td>0.020668</td>\n",
       "      <td>0.000479</td>\n",
       "      <td>9</td>\n",
       "      <td>5</td>\n",
       "      <td>79</td>\n",
       "      <td>{'max_features': 9, 'min_samples_leaf': 5, 'n_...</td>\n",
       "      <td>0.810924</td>\n",
       "      <td>0.789030</td>\n",
       "      <td>0.805907</td>\n",
       "      <td>0.801954</td>\n",
       "      <td>0.009365</td>\n",
       "      <td>7</td>\n",
       "    </tr>\n",
       "    <tr>\n",
       "      <th>25</th>\n",
       "      <td>0.379500</td>\n",
       "      <td>0.011858</td>\n",
       "      <td>0.022038</td>\n",
       "      <td>0.003605</td>\n",
       "      <td>9</td>\n",
       "      <td>5</td>\n",
       "      <td>100</td>\n",
       "      <td>{'max_features': 9, 'min_samples_leaf': 5, 'n_...</td>\n",
       "      <td>0.810924</td>\n",
       "      <td>0.793249</td>\n",
       "      <td>0.801688</td>\n",
       "      <td>0.801954</td>\n",
       "      <td>0.007218</td>\n",
       "      <td>10</td>\n",
       "    </tr>\n",
       "    <tr>\n",
       "      <th>26</th>\n",
       "      <td>0.813547</td>\n",
       "      <td>0.092919</td>\n",
       "      <td>0.056969</td>\n",
       "      <td>0.009895</td>\n",
       "      <td>9</td>\n",
       "      <td>5</td>\n",
       "      <td>200</td>\n",
       "      <td>{'max_features': 9, 'min_samples_leaf': 5, 'n_...</td>\n",
       "      <td>0.810924</td>\n",
       "      <td>0.797468</td>\n",
       "      <td>0.810127</td>\n",
       "      <td>0.806173</td>\n",
       "      <td>0.006164</td>\n",
       "      <td>1</td>\n",
       "    </tr>\n",
       "    <tr>\n",
       "      <th>27</th>\n",
       "      <td>0.331603</td>\n",
       "      <td>0.013765</td>\n",
       "      <td>0.026215</td>\n",
       "      <td>0.007011</td>\n",
       "      <td>9</td>\n",
       "      <td>10</td>\n",
       "      <td>79</td>\n",
       "      <td>{'max_features': 9, 'min_samples_leaf': 10, 'n...</td>\n",
       "      <td>0.810924</td>\n",
       "      <td>0.763713</td>\n",
       "      <td>0.818565</td>\n",
       "      <td>0.797734</td>\n",
       "      <td>0.024258</td>\n",
       "      <td>16</td>\n",
       "    </tr>\n",
       "    <tr>\n",
       "      <th>28</th>\n",
       "      <td>0.450687</td>\n",
       "      <td>0.017738</td>\n",
       "      <td>0.030406</td>\n",
       "      <td>0.001012</td>\n",
       "      <td>9</td>\n",
       "      <td>10</td>\n",
       "      <td>100</td>\n",
       "      <td>{'max_features': 9, 'min_samples_leaf': 10, 'n...</td>\n",
       "      <td>0.806723</td>\n",
       "      <td>0.776371</td>\n",
       "      <td>0.814346</td>\n",
       "      <td>0.799147</td>\n",
       "      <td>0.016403</td>\n",
       "      <td>13</td>\n",
       "    </tr>\n",
       "    <tr>\n",
       "      <th>29</th>\n",
       "      <td>0.733210</td>\n",
       "      <td>0.028130</td>\n",
       "      <td>0.047328</td>\n",
       "      <td>0.004962</td>\n",
       "      <td>9</td>\n",
       "      <td>10</td>\n",
       "      <td>200</td>\n",
       "      <td>{'max_features': 9, 'min_samples_leaf': 10, 'n...</td>\n",
       "      <td>0.815126</td>\n",
       "      <td>0.780591</td>\n",
       "      <td>0.822785</td>\n",
       "      <td>0.806167</td>\n",
       "      <td>0.018354</td>\n",
       "      <td>4</td>\n",
       "    </tr>\n",
       "    <tr>\n",
       "      <th>30</th>\n",
       "      <td>0.260110</td>\n",
       "      <td>0.019745</td>\n",
       "      <td>0.017413</td>\n",
       "      <td>0.002529</td>\n",
       "      <td>9</td>\n",
       "      <td>25</td>\n",
       "      <td>79</td>\n",
       "      <td>{'max_features': 9, 'min_samples_leaf': 25, 'n...</td>\n",
       "      <td>0.798319</td>\n",
       "      <td>0.759494</td>\n",
       "      <td>0.810127</td>\n",
       "      <td>0.789313</td>\n",
       "      <td>0.021630</td>\n",
       "      <td>31</td>\n",
       "    </tr>\n",
       "    <tr>\n",
       "      <th>31</th>\n",
       "      <td>0.275629</td>\n",
       "      <td>0.011982</td>\n",
       "      <td>0.020684</td>\n",
       "      <td>0.007156</td>\n",
       "      <td>9</td>\n",
       "      <td>25</td>\n",
       "      <td>100</td>\n",
       "      <td>{'max_features': 9, 'min_samples_leaf': 25, 'n...</td>\n",
       "      <td>0.802521</td>\n",
       "      <td>0.759494</td>\n",
       "      <td>0.810127</td>\n",
       "      <td>0.790714</td>\n",
       "      <td>0.022293</td>\n",
       "      <td>28</td>\n",
       "    </tr>\n",
       "    <tr>\n",
       "      <th>32</th>\n",
       "      <td>0.474870</td>\n",
       "      <td>0.030454</td>\n",
       "      <td>0.029856</td>\n",
       "      <td>0.010196</td>\n",
       "      <td>9</td>\n",
       "      <td>25</td>\n",
       "      <td>200</td>\n",
       "      <td>{'max_features': 9, 'min_samples_leaf': 25, 'n...</td>\n",
       "      <td>0.798319</td>\n",
       "      <td>0.759494</td>\n",
       "      <td>0.810127</td>\n",
       "      <td>0.789313</td>\n",
       "      <td>0.021630</td>\n",
       "      <td>31</td>\n",
       "    </tr>\n",
       "    <tr>\n",
       "      <th>33</th>\n",
       "      <td>0.208169</td>\n",
       "      <td>0.044972</td>\n",
       "      <td>0.023580</td>\n",
       "      <td>0.005525</td>\n",
       "      <td>9</td>\n",
       "      <td>50</td>\n",
       "      <td>79</td>\n",
       "      <td>{'max_features': 9, 'min_samples_leaf': 50, 'n...</td>\n",
       "      <td>0.806723</td>\n",
       "      <td>0.759494</td>\n",
       "      <td>0.810127</td>\n",
       "      <td>0.792114</td>\n",
       "      <td>0.023108</td>\n",
       "      <td>19</td>\n",
       "    </tr>\n",
       "    <tr>\n",
       "      <th>34</th>\n",
       "      <td>0.320755</td>\n",
       "      <td>0.010314</td>\n",
       "      <td>0.029280</td>\n",
       "      <td>0.010425</td>\n",
       "      <td>9</td>\n",
       "      <td>50</td>\n",
       "      <td>100</td>\n",
       "      <td>{'max_features': 9, 'min_samples_leaf': 50, 'n...</td>\n",
       "      <td>0.806723</td>\n",
       "      <td>0.759494</td>\n",
       "      <td>0.810127</td>\n",
       "      <td>0.792114</td>\n",
       "      <td>0.023108</td>\n",
       "      <td>19</td>\n",
       "    </tr>\n",
       "    <tr>\n",
       "      <th>35</th>\n",
       "      <td>0.676326</td>\n",
       "      <td>0.024549</td>\n",
       "      <td>0.049267</td>\n",
       "      <td>0.004043</td>\n",
       "      <td>9</td>\n",
       "      <td>50</td>\n",
       "      <td>200</td>\n",
       "      <td>{'max_features': 9, 'min_samples_leaf': 50, 'n...</td>\n",
       "      <td>0.806723</td>\n",
       "      <td>0.759494</td>\n",
       "      <td>0.810127</td>\n",
       "      <td>0.792114</td>\n",
       "      <td>0.023108</td>\n",
       "      <td>19</td>\n",
       "    </tr>\n",
       "  </tbody>\n",
       "</table>\n",
       "</div>"
      ],
      "text/plain": [
       "    mean_fit_time  std_fit_time  mean_score_time  std_score_time param_max_features param_min_samples_leaf param_n_estimators                                             params  split0_test_score  split1_test_score  split2_test_score  mean_test_score  std_test_score  rank_test_score\n",
       "0        0.294441      0.013409         0.015626        0.000002                  5                      5                 79  {'max_features': 5, 'min_samples_leaf': 5, 'n_...           0.810924           0.789030           0.805907         0.801954        0.009365                7\n",
       "1        0.397654      0.046037         0.019533        0.003023                  5                      5                100  {'max_features': 5, 'min_samples_leaf': 5, 'n_...           0.810924           0.793249           0.801688         0.801954        0.007218               10\n",
       "2        0.749931      0.114597         0.035731        0.013168                  5                      5                200  {'max_features': 5, 'min_samples_leaf': 5, 'n_...           0.810924           0.797468           0.810127         0.806173        0.006164                1\n",
       "3        0.297106      0.030623         0.018535        0.002626                  5                     10                 79  {'max_features': 5, 'min_samples_leaf': 10, 'n...           0.810924           0.763713           0.818565         0.797734        0.024258               16\n",
       "4        0.398201      0.003922         0.031498        0.000354                  5                     10                100  {'max_features': 5, 'min_samples_leaf': 10, 'n...           0.806723           0.776371           0.814346         0.799147        0.016403               13\n",
       "5        0.881984      0.082613         0.060164        0.011462                  5                     10                200  {'max_features': 5, 'min_samples_leaf': 10, 'n...           0.815126           0.780591           0.822785         0.806167        0.018354                4\n",
       "6        0.246260      0.014087         0.017534        0.001826                  5                     25                 79  {'max_features': 5, 'min_samples_leaf': 25, 'n...           0.798319           0.759494           0.810127         0.789313        0.021630               31\n",
       "7        0.303171      0.008490         0.023618        0.006383                  5                     25                100  {'max_features': 5, 'min_samples_leaf': 25, 'n...           0.802521           0.759494           0.810127         0.790714        0.022293               28\n",
       "8        0.641147      0.009084         0.043163        0.005230                  5                     25                200  {'max_features': 5, 'min_samples_leaf': 25, 'n...           0.798319           0.759494           0.810127         0.789313        0.021630               31\n",
       "9        0.229946      0.006720         0.017201        0.002691                  5                     50                 79  {'max_features': 5, 'min_samples_leaf': 50, 'n...           0.806723           0.759494           0.810127         0.792114        0.023108               19\n",
       "10       0.287060      0.005291         0.019536        0.003436                  5                     50                100  {'max_features': 5, 'min_samples_leaf': 50, 'n...           0.806723           0.759494           0.810127         0.792114        0.023108               19\n",
       "11       0.552969      0.035905         0.038272        0.001962                  5                     50                200  {'max_features': 5, 'min_samples_leaf': 50, 'n...           0.806723           0.759494           0.810127         0.792114        0.023108               19\n",
       "12       0.268660      0.006923         0.019175        0.004096                  7                      5                 79  {'max_features': 7, 'min_samples_leaf': 5, 'n_...           0.810924           0.789030           0.805907         0.801954        0.009365                7\n",
       "13       0.361381      0.037614         0.015982        0.012322                  7                      5                100  {'max_features': 7, 'min_samples_leaf': 5, 'n_...           0.810924           0.793249           0.801688         0.801954        0.007218               10\n",
       "14       0.771202      0.114054         0.051971        0.000817                  7                      5                200  {'max_features': 7, 'min_samples_leaf': 5, 'n_...           0.810924           0.797468           0.810127         0.806173        0.006164                1\n",
       "15       0.384887      0.059090         0.026103        0.002219                  7                     10                 79  {'max_features': 7, 'min_samples_leaf': 10, 'n...           0.810924           0.763713           0.818565         0.797734        0.024258               16\n",
       "16       0.440308      0.029425         0.034241        0.002557                  7                     10                100  {'max_features': 7, 'min_samples_leaf': 10, 'n...           0.806723           0.776371           0.814346         0.799147        0.016403               13\n",
       "17       0.839772      0.109612         0.047447        0.003370                  7                     10                200  {'max_features': 7, 'min_samples_leaf': 10, 'n...           0.815126           0.780591           0.822785         0.806167        0.018354                4\n",
       "18       0.301211      0.043342         0.020891        0.005251                  7                     25                 79  {'max_features': 7, 'min_samples_leaf': 25, 'n...           0.798319           0.759494           0.810127         0.789313        0.021630               31\n",
       "19       0.333337      0.034169         0.024698        0.006797                  7                     25                100  {'max_features': 7, 'min_samples_leaf': 25, 'n...           0.802521           0.759494           0.810127         0.790714        0.022293               28\n",
       "20       0.548324      0.023139         0.033916        0.013442                  7                     25                200  {'max_features': 7, 'min_samples_leaf': 25, 'n...           0.798319           0.759494           0.810127         0.789313        0.021630               31\n",
       "21       0.180557      0.035384         0.019738        0.005833                  7                     50                 79  {'max_features': 7, 'min_samples_leaf': 50, 'n...           0.806723           0.759494           0.810127         0.792114        0.023108               19\n",
       "22       0.215123      0.007793         0.019588        0.004401                  7                     50                100  {'max_features': 7, 'min_samples_leaf': 50, 'n...           0.806723           0.759494           0.810127         0.792114        0.023108               19\n",
       "23       0.485097      0.094781         0.039740        0.007839                  7                     50                200  {'max_features': 7, 'min_samples_leaf': 50, 'n...           0.806723           0.759494           0.810127         0.792114        0.023108               19\n",
       "24       0.301636      0.014090         0.020668        0.000479                  9                      5                 79  {'max_features': 9, 'min_samples_leaf': 5, 'n_...           0.810924           0.789030           0.805907         0.801954        0.009365                7\n",
       "25       0.379500      0.011858         0.022038        0.003605                  9                      5                100  {'max_features': 9, 'min_samples_leaf': 5, 'n_...           0.810924           0.793249           0.801688         0.801954        0.007218               10\n",
       "26       0.813547      0.092919         0.056969        0.009895                  9                      5                200  {'max_features': 9, 'min_samples_leaf': 5, 'n_...           0.810924           0.797468           0.810127         0.806173        0.006164                1\n",
       "27       0.331603      0.013765         0.026215        0.007011                  9                     10                 79  {'max_features': 9, 'min_samples_leaf': 10, 'n...           0.810924           0.763713           0.818565         0.797734        0.024258               16\n",
       "28       0.450687      0.017738         0.030406        0.001012                  9                     10                100  {'max_features': 9, 'min_samples_leaf': 10, 'n...           0.806723           0.776371           0.814346         0.799147        0.016403               13\n",
       "29       0.733210      0.028130         0.047328        0.004962                  9                     10                200  {'max_features': 9, 'min_samples_leaf': 10, 'n...           0.815126           0.780591           0.822785         0.806167        0.018354                4\n",
       "30       0.260110      0.019745         0.017413        0.002529                  9                     25                 79  {'max_features': 9, 'min_samples_leaf': 25, 'n...           0.798319           0.759494           0.810127         0.789313        0.021630               31\n",
       "31       0.275629      0.011982         0.020684        0.007156                  9                     25                100  {'max_features': 9, 'min_samples_leaf': 25, 'n...           0.802521           0.759494           0.810127         0.790714        0.022293               28\n",
       "32       0.474870      0.030454         0.029856        0.010196                  9                     25                200  {'max_features': 9, 'min_samples_leaf': 25, 'n...           0.798319           0.759494           0.810127         0.789313        0.021630               31\n",
       "33       0.208169      0.044972         0.023580        0.005525                  9                     50                 79  {'max_features': 9, 'min_samples_leaf': 50, 'n...           0.806723           0.759494           0.810127         0.792114        0.023108               19\n",
       "34       0.320755      0.010314         0.029280        0.010425                  9                     50                100  {'max_features': 9, 'min_samples_leaf': 50, 'n...           0.806723           0.759494           0.810127         0.792114        0.023108               19\n",
       "35       0.676326      0.024549         0.049267        0.004043                  9                     50                200  {'max_features': 9, 'min_samples_leaf': 50, 'n...           0.806723           0.759494           0.810127         0.792114        0.023108               19"
      ]
     },
     "execution_count": 108,
     "metadata": {},
     "output_type": "execute_result"
    }
   ],
   "source": [
    "Model_Validation_Df = pd.DataFrame.from_dict(Grid_Search_Model.cv_results_)\n",
    "Model_Validation_Df"
   ]
  },
  {
   "cell_type": "markdown",
   "id": "6f49dffc",
   "metadata": {},
   "source": [
    "## Final Model RandomForest"
   ]
  },
  {
   "cell_type": "code",
   "execution_count": 109,
   "id": "3684878a",
   "metadata": {},
   "outputs": [],
   "source": [
    "RF_Final = RandomForestClassifier(random_state = 123, n_estimators = 200,                                \n",
    "                                  max_features = 5, min_samples_leaf = 5).fit(Train_Transformed,y_train)"
   ]
  },
  {
   "cell_type": "code",
   "execution_count": 110,
   "id": "986492f7",
   "metadata": {},
   "outputs": [
    {
     "name": "stdout",
     "output_type": "stream",
     "text": [
      "Final RandomForest Model Accuracy 0.82%:-\n"
     ]
    }
   ],
   "source": [
    "Test_Pred = RF_Final.predict(Test_Transformed)\n",
    "print('Final RandomForest Model Accuracy %.2f%%:-'%accuracy_score(y_test,Test_Pred))"
   ]
  },
  {
   "cell_type": "code",
   "execution_count": 111,
   "id": "df9f7f72",
   "metadata": {},
   "outputs": [
    {
     "data": {
      "text/html": [
       "<div>\n",
       "<style scoped>\n",
       "    .dataframe tbody tr th:only-of-type {\n",
       "        vertical-align: middle;\n",
       "    }\n",
       "\n",
       "    .dataframe tbody tr th {\n",
       "        vertical-align: top;\n",
       "    }\n",
       "\n",
       "    .dataframe thead th {\n",
       "        text-align: right;\n",
       "    }\n",
       "</style>\n",
       "<table border=\"1\" class=\"dataframe\">\n",
       "  <thead>\n",
       "    <tr style=\"text-align: right;\">\n",
       "      <th>col_0</th>\n",
       "      <th>0</th>\n",
       "      <th>1</th>\n",
       "    </tr>\n",
       "    <tr>\n",
       "      <th>Survived</th>\n",
       "      <th></th>\n",
       "      <th></th>\n",
       "    </tr>\n",
       "  </thead>\n",
       "  <tbody>\n",
       "    <tr>\n",
       "      <th>0</th>\n",
       "      <td>96</td>\n",
       "      <td>18</td>\n",
       "    </tr>\n",
       "    <tr>\n",
       "      <th>1</th>\n",
       "      <td>15</td>\n",
       "      <td>50</td>\n",
       "    </tr>\n",
       "  </tbody>\n",
       "</table>\n",
       "</div>"
      ],
      "text/plain": [
       "col_0      0   1\n",
       "Survived        \n",
       "0         96  18\n",
       "1         15  50"
      ]
     },
     "execution_count": 111,
     "metadata": {},
     "output_type": "execute_result"
    }
   ],
   "source": [
    "# Confusion Matrix\n",
    "Confusion_Mat = pd.crosstab(y_test, Test_Pred) \n",
    "Confusion_Mat "
   ]
  },
  {
   "cell_type": "code",
   "execution_count": 112,
   "id": "2e849cab",
   "metadata": {},
   "outputs": [
    {
     "name": "stdout",
     "output_type": "stream",
     "text": [
      "              precision    recall  f1-score   support\n",
      "\n",
      "           0       0.86      0.84      0.85       114\n",
      "           1       0.74      0.77      0.75        65\n",
      "\n",
      "    accuracy                           0.82       179\n",
      "   macro avg       0.80      0.81      0.80       179\n",
      "weighted avg       0.82      0.82      0.82       179\n",
      "\n"
     ]
    }
   ],
   "source": [
    "# Model Evaluation on Test Dataset\n",
    "print(classification_report(y_test, Test_Pred))"
   ]
  },
  {
   "cell_type": "markdown",
   "id": "7b1aac14",
   "metadata": {},
   "source": [
    "# Knn Model"
   ]
  },
  {
   "cell_type": "code",
   "execution_count": 298,
   "id": "9d327872",
   "metadata": {},
   "outputs": [],
   "source": [
    "def Model_prec_evaluate(*niraj):\n",
    "    Knn = KNeighborsClassifier()\n",
    "    Knn.fit(Train_Transformed,y_train)\n",
    "    y_pred_2 = Knn.predict(Test_Transformed)\n",
    "    print('Accuracy of the Random forest model:-',accuracy_score(y_test,y_pred_2))\n",
    "    print(classification_report(y_test,y_pred_2))\n",
    "    con = confusion_matrix(y_test,y_pred_2)\n",
    "    print('Confusion Matrix:-')\n",
    "    print(con)\n",
    "    print('Cross_val_score Accuracy of KNN model %.2f%%:-'%np.mean(cross_val_score(KNeighborsClassifier(),Train_Transformed,y_train,scoring='accuracy',cv=10)))"
   ]
  },
  {
   "cell_type": "code",
   "execution_count": 299,
   "id": "36957d1b",
   "metadata": {},
   "outputs": [
    {
     "name": "stdout",
     "output_type": "stream",
     "text": [
      "Accuracy of the Random forest model:- 0.7932960893854749\n",
      "              precision    recall  f1-score   support\n",
      "\n",
      "           0       0.87      0.79      0.83       114\n",
      "           1       0.68      0.80      0.74        65\n",
      "\n",
      "    accuracy                           0.79       179\n",
      "   macro avg       0.78      0.79      0.78       179\n",
      "weighted avg       0.80      0.79      0.80       179\n",
      "\n",
      "Confusion Matrix:-\n",
      "[[90 24]\n",
      " [13 52]]\n",
      "Cross_val_score Accuracy of KNN model 0.78%:-\n"
     ]
    }
   ],
   "source": [
    "Model_prec_evaluate(Train_Transformed,y_train,Test_Transformed)"
   ]
  },
  {
   "cell_type": "markdown",
   "id": "082e82a6",
   "metadata": {},
   "source": [
    "## Hyparprameter Tunning Knn model"
   ]
  },
  {
   "cell_type": "code",
   "execution_count": 302,
   "id": "9b23eb38",
   "metadata": {},
   "outputs": [
    {
     "name": "stdout",
     "output_type": "stream",
     "text": [
      "Best: 0.789789 using {'metric': 'manhattan', 'n_neighbors': 11, 'weights': 'uniform'}\n",
      "0.740186 (0.050969) with: {'metric': 'euclidean', 'n_neighbors': 1, 'weights': 'uniform'}\n",
      "0.740186 (0.050969) with: {'metric': 'euclidean', 'n_neighbors': 1, 'weights': 'distance'}\n",
      "0.769705 (0.050403) with: {'metric': 'euclidean', 'n_neighbors': 3, 'weights': 'uniform'}\n",
      "0.758940 (0.053062) with: {'metric': 'euclidean', 'n_neighbors': 3, 'weights': 'distance'}\n",
      "0.771081 (0.044070) with: {'metric': 'euclidean', 'n_neighbors': 5, 'weights': 'uniform'}\n",
      "0.768258 (0.046357) with: {'metric': 'euclidean', 'n_neighbors': 5, 'weights': 'distance'}\n",
      "0.773872 (0.050726) with: {'metric': 'euclidean', 'n_neighbors': 7, 'weights': 'uniform'}\n",
      "0.770110 (0.050129) with: {'metric': 'euclidean', 'n_neighbors': 7, 'weights': 'distance'}\n",
      "0.781390 (0.050605) with: {'metric': 'euclidean', 'n_neighbors': 9, 'weights': 'uniform'}\n",
      "0.775717 (0.053595) with: {'metric': 'euclidean', 'n_neighbors': 9, 'weights': 'distance'}\n",
      "0.788393 (0.048616) with: {'metric': 'euclidean', 'n_neighbors': 11, 'weights': 'uniform'}\n",
      "0.779506 (0.051472) with: {'metric': 'euclidean', 'n_neighbors': 11, 'weights': 'distance'}\n",
      "0.788869 (0.049594) with: {'metric': 'euclidean', 'n_neighbors': 13, 'weights': 'uniform'}\n",
      "0.779988 (0.048263) with: {'metric': 'euclidean', 'n_neighbors': 13, 'weights': 'distance'}\n",
      "0.786079 (0.048285) with: {'metric': 'euclidean', 'n_neighbors': 15, 'weights': 'uniform'}\n",
      "0.784194 (0.049406) with: {'metric': 'euclidean', 'n_neighbors': 15, 'weights': 'distance'}\n",
      "0.779538 (0.046060) with: {'metric': 'euclidean', 'n_neighbors': 17, 'weights': 'uniform'}\n",
      "0.789358 (0.046656) with: {'metric': 'euclidean', 'n_neighbors': 17, 'weights': 'distance'}\n",
      "0.775763 (0.045441) with: {'metric': 'euclidean', 'n_neighbors': 19, 'weights': 'uniform'}\n",
      "0.786079 (0.047006) with: {'metric': 'euclidean', 'n_neighbors': 19, 'weights': 'distance'}\n",
      "0.741112 (0.043368) with: {'metric': 'manhattan', 'n_neighbors': 1, 'weights': 'uniform'}\n",
      "0.741112 (0.043368) with: {'metric': 'manhattan', 'n_neighbors': 1, 'weights': 'distance'}\n",
      "0.769660 (0.051532) with: {'metric': 'manhattan', 'n_neighbors': 3, 'weights': 'uniform'}\n",
      "0.763582 (0.050334) with: {'metric': 'manhattan', 'n_neighbors': 3, 'weights': 'distance'}\n",
      "0.775326 (0.041699) with: {'metric': 'manhattan', 'n_neighbors': 5, 'weights': 'uniform'}\n",
      "0.766399 (0.044360) with: {'metric': 'manhattan', 'n_neighbors': 5, 'weights': 'distance'}\n",
      "0.774368 (0.043392) with: {'metric': 'manhattan', 'n_neighbors': 7, 'weights': 'uniform'}\n",
      "0.764026 (0.047529) with: {'metric': 'manhattan', 'n_neighbors': 7, 'weights': 'distance'}\n",
      "0.781860 (0.044383) with: {'metric': 'manhattan', 'n_neighbors': 9, 'weights': 'uniform'}\n",
      "0.772470 (0.048918) with: {'metric': 'manhattan', 'n_neighbors': 9, 'weights': 'distance'}\n",
      "0.789789 (0.045262) with: {'metric': 'manhattan', 'n_neighbors': 11, 'weights': 'uniform'}\n",
      "0.772483 (0.046981) with: {'metric': 'manhattan', 'n_neighbors': 11, 'weights': 'distance'}\n",
      "0.785146 (0.051278) with: {'metric': 'manhattan', 'n_neighbors': 13, 'weights': 'uniform'}\n",
      "0.779069 (0.045206) with: {'metric': 'manhattan', 'n_neighbors': 13, 'weights': 'distance'}\n",
      "0.781879 (0.048743) with: {'metric': 'manhattan', 'n_neighbors': 15, 'weights': 'uniform'}\n",
      "0.779532 (0.043604) with: {'metric': 'manhattan', 'n_neighbors': 15, 'weights': 'distance'}\n",
      "0.775333 (0.053498) with: {'metric': 'manhattan', 'n_neighbors': 17, 'weights': 'uniform'}\n",
      "0.783725 (0.043455) with: {'metric': 'manhattan', 'n_neighbors': 17, 'weights': 'distance'}\n",
      "0.767860 (0.048361) with: {'metric': 'manhattan', 'n_neighbors': 19, 'weights': 'uniform'}\n",
      "0.779519 (0.044831) with: {'metric': 'manhattan', 'n_neighbors': 19, 'weights': 'distance'}\n",
      "0.740186 (0.050969) with: {'metric': 'minkowski', 'n_neighbors': 1, 'weights': 'uniform'}\n",
      "0.740186 (0.050969) with: {'metric': 'minkowski', 'n_neighbors': 1, 'weights': 'distance'}\n",
      "0.769705 (0.050403) with: {'metric': 'minkowski', 'n_neighbors': 3, 'weights': 'uniform'}\n",
      "0.758940 (0.053062) with: {'metric': 'minkowski', 'n_neighbors': 3, 'weights': 'distance'}\n",
      "0.771081 (0.044070) with: {'metric': 'minkowski', 'n_neighbors': 5, 'weights': 'uniform'}\n",
      "0.768258 (0.046357) with: {'metric': 'minkowski', 'n_neighbors': 5, 'weights': 'distance'}\n",
      "0.773872 (0.050726) with: {'metric': 'minkowski', 'n_neighbors': 7, 'weights': 'uniform'}\n",
      "0.770110 (0.050129) with: {'metric': 'minkowski', 'n_neighbors': 7, 'weights': 'distance'}\n",
      "0.781390 (0.050605) with: {'metric': 'minkowski', 'n_neighbors': 9, 'weights': 'uniform'}\n",
      "0.775717 (0.053595) with: {'metric': 'minkowski', 'n_neighbors': 9, 'weights': 'distance'}\n",
      "0.788393 (0.048616) with: {'metric': 'minkowski', 'n_neighbors': 11, 'weights': 'uniform'}\n",
      "0.779506 (0.051472) with: {'metric': 'minkowski', 'n_neighbors': 11, 'weights': 'distance'}\n",
      "0.788869 (0.049594) with: {'metric': 'minkowski', 'n_neighbors': 13, 'weights': 'uniform'}\n",
      "0.779988 (0.048263) with: {'metric': 'minkowski', 'n_neighbors': 13, 'weights': 'distance'}\n",
      "0.786079 (0.048285) with: {'metric': 'minkowski', 'n_neighbors': 15, 'weights': 'uniform'}\n",
      "0.784194 (0.049406) with: {'metric': 'minkowski', 'n_neighbors': 15, 'weights': 'distance'}\n",
      "0.779538 (0.046060) with: {'metric': 'minkowski', 'n_neighbors': 17, 'weights': 'uniform'}\n",
      "0.789358 (0.046656) with: {'metric': 'minkowski', 'n_neighbors': 17, 'weights': 'distance'}\n",
      "0.775763 (0.045441) with: {'metric': 'minkowski', 'n_neighbors': 19, 'weights': 'uniform'}\n",
      "0.786079 (0.047006) with: {'metric': 'minkowski', 'n_neighbors': 19, 'weights': 'distance'}\n"
     ]
    }
   ],
   "source": [
    "knn = KNeighborsClassifier()\n",
    "n_neighbors = range(1, 21, 2)\n",
    "weights = ['uniform', 'distance']\n",
    "metric = ['euclidean', 'manhattan', 'minkowski']\n",
    "\n",
    "# define grid search\n",
    "grid = dict(n_neighbors=n_neighbors,weights=weights,metric=metric)\n",
    "cv = RepeatedStratifiedKFold(n_splits=10, n_repeats=3, random_state=1)\n",
    "grid_search = GridSearchCV(estimator=knn, param_grid=grid, n_jobs=-1, cv=cv, scoring='accuracy',error_score=0)\n",
    "grid_result = grid_search.fit(Train_Transformed, y_train)\n",
    "\n",
    "# summarize results\n",
    "print(\"Best: %f using %s\" % (grid_result.best_score_, grid_result.best_params_))\n",
    "means = grid_result.cv_results_['mean_test_score']\n",
    "stds = grid_result.cv_results_['std_test_score']\n",
    "params = grid_result.cv_results_['params']\n",
    "for mean, stdev, param in zip(means, stds, params):\n",
    "    print(\"%f (%f) with: %r\" % (mean, stdev, param))"
   ]
  },
  {
   "cell_type": "markdown",
   "id": "530f91b5",
   "metadata": {},
   "source": [
    "# Using Pipeline Model Build"
   ]
  },
  {
   "cell_type": "code",
   "execution_count": 129,
   "id": "246a8583",
   "metadata": {},
   "outputs": [
    {
     "data": {
      "text/html": [
       "<div>\n",
       "<style scoped>\n",
       "    .dataframe tbody tr th:only-of-type {\n",
       "        vertical-align: middle;\n",
       "    }\n",
       "\n",
       "    .dataframe tbody tr th {\n",
       "        vertical-align: top;\n",
       "    }\n",
       "\n",
       "    .dataframe thead th {\n",
       "        text-align: right;\n",
       "    }\n",
       "</style>\n",
       "<table border=\"1\" class=\"dataframe\">\n",
       "  <thead>\n",
       "    <tr style=\"text-align: right;\">\n",
       "      <th></th>\n",
       "      <th>PassengerId</th>\n",
       "      <th>Survived</th>\n",
       "      <th>Pclass</th>\n",
       "      <th>Name</th>\n",
       "      <th>Sex</th>\n",
       "      <th>Age</th>\n",
       "      <th>SibSp</th>\n",
       "      <th>Parch</th>\n",
       "      <th>Ticket</th>\n",
       "      <th>Fare</th>\n",
       "      <th>Cabin</th>\n",
       "      <th>Embarked</th>\n",
       "    </tr>\n",
       "  </thead>\n",
       "  <tbody>\n",
       "    <tr>\n",
       "      <th>0</th>\n",
       "      <td>1</td>\n",
       "      <td>0</td>\n",
       "      <td>3</td>\n",
       "      <td>Braund, Mr. Owen Harris</td>\n",
       "      <td>male</td>\n",
       "      <td>22.0</td>\n",
       "      <td>1</td>\n",
       "      <td>0</td>\n",
       "      <td>A/5 21171</td>\n",
       "      <td>7.2500</td>\n",
       "      <td>NaN</td>\n",
       "      <td>S</td>\n",
       "    </tr>\n",
       "    <tr>\n",
       "      <th>1</th>\n",
       "      <td>2</td>\n",
       "      <td>1</td>\n",
       "      <td>1</td>\n",
       "      <td>Cumings, Mrs. John Bradley (Florence Briggs Th...</td>\n",
       "      <td>female</td>\n",
       "      <td>38.0</td>\n",
       "      <td>1</td>\n",
       "      <td>0</td>\n",
       "      <td>PC 17599</td>\n",
       "      <td>71.2833</td>\n",
       "      <td>C85</td>\n",
       "      <td>C</td>\n",
       "    </tr>\n",
       "  </tbody>\n",
       "</table>\n",
       "</div>"
      ],
      "text/plain": [
       "   PassengerId  Survived  Pclass                                               Name     Sex   Age  SibSp  Parch     Ticket     Fare Cabin Embarked\n",
       "0            1         0       3                            Braund, Mr. Owen Harris    male  22.0      1      0  A/5 21171   7.2500   NaN        S\n",
       "1            2         1       1  Cumings, Mrs. John Bradley (Florence Briggs Th...  female  38.0      1      0   PC 17599  71.2833   C85        C"
      ]
     },
     "execution_count": 129,
     "metadata": {},
     "output_type": "execute_result"
    }
   ],
   "source": [
    "data_a.head(2)"
   ]
  },
  {
   "cell_type": "code",
   "execution_count": 132,
   "id": "3a01296f",
   "metadata": {},
   "outputs": [
    {
     "data": {
      "text/html": [
       "<div>\n",
       "<style scoped>\n",
       "    .dataframe tbody tr th:only-of-type {\n",
       "        vertical-align: middle;\n",
       "    }\n",
       "\n",
       "    .dataframe tbody tr th {\n",
       "        vertical-align: top;\n",
       "    }\n",
       "\n",
       "    .dataframe thead th {\n",
       "        text-align: right;\n",
       "    }\n",
       "</style>\n",
       "<table border=\"1\" class=\"dataframe\">\n",
       "  <thead>\n",
       "    <tr style=\"text-align: right;\">\n",
       "      <th></th>\n",
       "      <th>Pclass</th>\n",
       "      <th>SibSp</th>\n",
       "      <th>Sex</th>\n",
       "      <th>Age</th>\n",
       "      <th>Parch</th>\n",
       "      <th>Embarked</th>\n",
       "      <th>Fare</th>\n",
       "      <th>Survived</th>\n",
       "    </tr>\n",
       "  </thead>\n",
       "  <tbody>\n",
       "    <tr>\n",
       "      <th>0</th>\n",
       "      <td>3</td>\n",
       "      <td>1</td>\n",
       "      <td>male</td>\n",
       "      <td>22.0</td>\n",
       "      <td>0</td>\n",
       "      <td>S</td>\n",
       "      <td>7.2500</td>\n",
       "      <td>0</td>\n",
       "    </tr>\n",
       "    <tr>\n",
       "      <th>1</th>\n",
       "      <td>1</td>\n",
       "      <td>1</td>\n",
       "      <td>female</td>\n",
       "      <td>38.0</td>\n",
       "      <td>0</td>\n",
       "      <td>C</td>\n",
       "      <td>71.2833</td>\n",
       "      <td>1</td>\n",
       "    </tr>\n",
       "  </tbody>\n",
       "</table>\n",
       "</div>"
      ],
      "text/plain": [
       "   Pclass  SibSp     Sex   Age  Parch Embarked     Fare  Survived\n",
       "0       3      1    male  22.0      0        S   7.2500         0\n",
       "1       1      1  female  38.0      0        C  71.2833         1"
      ]
     },
     "execution_count": 132,
     "metadata": {},
     "output_type": "execute_result"
    }
   ],
   "source": [
    "data = data_a[['Pclass','SibSp','Sex','Age','Parch','Embarked','Fare','Survived']]\n",
    "data.head(2)"
   ]
  },
  {
   "cell_type": "code",
   "execution_count": 133,
   "id": "e3c8024c",
   "metadata": {},
   "outputs": [],
   "source": [
    "# Data seperate --> X --> Independent, y --> Dependent\n",
    "X = data.drop(columns=['Survived'],axis=1)\n",
    "y = data['Survived']"
   ]
  },
  {
   "cell_type": "code",
   "execution_count": 134,
   "id": "1f6caa1a",
   "metadata": {},
   "outputs": [],
   "source": [
    "# Data devide into Two parts --> Train and Test\n",
    "X_train,X_test,y_train,y_test = train_test_split(X,y,train_size=0.80,random_state=123)"
   ]
  },
  {
   "cell_type": "code",
   "execution_count": 135,
   "id": "4de124e0",
   "metadata": {},
   "outputs": [
    {
     "data": {
      "text/plain": [
       "(712, 7)"
      ]
     },
     "execution_count": 135,
     "metadata": {},
     "output_type": "execute_result"
    }
   ],
   "source": [
    "X_train.shape"
   ]
  },
  {
   "cell_type": "code",
   "execution_count": 136,
   "id": "4c34707f",
   "metadata": {},
   "outputs": [
    {
     "data": {
      "text/html": [
       "<div>\n",
       "<style scoped>\n",
       "    .dataframe tbody tr th:only-of-type {\n",
       "        vertical-align: middle;\n",
       "    }\n",
       "\n",
       "    .dataframe tbody tr th {\n",
       "        vertical-align: top;\n",
       "    }\n",
       "\n",
       "    .dataframe thead th {\n",
       "        text-align: right;\n",
       "    }\n",
       "</style>\n",
       "<table border=\"1\" class=\"dataframe\">\n",
       "  <thead>\n",
       "    <tr style=\"text-align: right;\">\n",
       "      <th></th>\n",
       "      <th>Pclass</th>\n",
       "      <th>SibSp</th>\n",
       "      <th>Sex</th>\n",
       "      <th>Age</th>\n",
       "      <th>Parch</th>\n",
       "      <th>Embarked</th>\n",
       "      <th>Fare</th>\n",
       "    </tr>\n",
       "  </thead>\n",
       "  <tbody>\n",
       "    <tr>\n",
       "      <th>329</th>\n",
       "      <td>1</td>\n",
       "      <td>0</td>\n",
       "      <td>female</td>\n",
       "      <td>16.0</td>\n",
       "      <td>1</td>\n",
       "      <td>C</td>\n",
       "      <td>57.9792</td>\n",
       "    </tr>\n",
       "    <tr>\n",
       "      <th>749</th>\n",
       "      <td>3</td>\n",
       "      <td>0</td>\n",
       "      <td>male</td>\n",
       "      <td>31.0</td>\n",
       "      <td>0</td>\n",
       "      <td>Q</td>\n",
       "      <td>7.7500</td>\n",
       "    </tr>\n",
       "  </tbody>\n",
       "</table>\n",
       "</div>"
      ],
      "text/plain": [
       "     Pclass  SibSp     Sex   Age  Parch Embarked     Fare\n",
       "329       1      0  female  16.0      1        C  57.9792\n",
       "749       3      0    male  31.0      0        Q   7.7500"
      ]
     },
     "execution_count": 136,
     "metadata": {},
     "output_type": "execute_result"
    }
   ],
   "source": [
    "X_train.head(2)"
   ]
  },
  {
   "cell_type": "code",
   "execution_count": 137,
   "id": "f05e659a",
   "metadata": {},
   "outputs": [
    {
     "data": {
      "text/plain": [
       "Pclass        0\n",
       "SibSp         0\n",
       "Sex           0\n",
       "Age         148\n",
       "Parch         0\n",
       "Embarked      2\n",
       "Fare          0\n",
       "dtype: int64"
      ]
     },
     "execution_count": 137,
     "metadata": {},
     "output_type": "execute_result"
    }
   ],
   "source": [
    "X_train.isnull().sum()"
   ]
  },
  {
   "cell_type": "markdown",
   "id": "a3cc3d2d",
   "metadata": {},
   "source": [
    "# Pipe Line Start from Here"
   ]
  },
  {
   "cell_type": "code",
   "execution_count": 168,
   "id": "619d892c",
   "metadata": {},
   "outputs": [],
   "source": [
    "from sklearn.preprocessing import MinMaxScaler,StandardScaler"
   ]
  },
  {
   "cell_type": "code",
   "execution_count": 138,
   "id": "f633744e",
   "metadata": {},
   "outputs": [],
   "source": [
    "# Missing values imputation using SimpleImputer\n",
    "trf1 = ColumnTransformer([\n",
    "    ('impute_age',SimpleImputer(strategy='median'),[3]),  \n",
    "    ('impute_Embarked',SimpleImputer(strategy='most_frequent'),[5]) \n",
    "],remainder='passthrough') "
   ]
  },
  {
   "cell_type": "code",
   "execution_count": 139,
   "id": "baf26e2a",
   "metadata": {},
   "outputs": [],
   "source": [
    "# OneHotEncoding using OneHotEncoder\n",
    "trf2 = ColumnTransformer([\n",
    "    ('OHE_sex_Embarked',OneHotEncoder(sparse=False,handle_unknown='ignore'),[2,5]) \n",
    "],remainder='passthrough')\n"
   ]
  },
  {
   "cell_type": "code",
   "execution_count": 182,
   "id": "6be18013",
   "metadata": {},
   "outputs": [],
   "source": [
    "# Feature Scalling using RobustScaler\n",
    "trf3 = ColumnTransformer([\n",
    "    ('scale',MinMaxScaler(),slice(0,10)) \n",
    "])"
   ]
  },
  {
   "cell_type": "code",
   "execution_count": 183,
   "id": "95559852",
   "metadata": {},
   "outputs": [],
   "source": [
    "# Features Selection\n",
    "trf4 = SelectKBest(score_func=chi2,k=10) "
   ]
  },
  {
   "cell_type": "code",
   "execution_count": 303,
   "id": "90599e54",
   "metadata": {},
   "outputs": [],
   "source": [
    "# Model Build \n",
    "trf5 = DecisionTreeClassifier()"
   ]
  },
  {
   "cell_type": "code",
   "execution_count": 304,
   "id": "59df8f05",
   "metadata": {},
   "outputs": [],
   "source": [
    "pipe = Pipeline([\n",
    "    ('trf1',trf1),\n",
    "    ('trf2',trf2),\n",
    "    ('trf3',trf3),\n",
    "    ('trf4',trf4),\n",
    "    ('trf5',trf5)\n",
    "])"
   ]
  },
  {
   "cell_type": "code",
   "execution_count": 305,
   "id": "7b2fb227",
   "metadata": {},
   "outputs": [
    {
     "data": {
      "text/html": [
       "<style>#sk-container-id-16 {color: black;background-color: white;}#sk-container-id-16 pre{padding: 0;}#sk-container-id-16 div.sk-toggleable {background-color: white;}#sk-container-id-16 label.sk-toggleable__label {cursor: pointer;display: block;width: 100%;margin-bottom: 0;padding: 0.3em;box-sizing: border-box;text-align: center;}#sk-container-id-16 label.sk-toggleable__label-arrow:before {content: \"▸\";float: left;margin-right: 0.25em;color: #696969;}#sk-container-id-16 label.sk-toggleable__label-arrow:hover:before {color: black;}#sk-container-id-16 div.sk-estimator:hover label.sk-toggleable__label-arrow:before {color: black;}#sk-container-id-16 div.sk-toggleable__content {max-height: 0;max-width: 0;overflow: hidden;text-align: left;background-color: #f0f8ff;}#sk-container-id-16 div.sk-toggleable__content pre {margin: 0.2em;color: black;border-radius: 0.25em;background-color: #f0f8ff;}#sk-container-id-16 input.sk-toggleable__control:checked~div.sk-toggleable__content {max-height: 200px;max-width: 100%;overflow: auto;}#sk-container-id-16 input.sk-toggleable__control:checked~label.sk-toggleable__label-arrow:before {content: \"▾\";}#sk-container-id-16 div.sk-estimator input.sk-toggleable__control:checked~label.sk-toggleable__label {background-color: #d4ebff;}#sk-container-id-16 div.sk-label input.sk-toggleable__control:checked~label.sk-toggleable__label {background-color: #d4ebff;}#sk-container-id-16 input.sk-hidden--visually {border: 0;clip: rect(1px 1px 1px 1px);clip: rect(1px, 1px, 1px, 1px);height: 1px;margin: -1px;overflow: hidden;padding: 0;position: absolute;width: 1px;}#sk-container-id-16 div.sk-estimator {font-family: monospace;background-color: #f0f8ff;border: 1px dotted black;border-radius: 0.25em;box-sizing: border-box;margin-bottom: 0.5em;}#sk-container-id-16 div.sk-estimator:hover {background-color: #d4ebff;}#sk-container-id-16 div.sk-parallel-item::after {content: \"\";width: 100%;border-bottom: 1px solid gray;flex-grow: 1;}#sk-container-id-16 div.sk-label:hover label.sk-toggleable__label {background-color: #d4ebff;}#sk-container-id-16 div.sk-serial::before {content: \"\";position: absolute;border-left: 1px solid gray;box-sizing: border-box;top: 0;bottom: 0;left: 50%;z-index: 0;}#sk-container-id-16 div.sk-serial {display: flex;flex-direction: column;align-items: center;background-color: white;padding-right: 0.2em;padding-left: 0.2em;position: relative;}#sk-container-id-16 div.sk-item {position: relative;z-index: 1;}#sk-container-id-16 div.sk-parallel {display: flex;align-items: stretch;justify-content: center;background-color: white;position: relative;}#sk-container-id-16 div.sk-item::before, #sk-container-id-16 div.sk-parallel-item::before {content: \"\";position: absolute;border-left: 1px solid gray;box-sizing: border-box;top: 0;bottom: 0;left: 50%;z-index: -1;}#sk-container-id-16 div.sk-parallel-item {display: flex;flex-direction: column;z-index: 1;position: relative;background-color: white;}#sk-container-id-16 div.sk-parallel-item:first-child::after {align-self: flex-end;width: 50%;}#sk-container-id-16 div.sk-parallel-item:last-child::after {align-self: flex-start;width: 50%;}#sk-container-id-16 div.sk-parallel-item:only-child::after {width: 0;}#sk-container-id-16 div.sk-dashed-wrapped {border: 1px dashed gray;margin: 0 0.4em 0.5em 0.4em;box-sizing: border-box;padding-bottom: 0.4em;background-color: white;}#sk-container-id-16 div.sk-label label {font-family: monospace;font-weight: bold;display: inline-block;line-height: 1.2em;}#sk-container-id-16 div.sk-label-container {text-align: center;}#sk-container-id-16 div.sk-container {/* jupyter's `normalize.less` sets `[hidden] { display: none; }` but bootstrap.min.css set `[hidden] { display: none !important; }` so we also need the `!important` here to be able to override the default hidden behavior on the sphinx rendered scikit-learn.org. See: https://github.com/scikit-learn/scikit-learn/issues/21755 */display: inline-block !important;position: relative;}#sk-container-id-16 div.sk-text-repr-fallback {display: none;}</style><div id=\"sk-container-id-16\" class=\"sk-top-container\"><div class=\"sk-text-repr-fallback\"><pre>Pipeline(steps=[(&#x27;trf1&#x27;,\n",
       "                 ColumnTransformer(remainder=&#x27;passthrough&#x27;,\n",
       "                                   transformers=[(&#x27;impute_age&#x27;,\n",
       "                                                  SimpleImputer(strategy=&#x27;median&#x27;),\n",
       "                                                  [3]),\n",
       "                                                 (&#x27;impute_Embarked&#x27;,\n",
       "                                                  SimpleImputer(strategy=&#x27;most_frequent&#x27;),\n",
       "                                                  [5])])),\n",
       "                (&#x27;trf2&#x27;,\n",
       "                 ColumnTransformer(remainder=&#x27;passthrough&#x27;,\n",
       "                                   transformers=[(&#x27;OHE_sex_Embarked&#x27;,\n",
       "                                                  OneHotEncoder(handle_unknown=&#x27;ignore&#x27;,\n",
       "                                                                sparse=False),\n",
       "                                                  [2, 5])])),\n",
       "                (&#x27;trf3&#x27;,\n",
       "                 ColumnTransformer(transformers=[(&#x27;scale&#x27;, MinMaxScaler(),\n",
       "                                                  slice(0, 10, None))])),\n",
       "                (&#x27;trf4&#x27;,\n",
       "                 SelectKBest(score_func=&lt;function chi2 at 0x000001A98DC30310&gt;)),\n",
       "                (&#x27;trf5&#x27;, DecisionTreeClassifier())])</pre><b>In a Jupyter environment, please rerun this cell to show the HTML representation or trust the notebook. <br />On GitHub, the HTML representation is unable to render, please try loading this page with nbviewer.org.</b></div><div class=\"sk-container\" hidden><div class=\"sk-item sk-dashed-wrapped\"><div class=\"sk-label-container\"><div class=\"sk-label sk-toggleable\"><input class=\"sk-toggleable__control sk-hidden--visually\" id=\"sk-estimator-id-240\" type=\"checkbox\" ><label for=\"sk-estimator-id-240\" class=\"sk-toggleable__label sk-toggleable__label-arrow\">Pipeline</label><div class=\"sk-toggleable__content\"><pre>Pipeline(steps=[(&#x27;trf1&#x27;,\n",
       "                 ColumnTransformer(remainder=&#x27;passthrough&#x27;,\n",
       "                                   transformers=[(&#x27;impute_age&#x27;,\n",
       "                                                  SimpleImputer(strategy=&#x27;median&#x27;),\n",
       "                                                  [3]),\n",
       "                                                 (&#x27;impute_Embarked&#x27;,\n",
       "                                                  SimpleImputer(strategy=&#x27;most_frequent&#x27;),\n",
       "                                                  [5])])),\n",
       "                (&#x27;trf2&#x27;,\n",
       "                 ColumnTransformer(remainder=&#x27;passthrough&#x27;,\n",
       "                                   transformers=[(&#x27;OHE_sex_Embarked&#x27;,\n",
       "                                                  OneHotEncoder(handle_unknown=&#x27;ignore&#x27;,\n",
       "                                                                sparse=False),\n",
       "                                                  [2, 5])])),\n",
       "                (&#x27;trf3&#x27;,\n",
       "                 ColumnTransformer(transformers=[(&#x27;scale&#x27;, MinMaxScaler(),\n",
       "                                                  slice(0, 10, None))])),\n",
       "                (&#x27;trf4&#x27;,\n",
       "                 SelectKBest(score_func=&lt;function chi2 at 0x000001A98DC30310&gt;)),\n",
       "                (&#x27;trf5&#x27;, DecisionTreeClassifier())])</pre></div></div></div><div class=\"sk-serial\"><div class=\"sk-item sk-dashed-wrapped\"><div class=\"sk-label-container\"><div class=\"sk-label sk-toggleable\"><input class=\"sk-toggleable__control sk-hidden--visually\" id=\"sk-estimator-id-241\" type=\"checkbox\" ><label for=\"sk-estimator-id-241\" class=\"sk-toggleable__label sk-toggleable__label-arrow\">trf1: ColumnTransformer</label><div class=\"sk-toggleable__content\"><pre>ColumnTransformer(remainder=&#x27;passthrough&#x27;,\n",
       "                  transformers=[(&#x27;impute_age&#x27;, SimpleImputer(strategy=&#x27;median&#x27;),\n",
       "                                 [3]),\n",
       "                                (&#x27;impute_Embarked&#x27;,\n",
       "                                 SimpleImputer(strategy=&#x27;most_frequent&#x27;),\n",
       "                                 [5])])</pre></div></div></div><div class=\"sk-parallel\"><div class=\"sk-parallel-item\"><div class=\"sk-item\"><div class=\"sk-label-container\"><div class=\"sk-label sk-toggleable\"><input class=\"sk-toggleable__control sk-hidden--visually\" id=\"sk-estimator-id-242\" type=\"checkbox\" ><label for=\"sk-estimator-id-242\" class=\"sk-toggleable__label sk-toggleable__label-arrow\">impute_age</label><div class=\"sk-toggleable__content\"><pre>[3]</pre></div></div></div><div class=\"sk-serial\"><div class=\"sk-item\"><div class=\"sk-estimator sk-toggleable\"><input class=\"sk-toggleable__control sk-hidden--visually\" id=\"sk-estimator-id-243\" type=\"checkbox\" ><label for=\"sk-estimator-id-243\" class=\"sk-toggleable__label sk-toggleable__label-arrow\">SimpleImputer</label><div class=\"sk-toggleable__content\"><pre>SimpleImputer(strategy=&#x27;median&#x27;)</pre></div></div></div></div></div></div><div class=\"sk-parallel-item\"><div class=\"sk-item\"><div class=\"sk-label-container\"><div class=\"sk-label sk-toggleable\"><input class=\"sk-toggleable__control sk-hidden--visually\" id=\"sk-estimator-id-244\" type=\"checkbox\" ><label for=\"sk-estimator-id-244\" class=\"sk-toggleable__label sk-toggleable__label-arrow\">impute_Embarked</label><div class=\"sk-toggleable__content\"><pre>[5]</pre></div></div></div><div class=\"sk-serial\"><div class=\"sk-item\"><div class=\"sk-estimator sk-toggleable\"><input class=\"sk-toggleable__control sk-hidden--visually\" id=\"sk-estimator-id-245\" type=\"checkbox\" ><label for=\"sk-estimator-id-245\" class=\"sk-toggleable__label sk-toggleable__label-arrow\">SimpleImputer</label><div class=\"sk-toggleable__content\"><pre>SimpleImputer(strategy=&#x27;most_frequent&#x27;)</pre></div></div></div></div></div></div><div class=\"sk-parallel-item\"><div class=\"sk-item\"><div class=\"sk-label-container\"><div class=\"sk-label sk-toggleable\"><input class=\"sk-toggleable__control sk-hidden--visually\" id=\"sk-estimator-id-246\" type=\"checkbox\" ><label for=\"sk-estimator-id-246\" class=\"sk-toggleable__label sk-toggleable__label-arrow\">remainder</label><div class=\"sk-toggleable__content\"><pre>[&#x27;Pclass&#x27;, &#x27;SibSp&#x27;, &#x27;Sex&#x27;, &#x27;Parch&#x27;, &#x27;Fare&#x27;]</pre></div></div></div><div class=\"sk-serial\"><div class=\"sk-item\"><div class=\"sk-estimator sk-toggleable\"><input class=\"sk-toggleable__control sk-hidden--visually\" id=\"sk-estimator-id-247\" type=\"checkbox\" ><label for=\"sk-estimator-id-247\" class=\"sk-toggleable__label sk-toggleable__label-arrow\">passthrough</label><div class=\"sk-toggleable__content\"><pre>passthrough</pre></div></div></div></div></div></div></div></div><div class=\"sk-item sk-dashed-wrapped\"><div class=\"sk-label-container\"><div class=\"sk-label sk-toggleable\"><input class=\"sk-toggleable__control sk-hidden--visually\" id=\"sk-estimator-id-248\" type=\"checkbox\" ><label for=\"sk-estimator-id-248\" class=\"sk-toggleable__label sk-toggleable__label-arrow\">trf2: ColumnTransformer</label><div class=\"sk-toggleable__content\"><pre>ColumnTransformer(remainder=&#x27;passthrough&#x27;,\n",
       "                  transformers=[(&#x27;OHE_sex_Embarked&#x27;,\n",
       "                                 OneHotEncoder(handle_unknown=&#x27;ignore&#x27;,\n",
       "                                               sparse=False),\n",
       "                                 [2, 5])])</pre></div></div></div><div class=\"sk-parallel\"><div class=\"sk-parallel-item\"><div class=\"sk-item\"><div class=\"sk-label-container\"><div class=\"sk-label sk-toggleable\"><input class=\"sk-toggleable__control sk-hidden--visually\" id=\"sk-estimator-id-249\" type=\"checkbox\" ><label for=\"sk-estimator-id-249\" class=\"sk-toggleable__label sk-toggleable__label-arrow\">OHE_sex_Embarked</label><div class=\"sk-toggleable__content\"><pre>[2, 5]</pre></div></div></div><div class=\"sk-serial\"><div class=\"sk-item\"><div class=\"sk-estimator sk-toggleable\"><input class=\"sk-toggleable__control sk-hidden--visually\" id=\"sk-estimator-id-250\" type=\"checkbox\" ><label for=\"sk-estimator-id-250\" class=\"sk-toggleable__label sk-toggleable__label-arrow\">OneHotEncoder</label><div class=\"sk-toggleable__content\"><pre>OneHotEncoder(handle_unknown=&#x27;ignore&#x27;, sparse=False)</pre></div></div></div></div></div></div><div class=\"sk-parallel-item\"><div class=\"sk-item\"><div class=\"sk-label-container\"><div class=\"sk-label sk-toggleable\"><input class=\"sk-toggleable__control sk-hidden--visually\" id=\"sk-estimator-id-251\" type=\"checkbox\" ><label for=\"sk-estimator-id-251\" class=\"sk-toggleable__label sk-toggleable__label-arrow\">remainder</label><div class=\"sk-toggleable__content\"><pre>[0, 1, 3, 4, 6]</pre></div></div></div><div class=\"sk-serial\"><div class=\"sk-item\"><div class=\"sk-estimator sk-toggleable\"><input class=\"sk-toggleable__control sk-hidden--visually\" id=\"sk-estimator-id-252\" type=\"checkbox\" ><label for=\"sk-estimator-id-252\" class=\"sk-toggleable__label sk-toggleable__label-arrow\">passthrough</label><div class=\"sk-toggleable__content\"><pre>passthrough</pre></div></div></div></div></div></div></div></div><div class=\"sk-item sk-dashed-wrapped\"><div class=\"sk-label-container\"><div class=\"sk-label sk-toggleable\"><input class=\"sk-toggleable__control sk-hidden--visually\" id=\"sk-estimator-id-253\" type=\"checkbox\" ><label for=\"sk-estimator-id-253\" class=\"sk-toggleable__label sk-toggleable__label-arrow\">trf3: ColumnTransformer</label><div class=\"sk-toggleable__content\"><pre>ColumnTransformer(transformers=[(&#x27;scale&#x27;, MinMaxScaler(), slice(0, 10, None))])</pre></div></div></div><div class=\"sk-parallel\"><div class=\"sk-parallel-item\"><div class=\"sk-item\"><div class=\"sk-label-container\"><div class=\"sk-label sk-toggleable\"><input class=\"sk-toggleable__control sk-hidden--visually\" id=\"sk-estimator-id-254\" type=\"checkbox\" ><label for=\"sk-estimator-id-254\" class=\"sk-toggleable__label sk-toggleable__label-arrow\">scale</label><div class=\"sk-toggleable__content\"><pre>slice(0, 10, None)</pre></div></div></div><div class=\"sk-serial\"><div class=\"sk-item\"><div class=\"sk-estimator sk-toggleable\"><input class=\"sk-toggleable__control sk-hidden--visually\" id=\"sk-estimator-id-255\" type=\"checkbox\" ><label for=\"sk-estimator-id-255\" class=\"sk-toggleable__label sk-toggleable__label-arrow\">MinMaxScaler</label><div class=\"sk-toggleable__content\"><pre>MinMaxScaler()</pre></div></div></div></div></div></div></div></div><div class=\"sk-item\"><div class=\"sk-estimator sk-toggleable\"><input class=\"sk-toggleable__control sk-hidden--visually\" id=\"sk-estimator-id-256\" type=\"checkbox\" ><label for=\"sk-estimator-id-256\" class=\"sk-toggleable__label sk-toggleable__label-arrow\">SelectKBest</label><div class=\"sk-toggleable__content\"><pre>SelectKBest(score_func=&lt;function chi2 at 0x000001A98DC30310&gt;)</pre></div></div></div><div class=\"sk-item\"><div class=\"sk-estimator sk-toggleable\"><input class=\"sk-toggleable__control sk-hidden--visually\" id=\"sk-estimator-id-257\" type=\"checkbox\" ><label for=\"sk-estimator-id-257\" class=\"sk-toggleable__label sk-toggleable__label-arrow\">DecisionTreeClassifier</label><div class=\"sk-toggleable__content\"><pre>DecisionTreeClassifier()</pre></div></div></div></div></div></div></div>"
      ],
      "text/plain": [
       "Pipeline(steps=[('trf1',\n",
       "                 ColumnTransformer(remainder='passthrough',\n",
       "                                   transformers=[('impute_age',\n",
       "                                                  SimpleImputer(strategy='median'),\n",
       "                                                  [3]),\n",
       "                                                 ('impute_Embarked',\n",
       "                                                  SimpleImputer(strategy='most_frequent'),\n",
       "                                                  [5])])),\n",
       "                ('trf2',\n",
       "                 ColumnTransformer(remainder='passthrough',\n",
       "                                   transformers=[('OHE_sex_Embarked',\n",
       "                                                  OneHotEncoder(handle_unknown='ignore',\n",
       "                                                                sparse=False),\n",
       "                                                  [2, 5])])),\n",
       "                ('trf3',\n",
       "                 ColumnTransformer(transformers=[('scale', MinMaxScaler(),\n",
       "                                                  slice(0, 10, None))])),\n",
       "                ('trf4',\n",
       "                 SelectKBest(score_func=<function chi2 at 0x000001A98DC30310>)),\n",
       "                ('trf5', DecisionTreeClassifier())])"
      ]
     },
     "execution_count": 305,
     "metadata": {},
     "output_type": "execute_result"
    }
   ],
   "source": [
    "pipe"
   ]
  },
  {
   "cell_type": "code",
   "execution_count": 306,
   "id": "cc7c4e7e",
   "metadata": {},
   "outputs": [],
   "source": [
    "# This Library for visualise pipeline\n",
    "from sklearn import set_config\n",
    "set_config(display='diagram')"
   ]
  },
  {
   "cell_type": "code",
   "execution_count": 307,
   "id": "e28c827b",
   "metadata": {},
   "outputs": [
    {
     "data": {
      "text/html": [
       "<style>#sk-container-id-17 {color: black;background-color: white;}#sk-container-id-17 pre{padding: 0;}#sk-container-id-17 div.sk-toggleable {background-color: white;}#sk-container-id-17 label.sk-toggleable__label {cursor: pointer;display: block;width: 100%;margin-bottom: 0;padding: 0.3em;box-sizing: border-box;text-align: center;}#sk-container-id-17 label.sk-toggleable__label-arrow:before {content: \"▸\";float: left;margin-right: 0.25em;color: #696969;}#sk-container-id-17 label.sk-toggleable__label-arrow:hover:before {color: black;}#sk-container-id-17 div.sk-estimator:hover label.sk-toggleable__label-arrow:before {color: black;}#sk-container-id-17 div.sk-toggleable__content {max-height: 0;max-width: 0;overflow: hidden;text-align: left;background-color: #f0f8ff;}#sk-container-id-17 div.sk-toggleable__content pre {margin: 0.2em;color: black;border-radius: 0.25em;background-color: #f0f8ff;}#sk-container-id-17 input.sk-toggleable__control:checked~div.sk-toggleable__content {max-height: 200px;max-width: 100%;overflow: auto;}#sk-container-id-17 input.sk-toggleable__control:checked~label.sk-toggleable__label-arrow:before {content: \"▾\";}#sk-container-id-17 div.sk-estimator input.sk-toggleable__control:checked~label.sk-toggleable__label {background-color: #d4ebff;}#sk-container-id-17 div.sk-label input.sk-toggleable__control:checked~label.sk-toggleable__label {background-color: #d4ebff;}#sk-container-id-17 input.sk-hidden--visually {border: 0;clip: rect(1px 1px 1px 1px);clip: rect(1px, 1px, 1px, 1px);height: 1px;margin: -1px;overflow: hidden;padding: 0;position: absolute;width: 1px;}#sk-container-id-17 div.sk-estimator {font-family: monospace;background-color: #f0f8ff;border: 1px dotted black;border-radius: 0.25em;box-sizing: border-box;margin-bottom: 0.5em;}#sk-container-id-17 div.sk-estimator:hover {background-color: #d4ebff;}#sk-container-id-17 div.sk-parallel-item::after {content: \"\";width: 100%;border-bottom: 1px solid gray;flex-grow: 1;}#sk-container-id-17 div.sk-label:hover label.sk-toggleable__label {background-color: #d4ebff;}#sk-container-id-17 div.sk-serial::before {content: \"\";position: absolute;border-left: 1px solid gray;box-sizing: border-box;top: 0;bottom: 0;left: 50%;z-index: 0;}#sk-container-id-17 div.sk-serial {display: flex;flex-direction: column;align-items: center;background-color: white;padding-right: 0.2em;padding-left: 0.2em;position: relative;}#sk-container-id-17 div.sk-item {position: relative;z-index: 1;}#sk-container-id-17 div.sk-parallel {display: flex;align-items: stretch;justify-content: center;background-color: white;position: relative;}#sk-container-id-17 div.sk-item::before, #sk-container-id-17 div.sk-parallel-item::before {content: \"\";position: absolute;border-left: 1px solid gray;box-sizing: border-box;top: 0;bottom: 0;left: 50%;z-index: -1;}#sk-container-id-17 div.sk-parallel-item {display: flex;flex-direction: column;z-index: 1;position: relative;background-color: white;}#sk-container-id-17 div.sk-parallel-item:first-child::after {align-self: flex-end;width: 50%;}#sk-container-id-17 div.sk-parallel-item:last-child::after {align-self: flex-start;width: 50%;}#sk-container-id-17 div.sk-parallel-item:only-child::after {width: 0;}#sk-container-id-17 div.sk-dashed-wrapped {border: 1px dashed gray;margin: 0 0.4em 0.5em 0.4em;box-sizing: border-box;padding-bottom: 0.4em;background-color: white;}#sk-container-id-17 div.sk-label label {font-family: monospace;font-weight: bold;display: inline-block;line-height: 1.2em;}#sk-container-id-17 div.sk-label-container {text-align: center;}#sk-container-id-17 div.sk-container {/* jupyter's `normalize.less` sets `[hidden] { display: none; }` but bootstrap.min.css set `[hidden] { display: none !important; }` so we also need the `!important` here to be able to override the default hidden behavior on the sphinx rendered scikit-learn.org. See: https://github.com/scikit-learn/scikit-learn/issues/21755 */display: inline-block !important;position: relative;}#sk-container-id-17 div.sk-text-repr-fallback {display: none;}</style><div id=\"sk-container-id-17\" class=\"sk-top-container\"><div class=\"sk-text-repr-fallback\"><pre>Pipeline(steps=[(&#x27;trf1&#x27;,\n",
       "                 ColumnTransformer(remainder=&#x27;passthrough&#x27;,\n",
       "                                   transformers=[(&#x27;impute_age&#x27;,\n",
       "                                                  SimpleImputer(strategy=&#x27;median&#x27;),\n",
       "                                                  [3]),\n",
       "                                                 (&#x27;impute_Embarked&#x27;,\n",
       "                                                  SimpleImputer(strategy=&#x27;most_frequent&#x27;),\n",
       "                                                  [5])])),\n",
       "                (&#x27;trf2&#x27;,\n",
       "                 ColumnTransformer(remainder=&#x27;passthrough&#x27;,\n",
       "                                   transformers=[(&#x27;OHE_sex_Embarked&#x27;,\n",
       "                                                  OneHotEncoder(handle_unknown=&#x27;ignore&#x27;,\n",
       "                                                                sparse=False),\n",
       "                                                  [2, 5])])),\n",
       "                (&#x27;trf3&#x27;,\n",
       "                 ColumnTransformer(transformers=[(&#x27;scale&#x27;, MinMaxScaler(),\n",
       "                                                  slice(0, 10, None))])),\n",
       "                (&#x27;trf4&#x27;,\n",
       "                 SelectKBest(score_func=&lt;function chi2 at 0x000001A98DC30310&gt;)),\n",
       "                (&#x27;trf5&#x27;, DecisionTreeClassifier())])</pre><b>In a Jupyter environment, please rerun this cell to show the HTML representation or trust the notebook. <br />On GitHub, the HTML representation is unable to render, please try loading this page with nbviewer.org.</b></div><div class=\"sk-container\" hidden><div class=\"sk-item sk-dashed-wrapped\"><div class=\"sk-label-container\"><div class=\"sk-label sk-toggleable\"><input class=\"sk-toggleable__control sk-hidden--visually\" id=\"sk-estimator-id-258\" type=\"checkbox\" ><label for=\"sk-estimator-id-258\" class=\"sk-toggleable__label sk-toggleable__label-arrow\">Pipeline</label><div class=\"sk-toggleable__content\"><pre>Pipeline(steps=[(&#x27;trf1&#x27;,\n",
       "                 ColumnTransformer(remainder=&#x27;passthrough&#x27;,\n",
       "                                   transformers=[(&#x27;impute_age&#x27;,\n",
       "                                                  SimpleImputer(strategy=&#x27;median&#x27;),\n",
       "                                                  [3]),\n",
       "                                                 (&#x27;impute_Embarked&#x27;,\n",
       "                                                  SimpleImputer(strategy=&#x27;most_frequent&#x27;),\n",
       "                                                  [5])])),\n",
       "                (&#x27;trf2&#x27;,\n",
       "                 ColumnTransformer(remainder=&#x27;passthrough&#x27;,\n",
       "                                   transformers=[(&#x27;OHE_sex_Embarked&#x27;,\n",
       "                                                  OneHotEncoder(handle_unknown=&#x27;ignore&#x27;,\n",
       "                                                                sparse=False),\n",
       "                                                  [2, 5])])),\n",
       "                (&#x27;trf3&#x27;,\n",
       "                 ColumnTransformer(transformers=[(&#x27;scale&#x27;, MinMaxScaler(),\n",
       "                                                  slice(0, 10, None))])),\n",
       "                (&#x27;trf4&#x27;,\n",
       "                 SelectKBest(score_func=&lt;function chi2 at 0x000001A98DC30310&gt;)),\n",
       "                (&#x27;trf5&#x27;, DecisionTreeClassifier())])</pre></div></div></div><div class=\"sk-serial\"><div class=\"sk-item sk-dashed-wrapped\"><div class=\"sk-label-container\"><div class=\"sk-label sk-toggleable\"><input class=\"sk-toggleable__control sk-hidden--visually\" id=\"sk-estimator-id-259\" type=\"checkbox\" ><label for=\"sk-estimator-id-259\" class=\"sk-toggleable__label sk-toggleable__label-arrow\">trf1: ColumnTransformer</label><div class=\"sk-toggleable__content\"><pre>ColumnTransformer(remainder=&#x27;passthrough&#x27;,\n",
       "                  transformers=[(&#x27;impute_age&#x27;, SimpleImputer(strategy=&#x27;median&#x27;),\n",
       "                                 [3]),\n",
       "                                (&#x27;impute_Embarked&#x27;,\n",
       "                                 SimpleImputer(strategy=&#x27;most_frequent&#x27;),\n",
       "                                 [5])])</pre></div></div></div><div class=\"sk-parallel\"><div class=\"sk-parallel-item\"><div class=\"sk-item\"><div class=\"sk-label-container\"><div class=\"sk-label sk-toggleable\"><input class=\"sk-toggleable__control sk-hidden--visually\" id=\"sk-estimator-id-260\" type=\"checkbox\" ><label for=\"sk-estimator-id-260\" class=\"sk-toggleable__label sk-toggleable__label-arrow\">impute_age</label><div class=\"sk-toggleable__content\"><pre>[3]</pre></div></div></div><div class=\"sk-serial\"><div class=\"sk-item\"><div class=\"sk-estimator sk-toggleable\"><input class=\"sk-toggleable__control sk-hidden--visually\" id=\"sk-estimator-id-261\" type=\"checkbox\" ><label for=\"sk-estimator-id-261\" class=\"sk-toggleable__label sk-toggleable__label-arrow\">SimpleImputer</label><div class=\"sk-toggleable__content\"><pre>SimpleImputer(strategy=&#x27;median&#x27;)</pre></div></div></div></div></div></div><div class=\"sk-parallel-item\"><div class=\"sk-item\"><div class=\"sk-label-container\"><div class=\"sk-label sk-toggleable\"><input class=\"sk-toggleable__control sk-hidden--visually\" id=\"sk-estimator-id-262\" type=\"checkbox\" ><label for=\"sk-estimator-id-262\" class=\"sk-toggleable__label sk-toggleable__label-arrow\">impute_Embarked</label><div class=\"sk-toggleable__content\"><pre>[5]</pre></div></div></div><div class=\"sk-serial\"><div class=\"sk-item\"><div class=\"sk-estimator sk-toggleable\"><input class=\"sk-toggleable__control sk-hidden--visually\" id=\"sk-estimator-id-263\" type=\"checkbox\" ><label for=\"sk-estimator-id-263\" class=\"sk-toggleable__label sk-toggleable__label-arrow\">SimpleImputer</label><div class=\"sk-toggleable__content\"><pre>SimpleImputer(strategy=&#x27;most_frequent&#x27;)</pre></div></div></div></div></div></div><div class=\"sk-parallel-item\"><div class=\"sk-item\"><div class=\"sk-label-container\"><div class=\"sk-label sk-toggleable\"><input class=\"sk-toggleable__control sk-hidden--visually\" id=\"sk-estimator-id-264\" type=\"checkbox\" ><label for=\"sk-estimator-id-264\" class=\"sk-toggleable__label sk-toggleable__label-arrow\">remainder</label><div class=\"sk-toggleable__content\"><pre>[&#x27;Pclass&#x27;, &#x27;SibSp&#x27;, &#x27;Sex&#x27;, &#x27;Parch&#x27;, &#x27;Fare&#x27;]</pre></div></div></div><div class=\"sk-serial\"><div class=\"sk-item\"><div class=\"sk-estimator sk-toggleable\"><input class=\"sk-toggleable__control sk-hidden--visually\" id=\"sk-estimator-id-265\" type=\"checkbox\" ><label for=\"sk-estimator-id-265\" class=\"sk-toggleable__label sk-toggleable__label-arrow\">passthrough</label><div class=\"sk-toggleable__content\"><pre>passthrough</pre></div></div></div></div></div></div></div></div><div class=\"sk-item sk-dashed-wrapped\"><div class=\"sk-label-container\"><div class=\"sk-label sk-toggleable\"><input class=\"sk-toggleable__control sk-hidden--visually\" id=\"sk-estimator-id-266\" type=\"checkbox\" ><label for=\"sk-estimator-id-266\" class=\"sk-toggleable__label sk-toggleable__label-arrow\">trf2: ColumnTransformer</label><div class=\"sk-toggleable__content\"><pre>ColumnTransformer(remainder=&#x27;passthrough&#x27;,\n",
       "                  transformers=[(&#x27;OHE_sex_Embarked&#x27;,\n",
       "                                 OneHotEncoder(handle_unknown=&#x27;ignore&#x27;,\n",
       "                                               sparse=False),\n",
       "                                 [2, 5])])</pre></div></div></div><div class=\"sk-parallel\"><div class=\"sk-parallel-item\"><div class=\"sk-item\"><div class=\"sk-label-container\"><div class=\"sk-label sk-toggleable\"><input class=\"sk-toggleable__control sk-hidden--visually\" id=\"sk-estimator-id-267\" type=\"checkbox\" ><label for=\"sk-estimator-id-267\" class=\"sk-toggleable__label sk-toggleable__label-arrow\">OHE_sex_Embarked</label><div class=\"sk-toggleable__content\"><pre>[2, 5]</pre></div></div></div><div class=\"sk-serial\"><div class=\"sk-item\"><div class=\"sk-estimator sk-toggleable\"><input class=\"sk-toggleable__control sk-hidden--visually\" id=\"sk-estimator-id-268\" type=\"checkbox\" ><label for=\"sk-estimator-id-268\" class=\"sk-toggleable__label sk-toggleable__label-arrow\">OneHotEncoder</label><div class=\"sk-toggleable__content\"><pre>OneHotEncoder(handle_unknown=&#x27;ignore&#x27;, sparse=False)</pre></div></div></div></div></div></div><div class=\"sk-parallel-item\"><div class=\"sk-item\"><div class=\"sk-label-container\"><div class=\"sk-label sk-toggleable\"><input class=\"sk-toggleable__control sk-hidden--visually\" id=\"sk-estimator-id-269\" type=\"checkbox\" ><label for=\"sk-estimator-id-269\" class=\"sk-toggleable__label sk-toggleable__label-arrow\">remainder</label><div class=\"sk-toggleable__content\"><pre>[0, 1, 3, 4, 6]</pre></div></div></div><div class=\"sk-serial\"><div class=\"sk-item\"><div class=\"sk-estimator sk-toggleable\"><input class=\"sk-toggleable__control sk-hidden--visually\" id=\"sk-estimator-id-270\" type=\"checkbox\" ><label for=\"sk-estimator-id-270\" class=\"sk-toggleable__label sk-toggleable__label-arrow\">passthrough</label><div class=\"sk-toggleable__content\"><pre>passthrough</pre></div></div></div></div></div></div></div></div><div class=\"sk-item sk-dashed-wrapped\"><div class=\"sk-label-container\"><div class=\"sk-label sk-toggleable\"><input class=\"sk-toggleable__control sk-hidden--visually\" id=\"sk-estimator-id-271\" type=\"checkbox\" ><label for=\"sk-estimator-id-271\" class=\"sk-toggleable__label sk-toggleable__label-arrow\">trf3: ColumnTransformer</label><div class=\"sk-toggleable__content\"><pre>ColumnTransformer(transformers=[(&#x27;scale&#x27;, MinMaxScaler(), slice(0, 10, None))])</pre></div></div></div><div class=\"sk-parallel\"><div class=\"sk-parallel-item\"><div class=\"sk-item\"><div class=\"sk-label-container\"><div class=\"sk-label sk-toggleable\"><input class=\"sk-toggleable__control sk-hidden--visually\" id=\"sk-estimator-id-272\" type=\"checkbox\" ><label for=\"sk-estimator-id-272\" class=\"sk-toggleable__label sk-toggleable__label-arrow\">scale</label><div class=\"sk-toggleable__content\"><pre>slice(0, 10, None)</pre></div></div></div><div class=\"sk-serial\"><div class=\"sk-item\"><div class=\"sk-estimator sk-toggleable\"><input class=\"sk-toggleable__control sk-hidden--visually\" id=\"sk-estimator-id-273\" type=\"checkbox\" ><label for=\"sk-estimator-id-273\" class=\"sk-toggleable__label sk-toggleable__label-arrow\">MinMaxScaler</label><div class=\"sk-toggleable__content\"><pre>MinMaxScaler()</pre></div></div></div></div></div></div></div></div><div class=\"sk-item\"><div class=\"sk-estimator sk-toggleable\"><input class=\"sk-toggleable__control sk-hidden--visually\" id=\"sk-estimator-id-274\" type=\"checkbox\" ><label for=\"sk-estimator-id-274\" class=\"sk-toggleable__label sk-toggleable__label-arrow\">SelectKBest</label><div class=\"sk-toggleable__content\"><pre>SelectKBest(score_func=&lt;function chi2 at 0x000001A98DC30310&gt;)</pre></div></div></div><div class=\"sk-item\"><div class=\"sk-estimator sk-toggleable\"><input class=\"sk-toggleable__control sk-hidden--visually\" id=\"sk-estimator-id-275\" type=\"checkbox\" ><label for=\"sk-estimator-id-275\" class=\"sk-toggleable__label sk-toggleable__label-arrow\">DecisionTreeClassifier</label><div class=\"sk-toggleable__content\"><pre>DecisionTreeClassifier()</pre></div></div></div></div></div></div></div>"
      ],
      "text/plain": [
       "Pipeline(steps=[('trf1',\n",
       "                 ColumnTransformer(remainder='passthrough',\n",
       "                                   transformers=[('impute_age',\n",
       "                                                  SimpleImputer(strategy='median'),\n",
       "                                                  [3]),\n",
       "                                                 ('impute_Embarked',\n",
       "                                                  SimpleImputer(strategy='most_frequent'),\n",
       "                                                  [5])])),\n",
       "                ('trf2',\n",
       "                 ColumnTransformer(remainder='passthrough',\n",
       "                                   transformers=[('OHE_sex_Embarked',\n",
       "                                                  OneHotEncoder(handle_unknown='ignore',\n",
       "                                                                sparse=False),\n",
       "                                                  [2, 5])])),\n",
       "                ('trf3',\n",
       "                 ColumnTransformer(transformers=[('scale', MinMaxScaler(),\n",
       "                                                  slice(0, 10, None))])),\n",
       "                ('trf4',\n",
       "                 SelectKBest(score_func=<function chi2 at 0x000001A98DC30310>)),\n",
       "                ('trf5', DecisionTreeClassifier())])"
      ]
     },
     "execution_count": 307,
     "metadata": {},
     "output_type": "execute_result"
    }
   ],
   "source": [
    "# Model Build Here\n",
    "pipe.fit(X_train,y_train)"
   ]
  },
  {
   "cell_type": "code",
   "execution_count": 308,
   "id": "4bb69709",
   "metadata": {},
   "outputs": [
    {
     "data": {
      "text/plain": [
       "{'trf1': ColumnTransformer(remainder='passthrough',\n",
       "                   transformers=[('impute_age', SimpleImputer(strategy='median'),\n",
       "                                  [3]),\n",
       "                                 ('impute_Embarked',\n",
       "                                  SimpleImputer(strategy='most_frequent'),\n",
       "                                  [5])]),\n",
       " 'trf2': ColumnTransformer(remainder='passthrough',\n",
       "                   transformers=[('OHE_sex_Embarked',\n",
       "                                  OneHotEncoder(handle_unknown='ignore',\n",
       "                                                sparse=False),\n",
       "                                  [2, 5])]),\n",
       " 'trf3': ColumnTransformer(transformers=[('scale', MinMaxScaler(), slice(0, 10, None))]),\n",
       " 'trf4': SelectKBest(score_func=<function chi2 at 0x000001A98DC30310>),\n",
       " 'trf5': DecisionTreeClassifier()}"
      ]
     },
     "execution_count": 308,
     "metadata": {},
     "output_type": "execute_result"
    }
   ],
   "source": [
    "# Explore all pipeline process\n",
    "pipe.named_steps"
   ]
  },
  {
   "cell_type": "code",
   "execution_count": 309,
   "id": "f0efcf22",
   "metadata": {},
   "outputs": [
    {
     "data": {
      "text/plain": [
       "array([28.])"
      ]
     },
     "execution_count": 309,
     "metadata": {},
     "output_type": "execute_result"
    }
   ],
   "source": [
    "pipe.named_steps['trf1'].transformers_[0][1].statistics_"
   ]
  },
  {
   "cell_type": "code",
   "execution_count": 310,
   "id": "813126de",
   "metadata": {},
   "outputs": [
    {
     "data": {
      "text/plain": [
       "array(['S'], dtype=object)"
      ]
     },
     "execution_count": 310,
     "metadata": {},
     "output_type": "execute_result"
    }
   ],
   "source": [
    "pipe.named_steps['trf1'].transformers_[1][1].statistics_"
   ]
  },
  {
   "cell_type": "code",
   "execution_count": 319,
   "id": "917e62d1",
   "metadata": {},
   "outputs": [],
   "source": [
    "def Model_prec_evaluate(*niraj):\n",
    "    y_pred = pipe.predict(X_test)\n",
    "    print('Actual y_test data:-',y_test[:5])\n",
    "    print('Hello!')\n",
    "    print('Predicted y_test data:-',y_pred[:5])\n",
    "    print('Accuracy of the Pipeline Logistic Regression:- %.2f%%'%accuracy_score(y_test,y_pred))\n",
    "    print(classification_report(y_test,y_pred))\n",
    "    Confusion_Mat = pd.crosstab(y_test, y_pred) \n",
    "    print('Confusion Matrix:-')\n",
    "    print(Confusion_Mat)"
   ]
  },
  {
   "cell_type": "code",
   "execution_count": 320,
   "id": "8bdc69f8",
   "metadata": {},
   "outputs": [
    {
     "name": "stdout",
     "output_type": "stream",
     "text": [
      "Actual y_test data:- 172    1\n",
      "524    0\n",
      "452    0\n",
      "170    0\n",
      "620    0\n",
      "Name: Survived, dtype: int64\n",
      "Hello!\n",
      "Predicted y_test data:- [0 0 1 0 1]\n",
      "Accuracy of the Pipeline Logistic Regression:- 0.68%\n",
      "              precision    recall  f1-score   support\n",
      "\n",
      "           0       0.71      0.83      0.77       114\n",
      "           1       0.58      0.40      0.47        65\n",
      "\n",
      "    accuracy                           0.68       179\n",
      "   macro avg       0.64      0.62      0.62       179\n",
      "weighted avg       0.66      0.68      0.66       179\n",
      "\n",
      "Confusion Matrix:-\n",
      "col_0      0   1\n",
      "Survived        \n",
      "0         95  19\n",
      "1         39  26\n",
      "Cross_Validation_Score of the DecisionTree nan%:-\n"
     ]
    }
   ],
   "source": [
    "Model_prec_evaluate(X_train,y_train)"
   ]
  },
  {
   "cell_type": "markdown",
   "id": "f0c7ea08",
   "metadata": {},
   "source": [
    "## Hyparameter Tunning pipe line"
   ]
  },
  {
   "cell_type": "code",
   "execution_count": 323,
   "id": "59a34be6",
   "metadata": {},
   "outputs": [],
   "source": [
    "# Using GridSearchCv\n",
    "param = {\n",
    "    'trf5__max_depth':[1,2,3,4,5,6,7,8]\n",
    "}"
   ]
  },
  {
   "cell_type": "code",
   "execution_count": 324,
   "id": "8a90c702",
   "metadata": {},
   "outputs": [
    {
     "data": {
      "text/html": [
       "<style>#sk-container-id-19 {color: black;background-color: white;}#sk-container-id-19 pre{padding: 0;}#sk-container-id-19 div.sk-toggleable {background-color: white;}#sk-container-id-19 label.sk-toggleable__label {cursor: pointer;display: block;width: 100%;margin-bottom: 0;padding: 0.3em;box-sizing: border-box;text-align: center;}#sk-container-id-19 label.sk-toggleable__label-arrow:before {content: \"▸\";float: left;margin-right: 0.25em;color: #696969;}#sk-container-id-19 label.sk-toggleable__label-arrow:hover:before {color: black;}#sk-container-id-19 div.sk-estimator:hover label.sk-toggleable__label-arrow:before {color: black;}#sk-container-id-19 div.sk-toggleable__content {max-height: 0;max-width: 0;overflow: hidden;text-align: left;background-color: #f0f8ff;}#sk-container-id-19 div.sk-toggleable__content pre {margin: 0.2em;color: black;border-radius: 0.25em;background-color: #f0f8ff;}#sk-container-id-19 input.sk-toggleable__control:checked~div.sk-toggleable__content {max-height: 200px;max-width: 100%;overflow: auto;}#sk-container-id-19 input.sk-toggleable__control:checked~label.sk-toggleable__label-arrow:before {content: \"▾\";}#sk-container-id-19 div.sk-estimator input.sk-toggleable__control:checked~label.sk-toggleable__label {background-color: #d4ebff;}#sk-container-id-19 div.sk-label input.sk-toggleable__control:checked~label.sk-toggleable__label {background-color: #d4ebff;}#sk-container-id-19 input.sk-hidden--visually {border: 0;clip: rect(1px 1px 1px 1px);clip: rect(1px, 1px, 1px, 1px);height: 1px;margin: -1px;overflow: hidden;padding: 0;position: absolute;width: 1px;}#sk-container-id-19 div.sk-estimator {font-family: monospace;background-color: #f0f8ff;border: 1px dotted black;border-radius: 0.25em;box-sizing: border-box;margin-bottom: 0.5em;}#sk-container-id-19 div.sk-estimator:hover {background-color: #d4ebff;}#sk-container-id-19 div.sk-parallel-item::after {content: \"\";width: 100%;border-bottom: 1px solid gray;flex-grow: 1;}#sk-container-id-19 div.sk-label:hover label.sk-toggleable__label {background-color: #d4ebff;}#sk-container-id-19 div.sk-serial::before {content: \"\";position: absolute;border-left: 1px solid gray;box-sizing: border-box;top: 0;bottom: 0;left: 50%;z-index: 0;}#sk-container-id-19 div.sk-serial {display: flex;flex-direction: column;align-items: center;background-color: white;padding-right: 0.2em;padding-left: 0.2em;position: relative;}#sk-container-id-19 div.sk-item {position: relative;z-index: 1;}#sk-container-id-19 div.sk-parallel {display: flex;align-items: stretch;justify-content: center;background-color: white;position: relative;}#sk-container-id-19 div.sk-item::before, #sk-container-id-19 div.sk-parallel-item::before {content: \"\";position: absolute;border-left: 1px solid gray;box-sizing: border-box;top: 0;bottom: 0;left: 50%;z-index: -1;}#sk-container-id-19 div.sk-parallel-item {display: flex;flex-direction: column;z-index: 1;position: relative;background-color: white;}#sk-container-id-19 div.sk-parallel-item:first-child::after {align-self: flex-end;width: 50%;}#sk-container-id-19 div.sk-parallel-item:last-child::after {align-self: flex-start;width: 50%;}#sk-container-id-19 div.sk-parallel-item:only-child::after {width: 0;}#sk-container-id-19 div.sk-dashed-wrapped {border: 1px dashed gray;margin: 0 0.4em 0.5em 0.4em;box-sizing: border-box;padding-bottom: 0.4em;background-color: white;}#sk-container-id-19 div.sk-label label {font-family: monospace;font-weight: bold;display: inline-block;line-height: 1.2em;}#sk-container-id-19 div.sk-label-container {text-align: center;}#sk-container-id-19 div.sk-container {/* jupyter's `normalize.less` sets `[hidden] { display: none; }` but bootstrap.min.css set `[hidden] { display: none !important; }` so we also need the `!important` here to be able to override the default hidden behavior on the sphinx rendered scikit-learn.org. See: https://github.com/scikit-learn/scikit-learn/issues/21755 */display: inline-block !important;position: relative;}#sk-container-id-19 div.sk-text-repr-fallback {display: none;}</style><div id=\"sk-container-id-19\" class=\"sk-top-container\"><div class=\"sk-text-repr-fallback\"><pre>GridSearchCV(cv=5,\n",
       "             estimator=Pipeline(steps=[(&#x27;trf1&#x27;,\n",
       "                                        ColumnTransformer(remainder=&#x27;passthrough&#x27;,\n",
       "                                                          transformers=[(&#x27;impute_age&#x27;,\n",
       "                                                                         SimpleImputer(strategy=&#x27;median&#x27;),\n",
       "                                                                         [3]),\n",
       "                                                                        (&#x27;impute_Embarked&#x27;,\n",
       "                                                                         SimpleImputer(strategy=&#x27;most_frequent&#x27;),\n",
       "                                                                         [5])])),\n",
       "                                       (&#x27;trf2&#x27;,\n",
       "                                        ColumnTransformer(remainder=&#x27;passthrough&#x27;,\n",
       "                                                          transformers=[(&#x27;OHE_sex_Embarked&#x27;,\n",
       "                                                                         OneHotEncoder(handle_unknown=&#x27;ignore&#x27;,\n",
       "                                                                                       sparse=False),\n",
       "                                                                         [2,\n",
       "                                                                          5])])),\n",
       "                                       (&#x27;trf3&#x27;,\n",
       "                                        ColumnTransformer(transformers=[(&#x27;scale&#x27;,\n",
       "                                                                         MinMaxScaler(),\n",
       "                                                                         slice(0, 10, None))])),\n",
       "                                       (&#x27;trf4&#x27;,\n",
       "                                        SelectKBest(score_func=&lt;function chi2 at 0x000001A98DC30310&gt;)),\n",
       "                                       (&#x27;trf5&#x27;, DecisionTreeClassifier())]),\n",
       "             param_grid={&#x27;trf5__max_depth&#x27;: [1, 2, 3, 4, 5, 6, 7, 8]},\n",
       "             scoring=&#x27;accuracy&#x27;)</pre><b>In a Jupyter environment, please rerun this cell to show the HTML representation or trust the notebook. <br />On GitHub, the HTML representation is unable to render, please try loading this page with nbviewer.org.</b></div><div class=\"sk-container\" hidden><div class=\"sk-item sk-dashed-wrapped\"><div class=\"sk-label-container\"><div class=\"sk-label sk-toggleable\"><input class=\"sk-toggleable__control sk-hidden--visually\" id=\"sk-estimator-id-295\" type=\"checkbox\" ><label for=\"sk-estimator-id-295\" class=\"sk-toggleable__label sk-toggleable__label-arrow\">GridSearchCV</label><div class=\"sk-toggleable__content\"><pre>GridSearchCV(cv=5,\n",
       "             estimator=Pipeline(steps=[(&#x27;trf1&#x27;,\n",
       "                                        ColumnTransformer(remainder=&#x27;passthrough&#x27;,\n",
       "                                                          transformers=[(&#x27;impute_age&#x27;,\n",
       "                                                                         SimpleImputer(strategy=&#x27;median&#x27;),\n",
       "                                                                         [3]),\n",
       "                                                                        (&#x27;impute_Embarked&#x27;,\n",
       "                                                                         SimpleImputer(strategy=&#x27;most_frequent&#x27;),\n",
       "                                                                         [5])])),\n",
       "                                       (&#x27;trf2&#x27;,\n",
       "                                        ColumnTransformer(remainder=&#x27;passthrough&#x27;,\n",
       "                                                          transformers=[(&#x27;OHE_sex_Embarked&#x27;,\n",
       "                                                                         OneHotEncoder(handle_unknown=&#x27;ignore&#x27;,\n",
       "                                                                                       sparse=False),\n",
       "                                                                         [2,\n",
       "                                                                          5])])),\n",
       "                                       (&#x27;trf3&#x27;,\n",
       "                                        ColumnTransformer(transformers=[(&#x27;scale&#x27;,\n",
       "                                                                         MinMaxScaler(),\n",
       "                                                                         slice(0, 10, None))])),\n",
       "                                       (&#x27;trf4&#x27;,\n",
       "                                        SelectKBest(score_func=&lt;function chi2 at 0x000001A98DC30310&gt;)),\n",
       "                                       (&#x27;trf5&#x27;, DecisionTreeClassifier())]),\n",
       "             param_grid={&#x27;trf5__max_depth&#x27;: [1, 2, 3, 4, 5, 6, 7, 8]},\n",
       "             scoring=&#x27;accuracy&#x27;)</pre></div></div></div><div class=\"sk-parallel\"><div class=\"sk-parallel-item\"><div class=\"sk-item\"><div class=\"sk-label-container\"><div class=\"sk-label sk-toggleable\"><input class=\"sk-toggleable__control sk-hidden--visually\" id=\"sk-estimator-id-296\" type=\"checkbox\" ><label for=\"sk-estimator-id-296\" class=\"sk-toggleable__label sk-toggleable__label-arrow\">estimator: Pipeline</label><div class=\"sk-toggleable__content\"><pre>Pipeline(steps=[(&#x27;trf1&#x27;,\n",
       "                 ColumnTransformer(remainder=&#x27;passthrough&#x27;,\n",
       "                                   transformers=[(&#x27;impute_age&#x27;,\n",
       "                                                  SimpleImputer(strategy=&#x27;median&#x27;),\n",
       "                                                  [3]),\n",
       "                                                 (&#x27;impute_Embarked&#x27;,\n",
       "                                                  SimpleImputer(strategy=&#x27;most_frequent&#x27;),\n",
       "                                                  [5])])),\n",
       "                (&#x27;trf2&#x27;,\n",
       "                 ColumnTransformer(remainder=&#x27;passthrough&#x27;,\n",
       "                                   transformers=[(&#x27;OHE_sex_Embarked&#x27;,\n",
       "                                                  OneHotEncoder(handle_unknown=&#x27;ignore&#x27;,\n",
       "                                                                sparse=False),\n",
       "                                                  [2, 5])])),\n",
       "                (&#x27;trf3&#x27;,\n",
       "                 ColumnTransformer(transformers=[(&#x27;scale&#x27;, MinMaxScaler(),\n",
       "                                                  slice(0, 10, None))])),\n",
       "                (&#x27;trf4&#x27;,\n",
       "                 SelectKBest(score_func=&lt;function chi2 at 0x000001A98DC30310&gt;)),\n",
       "                (&#x27;trf5&#x27;, DecisionTreeClassifier())])</pre></div></div></div><div class=\"sk-serial\"><div class=\"sk-item\"><div class=\"sk-serial\"><div class=\"sk-item sk-dashed-wrapped\"><div class=\"sk-label-container\"><div class=\"sk-label sk-toggleable\"><input class=\"sk-toggleable__control sk-hidden--visually\" id=\"sk-estimator-id-297\" type=\"checkbox\" ><label for=\"sk-estimator-id-297\" class=\"sk-toggleable__label sk-toggleable__label-arrow\">trf1: ColumnTransformer</label><div class=\"sk-toggleable__content\"><pre>ColumnTransformer(remainder=&#x27;passthrough&#x27;,\n",
       "                  transformers=[(&#x27;impute_age&#x27;, SimpleImputer(strategy=&#x27;median&#x27;),\n",
       "                                 [3]),\n",
       "                                (&#x27;impute_Embarked&#x27;,\n",
       "                                 SimpleImputer(strategy=&#x27;most_frequent&#x27;),\n",
       "                                 [5])])</pre></div></div></div><div class=\"sk-parallel\"><div class=\"sk-parallel-item\"><div class=\"sk-item\"><div class=\"sk-label-container\"><div class=\"sk-label sk-toggleable\"><input class=\"sk-toggleable__control sk-hidden--visually\" id=\"sk-estimator-id-298\" type=\"checkbox\" ><label for=\"sk-estimator-id-298\" class=\"sk-toggleable__label sk-toggleable__label-arrow\">impute_age</label><div class=\"sk-toggleable__content\"><pre>[3]</pre></div></div></div><div class=\"sk-serial\"><div class=\"sk-item\"><div class=\"sk-estimator sk-toggleable\"><input class=\"sk-toggleable__control sk-hidden--visually\" id=\"sk-estimator-id-299\" type=\"checkbox\" ><label for=\"sk-estimator-id-299\" class=\"sk-toggleable__label sk-toggleable__label-arrow\">SimpleImputer</label><div class=\"sk-toggleable__content\"><pre>SimpleImputer(strategy=&#x27;median&#x27;)</pre></div></div></div></div></div></div><div class=\"sk-parallel-item\"><div class=\"sk-item\"><div class=\"sk-label-container\"><div class=\"sk-label sk-toggleable\"><input class=\"sk-toggleable__control sk-hidden--visually\" id=\"sk-estimator-id-300\" type=\"checkbox\" ><label for=\"sk-estimator-id-300\" class=\"sk-toggleable__label sk-toggleable__label-arrow\">impute_Embarked</label><div class=\"sk-toggleable__content\"><pre>[5]</pre></div></div></div><div class=\"sk-serial\"><div class=\"sk-item\"><div class=\"sk-estimator sk-toggleable\"><input class=\"sk-toggleable__control sk-hidden--visually\" id=\"sk-estimator-id-301\" type=\"checkbox\" ><label for=\"sk-estimator-id-301\" class=\"sk-toggleable__label sk-toggleable__label-arrow\">SimpleImputer</label><div class=\"sk-toggleable__content\"><pre>SimpleImputer(strategy=&#x27;most_frequent&#x27;)</pre></div></div></div></div></div></div><div class=\"sk-parallel-item\"><div class=\"sk-item\"><div class=\"sk-label-container\"><div class=\"sk-label sk-toggleable\"><input class=\"sk-toggleable__control sk-hidden--visually\" id=\"sk-estimator-id-302\" type=\"checkbox\" ><label for=\"sk-estimator-id-302\" class=\"sk-toggleable__label sk-toggleable__label-arrow\">remainder</label><div class=\"sk-toggleable__content\"><pre>[&#x27;Pclass&#x27;, &#x27;SibSp&#x27;, &#x27;Sex&#x27;, &#x27;Parch&#x27;, &#x27;Fare&#x27;]</pre></div></div></div><div class=\"sk-serial\"><div class=\"sk-item\"><div class=\"sk-estimator sk-toggleable\"><input class=\"sk-toggleable__control sk-hidden--visually\" id=\"sk-estimator-id-303\" type=\"checkbox\" ><label for=\"sk-estimator-id-303\" class=\"sk-toggleable__label sk-toggleable__label-arrow\">passthrough</label><div class=\"sk-toggleable__content\"><pre>passthrough</pre></div></div></div></div></div></div></div></div><div class=\"sk-item sk-dashed-wrapped\"><div class=\"sk-label-container\"><div class=\"sk-label sk-toggleable\"><input class=\"sk-toggleable__control sk-hidden--visually\" id=\"sk-estimator-id-304\" type=\"checkbox\" ><label for=\"sk-estimator-id-304\" class=\"sk-toggleable__label sk-toggleable__label-arrow\">trf2: ColumnTransformer</label><div class=\"sk-toggleable__content\"><pre>ColumnTransformer(remainder=&#x27;passthrough&#x27;,\n",
       "                  transformers=[(&#x27;OHE_sex_Embarked&#x27;,\n",
       "                                 OneHotEncoder(handle_unknown=&#x27;ignore&#x27;,\n",
       "                                               sparse=False),\n",
       "                                 [2, 5])])</pre></div></div></div><div class=\"sk-parallel\"><div class=\"sk-parallel-item\"><div class=\"sk-item\"><div class=\"sk-label-container\"><div class=\"sk-label sk-toggleable\"><input class=\"sk-toggleable__control sk-hidden--visually\" id=\"sk-estimator-id-305\" type=\"checkbox\" ><label for=\"sk-estimator-id-305\" class=\"sk-toggleable__label sk-toggleable__label-arrow\">OHE_sex_Embarked</label><div class=\"sk-toggleable__content\"><pre>[2, 5]</pre></div></div></div><div class=\"sk-serial\"><div class=\"sk-item\"><div class=\"sk-estimator sk-toggleable\"><input class=\"sk-toggleable__control sk-hidden--visually\" id=\"sk-estimator-id-306\" type=\"checkbox\" ><label for=\"sk-estimator-id-306\" class=\"sk-toggleable__label sk-toggleable__label-arrow\">OneHotEncoder</label><div class=\"sk-toggleable__content\"><pre>OneHotEncoder(handle_unknown=&#x27;ignore&#x27;, sparse=False)</pre></div></div></div></div></div></div><div class=\"sk-parallel-item\"><div class=\"sk-item\"><div class=\"sk-label-container\"><div class=\"sk-label sk-toggleable\"><input class=\"sk-toggleable__control sk-hidden--visually\" id=\"sk-estimator-id-307\" type=\"checkbox\" ><label for=\"sk-estimator-id-307\" class=\"sk-toggleable__label sk-toggleable__label-arrow\">remainder</label><div class=\"sk-toggleable__content\"><pre>[0, 1, 3, 4, 6]</pre></div></div></div><div class=\"sk-serial\"><div class=\"sk-item\"><div class=\"sk-estimator sk-toggleable\"><input class=\"sk-toggleable__control sk-hidden--visually\" id=\"sk-estimator-id-308\" type=\"checkbox\" ><label for=\"sk-estimator-id-308\" class=\"sk-toggleable__label sk-toggleable__label-arrow\">passthrough</label><div class=\"sk-toggleable__content\"><pre>passthrough</pre></div></div></div></div></div></div></div></div><div class=\"sk-item sk-dashed-wrapped\"><div class=\"sk-label-container\"><div class=\"sk-label sk-toggleable\"><input class=\"sk-toggleable__control sk-hidden--visually\" id=\"sk-estimator-id-309\" type=\"checkbox\" ><label for=\"sk-estimator-id-309\" class=\"sk-toggleable__label sk-toggleable__label-arrow\">trf3: ColumnTransformer</label><div class=\"sk-toggleable__content\"><pre>ColumnTransformer(transformers=[(&#x27;scale&#x27;, MinMaxScaler(), slice(0, 10, None))])</pre></div></div></div><div class=\"sk-parallel\"><div class=\"sk-parallel-item\"><div class=\"sk-item\"><div class=\"sk-label-container\"><div class=\"sk-label sk-toggleable\"><input class=\"sk-toggleable__control sk-hidden--visually\" id=\"sk-estimator-id-310\" type=\"checkbox\" ><label for=\"sk-estimator-id-310\" class=\"sk-toggleable__label sk-toggleable__label-arrow\">scale</label><div class=\"sk-toggleable__content\"><pre>slice(0, 10, None)</pre></div></div></div><div class=\"sk-serial\"><div class=\"sk-item\"><div class=\"sk-estimator sk-toggleable\"><input class=\"sk-toggleable__control sk-hidden--visually\" id=\"sk-estimator-id-311\" type=\"checkbox\" ><label for=\"sk-estimator-id-311\" class=\"sk-toggleable__label sk-toggleable__label-arrow\">MinMaxScaler</label><div class=\"sk-toggleable__content\"><pre>MinMaxScaler()</pre></div></div></div></div></div></div></div></div><div class=\"sk-item\"><div class=\"sk-estimator sk-toggleable\"><input class=\"sk-toggleable__control sk-hidden--visually\" id=\"sk-estimator-id-312\" type=\"checkbox\" ><label for=\"sk-estimator-id-312\" class=\"sk-toggleable__label sk-toggleable__label-arrow\">SelectKBest</label><div class=\"sk-toggleable__content\"><pre>SelectKBest(score_func=&lt;function chi2 at 0x000001A98DC30310&gt;)</pre></div></div></div><div class=\"sk-item\"><div class=\"sk-estimator sk-toggleable\"><input class=\"sk-toggleable__control sk-hidden--visually\" id=\"sk-estimator-id-313\" type=\"checkbox\" ><label for=\"sk-estimator-id-313\" class=\"sk-toggleable__label sk-toggleable__label-arrow\">DecisionTreeClassifier</label><div class=\"sk-toggleable__content\"><pre>DecisionTreeClassifier()</pre></div></div></div></div></div></div></div></div></div></div></div></div>"
      ],
      "text/plain": [
       "GridSearchCV(cv=5,\n",
       "             estimator=Pipeline(steps=[('trf1',\n",
       "                                        ColumnTransformer(remainder='passthrough',\n",
       "                                                          transformers=[('impute_age',\n",
       "                                                                         SimpleImputer(strategy='median'),\n",
       "                                                                         [3]),\n",
       "                                                                        ('impute_Embarked',\n",
       "                                                                         SimpleImputer(strategy='most_frequent'),\n",
       "                                                                         [5])])),\n",
       "                                       ('trf2',\n",
       "                                        ColumnTransformer(remainder='passthrough',\n",
       "                                                          transformers=[('OHE_sex_Embarked',\n",
       "                                                                         OneHotEncoder(handle_unknown='ignore',\n",
       "                                                                                       sparse=False),\n",
       "                                                                         [2,\n",
       "                                                                          5])])),\n",
       "                                       ('trf3',\n",
       "                                        ColumnTransformer(transformers=[('scale',\n",
       "                                                                         MinMaxScaler(),\n",
       "                                                                         slice(0, 10, None))])),\n",
       "                                       ('trf4',\n",
       "                                        SelectKBest(score_func=<function chi2 at 0x000001A98DC30310>)),\n",
       "                                       ('trf5', DecisionTreeClassifier())]),\n",
       "             param_grid={'trf5__max_depth': [1, 2, 3, 4, 5, 6, 7, 8]},\n",
       "             scoring='accuracy')"
      ]
     },
     "execution_count": 324,
     "metadata": {},
     "output_type": "execute_result"
    }
   ],
   "source": [
    "grid = GridSearchCV(pipe,param,cv=5,scoring='accuracy')\n",
    "grid.fit(X_train,y_train)"
   ]
  },
  {
   "cell_type": "code",
   "execution_count": 325,
   "id": "3582e423",
   "metadata": {},
   "outputs": [
    {
     "data": {
      "text/plain": [
       "nan"
      ]
     },
     "execution_count": 325,
     "metadata": {},
     "output_type": "execute_result"
    }
   ],
   "source": [
    "# ckeck best score\n",
    "grid.best_score_"
   ]
  },
  {
   "cell_type": "code",
   "execution_count": 326,
   "id": "d8d8dc00",
   "metadata": {},
   "outputs": [
    {
     "data": {
      "text/plain": [
       "{'trf5__max_depth': 1}"
      ]
     },
     "execution_count": 326,
     "metadata": {},
     "output_type": "execute_result"
    }
   ],
   "source": [
    "# Check best parameter\n",
    "grid.best_params_"
   ]
  },
  {
   "cell_type": "markdown",
   "id": "1992bf2d",
   "metadata": {},
   "source": [
    "# Exporting the pipeline"
   ]
  },
  {
   "cell_type": "code",
   "execution_count": 327,
   "id": "b9489ff1",
   "metadata": {},
   "outputs": [],
   "source": [
    "# Export\n",
    "pickle.dump(pipe,open('C:\\\\Users\\\\DELL\\\\OneDrive\\\\Desktop\\\\My project\\\\Titanic Project Using piplinepipe.pkl','wb'))"
   ]
  },
  {
   "cell_type": "markdown",
   "id": "d76f686d",
   "metadata": {},
   "source": [
    "# Titanic-data-using-pipeline predict"
   ]
  },
  {
   "cell_type": "code",
   "execution_count": 329,
   "id": "04388cbc",
   "metadata": {},
   "outputs": [],
   "source": [
    "data = pd.read_csv('C:\\\\Users\\\\DELL\\\\OneDrive\\\\Desktop\\\\Download\\\\Titanic dataset.csv')"
   ]
  },
  {
   "cell_type": "code",
   "execution_count": 330,
   "id": "74cea1b7",
   "metadata": {},
   "outputs": [
    {
     "data": {
      "text/html": [
       "<div>\n",
       "<style scoped>\n",
       "    .dataframe tbody tr th:only-of-type {\n",
       "        vertical-align: middle;\n",
       "    }\n",
       "\n",
       "    .dataframe tbody tr th {\n",
       "        vertical-align: top;\n",
       "    }\n",
       "\n",
       "    .dataframe thead th {\n",
       "        text-align: right;\n",
       "    }\n",
       "</style>\n",
       "<table border=\"1\" class=\"dataframe\">\n",
       "  <thead>\n",
       "    <tr style=\"text-align: right;\">\n",
       "      <th></th>\n",
       "      <th>PassengerId</th>\n",
       "      <th>Survived</th>\n",
       "      <th>Pclass</th>\n",
       "      <th>Name</th>\n",
       "      <th>Sex</th>\n",
       "      <th>Age</th>\n",
       "      <th>SibSp</th>\n",
       "      <th>Parch</th>\n",
       "      <th>Ticket</th>\n",
       "      <th>Fare</th>\n",
       "      <th>Cabin</th>\n",
       "      <th>Embarked</th>\n",
       "    </tr>\n",
       "  </thead>\n",
       "  <tbody>\n",
       "    <tr>\n",
       "      <th>0</th>\n",
       "      <td>1</td>\n",
       "      <td>0</td>\n",
       "      <td>3</td>\n",
       "      <td>Braund, Mr. Owen Harris</td>\n",
       "      <td>male</td>\n",
       "      <td>22.0</td>\n",
       "      <td>1</td>\n",
       "      <td>0</td>\n",
       "      <td>A/5 21171</td>\n",
       "      <td>7.25</td>\n",
       "      <td>NaN</td>\n",
       "      <td>S</td>\n",
       "    </tr>\n",
       "  </tbody>\n",
       "</table>\n",
       "</div>"
      ],
      "text/plain": [
       "   PassengerId  Survived  Pclass                     Name   Sex   Age  SibSp  Parch     Ticket  Fare Cabin Embarked\n",
       "0            1         0       3  Braund, Mr. Owen Harris  male  22.0      1      0  A/5 21171  7.25   NaN        S"
      ]
     },
     "execution_count": 330,
     "metadata": {},
     "output_type": "execute_result"
    }
   ],
   "source": [
    "data.head(1)"
   ]
  },
  {
   "cell_type": "code",
   "execution_count": 331,
   "id": "025ea1ef",
   "metadata": {},
   "outputs": [
    {
     "data": {
      "text/plain": [
       "Index(['PassengerId', 'Survived', 'Pclass', 'Name', 'Sex', 'Age', 'SibSp', 'Parch', 'Ticket', 'Fare', 'Cabin', 'Embarked'], dtype='object')"
      ]
     },
     "execution_count": 331,
     "metadata": {},
     "output_type": "execute_result"
    }
   ],
   "source": [
    "data.columns"
   ]
  },
  {
   "cell_type": "code",
   "execution_count": 332,
   "id": "0a7a37cb",
   "metadata": {},
   "outputs": [],
   "source": [
    "# Import the pipeline\n",
    "pipe = pickle.load(open('C:\\\\Users\\\\DELL\\\\OneDrive\\\\Desktop\\\\My project\\\\Titanic Project Using piplinepipe.pkl','rb'))"
   ]
  },
  {
   "cell_type": "markdown",
   "id": "7231b5f7",
   "metadata": {},
   "source": [
    "# User imput"
   ]
  },
  {
   "cell_type": "code",
   "execution_count": 333,
   "id": "7005fbf0",
   "metadata": {},
   "outputs": [],
   "source": [
    "# Assume user input\n",
    "test_input = np.array([3,'female',41.0 , 0, 0, 10.5, 'S'],dtype=object).reshape(1,7)"
   ]
  },
  {
   "cell_type": "code",
   "execution_count": 334,
   "id": "7a97733c",
   "metadata": {},
   "outputs": [
    {
     "data": {
      "text/plain": [
       "array([1], dtype=int64)"
      ]
     },
     "execution_count": 334,
     "metadata": {},
     "output_type": "execute_result"
    }
   ],
   "source": [
    "pipe.predict(test_input)"
   ]
  },
  {
   "cell_type": "code",
   "execution_count": null,
   "id": "9427c38a",
   "metadata": {},
   "outputs": [],
   "source": []
  }
 ],
 "metadata": {
  "kernelspec": {
   "display_name": "Python 3 (ipykernel)",
   "language": "python",
   "name": "python3"
  },
  "language_info": {
   "codemirror_mode": {
    "name": "ipython",
    "version": 3
   },
   "file_extension": ".py",
   "mimetype": "text/x-python",
   "name": "python",
   "nbconvert_exporter": "python",
   "pygments_lexer": "ipython3",
   "version": "3.9.12"
  }
 },
 "nbformat": 4,
 "nbformat_minor": 5
}
