{
 "cells": [
  {
   "cell_type": "markdown",
   "id": "b309c5c5",
   "metadata": {},
   "source": [
    "# Regression problem"
   ]
  },
  {
   "cell_type": "markdown",
   "id": "c7f4ed00",
   "metadata": {},
   "source": [
    "## Import All Libaray"
   ]
  },
  {
   "cell_type": "code",
   "execution_count": 43,
   "id": "afa35595",
   "metadata": {},
   "outputs": [],
   "source": [
    "import pandas as pd\n",
    "import numpy as np\n",
    "import matplotlib.pyplot as plt\n",
    "import seaborn as sns\n",
    "from matplotlib.pyplot import figure\n",
    "import os\n",
    "import warnings\n",
    "warnings.filterwarnings('ignore')\n",
    "from sklearn.model_selection import train_test_split\n",
    "from sklearn.linear_model import LinearRegression\n",
    "from sklearn.neighbors import KNeighborsRegressor\n",
    "from sklearn.ensemble import RandomForestRegressor\n",
    "from sklearn.tree import DecisionTreeRegressor\n",
    "from sklearn.svm import SVR"
   ]
  },
  {
   "cell_type": "code",
   "execution_count": 11,
   "id": "29317d7e",
   "metadata": {},
   "outputs": [],
   "source": [
    "# # Set Display of Monitor\n",
    "pd.set_option('Display.max_rows',500)\n",
    "pd.set_option('Display.max_columns',500)\n",
    "pd.set_option('Display.width',1000)"
   ]
  },
  {
   "cell_type": "markdown",
   "id": "1a0567de",
   "metadata": {},
   "source": [
    "# Data Read and Explore and Understand"
   ]
  },
  {
   "cell_type": "code",
   "execution_count": 4,
   "id": "43cb5fe4",
   "metadata": {},
   "outputs": [
    {
     "data": {
      "text/plain": [
       "'C:\\\\Users\\\\DELL'"
      ]
     },
     "execution_count": 4,
     "metadata": {},
     "output_type": "execute_result"
    }
   ],
   "source": [
    "os.getcwd()"
   ]
  },
  {
   "cell_type": "code",
   "execution_count": 21,
   "id": "568af2ca",
   "metadata": {},
   "outputs": [],
   "source": [
    "os.chdir('C:/Users/DELL/OneDrive/Desktop/Download')"
   ]
  },
  {
   "cell_type": "code",
   "execution_count": 22,
   "id": "3c90695f",
   "metadata": {},
   "outputs": [],
   "source": [
    "data = pd.read_csv('housing data.csv')"
   ]
  },
  {
   "cell_type": "code",
   "execution_count": 23,
   "id": "80520f07",
   "metadata": {},
   "outputs": [],
   "source": [
    "final = data.copy()"
   ]
  },
  {
   "cell_type": "code",
   "execution_count": 24,
   "id": "33a640fe",
   "metadata": {},
   "outputs": [
    {
     "data": {
      "text/html": [
       "<div>\n",
       "<style scoped>\n",
       "    .dataframe tbody tr th:only-of-type {\n",
       "        vertical-align: middle;\n",
       "    }\n",
       "\n",
       "    .dataframe tbody tr th {\n",
       "        vertical-align: top;\n",
       "    }\n",
       "\n",
       "    .dataframe thead th {\n",
       "        text-align: right;\n",
       "    }\n",
       "</style>\n",
       "<table border=\"1\" class=\"dataframe\">\n",
       "  <thead>\n",
       "    <tr style=\"text-align: right;\">\n",
       "      <th></th>\n",
       "      <th>Id</th>\n",
       "      <th>OverallQual</th>\n",
       "      <th>YearBuilt</th>\n",
       "      <th>TotalBsmtSF</th>\n",
       "      <th>Electrical</th>\n",
       "      <th>GrLivArea</th>\n",
       "      <th>FullBath</th>\n",
       "      <th>GarageType</th>\n",
       "      <th>GarageCars</th>\n",
       "      <th>GarageArea</th>\n",
       "      <th>Fence</th>\n",
       "      <th>MiscFeature</th>\n",
       "      <th>SalePrice</th>\n",
       "    </tr>\n",
       "  </thead>\n",
       "  <tbody>\n",
       "    <tr>\n",
       "      <th>0</th>\n",
       "      <td>1</td>\n",
       "      <td>7</td>\n",
       "      <td>2003</td>\n",
       "      <td>856</td>\n",
       "      <td>SBrkr</td>\n",
       "      <td>1710</td>\n",
       "      <td>2</td>\n",
       "      <td>Attchd</td>\n",
       "      <td>2</td>\n",
       "      <td>548</td>\n",
       "      <td>NaN</td>\n",
       "      <td>NaN</td>\n",
       "      <td>208500</td>\n",
       "    </tr>\n",
       "    <tr>\n",
       "      <th>1</th>\n",
       "      <td>2</td>\n",
       "      <td>6</td>\n",
       "      <td>1976</td>\n",
       "      <td>1262</td>\n",
       "      <td>SBrkr</td>\n",
       "      <td>1262</td>\n",
       "      <td>2</td>\n",
       "      <td>Attchd</td>\n",
       "      <td>2</td>\n",
       "      <td>460</td>\n",
       "      <td>NaN</td>\n",
       "      <td>NaN</td>\n",
       "      <td>181500</td>\n",
       "    </tr>\n",
       "    <tr>\n",
       "      <th>2</th>\n",
       "      <td>3</td>\n",
       "      <td>7</td>\n",
       "      <td>2001</td>\n",
       "      <td>920</td>\n",
       "      <td>SBrkr</td>\n",
       "      <td>1786</td>\n",
       "      <td>2</td>\n",
       "      <td>Attchd</td>\n",
       "      <td>2</td>\n",
       "      <td>608</td>\n",
       "      <td>NaN</td>\n",
       "      <td>NaN</td>\n",
       "      <td>223500</td>\n",
       "    </tr>\n",
       "  </tbody>\n",
       "</table>\n",
       "</div>"
      ],
      "text/plain": [
       "   Id  OverallQual  YearBuilt  TotalBsmtSF Electrical  GrLivArea  FullBath  \\\n",
       "0   1            7       2003          856      SBrkr       1710         2   \n",
       "1   2            6       1976         1262      SBrkr       1262         2   \n",
       "2   3            7       2001          920      SBrkr       1786         2   \n",
       "\n",
       "  GarageType  GarageCars  GarageArea Fence MiscFeature  SalePrice  \n",
       "0     Attchd           2         548   NaN         NaN     208500  \n",
       "1     Attchd           2         460   NaN         NaN     181500  \n",
       "2     Attchd           2         608   NaN         NaN     223500  "
      ]
     },
     "execution_count": 24,
     "metadata": {},
     "output_type": "execute_result"
    }
   ],
   "source": [
    "final.head(3)"
   ]
  },
  {
   "cell_type": "code",
   "execution_count": 25,
   "id": "3d66e8f4",
   "metadata": {},
   "outputs": [
    {
     "data": {
      "text/html": [
       "<div>\n",
       "<style scoped>\n",
       "    .dataframe tbody tr th:only-of-type {\n",
       "        vertical-align: middle;\n",
       "    }\n",
       "\n",
       "    .dataframe tbody tr th {\n",
       "        vertical-align: top;\n",
       "    }\n",
       "\n",
       "    .dataframe thead th {\n",
       "        text-align: right;\n",
       "    }\n",
       "</style>\n",
       "<table border=\"1\" class=\"dataframe\">\n",
       "  <thead>\n",
       "    <tr style=\"text-align: right;\">\n",
       "      <th></th>\n",
       "      <th>Id</th>\n",
       "      <th>OverallQual</th>\n",
       "      <th>YearBuilt</th>\n",
       "      <th>TotalBsmtSF</th>\n",
       "      <th>Electrical</th>\n",
       "      <th>GrLivArea</th>\n",
       "      <th>FullBath</th>\n",
       "      <th>GarageType</th>\n",
       "      <th>GarageCars</th>\n",
       "      <th>GarageArea</th>\n",
       "      <th>Fence</th>\n",
       "      <th>MiscFeature</th>\n",
       "      <th>SalePrice</th>\n",
       "    </tr>\n",
       "  </thead>\n",
       "  <tbody>\n",
       "    <tr>\n",
       "      <th>1415</th>\n",
       "      <td>1416</td>\n",
       "      <td>7</td>\n",
       "      <td>1941</td>\n",
       "      <td>1152</td>\n",
       "      <td>SBrkr</td>\n",
       "      <td>2340</td>\n",
       "      <td>2</td>\n",
       "      <td>Attchd</td>\n",
       "      <td>1</td>\n",
       "      <td>252</td>\n",
       "      <td>GdPrv</td>\n",
       "      <td>Shed</td>\n",
       "      <td>266500</td>\n",
       "    </tr>\n",
       "    <tr>\n",
       "      <th>1416</th>\n",
       "      <td>1417</td>\n",
       "      <td>5</td>\n",
       "      <td>1950</td>\n",
       "      <td>1078</td>\n",
       "      <td>FuseA</td>\n",
       "      <td>1078</td>\n",
       "      <td>1</td>\n",
       "      <td>NaN</td>\n",
       "      <td>1</td>\n",
       "      <td>240</td>\n",
       "      <td>NaN</td>\n",
       "      <td>NaN</td>\n",
       "      <td>142125</td>\n",
       "    </tr>\n",
       "    <tr>\n",
       "      <th>1417</th>\n",
       "      <td>1418</td>\n",
       "      <td>5</td>\n",
       "      <td>1965</td>\n",
       "      <td>1256</td>\n",
       "      <td>SBrkr</td>\n",
       "      <td>1256</td>\n",
       "      <td>1</td>\n",
       "      <td>Attchd</td>\n",
       "      <td>1</td>\n",
       "      <td>276</td>\n",
       "      <td>NaN</td>\n",
       "      <td>NaN</td>\n",
       "      <td>147500</td>\n",
       "    </tr>\n",
       "  </tbody>\n",
       "</table>\n",
       "</div>"
      ],
      "text/plain": [
       "        Id  OverallQual  YearBuilt  TotalBsmtSF Electrical  GrLivArea  \\\n",
       "1415  1416            7       1941         1152      SBrkr       2340   \n",
       "1416  1417            5       1950         1078      FuseA       1078   \n",
       "1417  1418            5       1965         1256      SBrkr       1256   \n",
       "\n",
       "      FullBath GarageType  GarageCars  GarageArea  Fence MiscFeature  \\\n",
       "1415         2     Attchd           1         252  GdPrv        Shed   \n",
       "1416         1        NaN           1         240    NaN         NaN   \n",
       "1417         1     Attchd           1         276    NaN         NaN   \n",
       "\n",
       "      SalePrice  \n",
       "1415     266500  \n",
       "1416     142125  \n",
       "1417     147500  "
      ]
     },
     "execution_count": 25,
     "metadata": {},
     "output_type": "execute_result"
    }
   ],
   "source": [
    "final.tail(3)"
   ]
  },
  {
   "cell_type": "code",
   "execution_count": 26,
   "id": "9d537cab",
   "metadata": {},
   "outputs": [
    {
     "name": "stdout",
     "output_type": "stream",
     "text": [
      "Total Rows of Dataset:- 1418\n",
      "Total Columns of Dataset:- 13\n"
     ]
    }
   ],
   "source": [
    "print('Total Rows of Dataset:-',final.shape[0])\n",
    "print('Total Columns of Dataset:-',final.shape[1])"
   ]
  },
  {
   "cell_type": "code",
   "execution_count": 27,
   "id": "8d9f53ef",
   "metadata": {},
   "outputs": [
    {
     "name": "stdout",
     "output_type": "stream",
     "text": [
      "<class 'pandas.core.frame.DataFrame'>\n",
      "RangeIndex: 1418 entries, 0 to 1417\n",
      "Data columns (total 13 columns):\n",
      " #   Column       Non-Null Count  Dtype \n",
      "---  ------       --------------  ----- \n",
      " 0   Id           1418 non-null   int64 \n",
      " 1   OverallQual  1418 non-null   int64 \n",
      " 2   YearBuilt    1418 non-null   int64 \n",
      " 3   TotalBsmtSF  1418 non-null   int64 \n",
      " 4   Electrical   1417 non-null   object\n",
      " 5   GrLivArea    1418 non-null   int64 \n",
      " 6   FullBath     1418 non-null   int64 \n",
      " 7   GarageType   1275 non-null   object\n",
      " 8   GarageCars   1418 non-null   int64 \n",
      " 9   GarageArea   1418 non-null   int64 \n",
      " 10  Fence        270 non-null    object\n",
      " 11  MiscFeature  52 non-null     object\n",
      " 12  SalePrice    1418 non-null   int64 \n",
      "dtypes: int64(9), object(4)\n",
      "memory usage: 144.1+ KB\n"
     ]
    }
   ],
   "source": [
    "final.info()"
   ]
  },
  {
   "cell_type": "code",
   "execution_count": 28,
   "id": "0ed71fae",
   "metadata": {},
   "outputs": [
    {
     "data": {
      "text/plain": [
       "Index(['Id', 'OverallQual', 'YearBuilt', 'TotalBsmtSF', 'Electrical',\n",
       "       'GrLivArea', 'FullBath', 'GarageType', 'GarageCars', 'GarageArea',\n",
       "       'Fence', 'MiscFeature', 'SalePrice'],\n",
       "      dtype='object')"
      ]
     },
     "execution_count": 28,
     "metadata": {},
     "output_type": "execute_result"
    }
   ],
   "source": [
    "final.columns"
   ]
  },
  {
   "cell_type": "code",
   "execution_count": 29,
   "id": "5839da63",
   "metadata": {},
   "outputs": [
    {
     "data": {
      "text/plain": [
       "RangeIndex(start=0, stop=1418, step=1)"
      ]
     },
     "execution_count": 29,
     "metadata": {},
     "output_type": "execute_result"
    }
   ],
   "source": [
    "final.index"
   ]
  },
  {
   "cell_type": "code",
   "execution_count": 30,
   "id": "61e0d820",
   "metadata": {},
   "outputs": [
    {
     "data": {
      "text/plain": [
       "Index(['Electrical', 'GarageType', 'Fence', 'MiscFeature'], dtype='object')"
      ]
     },
     "execution_count": 30,
     "metadata": {},
     "output_type": "execute_result"
    }
   ],
   "source": [
    "final.columns[final.dtypes == object]"
   ]
  },
  {
   "cell_type": "code",
   "execution_count": 31,
   "id": "d7bbcd6d",
   "metadata": {},
   "outputs": [
    {
     "data": {
      "text/plain": [
       "Index(['Id', 'OverallQual', 'YearBuilt', 'TotalBsmtSF', 'GrLivArea',\n",
       "       'FullBath', 'GarageCars', 'GarageArea', 'SalePrice'],\n",
       "      dtype='object')"
      ]
     },
     "execution_count": 31,
     "metadata": {},
     "output_type": "execute_result"
    }
   ],
   "source": [
    "final.columns[final.dtypes != object]"
   ]
  },
  {
   "cell_type": "code",
   "execution_count": 32,
   "id": "48cf7431",
   "metadata": {},
   "outputs": [
    {
     "data": {
      "text/html": [
       "<div>\n",
       "<style scoped>\n",
       "    .dataframe tbody tr th:only-of-type {\n",
       "        vertical-align: middle;\n",
       "    }\n",
       "\n",
       "    .dataframe tbody tr th {\n",
       "        vertical-align: top;\n",
       "    }\n",
       "\n",
       "    .dataframe thead th {\n",
       "        text-align: right;\n",
       "    }\n",
       "</style>\n",
       "<table border=\"1\" class=\"dataframe\">\n",
       "  <thead>\n",
       "    <tr style=\"text-align: right;\">\n",
       "      <th></th>\n",
       "      <th>count</th>\n",
       "      <th>mean</th>\n",
       "      <th>std</th>\n",
       "      <th>min</th>\n",
       "      <th>25%</th>\n",
       "      <th>50%</th>\n",
       "      <th>75%</th>\n",
       "      <th>max</th>\n",
       "    </tr>\n",
       "  </thead>\n",
       "  <tbody>\n",
       "    <tr>\n",
       "      <th>Id</th>\n",
       "      <td>1418.0</td>\n",
       "      <td>709.500000</td>\n",
       "      <td>409.485653</td>\n",
       "      <td>1.0</td>\n",
       "      <td>355.25</td>\n",
       "      <td>709.5</td>\n",
       "      <td>1063.75</td>\n",
       "      <td>1418.0</td>\n",
       "    </tr>\n",
       "    <tr>\n",
       "      <th>OverallQual</th>\n",
       "      <td>1418.0</td>\n",
       "      <td>6.114245</td>\n",
       "      <td>1.385858</td>\n",
       "      <td>1.0</td>\n",
       "      <td>5.00</td>\n",
       "      <td>6.0</td>\n",
       "      <td>7.00</td>\n",
       "      <td>10.0</td>\n",
       "    </tr>\n",
       "    <tr>\n",
       "      <th>YearBuilt</th>\n",
       "      <td>1418.0</td>\n",
       "      <td>1971.600846</td>\n",
       "      <td>30.064293</td>\n",
       "      <td>1872.0</td>\n",
       "      <td>1954.00</td>\n",
       "      <td>1973.0</td>\n",
       "      <td>2001.00</td>\n",
       "      <td>2010.0</td>\n",
       "    </tr>\n",
       "    <tr>\n",
       "      <th>TotalBsmtSF</th>\n",
       "      <td>1418.0</td>\n",
       "      <td>1061.712271</td>\n",
       "      <td>437.277589</td>\n",
       "      <td>0.0</td>\n",
       "      <td>796.50</td>\n",
       "      <td>994.0</td>\n",
       "      <td>1303.50</td>\n",
       "      <td>6110.0</td>\n",
       "    </tr>\n",
       "    <tr>\n",
       "      <th>GrLivArea</th>\n",
       "      <td>1418.0</td>\n",
       "      <td>1519.645275</td>\n",
       "      <td>527.412584</td>\n",
       "      <td>334.0</td>\n",
       "      <td>1132.50</td>\n",
       "      <td>1468.5</td>\n",
       "      <td>1786.00</td>\n",
       "      <td>5642.0</td>\n",
       "    </tr>\n",
       "    <tr>\n",
       "      <th>FullBath</th>\n",
       "      <td>1418.0</td>\n",
       "      <td>1.565585</td>\n",
       "      <td>0.551127</td>\n",
       "      <td>0.0</td>\n",
       "      <td>1.00</td>\n",
       "      <td>2.0</td>\n",
       "      <td>2.00</td>\n",
       "      <td>3.0</td>\n",
       "    </tr>\n",
       "    <tr>\n",
       "      <th>GarageCars</th>\n",
       "      <td>1418.0</td>\n",
       "      <td>1.763752</td>\n",
       "      <td>0.755995</td>\n",
       "      <td>0.0</td>\n",
       "      <td>1.00</td>\n",
       "      <td>2.0</td>\n",
       "      <td>2.00</td>\n",
       "      <td>4.0</td>\n",
       "    </tr>\n",
       "    <tr>\n",
       "      <th>GarageArea</th>\n",
       "      <td>1418.0</td>\n",
       "      <td>472.617772</td>\n",
       "      <td>216.068677</td>\n",
       "      <td>0.0</td>\n",
       "      <td>324.25</td>\n",
       "      <td>478.0</td>\n",
       "      <td>576.00</td>\n",
       "      <td>1418.0</td>\n",
       "    </tr>\n",
       "    <tr>\n",
       "      <th>SalePrice</th>\n",
       "      <td>1418.0</td>\n",
       "      <td>182089.485896</td>\n",
       "      <td>79970.934085</td>\n",
       "      <td>34900.0</td>\n",
       "      <td>130000.00</td>\n",
       "      <td>164800.0</td>\n",
       "      <td>215000.00</td>\n",
       "      <td>755000.0</td>\n",
       "    </tr>\n",
       "  </tbody>\n",
       "</table>\n",
       "</div>"
      ],
      "text/plain": [
       "              count           mean           std      min        25%  \\\n",
       "Id           1418.0     709.500000    409.485653      1.0     355.25   \n",
       "OverallQual  1418.0       6.114245      1.385858      1.0       5.00   \n",
       "YearBuilt    1418.0    1971.600846     30.064293   1872.0    1954.00   \n",
       "TotalBsmtSF  1418.0    1061.712271    437.277589      0.0     796.50   \n",
       "GrLivArea    1418.0    1519.645275    527.412584    334.0    1132.50   \n",
       "FullBath     1418.0       1.565585      0.551127      0.0       1.00   \n",
       "GarageCars   1418.0       1.763752      0.755995      0.0       1.00   \n",
       "GarageArea   1418.0     472.617772    216.068677      0.0     324.25   \n",
       "SalePrice    1418.0  182089.485896  79970.934085  34900.0  130000.00   \n",
       "\n",
       "                  50%        75%       max  \n",
       "Id              709.5    1063.75    1418.0  \n",
       "OverallQual       6.0       7.00      10.0  \n",
       "YearBuilt      1973.0    2001.00    2010.0  \n",
       "TotalBsmtSF     994.0    1303.50    6110.0  \n",
       "GrLivArea      1468.5    1786.00    5642.0  \n",
       "FullBath          2.0       2.00       3.0  \n",
       "GarageCars        2.0       2.00       4.0  \n",
       "GarageArea      478.0     576.00    1418.0  \n",
       "SalePrice    164800.0  215000.00  755000.0  "
      ]
     },
     "execution_count": 32,
     "metadata": {},
     "output_type": "execute_result"
    }
   ],
   "source": [
    "final.describe().T"
   ]
  },
  {
   "cell_type": "markdown",
   "id": "defc978d",
   "metadata": {},
   "source": [
    "## Univariate Analysis--> Explore one column at a one time"
   ]
  },
  {
   "cell_type": "code",
   "execution_count": 33,
   "id": "fc34b434",
   "metadata": {},
   "outputs": [
    {
     "data": {
      "image/png": "[encoded data removed]",
      "text/plain": [
       "<Figure size 432x288 with 1 Axes>"
      ]
     },
     "metadata": {
      "needs_background": "light"
     },
     "output_type": "display_data"
    }
   ],
   "source": [
    "sns.histplot(final['SalePrice'])\n",
    "plt.show()"
   ]
  },
  {
   "cell_type": "code",
   "execution_count": 34,
   "id": "9d686c1d",
   "metadata": {},
   "outputs": [
    {
     "name": "stdout",
     "output_type": "stream",
     "text": [
      "Skewness:- 1.8646120239750106\n",
      "Kortosis:- 6.432852054835754\n"
     ]
    },
    {
     "data": {
      "image/png": "[encoded data removed]",
      "text/plain": [
       "<Figure size 432x288 with 1 Axes>"
      ]
     },
     "metadata": {
      "needs_background": "light"
     },
     "output_type": "display_data"
    }
   ],
   "source": [
    "sns.distplot(final['SalePrice'])\n",
    "print('Skewness:-',final['SalePrice'].skew())\n",
    "print('Kortosis:-',final['SalePrice'].kurt())\n",
    "plt.show()"
   ]
  },
  {
   "cell_type": "code",
   "execution_count": 39,
   "id": "de9213a5",
   "metadata": {},
   "outputs": [
    {
     "data": {
      "text/plain": [
       "count      1418.000000\n",
       "mean     182089.485896\n",
       "std       79970.934085\n",
       "min       34900.000000\n",
       "25%      130000.000000\n",
       "50%      164800.000000\n",
       "75%      215000.000000\n",
       "max      755000.000000\n",
       "Name: SalePrice, dtype: float64"
      ]
     },
     "execution_count": 39,
     "metadata": {},
     "output_type": "execute_result"
    }
   ],
   "source": [
    "final['SalePrice'].describe()"
   ]
  },
  {
   "cell_type": "markdown",
   "id": "d19666df",
   "metadata": {},
   "source": [
    "## Bivariate Analysis --> Continuous Vs Continuous"
   ]
  },
  {
   "cell_type": "code",
   "execution_count": 35,
   "id": "9226764c",
   "metadata": {},
   "outputs": [
    {
     "data": {
      "text/html": [
       "<div>\n",
       "<style scoped>\n",
       "    .dataframe tbody tr th:only-of-type {\n",
       "        vertical-align: middle;\n",
       "    }\n",
       "\n",
       "    .dataframe tbody tr th {\n",
       "        vertical-align: top;\n",
       "    }\n",
       "\n",
       "    .dataframe thead th {\n",
       "        text-align: right;\n",
       "    }\n",
       "</style>\n",
       "<table border=\"1\" class=\"dataframe\">\n",
       "  <thead>\n",
       "    <tr style=\"text-align: right;\">\n",
       "      <th></th>\n",
       "      <th>Id</th>\n",
       "      <th>OverallQual</th>\n",
       "      <th>YearBuilt</th>\n",
       "      <th>TotalBsmtSF</th>\n",
       "      <th>GrLivArea</th>\n",
       "      <th>FullBath</th>\n",
       "      <th>GarageCars</th>\n",
       "      <th>GarageArea</th>\n",
       "      <th>SalePrice</th>\n",
       "    </tr>\n",
       "  </thead>\n",
       "  <tbody>\n",
       "    <tr>\n",
       "      <th>Id</th>\n",
       "      <td>1.000000</td>\n",
       "      <td>-0.029188</td>\n",
       "      <td>-0.017960</td>\n",
       "      <td>-0.019396</td>\n",
       "      <td>0.002991</td>\n",
       "      <td>-0.000113</td>\n",
       "      <td>0.015633</td>\n",
       "      <td>0.014457</td>\n",
       "      <td>-0.029967</td>\n",
       "    </tr>\n",
       "    <tr>\n",
       "      <th>OverallQual</th>\n",
       "      <td>-0.029188</td>\n",
       "      <td>1.000000</td>\n",
       "      <td>0.584692</td>\n",
       "      <td>0.545747</td>\n",
       "      <td>0.592881</td>\n",
       "      <td>0.550112</td>\n",
       "      <td>0.609104</td>\n",
       "      <td>0.567796</td>\n",
       "      <td>0.791478</td>\n",
       "    </tr>\n",
       "    <tr>\n",
       "      <th>YearBuilt</th>\n",
       "      <td>-0.017960</td>\n",
       "      <td>0.584692</td>\n",
       "      <td>1.000000</td>\n",
       "      <td>0.396971</td>\n",
       "      <td>0.204757</td>\n",
       "      <td>0.478441</td>\n",
       "      <td>0.550275</td>\n",
       "      <td>0.492807</td>\n",
       "      <td>0.528006</td>\n",
       "    </tr>\n",
       "    <tr>\n",
       "      <th>TotalBsmtSF</th>\n",
       "      <td>-0.019396</td>\n",
       "      <td>0.545747</td>\n",
       "      <td>0.396971</td>\n",
       "      <td>1.000000</td>\n",
       "      <td>0.456365</td>\n",
       "      <td>0.326705</td>\n",
       "      <td>0.442614</td>\n",
       "      <td>0.495600</td>\n",
       "      <td>0.619852</td>\n",
       "    </tr>\n",
       "    <tr>\n",
       "      <th>GrLivArea</th>\n",
       "      <td>0.002991</td>\n",
       "      <td>0.592881</td>\n",
       "      <td>0.204757</td>\n",
       "      <td>0.456365</td>\n",
       "      <td>1.000000</td>\n",
       "      <td>0.626942</td>\n",
       "      <td>0.472139</td>\n",
       "      <td>0.470736</td>\n",
       "      <td>0.709503</td>\n",
       "    </tr>\n",
       "    <tr>\n",
       "      <th>FullBath</th>\n",
       "      <td>-0.000113</td>\n",
       "      <td>0.550112</td>\n",
       "      <td>0.478441</td>\n",
       "      <td>0.326705</td>\n",
       "      <td>0.626942</td>\n",
       "      <td>1.000000</td>\n",
       "      <td>0.473365</td>\n",
       "      <td>0.408453</td>\n",
       "      <td>0.562269</td>\n",
       "    </tr>\n",
       "    <tr>\n",
       "      <th>GarageCars</th>\n",
       "      <td>0.015633</td>\n",
       "      <td>0.609104</td>\n",
       "      <td>0.550275</td>\n",
       "      <td>0.442614</td>\n",
       "      <td>0.472139</td>\n",
       "      <td>0.473365</td>\n",
       "      <td>1.000000</td>\n",
       "      <td>0.884674</td>\n",
       "      <td>0.647676</td>\n",
       "    </tr>\n",
       "    <tr>\n",
       "      <th>GarageArea</th>\n",
       "      <td>0.014457</td>\n",
       "      <td>0.567796</td>\n",
       "      <td>0.492807</td>\n",
       "      <td>0.495600</td>\n",
       "      <td>0.470736</td>\n",
       "      <td>0.408453</td>\n",
       "      <td>0.884674</td>\n",
       "      <td>1.000000</td>\n",
       "      <td>0.627264</td>\n",
       "    </tr>\n",
       "    <tr>\n",
       "      <th>SalePrice</th>\n",
       "      <td>-0.029967</td>\n",
       "      <td>0.791478</td>\n",
       "      <td>0.528006</td>\n",
       "      <td>0.619852</td>\n",
       "      <td>0.709503</td>\n",
       "      <td>0.562269</td>\n",
       "      <td>0.647676</td>\n",
       "      <td>0.627264</td>\n",
       "      <td>1.000000</td>\n",
       "    </tr>\n",
       "  </tbody>\n",
       "</table>\n",
       "</div>"
      ],
      "text/plain": [
       "                   Id  OverallQual  YearBuilt  TotalBsmtSF  GrLivArea  \\\n",
       "Id           1.000000    -0.029188  -0.017960    -0.019396   0.002991   \n",
       "OverallQual -0.029188     1.000000   0.584692     0.545747   0.592881   \n",
       "YearBuilt   -0.017960     0.584692   1.000000     0.396971   0.204757   \n",
       "TotalBsmtSF -0.019396     0.545747   0.396971     1.000000   0.456365   \n",
       "GrLivArea    0.002991     0.592881   0.204757     0.456365   1.000000   \n",
       "FullBath    -0.000113     0.550112   0.478441     0.326705   0.626942   \n",
       "GarageCars   0.015633     0.609104   0.550275     0.442614   0.472139   \n",
       "GarageArea   0.014457     0.567796   0.492807     0.495600   0.470736   \n",
       "SalePrice   -0.029967     0.791478   0.528006     0.619852   0.709503   \n",
       "\n",
       "             FullBath  GarageCars  GarageArea  SalePrice  \n",
       "Id          -0.000113    0.015633    0.014457  -0.029967  \n",
       "OverallQual  0.550112    0.609104    0.567796   0.791478  \n",
       "YearBuilt    0.478441    0.550275    0.492807   0.528006  \n",
       "TotalBsmtSF  0.326705    0.442614    0.495600   0.619852  \n",
       "GrLivArea    0.626942    0.472139    0.470736   0.709503  \n",
       "FullBath     1.000000    0.473365    0.408453   0.562269  \n",
       "GarageCars   0.473365    1.000000    0.884674   0.647676  \n",
       "GarageArea   0.408453    0.884674    1.000000   0.627264  \n",
       "SalePrice    0.562269    0.647676    0.627264   1.000000  "
      ]
     },
     "execution_count": 35,
     "metadata": {},
     "output_type": "execute_result"
    }
   ],
   "source": [
    "data.corr().T"
   ]
  },
  {
   "cell_type": "code",
   "execution_count": 38,
   "id": "2c5b4b4d",
   "metadata": {},
   "outputs": [
    {
     "data": {
      "image/png": "[encoded data removed]",
      "text/plain": [
       "<Figure size 864x360 with 2 Axes>"
      ]
     },
     "metadata": {
      "needs_background": "light"
     },
     "output_type": "display_data"
    }
   ],
   "source": [
    "plt.figure(figsize=(12,5))\n",
    "sns.heatmap(final.corr(),vmax=1,vmin=-1,annot=True,cmap='RdBu')\n",
    "plt.show()"
   ]
  },
  {
   "cell_type": "code",
   "execution_count": 41,
   "id": "3bce0cf7",
   "metadata": {},
   "outputs": [
    {
     "data": {
      "text/html": [
       "<div>\n",
       "<style scoped>\n",
       "    .dataframe tbody tr th:only-of-type {\n",
       "        vertical-align: middle;\n",
       "    }\n",
       "\n",
       "    .dataframe tbody tr th {\n",
       "        vertical-align: top;\n",
       "    }\n",
       "\n",
       "    .dataframe thead th {\n",
       "        text-align: right;\n",
       "    }\n",
       "</style>\n",
       "<table border=\"1\" class=\"dataframe\">\n",
       "  <thead>\n",
       "    <tr style=\"text-align: right;\">\n",
       "      <th></th>\n",
       "      <th>count</th>\n",
       "      <th>mean</th>\n",
       "      <th>std</th>\n",
       "      <th>min</th>\n",
       "      <th>25%</th>\n",
       "      <th>50%</th>\n",
       "      <th>75%</th>\n",
       "      <th>max</th>\n",
       "    </tr>\n",
       "  </thead>\n",
       "  <tbody>\n",
       "    <tr>\n",
       "      <th>Id</th>\n",
       "      <td>1418.0</td>\n",
       "      <td>709.500000</td>\n",
       "      <td>409.485653</td>\n",
       "      <td>1.0</td>\n",
       "      <td>355.25</td>\n",
       "      <td>709.5</td>\n",
       "      <td>1063.75</td>\n",
       "      <td>1418.0</td>\n",
       "    </tr>\n",
       "    <tr>\n",
       "      <th>OverallQual</th>\n",
       "      <td>1418.0</td>\n",
       "      <td>6.114245</td>\n",
       "      <td>1.385858</td>\n",
       "      <td>1.0</td>\n",
       "      <td>5.00</td>\n",
       "      <td>6.0</td>\n",
       "      <td>7.00</td>\n",
       "      <td>10.0</td>\n",
       "    </tr>\n",
       "    <tr>\n",
       "      <th>YearBuilt</th>\n",
       "      <td>1418.0</td>\n",
       "      <td>1971.600846</td>\n",
       "      <td>30.064293</td>\n",
       "      <td>1872.0</td>\n",
       "      <td>1954.00</td>\n",
       "      <td>1973.0</td>\n",
       "      <td>2001.00</td>\n",
       "      <td>2010.0</td>\n",
       "    </tr>\n",
       "    <tr>\n",
       "      <th>TotalBsmtSF</th>\n",
       "      <td>1418.0</td>\n",
       "      <td>1061.712271</td>\n",
       "      <td>437.277589</td>\n",
       "      <td>0.0</td>\n",
       "      <td>796.50</td>\n",
       "      <td>994.0</td>\n",
       "      <td>1303.50</td>\n",
       "      <td>6110.0</td>\n",
       "    </tr>\n",
       "    <tr>\n",
       "      <th>GrLivArea</th>\n",
       "      <td>1418.0</td>\n",
       "      <td>1519.645275</td>\n",
       "      <td>527.412584</td>\n",
       "      <td>334.0</td>\n",
       "      <td>1132.50</td>\n",
       "      <td>1468.5</td>\n",
       "      <td>1786.00</td>\n",
       "      <td>5642.0</td>\n",
       "    </tr>\n",
       "    <tr>\n",
       "      <th>FullBath</th>\n",
       "      <td>1418.0</td>\n",
       "      <td>1.565585</td>\n",
       "      <td>0.551127</td>\n",
       "      <td>0.0</td>\n",
       "      <td>1.00</td>\n",
       "      <td>2.0</td>\n",
       "      <td>2.00</td>\n",
       "      <td>3.0</td>\n",
       "    </tr>\n",
       "    <tr>\n",
       "      <th>GarageCars</th>\n",
       "      <td>1418.0</td>\n",
       "      <td>1.763752</td>\n",
       "      <td>0.755995</td>\n",
       "      <td>0.0</td>\n",
       "      <td>1.00</td>\n",
       "      <td>2.0</td>\n",
       "      <td>2.00</td>\n",
       "      <td>4.0</td>\n",
       "    </tr>\n",
       "    <tr>\n",
       "      <th>GarageArea</th>\n",
       "      <td>1418.0</td>\n",
       "      <td>472.617772</td>\n",
       "      <td>216.068677</td>\n",
       "      <td>0.0</td>\n",
       "      <td>324.25</td>\n",
       "      <td>478.0</td>\n",
       "      <td>576.00</td>\n",
       "      <td>1418.0</td>\n",
       "    </tr>\n",
       "    <tr>\n",
       "      <th>SalePrice</th>\n",
       "      <td>1418.0</td>\n",
       "      <td>182089.485896</td>\n",
       "      <td>79970.934085</td>\n",
       "      <td>34900.0</td>\n",
       "      <td>130000.00</td>\n",
       "      <td>164800.0</td>\n",
       "      <td>215000.00</td>\n",
       "      <td>755000.0</td>\n",
       "    </tr>\n",
       "  </tbody>\n",
       "</table>\n",
       "</div>"
      ],
      "text/plain": [
       "              count           mean           std      min        25%  \\\n",
       "Id           1418.0     709.500000    409.485653      1.0     355.25   \n",
       "OverallQual  1418.0       6.114245      1.385858      1.0       5.00   \n",
       "YearBuilt    1418.0    1971.600846     30.064293   1872.0    1954.00   \n",
       "TotalBsmtSF  1418.0    1061.712271    437.277589      0.0     796.50   \n",
       "GrLivArea    1418.0    1519.645275    527.412584    334.0    1132.50   \n",
       "FullBath     1418.0       1.565585      0.551127      0.0       1.00   \n",
       "GarageCars   1418.0       1.763752      0.755995      0.0       1.00   \n",
       "GarageArea   1418.0     472.617772    216.068677      0.0     324.25   \n",
       "SalePrice    1418.0  182089.485896  79970.934085  34900.0  130000.00   \n",
       "\n",
       "                  50%        75%       max  \n",
       "Id              709.5    1063.75    1418.0  \n",
       "OverallQual       6.0       7.00      10.0  \n",
       "YearBuilt      1973.0    2001.00    2010.0  \n",
       "TotalBsmtSF     994.0    1303.50    6110.0  \n",
       "GrLivArea      1468.5    1786.00    5642.0  \n",
       "FullBath          2.0       2.00       3.0  \n",
       "GarageCars        2.0       2.00       4.0  \n",
       "GarageArea      478.0     576.00    1418.0  \n",
       "SalePrice    164800.0  215000.00  755000.0  "
      ]
     },
     "execution_count": 41,
     "metadata": {},
     "output_type": "execute_result"
    }
   ],
   "source": [
    "# Statistical summary of the dataset\n",
    "final.describe().T"
   ]
  },
  {
   "cell_type": "markdown",
   "id": "eb995a56",
   "metadata": {},
   "source": [
    "## Bivariate Analysis --> Categorical Vs Continuous"
   ]
  },
  {
   "cell_type": "code",
   "execution_count": 42,
   "id": "3aa5b88e",
   "metadata": {},
   "outputs": [],
   "source": [
    "Cat = final.columns[final.dtypes == object]"
   ]
  },
  {
   "cell_type": "code",
   "execution_count": 45,
   "id": "0427bb7e",
   "metadata": {},
   "outputs": [
    {
     "data": {
      "image/png": "[encoded data removed]",
      "text/plain": [
       "<Figure size 432x288 with 1 Axes>"
      ]
     },
     "metadata": {
      "needs_background": "light"
     },
     "output_type": "display_data"
    },
    {
     "data": {
      "image/png": "[encoded data removed]",
      "text/plain": [
       "<Figure size 432x288 with 1 Axes>"
      ]
     },
     "metadata": {
      "needs_background": "light"
     },
     "output_type": "display_data"
    },
    {
     "data": {
      "image/png": "[encoded data removed]",
      "text/plain": [
       "<Figure size 432x288 with 1 Axes>"
      ]
     },
     "metadata": {
      "needs_background": "light"
     },
     "output_type": "display_data"
    },
    {
     "data": {
      "image/png": "[encoded data removed]",
      "text/plain": [
       "<Figure size 432x288 with 1 Axes>"
      ]
     },
     "metadata": {
      "needs_background": "light"
     },
     "output_type": "display_data"
    }
   ],
   "source": [
    "for i in Cat:\n",
    "    figure()\n",
    "    sns.boxplot(y=final['SalePrice'],x=final[i])"
   ]
  },
  {
   "cell_type": "markdown",
   "id": "422bfa51",
   "metadata": {},
   "source": [
    "# Some perfrom statistical test"
   ]
  },
  {
   "cell_type": "markdown",
   "id": "e2fb87f7",
   "metadata": {},
   "source": [
    "# Z-test -- Two continuous column"
   ]
  },
  {
   "cell_type": "code",
   "execution_count": 47,
   "id": "94a63989",
   "metadata": {},
   "outputs": [],
   "source": [
    "from statsmodels.stats.weightstats import ztest,ttest_ind"
   ]
  },
  {
   "cell_type": "code",
   "execution_count": 48,
   "id": "a7c3a4ef",
   "metadata": {},
   "outputs": [],
   "source": [
    "price_a = final[final['TotalBsmtSF']<=5]['SalePrice']\n",
    "price_b = final[final['TotalBsmtSF']>5]['SalePrice']"
   ]
  },
  {
   "cell_type": "code",
   "execution_count": 49,
   "id": "36ea9546",
   "metadata": {},
   "outputs": [
    {
     "name": "stdout",
     "output_type": "stream",
     "text": [
      "z_square:- -5.684196016877579\n",
      "P_value:- 1.3142946674307024e-08\n",
      "Accept the H1\n"
     ]
    }
   ],
   "source": [
    "# Ho -- Null hypothesis --> TotalBsmtSF Does not impact on SalePrice\n",
    "# H1 --- Alternate hypothesis --> TotalBsmtSF impact on salePrice\n",
    "z_square,p_value = ztest(price_a,price_b)\n",
    "print('z_square:-',z_square)\n",
    "print('P_value:-',p_value)\n",
    "if p_value<0.05:\n",
    "    print('Accept the H1')\n",
    "else:\n",
    "    print('Accept the Ho')"
   ]
  },
  {
   "cell_type": "markdown",
   "id": "c3721bcb",
   "metadata": {},
   "source": [
    "# Chi_square test two categorical column"
   ]
  },
  {
   "cell_type": "code",
   "execution_count": 32,
   "id": "7d32c306",
   "metadata": {},
   "outputs": [
    {
     "data": {
      "text/plain": [
       "SBrkr    1300\n",
       "FuseA      89\n",
       "FuseF      24\n",
       "FuseP       3\n",
       "Mix         1\n",
       "Name: Electrical, dtype: int64"
      ]
     },
     "execution_count": 32,
     "metadata": {},
     "output_type": "execute_result"
    }
   ],
   "source": [
    "final['Electrical'].value_counts()"
   ]
  },
  {
   "cell_type": "code",
   "execution_count": 33,
   "id": "68f76e28",
   "metadata": {},
   "outputs": [
    {
     "data": {
      "text/plain": [
       "MnPrv    148\n",
       "GdPrv     58\n",
       "GdWo      53\n",
       "MnWw      11\n",
       "Name: Fence, dtype: int64"
      ]
     },
     "execution_count": 33,
     "metadata": {},
     "output_type": "execute_result"
    }
   ],
   "source": [
    "final['Fence'].value_counts()"
   ]
  },
  {
   "cell_type": "code",
   "execution_count": 34,
   "id": "ac1301f5",
   "metadata": {},
   "outputs": [],
   "source": [
    "cate = pd.crosstab(final['Electrical'],final['Fence'])"
   ]
  },
  {
   "cell_type": "code",
   "execution_count": 35,
   "id": "38f10f0d",
   "metadata": {},
   "outputs": [],
   "source": [
    "from scipy.stats import chi2_contingency"
   ]
  },
  {
   "cell_type": "code",
   "execution_count": 36,
   "id": "7c13b713",
   "metadata": {},
   "outputs": [
    {
     "name": "stdout",
     "output_type": "stream",
     "text": [
      "chi_square:- 3.0272952075654658\n",
      "p_value:- 0.8054132796910921\n",
      "Accept the Ho\n"
     ]
    }
   ],
   "source": [
    "# Ho :- Null hypothesis -- > Two columns are Independent\n",
    "# H1 :- Alternate hypothesis --> Two columns are Dependent\n",
    "chi,p,dof,excepted = chi2_contingency(cate)\n",
    "print('chi_square:-',chi)\n",
    "print('p_value:-',p)\n",
    "if p<0.05:\n",
    "    print('Accept the H1')\n",
    "else:\n",
    "    print('Accept the Ho')"
   ]
  },
  {
   "cell_type": "markdown",
   "id": "a8e16d87",
   "metadata": {},
   "source": [
    "# Data preprocessing"
   ]
  },
  {
   "cell_type": "code",
   "execution_count": 52,
   "id": "1a2cac29",
   "metadata": {},
   "outputs": [
    {
     "data": {
      "text/html": [
       "<div>\n",
       "<style scoped>\n",
       "    .dataframe tbody tr th:only-of-type {\n",
       "        vertical-align: middle;\n",
       "    }\n",
       "\n",
       "    .dataframe tbody tr th {\n",
       "        vertical-align: top;\n",
       "    }\n",
       "\n",
       "    .dataframe thead th {\n",
       "        text-align: right;\n",
       "    }\n",
       "</style>\n",
       "<table border=\"1\" class=\"dataframe\">\n",
       "  <thead>\n",
       "    <tr style=\"text-align: right;\">\n",
       "      <th></th>\n",
       "      <th>Id</th>\n",
       "      <th>OverallQual</th>\n",
       "      <th>YearBuilt</th>\n",
       "      <th>TotalBsmtSF</th>\n",
       "      <th>Electrical</th>\n",
       "      <th>GrLivArea</th>\n",
       "      <th>FullBath</th>\n",
       "      <th>GarageType</th>\n",
       "      <th>GarageCars</th>\n",
       "      <th>GarageArea</th>\n",
       "      <th>Fence</th>\n",
       "      <th>MiscFeature</th>\n",
       "      <th>SalePrice</th>\n",
       "    </tr>\n",
       "  </thead>\n",
       "  <tbody>\n",
       "    <tr>\n",
       "      <th>0</th>\n",
       "      <td>1</td>\n",
       "      <td>7</td>\n",
       "      <td>2003</td>\n",
       "      <td>856</td>\n",
       "      <td>SBrkr</td>\n",
       "      <td>1710</td>\n",
       "      <td>2</td>\n",
       "      <td>Attchd</td>\n",
       "      <td>2</td>\n",
       "      <td>548</td>\n",
       "      <td>NaN</td>\n",
       "      <td>NaN</td>\n",
       "      <td>208500</td>\n",
       "    </tr>\n",
       "    <tr>\n",
       "      <th>1</th>\n",
       "      <td>2</td>\n",
       "      <td>6</td>\n",
       "      <td>1976</td>\n",
       "      <td>1262</td>\n",
       "      <td>SBrkr</td>\n",
       "      <td>1262</td>\n",
       "      <td>2</td>\n",
       "      <td>Attchd</td>\n",
       "      <td>2</td>\n",
       "      <td>460</td>\n",
       "      <td>NaN</td>\n",
       "      <td>NaN</td>\n",
       "      <td>181500</td>\n",
       "    </tr>\n",
       "  </tbody>\n",
       "</table>\n",
       "</div>"
      ],
      "text/plain": [
       "   Id  OverallQual  YearBuilt  TotalBsmtSF Electrical  GrLivArea  FullBath  \\\n",
       "0   1            7       2003          856      SBrkr       1710         2   \n",
       "1   2            6       1976         1262      SBrkr       1262         2   \n",
       "\n",
       "  GarageType  GarageCars  GarageArea Fence MiscFeature  SalePrice  \n",
       "0     Attchd           2         548   NaN         NaN     208500  \n",
       "1     Attchd           2         460   NaN         NaN     181500  "
      ]
     },
     "execution_count": 52,
     "metadata": {},
     "output_type": "execute_result"
    }
   ],
   "source": [
    "final.head(2)"
   ]
  },
  {
   "cell_type": "code",
   "execution_count": 51,
   "id": "129b2927",
   "metadata": {},
   "outputs": [
    {
     "data": {
      "text/plain": [
       "SBrkr    1300\n",
       "FuseA      89\n",
       "FuseF      24\n",
       "FuseP       3\n",
       "Mix         1\n",
       "Name: Electrical, dtype: int64"
      ]
     },
     "execution_count": 51,
     "metadata": {},
     "output_type": "execute_result"
    }
   ],
   "source": [
    "final['Electrical'].value_counts()"
   ]
  },
  {
   "cell_type": "code",
   "execution_count": 53,
   "id": "715ff804",
   "metadata": {},
   "outputs": [
    {
     "data": {
      "text/plain": [
       "Attchd     800\n",
       "Detchd     354\n",
       "BuiltIn     87\n",
       "Basment     19\n",
       "CarPort      9\n",
       "2Types       6\n",
       "Name: GarageType, dtype: int64"
      ]
     },
     "execution_count": 53,
     "metadata": {},
     "output_type": "execute_result"
    }
   ],
   "source": [
    "final['GarageType'].value_counts()"
   ]
  },
  {
   "cell_type": "code",
   "execution_count": null,
   "id": "3fcc0717",
   "metadata": {},
   "outputs": [],
   "source": []
  },
  {
   "cell_type": "code",
   "execution_count": null,
   "id": "260b3afa",
   "metadata": {},
   "outputs": [],
   "source": []
  },
  {
   "cell_type": "code",
   "execution_count": null,
   "id": "4dc83561",
   "metadata": {},
   "outputs": [],
   "source": []
  },
  {
   "cell_type": "markdown",
   "id": "e80f1cc2",
   "metadata": {},
   "source": [
    "# Imputation missing values"
   ]
  },
  {
   "cell_type": "code",
   "execution_count": 37,
   "id": "9a90d614",
   "metadata": {},
   "outputs": [
    {
     "data": {
      "text/plain": [
       "MiscFeature    1366\n",
       "Fence          1148\n",
       "GarageType      143\n",
       "Electrical        1\n",
       "Id                0\n",
       "OverallQual       0\n",
       "YearBuilt         0\n",
       "TotalBsmtSF       0\n",
       "GrLivArea         0\n",
       "FullBath          0\n",
       "GarageCars        0\n",
       "GarageArea        0\n",
       "SalePrice         0\n",
       "dtype: int64"
      ]
     },
     "execution_count": 37,
     "metadata": {},
     "output_type": "execute_result"
    }
   ],
   "source": [
    "final.isnull().sum().sort_values(ascending=False)"
   ]
  },
  {
   "cell_type": "code",
   "execution_count": 38,
   "id": "92c0625c",
   "metadata": {},
   "outputs": [
    {
     "data": {
      "text/plain": [
       "MiscFeature    2626.923077\n",
       "Fence           425.185185\n",
       "GarageType       11.215686\n",
       "Electrical        0.070572\n",
       "Id                0.000000\n",
       "OverallQual       0.000000\n",
       "YearBuilt         0.000000\n",
       "TotalBsmtSF       0.000000\n",
       "GrLivArea         0.000000\n",
       "FullBath          0.000000\n",
       "GarageCars        0.000000\n",
       "GarageArea        0.000000\n",
       "SalePrice         0.000000\n",
       "dtype: float64"
      ]
     },
     "execution_count": 38,
     "metadata": {},
     "output_type": "execute_result"
    }
   ],
   "source": [
    "((final.isnull().sum()/final.count())*100).sort_values(ascending=False)"
   ]
  },
  {
   "cell_type": "markdown",
   "id": "0ba0d3b6",
   "metadata": {},
   "source": [
    "# Imputation missing values of MiscFeature"
   ]
  },
  {
   "cell_type": "code",
   "execution_count": 39,
   "id": "bc4c3406",
   "metadata": {},
   "outputs": [
    {
     "data": {
      "text/plain": [
       "dtype('O')"
      ]
     },
     "execution_count": 39,
     "metadata": {},
     "output_type": "execute_result"
    }
   ],
   "source": [
    "final['MiscFeature'].dtypes"
   ]
  },
  {
   "cell_type": "code",
   "execution_count": 40,
   "id": "3ffbbc7e",
   "metadata": {},
   "outputs": [
    {
     "data": {
      "text/plain": [
       "1366"
      ]
     },
     "execution_count": 40,
     "metadata": {},
     "output_type": "execute_result"
    }
   ],
   "source": [
    "final['MiscFeature'].isnull().sum()"
   ]
  },
  {
   "cell_type": "code",
   "execution_count": 41,
   "id": "48829605",
   "metadata": {},
   "outputs": [
    {
     "data": {
      "text/html": [
       "<div>\n",
       "<style scoped>\n",
       "    .dataframe tbody tr th:only-of-type {\n",
       "        vertical-align: middle;\n",
       "    }\n",
       "\n",
       "    .dataframe tbody tr th {\n",
       "        vertical-align: top;\n",
       "    }\n",
       "\n",
       "    .dataframe thead th {\n",
       "        text-align: right;\n",
       "    }\n",
       "</style>\n",
       "<table border=\"1\" class=\"dataframe\">\n",
       "  <thead>\n",
       "    <tr style=\"text-align: right;\">\n",
       "      <th></th>\n",
       "      <th>Id</th>\n",
       "      <th>OverallQual</th>\n",
       "      <th>YearBuilt</th>\n",
       "      <th>TotalBsmtSF</th>\n",
       "      <th>Electrical</th>\n",
       "      <th>GrLivArea</th>\n",
       "      <th>FullBath</th>\n",
       "      <th>GarageType</th>\n",
       "      <th>GarageCars</th>\n",
       "      <th>GarageArea</th>\n",
       "      <th>Fence</th>\n",
       "      <th>MiscFeature</th>\n",
       "      <th>SalePrice</th>\n",
       "    </tr>\n",
       "  </thead>\n",
       "  <tbody>\n",
       "    <tr>\n",
       "      <th>0</th>\n",
       "      <td>1</td>\n",
       "      <td>7</td>\n",
       "      <td>2003</td>\n",
       "      <td>856</td>\n",
       "      <td>SBrkr</td>\n",
       "      <td>1710</td>\n",
       "      <td>2</td>\n",
       "      <td>Attchd</td>\n",
       "      <td>2</td>\n",
       "      <td>548</td>\n",
       "      <td>NaN</td>\n",
       "      <td>NaN</td>\n",
       "      <td>208500</td>\n",
       "    </tr>\n",
       "    <tr>\n",
       "      <th>1</th>\n",
       "      <td>2</td>\n",
       "      <td>6</td>\n",
       "      <td>1976</td>\n",
       "      <td>1262</td>\n",
       "      <td>SBrkr</td>\n",
       "      <td>1262</td>\n",
       "      <td>2</td>\n",
       "      <td>Attchd</td>\n",
       "      <td>2</td>\n",
       "      <td>460</td>\n",
       "      <td>NaN</td>\n",
       "      <td>NaN</td>\n",
       "      <td>181500</td>\n",
       "    </tr>\n",
       "    <tr>\n",
       "      <th>2</th>\n",
       "      <td>3</td>\n",
       "      <td>7</td>\n",
       "      <td>2001</td>\n",
       "      <td>920</td>\n",
       "      <td>SBrkr</td>\n",
       "      <td>1786</td>\n",
       "      <td>2</td>\n",
       "      <td>Attchd</td>\n",
       "      <td>2</td>\n",
       "      <td>608</td>\n",
       "      <td>NaN</td>\n",
       "      <td>NaN</td>\n",
       "      <td>223500</td>\n",
       "    </tr>\n",
       "  </tbody>\n",
       "</table>\n",
       "</div>"
      ],
      "text/plain": [
       "   Id  OverallQual  YearBuilt  TotalBsmtSF Electrical  GrLivArea  FullBath GarageType  GarageCars  GarageArea Fence MiscFeature  SalePrice\n",
       "0   1            7       2003          856      SBrkr       1710         2     Attchd           2         548   NaN         NaN     208500\n",
       "1   2            6       1976         1262      SBrkr       1262         2     Attchd           2         460   NaN         NaN     181500\n",
       "2   3            7       2001          920      SBrkr       1786         2     Attchd           2         608   NaN         NaN     223500"
      ]
     },
     "execution_count": 41,
     "metadata": {},
     "output_type": "execute_result"
    }
   ],
   "source": [
    "final[final['MiscFeature'].isnull()].head(3)"
   ]
  },
  {
   "cell_type": "code",
   "execution_count": 42,
   "id": "5aa4e57c",
   "metadata": {},
   "outputs": [
    {
     "data": {
      "text/plain": [
       "0    Shed\n",
       "Name: MiscFeature, dtype: object"
      ]
     },
     "execution_count": 42,
     "metadata": {},
     "output_type": "execute_result"
    }
   ],
   "source": [
    "final['MiscFeature'].mode()"
   ]
  },
  {
   "cell_type": "code",
   "execution_count": 43,
   "id": "0947f1af",
   "metadata": {},
   "outputs": [],
   "source": [
    "final['MiscFeature'].fillna(final['MiscFeature'].mode()[0],inplace=True)"
   ]
  },
  {
   "cell_type": "code",
   "execution_count": 44,
   "id": "dc42e274",
   "metadata": {},
   "outputs": [
    {
     "data": {
      "text/plain": [
       "0"
      ]
     },
     "execution_count": 44,
     "metadata": {},
     "output_type": "execute_result"
    }
   ],
   "source": [
    "final['MiscFeature'].isnull().sum()"
   ]
  },
  {
   "cell_type": "markdown",
   "id": "3a74e5e8",
   "metadata": {},
   "source": [
    "# Imputation missing values of Fence"
   ]
  },
  {
   "cell_type": "code",
   "execution_count": 45,
   "id": "4bd11890",
   "metadata": {},
   "outputs": [
    {
     "data": {
      "text/plain": [
       "dtype('O')"
      ]
     },
     "execution_count": 45,
     "metadata": {},
     "output_type": "execute_result"
    }
   ],
   "source": [
    "final['Fence'].dtypes"
   ]
  },
  {
   "cell_type": "code",
   "execution_count": 46,
   "id": "2ffe5d19",
   "metadata": {},
   "outputs": [
    {
     "data": {
      "text/plain": [
       "1148"
      ]
     },
     "execution_count": 46,
     "metadata": {},
     "output_type": "execute_result"
    }
   ],
   "source": [
    "final['Fence'].isnull().sum()"
   ]
  },
  {
   "cell_type": "code",
   "execution_count": 47,
   "id": "b6e70a5d",
   "metadata": {},
   "outputs": [
    {
     "data": {
      "text/html": [
       "<div>\n",
       "<style scoped>\n",
       "    .dataframe tbody tr th:only-of-type {\n",
       "        vertical-align: middle;\n",
       "    }\n",
       "\n",
       "    .dataframe tbody tr th {\n",
       "        vertical-align: top;\n",
       "    }\n",
       "\n",
       "    .dataframe thead th {\n",
       "        text-align: right;\n",
       "    }\n",
       "</style>\n",
       "<table border=\"1\" class=\"dataframe\">\n",
       "  <thead>\n",
       "    <tr style=\"text-align: right;\">\n",
       "      <th></th>\n",
       "      <th>Id</th>\n",
       "      <th>OverallQual</th>\n",
       "      <th>YearBuilt</th>\n",
       "      <th>TotalBsmtSF</th>\n",
       "      <th>Electrical</th>\n",
       "      <th>GrLivArea</th>\n",
       "      <th>FullBath</th>\n",
       "      <th>GarageType</th>\n",
       "      <th>GarageCars</th>\n",
       "      <th>GarageArea</th>\n",
       "      <th>Fence</th>\n",
       "      <th>MiscFeature</th>\n",
       "      <th>SalePrice</th>\n",
       "    </tr>\n",
       "  </thead>\n",
       "  <tbody>\n",
       "    <tr>\n",
       "      <th>0</th>\n",
       "      <td>1</td>\n",
       "      <td>7</td>\n",
       "      <td>2003</td>\n",
       "      <td>856</td>\n",
       "      <td>SBrkr</td>\n",
       "      <td>1710</td>\n",
       "      <td>2</td>\n",
       "      <td>Attchd</td>\n",
       "      <td>2</td>\n",
       "      <td>548</td>\n",
       "      <td>NaN</td>\n",
       "      <td>Shed</td>\n",
       "      <td>208500</td>\n",
       "    </tr>\n",
       "    <tr>\n",
       "      <th>1</th>\n",
       "      <td>2</td>\n",
       "      <td>6</td>\n",
       "      <td>1976</td>\n",
       "      <td>1262</td>\n",
       "      <td>SBrkr</td>\n",
       "      <td>1262</td>\n",
       "      <td>2</td>\n",
       "      <td>Attchd</td>\n",
       "      <td>2</td>\n",
       "      <td>460</td>\n",
       "      <td>NaN</td>\n",
       "      <td>Shed</td>\n",
       "      <td>181500</td>\n",
       "    </tr>\n",
       "    <tr>\n",
       "      <th>2</th>\n",
       "      <td>3</td>\n",
       "      <td>7</td>\n",
       "      <td>2001</td>\n",
       "      <td>920</td>\n",
       "      <td>SBrkr</td>\n",
       "      <td>1786</td>\n",
       "      <td>2</td>\n",
       "      <td>Attchd</td>\n",
       "      <td>2</td>\n",
       "      <td>608</td>\n",
       "      <td>NaN</td>\n",
       "      <td>Shed</td>\n",
       "      <td>223500</td>\n",
       "    </tr>\n",
       "  </tbody>\n",
       "</table>\n",
       "</div>"
      ],
      "text/plain": [
       "   Id  OverallQual  YearBuilt  TotalBsmtSF Electrical  GrLivArea  FullBath GarageType  GarageCars  GarageArea Fence MiscFeature  SalePrice\n",
       "0   1            7       2003          856      SBrkr       1710         2     Attchd           2         548   NaN        Shed     208500\n",
       "1   2            6       1976         1262      SBrkr       1262         2     Attchd           2         460   NaN        Shed     181500\n",
       "2   3            7       2001          920      SBrkr       1786         2     Attchd           2         608   NaN        Shed     223500"
      ]
     },
     "execution_count": 47,
     "metadata": {},
     "output_type": "execute_result"
    }
   ],
   "source": [
    "final[final['Fence'].isnull()].head(3)"
   ]
  },
  {
   "cell_type": "code",
   "execution_count": 48,
   "id": "562a93f7",
   "metadata": {},
   "outputs": [],
   "source": [
    "final['Fence']=np.where(final['Fence'].mode(),[0],final['Fence'])"
   ]
  },
  {
   "cell_type": "code",
   "execution_count": 49,
   "id": "3a3efaa5",
   "metadata": {},
   "outputs": [
    {
     "data": {
      "text/plain": [
       "0"
      ]
     },
     "execution_count": 49,
     "metadata": {},
     "output_type": "execute_result"
    }
   ],
   "source": [
    "final['Fence'].isnull().sum()"
   ]
  },
  {
   "cell_type": "markdown",
   "id": "6d4fdd69",
   "metadata": {},
   "source": [
    "# Imputation All missing Values of Data set"
   ]
  },
  {
   "cell_type": "code",
   "execution_count": 50,
   "id": "9fd6b858",
   "metadata": {},
   "outputs": [],
   "source": [
    "for i in final.columns:\n",
    "    if final[i].dtypes !='O':\n",
    "        median = final[i].median()\n",
    "        final[i].fillna(median,inplace=True)\n",
    "    else:\n",
    "        mode = final[i].mode()[0]\n",
    "        final[i].fillna(mode,inplace=True)"
   ]
  },
  {
   "cell_type": "code",
   "execution_count": 51,
   "id": "b2eb3c36",
   "metadata": {},
   "outputs": [
    {
     "data": {
      "text/plain": [
       "Id             0\n",
       "OverallQual    0\n",
       "YearBuilt      0\n",
       "TotalBsmtSF    0\n",
       "Electrical     0\n",
       "GrLivArea      0\n",
       "FullBath       0\n",
       "GarageType     0\n",
       "GarageCars     0\n",
       "GarageArea     0\n",
       "Fence          0\n",
       "MiscFeature    0\n",
       "SalePrice      0\n",
       "dtype: int64"
      ]
     },
     "execution_count": 51,
     "metadata": {},
     "output_type": "execute_result"
    }
   ],
   "source": [
    "final.isnull().sum()"
   ]
  },
  {
   "cell_type": "markdown",
   "id": "00308674",
   "metadata": {},
   "source": [
    "# Bivariate Analysis -- Explore two column at one time"
   ]
  },
  {
   "cell_type": "code",
   "execution_count": 52,
   "id": "0fca376a",
   "metadata": {},
   "outputs": [
    {
     "data": {
      "image/png": "[encoded data removed]",
      "text/plain": [
       "<Figure size 432x288 with 1 Axes>"
      ]
     },
     "metadata": {
      "needs_background": "light"
     },
     "output_type": "display_data"
    }
   ],
   "source": [
    "sns.boxplot(y=final['SalePrice'],x=final['GarageType'])\n",
    "plt.show()"
   ]
  },
  {
   "cell_type": "code",
   "execution_count": 53,
   "id": "a8ae8ded",
   "metadata": {},
   "outputs": [],
   "source": [
    "cate = final.columns[final.dtypes == object]"
   ]
  },
  {
   "cell_type": "code",
   "execution_count": 54,
   "id": "2822a327",
   "metadata": {},
   "outputs": [
    {
     "data": {
      "image/png": "[encoded data removed]",
      "text/plain": [
       "<Figure size 432x288 with 1 Axes>"
      ]
     },
     "metadata": {
      "needs_background": "light"
     },
     "output_type": "display_data"
    },
    {
     "data": {
      "image/png": "[encoded data removed]",
      "text/plain": [
       "<Figure size 432x288 with 1 Axes>"
      ]
     },
     "metadata": {
      "needs_background": "light"
     },
     "output_type": "display_data"
    },
    {
     "data": {
      "image/png": "[encoded data removed]",
      "text/plain": [
       "<Figure size 432x288 with 1 Axes>"
      ]
     },
     "metadata": {
      "needs_background": "light"
     },
     "output_type": "display_data"
    }
   ],
   "source": [
    "for i in cate:\n",
    "    figure()\n",
    "    sns.boxplot(y=final['SalePrice'],x=final[i])"
   ]
  },
  {
   "cell_type": "markdown",
   "id": "bc109db6",
   "metadata": {},
   "source": [
    "# Capping outliers "
   ]
  },
  {
   "cell_type": "code",
   "execution_count": 55,
   "id": "8344c468",
   "metadata": {},
   "outputs": [
    {
     "data": {
      "image/png": "[encoded data removed]",
      "text/plain": [
       "<Figure size 432x288 with 1 Axes>"
      ]
     },
     "metadata": {
      "needs_background": "light"
     },
     "output_type": "display_data"
    }
   ],
   "source": [
    "sns.boxplot(final['OverallQual'])\n",
    "plt.show()"
   ]
  },
  {
   "cell_type": "code",
   "execution_count": 56,
   "id": "b8506d71",
   "metadata": {},
   "outputs": [
    {
     "data": {
      "text/plain": [
       "356    1\n",
       "510    1\n",
       "Name: OverallQual, dtype: int64"
      ]
     },
     "execution_count": 56,
     "metadata": {},
     "output_type": "execute_result"
    }
   ],
   "source": [
    "data_a = final['OverallQual']\n",
    "Q3 = data_a.quantile(0.75)\n",
    "Q1 = data_a.quantile(0.25)\n",
    "IQR = Q3-Q1\n",
    "lower_bound = Q1-(1.5*IQR)\n",
    "upper_Bound = Q3+(1.5*IQR)\n",
    "out = data_a[(data_a<lower_bound) | (data_a>upper_Bound)]\n",
    "out.head(2)"
   ]
  },
  {
   "cell_type": "code",
   "execution_count": 57,
   "id": "e5174316",
   "metadata": {},
   "outputs": [],
   "source": [
    "final['OverallQual']=np.where(final['OverallQual']<lower_bound,lower_bound,final['OverallQual'])\n",
    "final['OverallQual']=np.where(final['OverallQual']>upper_Bound,upper_Bound,final['OverallQual'])"
   ]
  },
  {
   "cell_type": "code",
   "execution_count": 58,
   "id": "c7740702",
   "metadata": {},
   "outputs": [
    {
     "data": {
      "image/png": "[encoded data removed]",
      "text/plain": [
       "<Figure size 432x288 with 1 Axes>"
      ]
     },
     "metadata": {
      "needs_background": "light"
     },
     "output_type": "display_data"
    }
   ],
   "source": [
    "sns.boxplot(final['OverallQual'])\n",
    "plt.show()"
   ]
  },
  {
   "cell_type": "code",
   "execution_count": 59,
   "id": "9251b060",
   "metadata": {},
   "outputs": [
    {
     "data": {
      "image/png": "[encoded data removed]",
      "text/plain": [
       "<Figure size 432x288 with 1 Axes>"
      ]
     },
     "metadata": {
      "needs_background": "light"
     },
     "output_type": "display_data"
    }
   ],
   "source": [
    "sns.boxplot(final['YearBuilt'])\n",
    "plt.show()"
   ]
  },
  {
   "cell_type": "code",
   "execution_count": 60,
   "id": "d32c8a17",
   "metadata": {},
   "outputs": [
    {
     "data": {
      "text/plain": [
       "285    1880\n",
       "605    1880\n",
       "Name: YearBuilt, dtype: int64"
      ]
     },
     "execution_count": 60,
     "metadata": {},
     "output_type": "execute_result"
    }
   ],
   "source": [
    "data_a = final['YearBuilt']\n",
    "Q3 = data_a.quantile(0.75)\n",
    "Q1 = data_a.quantile(0.25)\n",
    "IQR = Q3-Q1\n",
    "lower_bound = Q1-(1.5*IQR)\n",
    "upper_Bound = Q3+(1.5*IQR)\n",
    "out = data_a[(data_a<lower_bound) | (data_a>upper_Bound)]\n",
    "out.head(2)"
   ]
  },
  {
   "cell_type": "code",
   "execution_count": 61,
   "id": "cb23653e",
   "metadata": {},
   "outputs": [],
   "source": [
    "final['YearBuilt']=np.where(final['YearBuilt']<lower_bound,lower_bound,final['YearBuilt'])\n",
    "final['YearBuilt']=np.where(final['YearBuilt']>upper_Bound,upper_Bound,final['YearBuilt'])"
   ]
  },
  {
   "cell_type": "code",
   "execution_count": 62,
   "id": "80a4d42a",
   "metadata": {},
   "outputs": [
    {
     "data": {
      "image/png": "[encoded data removed]",
      "text/plain": [
       "<Figure size 432x288 with 1 Axes>"
      ]
     },
     "metadata": {
      "needs_background": "light"
     },
     "output_type": "display_data"
    }
   ],
   "source": [
    "sns.boxplot(final['TotalBsmtSF'])\n",
    "plt.show()"
   ]
  },
  {
   "cell_type": "code",
   "execution_count": 63,
   "id": "95656cb1",
   "metadata": {},
   "outputs": [
    {
     "data": {
      "text/plain": [
       "16    0\n",
       "37    0\n",
       "Name: TotalBsmtSF, dtype: int64"
      ]
     },
     "execution_count": 63,
     "metadata": {},
     "output_type": "execute_result"
    }
   ],
   "source": [
    "data_a = final['TotalBsmtSF']\n",
    "Q3 = data_a.quantile(0.75)\n",
    "Q1 = data_a.quantile(0.25)\n",
    "IQR = Q3-Q1\n",
    "lower_bound = Q1-(1.5*IQR)\n",
    "upper_Bound = Q3+(1.5*IQR)\n",
    "out = data_a[(data_a<lower_bound) | (data_a>upper_Bound)]\n",
    "out.head(2)"
   ]
  },
  {
   "cell_type": "code",
   "execution_count": 64,
   "id": "fb5db121",
   "metadata": {},
   "outputs": [],
   "source": [
    "final['TotalBsmtSF']=np.where(final['TotalBsmtSF']<lower_bound,lower_bound,final['TotalBsmtSF'])\n",
    "final['TotalBsmtSF']=np.where(final['TotalBsmtSF']>upper_Bound,upper_Bound,final['TotalBsmtSF'])"
   ]
  },
  {
   "cell_type": "code",
   "execution_count": 65,
   "id": "7a8c4a8f",
   "metadata": {},
   "outputs": [
    {
     "data": {
      "image/png": "[encoded data removed]",
      "text/plain": [
       "<Figure size 432x288 with 1 Axes>"
      ]
     },
     "metadata": {
      "needs_background": "light"
     },
     "output_type": "display_data"
    }
   ],
   "source": [
    "sns.boxplot(final['GrLivArea'])\n",
    "plt.show()"
   ]
  },
  {
   "cell_type": "code",
   "execution_count": 66,
   "id": "070e19bd",
   "metadata": {},
   "outputs": [
    {
     "data": {
      "text/plain": [
       "55     2945\n",
       "107    3222\n",
       "Name: GrLivArea, dtype: int64"
      ]
     },
     "execution_count": 66,
     "metadata": {},
     "output_type": "execute_result"
    }
   ],
   "source": [
    "data_a = final['GrLivArea']\n",
    "Q3 = data_a.quantile(0.75)\n",
    "Q1 = data_a.quantile(0.25)\n",
    "IQR = Q3-Q1\n",
    "lower_bound = Q1-(1.5*IQR)\n",
    "upper_Bound = Q3+(1.5*IQR)\n",
    "out = data_a[(data_a<lower_bound) | (data_a>upper_Bound)]\n",
    "out.head(2)"
   ]
  },
  {
   "cell_type": "code",
   "execution_count": 67,
   "id": "9d6a66ca",
   "metadata": {},
   "outputs": [],
   "source": [
    "final['GrLivArea']=np.where(final['GrLivArea']<lower_bound,lower_bound,final['GrLivArea'])\n",
    "final['GrLivArea']=np.where(final['GrLivArea']>upper_Bound,upper_Bound,final['GrLivArea'])"
   ]
  },
  {
   "cell_type": "code",
   "execution_count": 68,
   "id": "981ce5d4",
   "metadata": {},
   "outputs": [
    {
     "data": {
      "image/png": "[encoded data removed]",
      "text/plain": [
       "<Figure size 432x288 with 1 Axes>"
      ]
     },
     "metadata": {
      "needs_background": "light"
     },
     "output_type": "display_data"
    }
   ],
   "source": [
    "sns.boxplot(final['FullBath'])\n",
    "plt.show()"
   ]
  },
  {
   "cell_type": "code",
   "execution_count": 69,
   "id": "a6f7b141",
   "metadata": {},
   "outputs": [
    {
     "data": {
      "image/png": "[encoded data removed]",
      "text/plain": [
       "<Figure size 432x288 with 1 Axes>"
      ]
     },
     "metadata": {
      "needs_background": "light"
     },
     "output_type": "display_data"
    }
   ],
   "source": [
    "sns.boxplot(final['GarageCars'])\n",
    "plt.show()"
   ]
  },
  {
   "cell_type": "code",
   "execution_count": 70,
   "id": "2fb30976",
   "metadata": {},
   "outputs": [
    {
     "data": {
      "text/plain": [
       "399    4\n",
       "720    4\n",
       "Name: GarageCars, dtype: int64"
      ]
     },
     "execution_count": 70,
     "metadata": {},
     "output_type": "execute_result"
    }
   ],
   "source": [
    "data_a = final['GarageCars']\n",
    "Q3 = data_a.quantile(0.75)\n",
    "Q1 = data_a.quantile(0.25)\n",
    "IQR = Q3-Q1\n",
    "lower_bound = Q1-(1.5*IQR)\n",
    "upper_Bound = Q3+(1.5*IQR)\n",
    "out = data_a[(data_a<lower_bound) | (data_a>upper_Bound)]\n",
    "out.head(2)"
   ]
  },
  {
   "cell_type": "code",
   "execution_count": 71,
   "id": "e48ad20a",
   "metadata": {},
   "outputs": [],
   "source": [
    "final['GarageCars']=np.where(final['GarageCars']<lower_bound,lower_bound,final['GarageCars'])\n",
    "final['GarageCars']=np.where(final['GarageCars']>upper_Bound,upper_Bound,final['GarageCars'])"
   ]
  },
  {
   "cell_type": "code",
   "execution_count": 72,
   "id": "05541889",
   "metadata": {},
   "outputs": [
    {
     "data": {
      "image/png": "[encoded data removed]",
      "text/plain": [
       "<Figure size 432x288 with 1 Axes>"
      ]
     },
     "metadata": {
      "needs_background": "light"
     },
     "output_type": "display_data"
    }
   ],
   "source": [
    "sns.boxplot(final['GarageArea'])\n",
    "plt.show()"
   ]
  },
  {
   "cell_type": "code",
   "execution_count": 73,
   "id": "ad8432cc",
   "metadata": {},
   "outputs": [
    {
     "data": {
      "text/plain": [
       "163    1166\n",
       "205     968\n",
       "Name: GarageArea, dtype: int64"
      ]
     },
     "execution_count": 73,
     "metadata": {},
     "output_type": "execute_result"
    }
   ],
   "source": [
    "data_a = final['GarageArea']\n",
    "Q3 = data_a.quantile(0.75)\n",
    "Q1 = data_a.quantile(0.25)\n",
    "IQR = Q3-Q1\n",
    "lower_bound = Q1-(1.5*IQR)\n",
    "upper_Bound = Q3+(1.5*IQR)\n",
    "out = data_a[(data_a<lower_bound) | (data_a>upper_Bound)]\n",
    "out.head(2)"
   ]
  },
  {
   "cell_type": "code",
   "execution_count": 74,
   "id": "aa26a54b",
   "metadata": {},
   "outputs": [],
   "source": [
    "final['GarageArea']=np.where(final['GarageArea']<lower_bound,lower_bound,final['GarageArea'])\n",
    "final['GarageArea']=np.where(final['GarageArea']>upper_Bound,upper_Bound,final['GarageArea'])"
   ]
  },
  {
   "cell_type": "code",
   "execution_count": 75,
   "id": "e4656d86",
   "metadata": {},
   "outputs": [
    {
     "data": {
      "image/png": "[encoded data removed]",
      "text/plain": [
       "<Figure size 432x288 with 1 Axes>"
      ]
     },
     "metadata": {
      "needs_background": "light"
     },
     "output_type": "display_data"
    }
   ],
   "source": [
    "sns.boxplot(final['Fence'])\n",
    "plt.show()"
   ]
  },
  {
   "cell_type": "code",
   "execution_count": 76,
   "id": "e1b6f78b",
   "metadata": {},
   "outputs": [
    {
     "data": {
      "image/png": "[encoded data removed]",
      "text/plain": [
       "<Figure size 432x288 with 1 Axes>"
      ]
     },
     "metadata": {
      "needs_background": "light"
     },
     "output_type": "display_data"
    }
   ],
   "source": [
    "sns.boxplot(final['SalePrice'])\n",
    "plt.show()"
   ]
  },
  {
   "cell_type": "code",
   "execution_count": 77,
   "id": "49a75568",
   "metadata": {},
   "outputs": [
    {
     "data": {
      "text/plain": [
       "10    345000\n",
       "50    385000\n",
       "Name: SalePrice, dtype: int64"
      ]
     },
     "execution_count": 77,
     "metadata": {},
     "output_type": "execute_result"
    }
   ],
   "source": [
    "data_a = final['SalePrice']\n",
    "Q3 = data_a.quantile(0.75)\n",
    "Q1 = data_a.quantile(0.25)\n",
    "IQR = Q3-Q1\n",
    "lower_bound = Q1-(1.5*IQR)\n",
    "upper_Bound = Q3+(1.5*IQR)\n",
    "out = data_a[(data_a<lower_bound) | (data_a>upper_Bound)]\n",
    "out.head(2)"
   ]
  },
  {
   "cell_type": "code",
   "execution_count": 78,
   "id": "7acaf83f",
   "metadata": {},
   "outputs": [],
   "source": [
    "final['SalePrice']=np.where(final['SalePrice']<lower_bound,lower_bound,final['SalePrice'])\n",
    "final['SalePrice']=np.where(final['SalePrice']>upper_Bound,upper_Bound,final['SalePrice'])"
   ]
  },
  {
   "cell_type": "code",
   "execution_count": 79,
   "id": "3f774c0c",
   "metadata": {},
   "outputs": [
    {
     "data": {
      "image/png": "[encoded data removed]",
      "text/plain": [
       "<Figure size 432x288 with 1 Axes>"
      ]
     },
     "metadata": {
      "needs_background": "light"
     },
     "output_type": "display_data"
    }
   ],
   "source": [
    "sns.boxplot(final['SalePrice'])\n",
    "plt.show()"
   ]
  },
  {
   "cell_type": "markdown",
   "id": "1c5e5475",
   "metadata": {},
   "source": [
    "# Feature Selection"
   ]
  },
  {
   "cell_type": "code",
   "execution_count": 80,
   "id": "588b7f7a",
   "metadata": {},
   "outputs": [],
   "source": [
    "final.drop(['Id'],axis=1,inplace=True)"
   ]
  },
  {
   "cell_type": "code",
   "execution_count": 81,
   "id": "bc460cf9",
   "metadata": {},
   "outputs": [
    {
     "name": "stdout",
     "output_type": "stream",
     "text": [
      "Total Rows of Data:- 1418\n",
      "Total Columns of Data:- 12\n"
     ]
    }
   ],
   "source": [
    "print('Total Rows of Data:-',final.shape[0])\n",
    "print('Total Columns of Data:-',final.shape[1])"
   ]
  },
  {
   "cell_type": "markdown",
   "id": "61eb90cb",
   "metadata": {},
   "source": [
    "# feature Engineering"
   ]
  },
  {
   "cell_type": "code",
   "execution_count": 82,
   "id": "3f94cab4",
   "metadata": {},
   "outputs": [],
   "source": [
    "final2 = pd.get_dummies(final,drop_first=True)"
   ]
  },
  {
   "cell_type": "code",
   "execution_count": 83,
   "id": "dfb234bf",
   "metadata": {},
   "outputs": [
    {
     "name": "stdout",
     "output_type": "stream",
     "text": [
      "Total Rows of Data set:- 1418\n",
      "Total Columns of Data set:- 21\n"
     ]
    }
   ],
   "source": [
    "print('Total Rows of Data set:-',final2.shape[0])\n",
    "print('Total Columns of Data set:-',final2.shape[1])"
   ]
  },
  {
   "cell_type": "markdown",
   "id": "f0324e11",
   "metadata": {},
   "source": [
    "# Sampling"
   ]
  },
  {
   "cell_type": "markdown",
   "id": "e227fd83",
   "metadata": {},
   "source": [
    "# Add intecept column"
   ]
  },
  {
   "cell_type": "code",
   "execution_count": 84,
   "id": "f1791645",
   "metadata": {},
   "outputs": [],
   "source": [
    "from statsmodels.api import add_constant\n",
    "final2 = add_constant(final2)"
   ]
  },
  {
   "cell_type": "code",
   "execution_count": 85,
   "id": "bf8cf36a",
   "metadata": {},
   "outputs": [
    {
     "name": "stdout",
     "output_type": "stream",
     "text": [
      "Total Rows of Data set:- 1418\n",
      "Total Columns of Dataset:- 22\n"
     ]
    }
   ],
   "source": [
    "print('Total Rows of Data set:-',final2.shape[0])\n",
    "print('Total Columns of Dataset:-',final2.shape[1])"
   ]
  },
  {
   "cell_type": "markdown",
   "id": "663eab0b",
   "metadata": {},
   "source": [
    "# Data Divede into Train and Test"
   ]
  },
  {
   "cell_type": "code",
   "execution_count": 86,
   "id": "7f856555",
   "metadata": {},
   "outputs": [],
   "source": [
    "from sklearn.model_selection import train_test_split\n",
    "train,test = train_test_split(final2,train_size=0.90,random_state=123)"
   ]
  },
  {
   "cell_type": "code",
   "execution_count": 87,
   "id": "e58625c7",
   "metadata": {},
   "outputs": [
    {
     "data": {
      "text/plain": [
       "(142, 22)"
      ]
     },
     "execution_count": 87,
     "metadata": {},
     "output_type": "execute_result"
    }
   ],
   "source": [
    "test.shape"
   ]
  },
  {
   "cell_type": "code",
   "execution_count": 88,
   "id": "ace45537",
   "metadata": {},
   "outputs": [
    {
     "data": {
      "text/plain": [
       "(1276, 22)"
      ]
     },
     "execution_count": 88,
     "metadata": {},
     "output_type": "execute_result"
    }
   ],
   "source": [
    "train.shape"
   ]
  },
  {
   "cell_type": "code",
   "execution_count": 89,
   "id": "09cc175a",
   "metadata": {},
   "outputs": [],
   "source": [
    "# Divide Data into X - indenpendet Y- Dependent"
   ]
  },
  {
   "cell_type": "code",
   "execution_count": 90,
   "id": "c2da0670",
   "metadata": {},
   "outputs": [],
   "source": [
    "trainX = train.drop(['SalePrice'],axis=1)\n",
    "trainY = train['SalePrice']\n",
    "testX = test.drop(['SalePrice'],axis=1)\n",
    "testY = test['SalePrice']"
   ]
  },
  {
   "cell_type": "code",
   "execution_count": 91,
   "id": "188eb813",
   "metadata": {},
   "outputs": [
    {
     "data": {
      "text/plain": [
       "(1276, 21)"
      ]
     },
     "execution_count": 91,
     "metadata": {},
     "output_type": "execute_result"
    }
   ],
   "source": [
    "trainX.shape"
   ]
  },
  {
   "cell_type": "code",
   "execution_count": 92,
   "id": "dd69cc3a",
   "metadata": {},
   "outputs": [
    {
     "data": {
      "text/plain": [
       "(1276,)"
      ]
     },
     "execution_count": 92,
     "metadata": {},
     "output_type": "execute_result"
    }
   ],
   "source": [
    "trainY.shape"
   ]
  },
  {
   "cell_type": "code",
   "execution_count": 93,
   "id": "b151e74b",
   "metadata": {},
   "outputs": [
    {
     "data": {
      "text/plain": [
       "(142, 21)"
      ]
     },
     "execution_count": 93,
     "metadata": {},
     "output_type": "execute_result"
    }
   ],
   "source": [
    "testX.shape"
   ]
  },
  {
   "cell_type": "code",
   "execution_count": 94,
   "id": "60fe90a5",
   "metadata": {},
   "outputs": [
    {
     "data": {
      "text/plain": [
       "(142,)"
      ]
     },
     "execution_count": 94,
     "metadata": {},
     "output_type": "execute_result"
    }
   ],
   "source": [
    "testY.shape"
   ]
  },
  {
   "cell_type": "markdown",
   "id": "8d9a87cc",
   "metadata": {},
   "source": [
    "# VIF ckeck -- Variance Influance Factor"
   ]
  },
  {
   "cell_type": "code",
   "execution_count": 95,
   "id": "3ceb9554",
   "metadata": {},
   "outputs": [],
   "source": [
    "from statsmodels.stats.outliers_influence import variance_inflation_factor"
   ]
  },
  {
   "cell_type": "code",
   "execution_count": 96,
   "id": "c3d11309",
   "metadata": {},
   "outputs": [
    {
     "data": {
      "text/html": [
       "<div>\n",
       "<style scoped>\n",
       "    .dataframe tbody tr th:only-of-type {\n",
       "        vertical-align: middle;\n",
       "    }\n",
       "\n",
       "    .dataframe tbody tr th {\n",
       "        vertical-align: top;\n",
       "    }\n",
       "\n",
       "    .dataframe thead th {\n",
       "        text-align: right;\n",
       "    }\n",
       "</style>\n",
       "<table border=\"1\" class=\"dataframe\">\n",
       "  <thead>\n",
       "    <tr style=\"text-align: right;\">\n",
       "      <th></th>\n",
       "      <th>Features</th>\n",
       "      <th>VIF</th>\n",
       "    </tr>\n",
       "  </thead>\n",
       "  <tbody>\n",
       "    <tr>\n",
       "      <th>0</th>\n",
       "      <td>const</td>\n",
       "      <td>13007.729522</td>\n",
       "    </tr>\n",
       "    <tr>\n",
       "      <th>1</th>\n",
       "      <td>OverallQual</td>\n",
       "      <td>2.751065</td>\n",
       "    </tr>\n",
       "    <tr>\n",
       "      <th>2</th>\n",
       "      <td>YearBuilt</td>\n",
       "      <td>2.802546</td>\n",
       "    </tr>\n",
       "    <tr>\n",
       "      <th>3</th>\n",
       "      <td>TotalBsmtSF</td>\n",
       "      <td>1.780487</td>\n",
       "    </tr>\n",
       "    <tr>\n",
       "      <th>4</th>\n",
       "      <td>GrLivArea</td>\n",
       "      <td>2.721770</td>\n",
       "    </tr>\n",
       "    <tr>\n",
       "      <th>5</th>\n",
       "      <td>FullBath</td>\n",
       "      <td>2.241976</td>\n",
       "    </tr>\n",
       "    <tr>\n",
       "      <th>6</th>\n",
       "      <td>GarageCars</td>\n",
       "      <td>5.905524</td>\n",
       "    </tr>\n",
       "    <tr>\n",
       "      <th>7</th>\n",
       "      <td>GarageArea</td>\n",
       "      <td>5.499513</td>\n",
       "    </tr>\n",
       "    <tr>\n",
       "      <th>8</th>\n",
       "      <td>Fence</td>\n",
       "      <td>NaN</td>\n",
       "    </tr>\n",
       "    <tr>\n",
       "      <th>9</th>\n",
       "      <td>Electrical_FuseF</td>\n",
       "      <td>1.296632</td>\n",
       "    </tr>\n",
       "    <tr>\n",
       "      <th>10</th>\n",
       "      <td>Electrical_FuseP</td>\n",
       "      <td>1.046481</td>\n",
       "    </tr>\n",
       "    <tr>\n",
       "      <th>11</th>\n",
       "      <td>Electrical_Mix</td>\n",
       "      <td>1.014990</td>\n",
       "    </tr>\n",
       "    <tr>\n",
       "      <th>12</th>\n",
       "      <td>Electrical_SBrkr</td>\n",
       "      <td>1.493944</td>\n",
       "    </tr>\n",
       "    <tr>\n",
       "      <th>13</th>\n",
       "      <td>GarageType_Attchd</td>\n",
       "      <td>59.997323</td>\n",
       "    </tr>\n",
       "    <tr>\n",
       "      <th>14</th>\n",
       "      <td>GarageType_Basment</td>\n",
       "      <td>4.688638</td>\n",
       "    </tr>\n",
       "    <tr>\n",
       "      <th>15</th>\n",
       "      <td>GarageType_BuiltIn</td>\n",
       "      <td>17.114199</td>\n",
       "    </tr>\n",
       "    <tr>\n",
       "      <th>16</th>\n",
       "      <td>GarageType_CarPort</td>\n",
       "      <td>2.852077</td>\n",
       "    </tr>\n",
       "    <tr>\n",
       "      <th>17</th>\n",
       "      <td>GarageType_Detchd</td>\n",
       "      <td>49.685459</td>\n",
       "    </tr>\n",
       "    <tr>\n",
       "      <th>18</th>\n",
       "      <td>MiscFeature_Othr</td>\n",
       "      <td>3.059590</td>\n",
       "    </tr>\n",
       "    <tr>\n",
       "      <th>19</th>\n",
       "      <td>MiscFeature_Shed</td>\n",
       "      <td>4.084886</td>\n",
       "    </tr>\n",
       "    <tr>\n",
       "      <th>20</th>\n",
       "      <td>MiscFeature_TenC</td>\n",
       "      <td>2.023573</td>\n",
       "    </tr>\n",
       "  </tbody>\n",
       "</table>\n",
       "</div>"
      ],
      "text/plain": [
       "              Features           VIF\n",
       "0                const  13007.729522\n",
       "1          OverallQual      2.751065\n",
       "2            YearBuilt      2.802546\n",
       "3          TotalBsmtSF      1.780487\n",
       "4            GrLivArea      2.721770\n",
       "5             FullBath      2.241976\n",
       "6           GarageCars      5.905524\n",
       "7           GarageArea      5.499513\n",
       "8                Fence           NaN\n",
       "9     Electrical_FuseF      1.296632\n",
       "10    Electrical_FuseP      1.046481\n",
       "11      Electrical_Mix      1.014990\n",
       "12    Electrical_SBrkr      1.493944\n",
       "13   GarageType_Attchd     59.997323\n",
       "14  GarageType_Basment      4.688638\n",
       "15  GarageType_BuiltIn     17.114199\n",
       "16  GarageType_CarPort      2.852077\n",
       "17   GarageType_Detchd     49.685459\n",
       "18    MiscFeature_Othr      3.059590\n",
       "19    MiscFeature_Shed      4.084886\n",
       "20    MiscFeature_TenC      2.023573"
      ]
     },
     "execution_count": 96,
     "metadata": {},
     "output_type": "execute_result"
    }
   ],
   "source": [
    "VIF = pd.DataFrame()\n",
    "VIF['Features'] = trainX.columns\n",
    "VIF['VIF'] = [variance_inflation_factor(trainX.values, i) for i in range(trainX.shape[1])]\n",
    "VIF"
   ]
  },
  {
   "cell_type": "code",
   "execution_count": 97,
   "id": "8a2d45da",
   "metadata": {},
   "outputs": [],
   "source": [
    "VIF_max = 5\n",
    "VIF_cotf = 5\n",
    "train_d = trainX.copy()\n",
    "High_VIF = []\n",
    "while (VIF_max >= VIF_cotf):\n",
    "    VIF = pd.DataFrame()\n",
    "    VIF['VIF'] = [variance_inflation_factor(train_d.values, i) for i in range(train_d.shape[1])]\n",
    "    VIF['Columns'] = train_d.columns\n",
    "    VIF.dropna(inplace=True)\n",
    "    T_vif_col = VIF.sort_values(['VIF'],ascending = False).iloc[0,1]\n",
    "    VIF_max = VIF.sort_values(['VIF'],ascending = False).iloc[0,0]\n",
    "    if (VIF_max >= VIF_cotf):\n",
    "        train_d = train_d.drop([T_vif_col],axis=1)\n",
    "        High_VIF.append(T_vif_col)"
   ]
  },
  {
   "cell_type": "code",
   "execution_count": 98,
   "id": "638b5345",
   "metadata": {},
   "outputs": [],
   "source": [
    "High_VIF.remove('const')"
   ]
  },
  {
   "cell_type": "code",
   "execution_count": 99,
   "id": "0ef7a83d",
   "metadata": {},
   "outputs": [
    {
     "data": {
      "text/plain": [
       "['YearBuilt',\n",
       " 'MiscFeature_Shed',\n",
       " 'OverallQual',\n",
       " 'GarageCars',\n",
       " 'GrLivArea',\n",
       " 'GarageType_Attchd',\n",
       " 'FullBath',\n",
       " 'TotalBsmtSF',\n",
       " 'Electrical_SBrkr']"
      ]
     },
     "execution_count": 99,
     "metadata": {},
     "output_type": "execute_result"
    }
   ],
   "source": [
    "High_VIF"
   ]
  },
  {
   "cell_type": "code",
   "execution_count": 100,
   "id": "edbf1eb5",
   "metadata": {},
   "outputs": [
    {
     "data": {
      "text/html": [
       "<div>\n",
       "<style scoped>\n",
       "    .dataframe tbody tr th:only-of-type {\n",
       "        vertical-align: middle;\n",
       "    }\n",
       "\n",
       "    .dataframe tbody tr th {\n",
       "        vertical-align: top;\n",
       "    }\n",
       "\n",
       "    .dataframe thead th {\n",
       "        text-align: right;\n",
       "    }\n",
       "</style>\n",
       "<table border=\"1\" class=\"dataframe\">\n",
       "  <thead>\n",
       "    <tr style=\"text-align: right;\">\n",
       "      <th></th>\n",
       "      <th>VIF</th>\n",
       "      <th>Columns</th>\n",
       "    </tr>\n",
       "  </thead>\n",
       "  <tbody>\n",
       "    <tr>\n",
       "      <th>0</th>\n",
       "      <td>1.334372</td>\n",
       "      <td>GarageArea</td>\n",
       "    </tr>\n",
       "    <tr>\n",
       "      <th>2</th>\n",
       "      <td>1.033719</td>\n",
       "      <td>Electrical_FuseF</td>\n",
       "    </tr>\n",
       "    <tr>\n",
       "      <th>3</th>\n",
       "      <td>1.004492</td>\n",
       "      <td>Electrical_FuseP</td>\n",
       "    </tr>\n",
       "    <tr>\n",
       "      <th>4</th>\n",
       "      <td>1.003381</td>\n",
       "      <td>Electrical_Mix</td>\n",
       "    </tr>\n",
       "    <tr>\n",
       "      <th>5</th>\n",
       "      <td>1.013969</td>\n",
       "      <td>GarageType_Basment</td>\n",
       "    </tr>\n",
       "    <tr>\n",
       "      <th>6</th>\n",
       "      <td>1.104408</td>\n",
       "      <td>GarageType_BuiltIn</td>\n",
       "    </tr>\n",
       "    <tr>\n",
       "      <th>7</th>\n",
       "      <td>1.007169</td>\n",
       "      <td>GarageType_CarPort</td>\n",
       "    </tr>\n",
       "    <tr>\n",
       "      <th>8</th>\n",
       "      <td>1.251429</td>\n",
       "      <td>GarageType_Detchd</td>\n",
       "    </tr>\n",
       "    <tr>\n",
       "      <th>9</th>\n",
       "      <td>1.000162</td>\n",
       "      <td>MiscFeature_Othr</td>\n",
       "    </tr>\n",
       "    <tr>\n",
       "      <th>10</th>\n",
       "      <td>1.001244</td>\n",
       "      <td>MiscFeature_TenC</td>\n",
       "    </tr>\n",
       "  </tbody>\n",
       "</table>\n",
       "</div>"
      ],
      "text/plain": [
       "         VIF             Columns\n",
       "0   1.334372          GarageArea\n",
       "2   1.033719    Electrical_FuseF\n",
       "3   1.004492    Electrical_FuseP\n",
       "4   1.003381      Electrical_Mix\n",
       "5   1.013969  GarageType_Basment\n",
       "6   1.104408  GarageType_BuiltIn\n",
       "7   1.007169  GarageType_CarPort\n",
       "8   1.251429   GarageType_Detchd\n",
       "9   1.000162    MiscFeature_Othr\n",
       "10  1.001244    MiscFeature_TenC"
      ]
     },
     "execution_count": 100,
     "metadata": {},
     "output_type": "execute_result"
    }
   ],
   "source": [
    "VIF"
   ]
  },
  {
   "cell_type": "code",
   "execution_count": 101,
   "id": "53c3b576",
   "metadata": {},
   "outputs": [],
   "source": [
    "trainX = trainX.drop(High_VIF,axis=1)\n",
    "testX = testX.drop(High_VIF,axis=1)"
   ]
  },
  {
   "cell_type": "code",
   "execution_count": 102,
   "id": "73b937cc",
   "metadata": {},
   "outputs": [
    {
     "data": {
      "text/plain": [
       "(1276, 12)"
      ]
     },
     "execution_count": 102,
     "metadata": {},
     "output_type": "execute_result"
    }
   ],
   "source": [
    "trainX.shape"
   ]
  },
  {
   "cell_type": "code",
   "execution_count": 103,
   "id": "cd7f5073",
   "metadata": {},
   "outputs": [
    {
     "data": {
      "text/plain": [
       "(142, 12)"
      ]
     },
     "execution_count": 103,
     "metadata": {},
     "output_type": "execute_result"
    }
   ],
   "source": [
    "testX.shape"
   ]
  },
  {
   "cell_type": "markdown",
   "id": "ce5d89bf",
   "metadata": {},
   "source": [
    "# Model Building"
   ]
  },
  {
   "cell_type": "code",
   "execution_count": 104,
   "id": "75997323",
   "metadata": {},
   "outputs": [],
   "source": [
    "from statsmodels.api import OLS\n",
    "model = OLS(trainY,trainX)\n",
    "modelbuild = model.fit()"
   ]
  },
  {
   "cell_type": "code",
   "execution_count": 105,
   "id": "2f1df4f0",
   "metadata": {},
   "outputs": [
    {
     "data": {
      "text/html": [
       "<table class=\"simpletable\">\n",
       "<caption>OLS Regression Results</caption>\n",
       "<tr>\n",
       "  <th>Dep. Variable:</th>        <td>SalePrice</td>    <th>  R-squared:         </th> <td>   0.549</td> \n",
       "</tr>\n",
       "<tr>\n",
       "  <th>Model:</th>                   <td>OLS</td>       <th>  Adj. R-squared:    </th> <td>   0.546</td> \n",
       "</tr>\n",
       "<tr>\n",
       "  <th>Method:</th>             <td>Least Squares</td>  <th>  F-statistic:       </th> <td>   154.2</td> \n",
       "</tr>\n",
       "<tr>\n",
       "  <th>Date:</th>             <td>Sat, 15 Oct 2022</td> <th>  Prob (F-statistic):</th> <td>7.68e-211</td>\n",
       "</tr>\n",
       "<tr>\n",
       "  <th>Time:</th>                 <td>21:38:01</td>     <th>  Log-Likelihood:    </th> <td> -15497.</td> \n",
       "</tr>\n",
       "<tr>\n",
       "  <th>No. Observations:</th>      <td>  1276</td>      <th>  AIC:               </th> <td>3.102e+04</td>\n",
       "</tr>\n",
       "<tr>\n",
       "  <th>Df Residuals:</th>          <td>  1265</td>      <th>  BIC:               </th> <td>3.107e+04</td>\n",
       "</tr>\n",
       "<tr>\n",
       "  <th>Df Model:</th>              <td>    10</td>      <th>                     </th>     <td> </td>    \n",
       "</tr>\n",
       "<tr>\n",
       "  <th>Covariance Type:</th>      <td>nonrobust</td>    <th>                     </th>     <td> </td>    \n",
       "</tr>\n",
       "</table>\n",
       "<table class=\"simpletable\">\n",
       "<tr>\n",
       "           <td></td>             <th>coef</th>     <th>std err</th>      <th>t</th>      <th>P>|t|</th>  <th>[0.025</th>    <th>0.975]</th>  \n",
       "</tr>\n",
       "<tr>\n",
       "  <th>const</th>              <td> 9.703e+04</td> <td> 3476.602</td> <td>   27.909</td> <td> 0.000</td> <td> 9.02e+04</td> <td> 1.04e+05</td>\n",
       "</tr>\n",
       "<tr>\n",
       "  <th>GarageArea</th>         <td>  195.1467</td> <td>    6.351</td> <td>   30.727</td> <td> 0.000</td> <td>  182.687</td> <td>  207.606</td>\n",
       "</tr>\n",
       "<tr>\n",
       "  <th>Fence</th>              <td>-1.504e-11</td> <td> 1.49e-11</td> <td>   -1.012</td> <td> 0.312</td> <td>-4.42e-11</td> <td> 1.41e-11</td>\n",
       "</tr>\n",
       "<tr>\n",
       "  <th>Electrical_FuseF</th>   <td>-9163.8024</td> <td> 9799.419</td> <td>   -0.935</td> <td> 0.350</td> <td>-2.84e+04</td> <td> 1.01e+04</td>\n",
       "</tr>\n",
       "<tr>\n",
       "  <th>Electrical_FuseP</th>   <td> -3.08e+04</td> <td> 2.65e+04</td> <td>   -1.163</td> <td> 0.245</td> <td>-8.28e+04</td> <td> 2.12e+04</td>\n",
       "</tr>\n",
       "<tr>\n",
       "  <th>Electrical_Mix</th>     <td>-5.054e+04</td> <td> 4.58e+04</td> <td>   -1.103</td> <td> 0.270</td> <td> -1.4e+05</td> <td> 3.93e+04</td>\n",
       "</tr>\n",
       "<tr>\n",
       "  <th>GarageType_Basment</th> <td> -2.39e+04</td> <td> 1.09e+04</td> <td>   -2.193</td> <td> 0.028</td> <td>-4.53e+04</td> <td>-2522.406</td>\n",
       "</tr>\n",
       "<tr>\n",
       "  <th>GarageType_BuiltIn</th> <td>   2.8e+04</td> <td> 5376.859</td> <td>    5.207</td> <td> 0.000</td> <td> 1.74e+04</td> <td> 3.85e+04</td>\n",
       "</tr>\n",
       "<tr>\n",
       "  <th>GarageType_CarPort</th> <td>-7.514e+04</td> <td> 1.53e+04</td> <td>   -4.903</td> <td> 0.000</td> <td>-1.05e+05</td> <td>-4.51e+04</td>\n",
       "</tr>\n",
       "<tr>\n",
       "  <th>GarageType_Detchd</th>  <td>-4.545e+04</td> <td> 3089.912</td> <td>  -14.710</td> <td> 0.000</td> <td>-5.15e+04</td> <td>-3.94e+04</td>\n",
       "</tr>\n",
       "<tr>\n",
       "  <th>MiscFeature_Othr</th>   <td>-3.113e+04</td> <td> 3.24e+04</td> <td>   -0.959</td> <td> 0.338</td> <td>-9.48e+04</td> <td> 3.25e+04</td>\n",
       "</tr>\n",
       "<tr>\n",
       "  <th>MiscFeature_TenC</th>   <td> 4.291e+04</td> <td> 4.58e+04</td> <td>    0.938</td> <td> 0.349</td> <td>-4.69e+04</td> <td> 1.33e+05</td>\n",
       "</tr>\n",
       "</table>\n",
       "<table class=\"simpletable\">\n",
       "<tr>\n",
       "  <th>Omnibus:</th>       <td>76.186</td> <th>  Durbin-Watson:     </th> <td>   1.942</td>\n",
       "</tr>\n",
       "<tr>\n",
       "  <th>Prob(Omnibus):</th> <td> 0.000</td> <th>  Jarque-Bera (JB):  </th> <td> 107.678</td>\n",
       "</tr>\n",
       "<tr>\n",
       "  <th>Skew:</th>          <td> 0.511</td> <th>  Prob(JB):          </th> <td>4.15e-24</td>\n",
       "</tr>\n",
       "<tr>\n",
       "  <th>Kurtosis:</th>      <td> 3.990</td> <th>  Cond. No.          </th> <td>1.05e+20</td>\n",
       "</tr>\n",
       "</table><br/><br/>Notes:<br/>[1] Standard Errors assume that the covariance matrix of the errors is correctly specified.<br/>[2] The smallest eigenvalue is 3.08e-32. This might indicate that there are<br/>strong multicollinearity problems or that the design matrix is singular."
      ],
      "text/plain": [
       "<class 'statsmodels.iolib.summary.Summary'>\n",
       "\"\"\"\n",
       "                            OLS Regression Results                            \n",
       "==============================================================================\n",
       "Dep. Variable:              SalePrice   R-squared:                       0.549\n",
       "Model:                            OLS   Adj. R-squared:                  0.546\n",
       "Method:                 Least Squares   F-statistic:                     154.2\n",
       "Date:                Sat, 15 Oct 2022   Prob (F-statistic):          7.68e-211\n",
       "Time:                        21:38:01   Log-Likelihood:                -15497.\n",
       "No. Observations:                1276   AIC:                         3.102e+04\n",
       "Df Residuals:                    1265   BIC:                         3.107e+04\n",
       "Df Model:                          10                                         \n",
       "Covariance Type:            nonrobust                                         \n",
       "======================================================================================\n",
       "                         coef    std err          t      P>|t|      [0.025      0.975]\n",
       "--------------------------------------------------------------------------------------\n",
       "const               9.703e+04   3476.602     27.909      0.000    9.02e+04    1.04e+05\n",
       "GarageArea           195.1467      6.351     30.727      0.000     182.687     207.606\n",
       "Fence              -1.504e-11   1.49e-11     -1.012      0.312   -4.42e-11    1.41e-11\n",
       "Electrical_FuseF   -9163.8024   9799.419     -0.935      0.350   -2.84e+04    1.01e+04\n",
       "Electrical_FuseP    -3.08e+04   2.65e+04     -1.163      0.245   -8.28e+04    2.12e+04\n",
       "Electrical_Mix     -5.054e+04   4.58e+04     -1.103      0.270    -1.4e+05    3.93e+04\n",
       "GarageType_Basment  -2.39e+04   1.09e+04     -2.193      0.028   -4.53e+04   -2522.406\n",
       "GarageType_BuiltIn    2.8e+04   5376.859      5.207      0.000    1.74e+04    3.85e+04\n",
       "GarageType_CarPort -7.514e+04   1.53e+04     -4.903      0.000   -1.05e+05   -4.51e+04\n",
       "GarageType_Detchd  -4.545e+04   3089.912    -14.710      0.000   -5.15e+04   -3.94e+04\n",
       "MiscFeature_Othr   -3.113e+04   3.24e+04     -0.959      0.338   -9.48e+04    3.25e+04\n",
       "MiscFeature_TenC    4.291e+04   4.58e+04      0.938      0.349   -4.69e+04    1.33e+05\n",
       "==============================================================================\n",
       "Omnibus:                       76.186   Durbin-Watson:                   1.942\n",
       "Prob(Omnibus):                  0.000   Jarque-Bera (JB):              107.678\n",
       "Skew:                           0.511   Prob(JB):                     4.15e-24\n",
       "Kurtosis:                       3.990   Cond. No.                     1.05e+20\n",
       "==============================================================================\n",
       "\n",
       "Notes:\n",
       "[1] Standard Errors assume that the covariance matrix of the errors is correctly specified.\n",
       "[2] The smallest eigenvalue is 3.08e-32. This might indicate that there are\n",
       "strong multicollinearity problems or that the design matrix is singular.\n",
       "\"\"\""
      ]
     },
     "execution_count": 105,
     "metadata": {},
     "output_type": "execute_result"
    }
   ],
   "source": [
    "modelbuild.summary()"
   ]
  },
  {
   "cell_type": "code",
   "execution_count": 106,
   "id": "2daba5aa",
   "metadata": {},
   "outputs": [
    {
     "data": {
      "text/plain": [
       "const                 5.793448e-134\n",
       "GarageArea            2.435871e-155\n",
       "Fence                  3.118052e-01\n",
       "Electrical_FuseF       3.498960e-01\n",
       "Electrical_FuseP       2.450107e-01\n",
       "Electrical_Mix         2.701883e-01\n",
       "GarageType_Basment     2.846398e-02\n",
       "GarageType_BuiltIn     2.240349e-07\n",
       "GarageType_CarPort     1.066457e-06\n",
       "GarageType_Detchd      2.460732e-45\n",
       "MiscFeature_Othr       3.375638e-01\n",
       "MiscFeature_TenC       3.486053e-01\n",
       "dtype: float64"
      ]
     },
     "execution_count": 106,
     "metadata": {},
     "output_type": "execute_result"
    }
   ],
   "source": [
    "dir(modelbuild)\n",
    "modelbuild.pvalues"
   ]
  },
  {
   "cell_type": "markdown",
   "id": "4174a0c1",
   "metadata": {},
   "source": [
    "# Model Optimization"
   ]
  },
  {
   "cell_type": "code",
   "execution_count": 107,
   "id": "5798a8c7",
   "metadata": {},
   "outputs": [],
   "source": [
    "Max_p_value = 0.05\n",
    "Cort_max_p = 0.05\n",
    "train_f = trainX.copy()\n",
    "High_p_value = []\n",
    "while (Max_p_value >= Cort_max_p):\n",
    "    T_model = pd.DataFrame()\n",
    "    model = OLS(trainY,train_f).fit()\n",
    "    T_model['P_value'] = model.pvalues\n",
    "    T_model['Columns'] = train_f.columns\n",
    "    T_model.dropna(inplace=True)\n",
    "    T_col_p = T_model.sort_values(['P_value'],ascending = False).iloc[0,1]\n",
    "    Max_p_value = T_model.sort_values(['P_value'],ascending = False).iloc[0,0]\n",
    "    if (Max_p_value >= Cort_max_p):\n",
    "        train_f = train_f.drop(T_col_p,axis=1)\n",
    "        High_p_value.append(T_col_p)"
   ]
  },
  {
   "cell_type": "code",
   "execution_count": 108,
   "id": "6d647f51",
   "metadata": {},
   "outputs": [
    {
     "data": {
      "text/plain": [
       "['Electrical_FuseF',\n",
       " 'MiscFeature_TenC',\n",
       " 'MiscFeature_Othr',\n",
       " 'Electrical_Mix',\n",
       " 'Electrical_FuseP']"
      ]
     },
     "execution_count": 108,
     "metadata": {},
     "output_type": "execute_result"
    }
   ],
   "source": [
    "High_p_value"
   ]
  },
  {
   "cell_type": "code",
   "execution_count": 109,
   "id": "dcd71bf9",
   "metadata": {},
   "outputs": [
    {
     "data": {
      "text/html": [
       "<div>\n",
       "<style scoped>\n",
       "    .dataframe tbody tr th:only-of-type {\n",
       "        vertical-align: middle;\n",
       "    }\n",
       "\n",
       "    .dataframe tbody tr th {\n",
       "        vertical-align: top;\n",
       "    }\n",
       "\n",
       "    .dataframe thead th {\n",
       "        text-align: right;\n",
       "    }\n",
       "</style>\n",
       "<table border=\"1\" class=\"dataframe\">\n",
       "  <thead>\n",
       "    <tr style=\"text-align: right;\">\n",
       "      <th></th>\n",
       "      <th>P_value</th>\n",
       "      <th>Columns</th>\n",
       "    </tr>\n",
       "  </thead>\n",
       "  <tbody>\n",
       "    <tr>\n",
       "      <th>const</th>\n",
       "      <td>3.313398e-135</td>\n",
       "      <td>const</td>\n",
       "    </tr>\n",
       "    <tr>\n",
       "      <th>GarageArea</th>\n",
       "      <td>2.731289e-160</td>\n",
       "      <td>GarageArea</td>\n",
       "    </tr>\n",
       "    <tr>\n",
       "      <th>Fence</th>\n",
       "      <td>3.387251e-100</td>\n",
       "      <td>Fence</td>\n",
       "    </tr>\n",
       "    <tr>\n",
       "      <th>GarageType_Basment</th>\n",
       "      <td>2.978193e-02</td>\n",
       "      <td>GarageType_Basment</td>\n",
       "    </tr>\n",
       "    <tr>\n",
       "      <th>GarageType_BuiltIn</th>\n",
       "      <td>2.500676e-07</td>\n",
       "      <td>GarageType_BuiltIn</td>\n",
       "    </tr>\n",
       "    <tr>\n",
       "      <th>GarageType_CarPort</th>\n",
       "      <td>1.133187e-06</td>\n",
       "      <td>GarageType_CarPort</td>\n",
       "    </tr>\n",
       "    <tr>\n",
       "      <th>GarageType_Detchd</th>\n",
       "      <td>4.731286e-47</td>\n",
       "      <td>GarageType_Detchd</td>\n",
       "    </tr>\n",
       "  </tbody>\n",
       "</table>\n",
       "</div>"
      ],
      "text/plain": [
       "                          P_value             Columns\n",
       "const               3.313398e-135               const\n",
       "GarageArea          2.731289e-160          GarageArea\n",
       "Fence               3.387251e-100               Fence\n",
       "GarageType_Basment   2.978193e-02  GarageType_Basment\n",
       "GarageType_BuiltIn   2.500676e-07  GarageType_BuiltIn\n",
       "GarageType_CarPort   1.133187e-06  GarageType_CarPort\n",
       "GarageType_Detchd    4.731286e-47   GarageType_Detchd"
      ]
     },
     "execution_count": 109,
     "metadata": {},
     "output_type": "execute_result"
    }
   ],
   "source": [
    "T_model"
   ]
  },
  {
   "cell_type": "code",
   "execution_count": 110,
   "id": "0543db49",
   "metadata": {},
   "outputs": [],
   "source": [
    "trainX = trainX.drop(High_p_value,axis=1)\n",
    "testX = testX.drop(High_p_value,axis=1)"
   ]
  },
  {
   "cell_type": "code",
   "execution_count": 111,
   "id": "a145f4e2",
   "metadata": {},
   "outputs": [
    {
     "data": {
      "text/html": [
       "<table class=\"simpletable\">\n",
       "<caption>OLS Regression Results</caption>\n",
       "<tr>\n",
       "  <th>Dep. Variable:</th>        <td>SalePrice</td>    <th>  R-squared:         </th> <td>   0.547</td> \n",
       "</tr>\n",
       "<tr>\n",
       "  <th>Model:</th>                   <td>OLS</td>       <th>  Adj. R-squared:    </th> <td>   0.546</td> \n",
       "</tr>\n",
       "<tr>\n",
       "  <th>Method:</th>             <td>Least Squares</td>  <th>  F-statistic:       </th> <td>   307.3</td> \n",
       "</tr>\n",
       "<tr>\n",
       "  <th>Date:</th>             <td>Sat, 15 Oct 2022</td> <th>  Prob (F-statistic):</th> <td>1.09e-215</td>\n",
       "</tr>\n",
       "<tr>\n",
       "  <th>Time:</th>                 <td>21:38:01</td>     <th>  Log-Likelihood:    </th> <td> -15500.</td> \n",
       "</tr>\n",
       "<tr>\n",
       "  <th>No. Observations:</th>      <td>  1276</td>      <th>  AIC:               </th> <td>3.101e+04</td>\n",
       "</tr>\n",
       "<tr>\n",
       "  <th>Df Residuals:</th>          <td>  1270</td>      <th>  BIC:               </th> <td>3.104e+04</td>\n",
       "</tr>\n",
       "<tr>\n",
       "  <th>Df Model:</th>              <td>     5</td>      <th>                     </th>     <td> </td>    \n",
       "</tr>\n",
       "<tr>\n",
       "  <th>Covariance Type:</th>      <td>nonrobust</td>    <th>                     </th>     <td> </td>    \n",
       "</tr>\n",
       "</table>\n",
       "<table class=\"simpletable\">\n",
       "<tr>\n",
       "           <td></td>             <th>coef</th>     <th>std err</th>      <th>t</th>      <th>P>|t|</th>  <th>[0.025</th>    <th>0.975]</th>  \n",
       "</tr>\n",
       "<tr>\n",
       "  <th>const</th>              <td> 9.614e+04</td> <td> 3426.163</td> <td>   28.060</td> <td> 0.000</td> <td> 8.94e+04</td> <td> 1.03e+05</td>\n",
       "</tr>\n",
       "<tr>\n",
       "  <th>GarageArea</th>         <td>  196.7054</td> <td>    6.274</td> <td>   31.354</td> <td> 0.000</td> <td>  184.397</td> <td>  209.014</td>\n",
       "</tr>\n",
       "<tr>\n",
       "  <th>Fence</th>              <td>-3.307e-11</td> <td> 1.42e-12</td> <td>  -23.290</td> <td> 0.000</td> <td>-3.59e-11</td> <td>-3.03e-11</td>\n",
       "</tr>\n",
       "<tr>\n",
       "  <th>GarageType_Basment</th> <td> -2.37e+04</td> <td> 1.09e+04</td> <td>   -2.175</td> <td> 0.030</td> <td>-4.51e+04</td> <td>-2327.148</td>\n",
       "</tr>\n",
       "<tr>\n",
       "  <th>GarageType_BuiltIn</th> <td> 2.788e+04</td> <td> 5375.365</td> <td>    5.186</td> <td> 0.000</td> <td> 1.73e+04</td> <td> 3.84e+04</td>\n",
       "</tr>\n",
       "<tr>\n",
       "  <th>GarageType_CarPort</th> <td>-7.496e+04</td> <td> 1.53e+04</td> <td>   -4.891</td> <td> 0.000</td> <td>-1.05e+05</td> <td>-4.49e+04</td>\n",
       "</tr>\n",
       "<tr>\n",
       "  <th>GarageType_Detchd</th>  <td>-4.601e+04</td> <td> 3063.745</td> <td>  -15.018</td> <td> 0.000</td> <td> -5.2e+04</td> <td>   -4e+04</td>\n",
       "</tr>\n",
       "</table>\n",
       "<table class=\"simpletable\">\n",
       "<tr>\n",
       "  <th>Omnibus:</th>       <td>74.989</td> <th>  Durbin-Watson:     </th> <td>   1.942</td>\n",
       "</tr>\n",
       "<tr>\n",
       "  <th>Prob(Omnibus):</th> <td> 0.000</td> <th>  Jarque-Bera (JB):  </th> <td> 105.661</td>\n",
       "</tr>\n",
       "<tr>\n",
       "  <th>Skew:</th>          <td> 0.506</td> <th>  Prob(JB):          </th> <td>1.14e-23</td>\n",
       "</tr>\n",
       "<tr>\n",
       "  <th>Kurtosis:</th>      <td> 3.981</td> <th>  Cond. No.          </th> <td>6.25e+20</td>\n",
       "</tr>\n",
       "</table><br/><br/>Notes:<br/>[1] Standard Errors assume that the covariance matrix of the errors is correctly specified.<br/>[2] The smallest eigenvalue is 8.72e-34. This might indicate that there are<br/>strong multicollinearity problems or that the design matrix is singular."
      ],
      "text/plain": [
       "<class 'statsmodels.iolib.summary.Summary'>\n",
       "\"\"\"\n",
       "                            OLS Regression Results                            \n",
       "==============================================================================\n",
       "Dep. Variable:              SalePrice   R-squared:                       0.547\n",
       "Model:                            OLS   Adj. R-squared:                  0.546\n",
       "Method:                 Least Squares   F-statistic:                     307.3\n",
       "Date:                Sat, 15 Oct 2022   Prob (F-statistic):          1.09e-215\n",
       "Time:                        21:38:01   Log-Likelihood:                -15500.\n",
       "No. Observations:                1276   AIC:                         3.101e+04\n",
       "Df Residuals:                    1270   BIC:                         3.104e+04\n",
       "Df Model:                           5                                         \n",
       "Covariance Type:            nonrobust                                         \n",
       "======================================================================================\n",
       "                         coef    std err          t      P>|t|      [0.025      0.975]\n",
       "--------------------------------------------------------------------------------------\n",
       "const               9.614e+04   3426.163     28.060      0.000    8.94e+04    1.03e+05\n",
       "GarageArea           196.7054      6.274     31.354      0.000     184.397     209.014\n",
       "Fence              -3.307e-11   1.42e-12    -23.290      0.000   -3.59e-11   -3.03e-11\n",
       "GarageType_Basment  -2.37e+04   1.09e+04     -2.175      0.030   -4.51e+04   -2327.148\n",
       "GarageType_BuiltIn  2.788e+04   5375.365      5.186      0.000    1.73e+04    3.84e+04\n",
       "GarageType_CarPort -7.496e+04   1.53e+04     -4.891      0.000   -1.05e+05   -4.49e+04\n",
       "GarageType_Detchd  -4.601e+04   3063.745    -15.018      0.000    -5.2e+04      -4e+04\n",
       "==============================================================================\n",
       "Omnibus:                       74.989   Durbin-Watson:                   1.942\n",
       "Prob(Omnibus):                  0.000   Jarque-Bera (JB):              105.661\n",
       "Skew:                           0.506   Prob(JB):                     1.14e-23\n",
       "Kurtosis:                       3.981   Cond. No.                     6.25e+20\n",
       "==============================================================================\n",
       "\n",
       "Notes:\n",
       "[1] Standard Errors assume that the covariance matrix of the errors is correctly specified.\n",
       "[2] The smallest eigenvalue is 8.72e-34. This might indicate that there are\n",
       "strong multicollinearity problems or that the design matrix is singular.\n",
       "\"\"\""
      ]
     },
     "execution_count": 111,
     "metadata": {},
     "output_type": "execute_result"
    }
   ],
   "source": [
    "model.summary()"
   ]
  },
  {
   "cell_type": "markdown",
   "id": "566db55a",
   "metadata": {},
   "source": [
    "# Build model on trainX, trainY (after removing insignificant columns)"
   ]
  },
  {
   "cell_type": "code",
   "execution_count": 112,
   "id": "62827b8b",
   "metadata": {},
   "outputs": [
    {
     "data": {
      "text/html": [
       "<table class=\"simpletable\">\n",
       "<caption>OLS Regression Results</caption>\n",
       "<tr>\n",
       "  <th>Dep. Variable:</th>        <td>SalePrice</td>    <th>  R-squared:         </th> <td>   0.547</td> \n",
       "</tr>\n",
       "<tr>\n",
       "  <th>Model:</th>                   <td>OLS</td>       <th>  Adj. R-squared:    </th> <td>   0.546</td> \n",
       "</tr>\n",
       "<tr>\n",
       "  <th>Method:</th>             <td>Least Squares</td>  <th>  F-statistic:       </th> <td>   307.3</td> \n",
       "</tr>\n",
       "<tr>\n",
       "  <th>Date:</th>             <td>Sat, 15 Oct 2022</td> <th>  Prob (F-statistic):</th> <td>1.09e-215</td>\n",
       "</tr>\n",
       "<tr>\n",
       "  <th>Time:</th>                 <td>21:38:01</td>     <th>  Log-Likelihood:    </th> <td> -15500.</td> \n",
       "</tr>\n",
       "<tr>\n",
       "  <th>No. Observations:</th>      <td>  1276</td>      <th>  AIC:               </th> <td>3.101e+04</td>\n",
       "</tr>\n",
       "<tr>\n",
       "  <th>Df Residuals:</th>          <td>  1270</td>      <th>  BIC:               </th> <td>3.104e+04</td>\n",
       "</tr>\n",
       "<tr>\n",
       "  <th>Df Model:</th>              <td>     5</td>      <th>                     </th>     <td> </td>    \n",
       "</tr>\n",
       "<tr>\n",
       "  <th>Covariance Type:</th>      <td>nonrobust</td>    <th>                     </th>     <td> </td>    \n",
       "</tr>\n",
       "</table>\n",
       "<table class=\"simpletable\">\n",
       "<tr>\n",
       "           <td></td>             <th>coef</th>     <th>std err</th>      <th>t</th>      <th>P>|t|</th>  <th>[0.025</th>    <th>0.975]</th>  \n",
       "</tr>\n",
       "<tr>\n",
       "  <th>const</th>              <td> 9.614e+04</td> <td> 3426.163</td> <td>   28.060</td> <td> 0.000</td> <td> 8.94e+04</td> <td> 1.03e+05</td>\n",
       "</tr>\n",
       "<tr>\n",
       "  <th>GarageArea</th>         <td>  196.7054</td> <td>    6.274</td> <td>   31.354</td> <td> 0.000</td> <td>  184.397</td> <td>  209.014</td>\n",
       "</tr>\n",
       "<tr>\n",
       "  <th>Fence</th>              <td>-3.307e-11</td> <td> 1.42e-12</td> <td>  -23.290</td> <td> 0.000</td> <td>-3.59e-11</td> <td>-3.03e-11</td>\n",
       "</tr>\n",
       "<tr>\n",
       "  <th>GarageType_Basment</th> <td> -2.37e+04</td> <td> 1.09e+04</td> <td>   -2.175</td> <td> 0.030</td> <td>-4.51e+04</td> <td>-2327.148</td>\n",
       "</tr>\n",
       "<tr>\n",
       "  <th>GarageType_BuiltIn</th> <td> 2.788e+04</td> <td> 5375.365</td> <td>    5.186</td> <td> 0.000</td> <td> 1.73e+04</td> <td> 3.84e+04</td>\n",
       "</tr>\n",
       "<tr>\n",
       "  <th>GarageType_CarPort</th> <td>-7.496e+04</td> <td> 1.53e+04</td> <td>   -4.891</td> <td> 0.000</td> <td>-1.05e+05</td> <td>-4.49e+04</td>\n",
       "</tr>\n",
       "<tr>\n",
       "  <th>GarageType_Detchd</th>  <td>-4.601e+04</td> <td> 3063.745</td> <td>  -15.018</td> <td> 0.000</td> <td> -5.2e+04</td> <td>   -4e+04</td>\n",
       "</tr>\n",
       "</table>\n",
       "<table class=\"simpletable\">\n",
       "<tr>\n",
       "  <th>Omnibus:</th>       <td>74.989</td> <th>  Durbin-Watson:     </th> <td>   1.942</td>\n",
       "</tr>\n",
       "<tr>\n",
       "  <th>Prob(Omnibus):</th> <td> 0.000</td> <th>  Jarque-Bera (JB):  </th> <td> 105.661</td>\n",
       "</tr>\n",
       "<tr>\n",
       "  <th>Skew:</th>          <td> 0.506</td> <th>  Prob(JB):          </th> <td>1.14e-23</td>\n",
       "</tr>\n",
       "<tr>\n",
       "  <th>Kurtosis:</th>      <td> 3.981</td> <th>  Cond. No.          </th> <td>6.25e+20</td>\n",
       "</tr>\n",
       "</table><br/><br/>Notes:<br/>[1] Standard Errors assume that the covariance matrix of the errors is correctly specified.<br/>[2] The smallest eigenvalue is 8.72e-34. This might indicate that there are<br/>strong multicollinearity problems or that the design matrix is singular."
      ],
      "text/plain": [
       "<class 'statsmodels.iolib.summary.Summary'>\n",
       "\"\"\"\n",
       "                            OLS Regression Results                            \n",
       "==============================================================================\n",
       "Dep. Variable:              SalePrice   R-squared:                       0.547\n",
       "Model:                            OLS   Adj. R-squared:                  0.546\n",
       "Method:                 Least Squares   F-statistic:                     307.3\n",
       "Date:                Sat, 15 Oct 2022   Prob (F-statistic):          1.09e-215\n",
       "Time:                        21:38:01   Log-Likelihood:                -15500.\n",
       "No. Observations:                1276   AIC:                         3.101e+04\n",
       "Df Residuals:                    1270   BIC:                         3.104e+04\n",
       "Df Model:                           5                                         \n",
       "Covariance Type:            nonrobust                                         \n",
       "======================================================================================\n",
       "                         coef    std err          t      P>|t|      [0.025      0.975]\n",
       "--------------------------------------------------------------------------------------\n",
       "const               9.614e+04   3426.163     28.060      0.000    8.94e+04    1.03e+05\n",
       "GarageArea           196.7054      6.274     31.354      0.000     184.397     209.014\n",
       "Fence              -3.307e-11   1.42e-12    -23.290      0.000   -3.59e-11   -3.03e-11\n",
       "GarageType_Basment  -2.37e+04   1.09e+04     -2.175      0.030   -4.51e+04   -2327.148\n",
       "GarageType_BuiltIn  2.788e+04   5375.365      5.186      0.000    1.73e+04    3.84e+04\n",
       "GarageType_CarPort -7.496e+04   1.53e+04     -4.891      0.000   -1.05e+05   -4.49e+04\n",
       "GarageType_Detchd  -4.601e+04   3063.745    -15.018      0.000    -5.2e+04      -4e+04\n",
       "==============================================================================\n",
       "Omnibus:                       74.989   Durbin-Watson:                   1.942\n",
       "Prob(Omnibus):                  0.000   Jarque-Bera (JB):              105.661\n",
       "Skew:                           0.506   Prob(JB):                     1.14e-23\n",
       "Kurtosis:                       3.981   Cond. No.                     6.25e+20\n",
       "==============================================================================\n",
       "\n",
       "Notes:\n",
       "[1] Standard Errors assume that the covariance matrix of the errors is correctly specified.\n",
       "[2] The smallest eigenvalue is 8.72e-34. This might indicate that there are\n",
       "strong multicollinearity problems or that the design matrix is singular.\n",
       "\"\"\""
      ]
     },
     "execution_count": 112,
     "metadata": {},
     "output_type": "execute_result"
    }
   ],
   "source": [
    "Model = OLS(trainY, trainX).fit()\n",
    "Model.summary()\n"
   ]
  },
  {
   "cell_type": "markdown",
   "id": "2ad170e7",
   "metadata": {},
   "source": [
    "# Model prediction"
   ]
  },
  {
   "cell_type": "code",
   "execution_count": 113,
   "id": "31259994",
   "metadata": {},
   "outputs": [],
   "source": [
    "Test_Pred = Model.predict(testX)"
   ]
  },
  {
   "cell_type": "code",
   "execution_count": 114,
   "id": "a804f260",
   "metadata": {},
   "outputs": [
    {
     "data": {
      "text/plain": [
       "646    203539.543272\n",
       "706    148068.614411\n",
       "594    243470.743835\n",
       "171    153986.196677\n",
       "169    215358.288183\n",
       "637    165788.521967\n",
       "dtype: float64"
      ]
     },
     "execution_count": 114,
     "metadata": {},
     "output_type": "execute_result"
    }
   ],
   "source": [
    "Test_Pred[0:6]"
   ]
  },
  {
   "cell_type": "code",
   "execution_count": 115,
   "id": "4225b77c",
   "metadata": {},
   "outputs": [
    {
     "data": {
      "text/plain": [
       "646    165000.0\n",
       "706    131400.0\n",
       "594    305000.0\n",
       "171    153337.0\n",
       "169    342500.0\n",
       "637    137500.0\n",
       "Name: SalePrice, dtype: float64"
      ]
     },
     "execution_count": 115,
     "metadata": {},
     "output_type": "execute_result"
    }
   ],
   "source": [
    "testY[:6]"
   ]
  },
  {
   "cell_type": "code",
   "execution_count": 116,
   "id": "6257c7ce",
   "metadata": {},
   "outputs": [
    {
     "data": {
      "image/png": "[encoded data removed]",
      "text/plain": [
       "<Figure size 432x288 with 1 Axes>"
      ]
     },
     "metadata": {
      "needs_background": "light"
     },
     "output_type": "display_data"
    }
   ],
   "source": [
    "import seaborn as sns\n",
    "# Equal Variance hona chahiye\n",
    "# Homoskedasticity check\n",
    "sns.scatterplot(Model.fittedvalues, Model.resid) # Should not show prominent non-constant variance (heteroskadastic) of errors against fitted values\n",
    "plt.show()"
   ]
  },
  {
   "cell_type": "code",
   "execution_count": 117,
   "id": "d3357df4",
   "metadata": {},
   "outputs": [
    {
     "data": {
      "image/png": "[encoded data removed]",
      "text/plain": [
       "<Figure size 432x288 with 1 Axes>"
      ]
     },
     "metadata": {
      "needs_background": "light"
     },
     "output_type": "display_data"
    }
   ],
   "source": [
    "sns.distplot(Model.resid) # Should be somewhat close to normal distribution\n",
    "plt.show()"
   ]
  },
  {
   "cell_type": "code",
   "execution_count": 118,
   "id": "1229c80e",
   "metadata": {},
   "outputs": [
    {
     "data": {
      "text/plain": [
       "44011.88058700981"
      ]
     },
     "execution_count": 118,
     "metadata": {},
     "output_type": "execute_result"
    }
   ],
   "source": [
    "np.sqrt(np.mean((testY- Test_Pred)**2))  # RMSE"
   ]
  },
  {
   "cell_type": "code",
   "execution_count": 119,
   "id": "5588ea21",
   "metadata": {},
   "outputs": [
    {
     "data": {
      "text/plain": [
       "19.709489051887164"
      ]
     },
     "execution_count": 119,
     "metadata": {},
     "output_type": "execute_result"
    }
   ],
   "source": [
    "(np.mean(np.abs(((testY - Test_Pred)/testY))))*100  # MAPE"
   ]
  },
  {
   "cell_type": "code",
   "execution_count": null,
   "id": "3c172332",
   "metadata": {},
   "outputs": [],
   "source": []
  }
 ],
 "metadata": {
  "kernelspec": {
   "display_name": "Python 3 (ipykernel)",
   "language": "python",
   "name": "python3"
  },
  "language_info": {
   "codemirror_mode": {
    "name": "ipython",
    "version": 3
   },
   "file_extension": ".py",
   "mimetype": "text/x-python",
   "name": "python",
   "nbconvert_exporter": "python",
   "pygments_lexer": "ipython3",
   "version": "3.9.12"
  }
 },
 "nbformat": 4,
 "nbformat_minor": 5
}
